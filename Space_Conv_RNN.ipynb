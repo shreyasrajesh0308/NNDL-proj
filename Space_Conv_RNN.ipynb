{
  "nbformat": 4,
  "nbformat_minor": 0,
  "metadata": {
    "colab": {
      "name": "Space Conv - RNN.ipynb",
      "provenance": [],
      "include_colab_link": true
    },
    "kernelspec": {
      "name": "python3",
      "display_name": "Python 3"
    },
    "language_info": {
      "name": "python"
    },
    "accelerator": "GPU"
  },
  "cells": [
    {
      "cell_type": "markdown",
      "metadata": {
        "id": "view-in-github",
        "colab_type": "text"
      },
      "source": [
        "<a href=\"https://colab.research.google.com/github/shreyasrajesh0308/NNDL-proj/blob/main/Space_Conv_RNN.ipynb\" target=\"_parent\"><img src=\"https://colab.research.google.com/assets/colab-badge.svg\" alt=\"Open In Colab\"/></a>"
      ]
    },
    {
      "cell_type": "markdown",
      "source": [
        "Model Paper: "
      ],
      "metadata": {
        "id": "Wy-ORg0nyKtV"
      }
    },
    {
      "cell_type": "markdown",
      "source": [
        "### Load Data \n",
        "\n",
        "Load preprocessed data"
      ],
      "metadata": {
        "id": "5Fl4uJtrAqU0"
      }
    },
    {
      "cell_type": "code",
      "source": [
        "from google.colab import drive\n",
        "drive.mount('/content/drive')"
      ],
      "metadata": {
        "id": "Scu17GL9A7i5",
        "colab": {
          "base_uri": "https://localhost:8080/"
        },
        "outputId": "72bae2b2-06cc-4903-9dd1-ef6a626eefdf"
      },
      "execution_count": 1,
      "outputs": [
        {
          "output_type": "stream",
          "name": "stdout",
          "text": [
            "Mounted at /content/drive\n"
          ]
        }
      ]
    },
    {
      "cell_type": "code",
      "source": [
        "import numpy as np\n",
        "from tensorflow import keras\n",
        "from tensorflow.keras import layers\n",
        "from matplotlib import pyplot as plt\n",
        "from sklearn.model_selection import GridSearchCV\n",
        "from keras.wrappers.scikit_learn import KerasClassifier"
      ],
      "metadata": {
        "id": "2gXQ7pXTIqqT"
      },
      "execution_count": 2,
      "outputs": []
    },
    {
      "cell_type": "code",
      "source": [
        "\n",
        "X_test = np.load(\"/content/drive/MyDrive/eeg_project/X_test.npy\")\n",
        "y_test = np.load(\"/content/drive/MyDrive/eeg_project/y_test.npy\")\n",
        "person_train_valid = np.load(\"/content/drive/MyDrive/eeg_project/person_train_valid.npy\")\n",
        "X_train_valid = np.load(\"/content/drive/MyDrive/eeg_project/X_train_valid.npy\")\n",
        "y_train_valid = np.load(\"/content/drive/MyDrive/eeg_project/y_train_valid.npy\")\n",
        "person_test = np.load(\"/content/drive/MyDrive/eeg_project/person_test.npy\")\n"
      ],
      "metadata": {
        "id": "foTd2q3JIreb"
      },
      "execution_count": 3,
      "outputs": []
    },
    {
      "cell_type": "code",
      "source": [
        "print ('Training/Valid data shape: {}'.format(X_train_valid.shape))\n",
        "print ('Test data shape: {}'.format(X_test.shape))\n",
        "print ('Training/Valid target shape: {}'.format(y_train_valid.shape))\n",
        "print ('Test target shape: {}'.format(y_test.shape))\n",
        "print ('Person train/valid shape: {}'.format(person_train_valid.shape))\n",
        "print ('Person test shape: {}'.format(person_test.shape))\n"
      ],
      "metadata": {
        "id": "g6VAQSVEUtIW",
        "colab": {
          "base_uri": "https://localhost:8080/"
        },
        "outputId": "fc82fa34-6caf-4b43-be91-b8b9d4ca70dc"
      },
      "execution_count": 4,
      "outputs": [
        {
          "output_type": "stream",
          "name": "stdout",
          "text": [
            "Training/Valid data shape: (2115, 22, 1000)\n",
            "Test data shape: (443, 22, 1000)\n",
            "Training/Valid target shape: (2115,)\n",
            "Test target shape: (443,)\n",
            "Person train/valid shape: (2115, 1)\n",
            "Person test shape: (443, 1)\n"
          ]
        }
      ]
    },
    {
      "cell_type": "code",
      "source": [
        "print(np.unique(y_train_valid))\n",
        "print(np.unique(y_test))"
      ],
      "metadata": {
        "colab": {
          "base_uri": "https://localhost:8080/"
        },
        "id": "bhxR60r5IzuR",
        "outputId": "de05e970-4c9d-4ada-e46b-91ec7a53ce08"
      },
      "execution_count": 5,
      "outputs": [
        {
          "output_type": "stream",
          "name": "stdout",
          "text": [
            "[769 770 771 772]\n",
            "[769 770 771 772]\n"
          ]
        }
      ]
    },
    {
      "cell_type": "code",
      "source": [
        "num_classes = 4\n",
        "y_train_valid = y_train_valid-769\n",
        "y_test = y_test-769"
      ],
      "metadata": {
        "id": "U4K1wzmfI4Rb"
      },
      "execution_count": 6,
      "outputs": []
    },
    {
      "cell_type": "code",
      "source": [
        "def data_prep(X,y,sub_sample,average,noise):\n",
        "    \n",
        "    total_X = None\n",
        "    total_y = None\n",
        "    \n",
        "    # Trimming the data (sample,22,1000) -> (sample,22,500)\n",
        "    X = X[:,:,0:500]\n",
        "    print('Shape of X after trimming:',X.shape)\n",
        "    \n",
        "    # Maxpooling the data (sample,22,1000) -> (sample,22,500/sub_sample)\n",
        "    X_max = np.max(X.reshape(X.shape[0], X.shape[1], -1, sub_sample), axis=3)\n",
        "    \n",
        "    \n",
        "    total_X = X_max\n",
        "    total_y = y\n",
        "    print('Shape of X after maxpooling:',total_X.shape)\n",
        "    \n",
        "    # Averaging + noise \n",
        "    X_average = np.mean(X.reshape(X.shape[0], X.shape[1], -1, average),axis=3)\n",
        "    X_average = X_average + np.random.normal(0.0, 0.5, X_average.shape)\n",
        "    \n",
        "    total_X = np.vstack((total_X, X_average))\n",
        "    total_y = np.hstack((total_y, y))\n",
        "    print('Shape of X after averaging+noise and concatenating:',total_X.shape)\n",
        "    \n",
        "    # Subsampling\n",
        "    \n",
        "    for i in range(sub_sample):\n",
        "        \n",
        "        X_subsample = X[:, :, i::sub_sample] + \\\n",
        "                            (np.random.normal(0.0, 0.5, X[:, :,i::sub_sample].shape) if noise else 0.0)\n",
        "            \n",
        "        total_X = np.vstack((total_X, X_subsample))\n",
        "        total_y = np.hstack((total_y, y))\n",
        "        \n",
        "    \n",
        "    print('Shape of X after subsampling and concatenating:',total_X.shape)\n",
        "    return total_X,total_y\n",
        "\n",
        "\n",
        "X_train_valid_prep,y_train_valid_prep = data_prep(X_train_valid,y_train_valid,2,2,True)\n"
      ],
      "metadata": {
        "colab": {
          "base_uri": "https://localhost:8080/"
        },
        "id": "0-ubjiWDpR_W",
        "outputId": "d493617f-64de-4184-848e-3e157f7a40b9"
      },
      "execution_count": 7,
      "outputs": [
        {
          "output_type": "stream",
          "name": "stdout",
          "text": [
            "Shape of X after trimming: (2115, 22, 500)\n",
            "Shape of X after maxpooling: (2115, 22, 250)\n",
            "Shape of X after averaging+noise and concatenating: (4230, 22, 250)\n",
            "Shape of X after subsampling and concatenating: (8460, 22, 250)\n"
          ]
        }
      ]
    },
    {
      "cell_type": "code",
      "source": [
        "def data_prep_test(X,y, sub_sample=2):\n",
        "    \n",
        "    total_X = None\n",
        "    total_y = None\n",
        "    \n",
        "    # Trimming the data (sample,22,1000) -> (sample,22,500)\n",
        "    X = X[:,:,0:500]\n",
        "    print('Shape of X after trimming:',X.shape)\n",
        "    \n",
        "    # Maxpooling the data (sample,22,1000) -> (sample,22,500/sub_sample)\n",
        "    X_max = np.max(X.reshape(X.shape[0], X.shape[1], -1, sub_sample), axis=3)\n",
        "    \n",
        "    \n",
        "    total_X = X_max\n",
        "    total_y = y\n",
        "    print('Shape of X after maxpooling:',total_X.shape)\n",
        "    return total_X,total_y\n",
        "\n",
        "\n",
        "X_test,y_test = data_prep_test(X_test, y_test,2)\n"
      ],
      "metadata": {
        "colab": {
          "base_uri": "https://localhost:8080/"
        },
        "id": "IhtalewhtI6R",
        "outputId": "475d856e-5188-48fe-fa1a-0eafbe69f92b"
      },
      "execution_count": 8,
      "outputs": [
        {
          "output_type": "stream",
          "name": "stdout",
          "text": [
            "Shape of X after trimming: (443, 22, 500)\n",
            "Shape of X after maxpooling: (443, 22, 250)\n"
          ]
        }
      ]
    },
    {
      "cell_type": "code",
      "source": [
        "\n",
        "def spatial_prep(X):\n",
        "\n",
        "\n",
        "\n",
        "\n",
        "  X = np.swapaxes(X, 0, 1)\n",
        "  # X = np.swapaxes(X, 1, 2)\n",
        "\n",
        "  sh = (X.shape[1],X.shape[2])\n",
        "  new_X = np.array([[np.zeros(sh), np.zeros(sh), np.zeros(sh), X[0,:,:], np.zeros(sh), np.zeros(sh), np.zeros(sh)],\n",
        "                [np.zeros(sh), X[1,:,:], X[2,:,:], X[3,:,:], X[4,:,:], X[5,:,:], np.zeros(sh)],\n",
        "                [X[6,:,:],X[7,:,:],X[8,:,:],X[9,:,:],X[10,:,:],X[11,:,:],X[12,:,:]],\n",
        "                [np.zeros(sh), X[13,:,:],X[14,:,:],X[15,:,:],X[16,:,:],X[17,:,:], np.zeros(sh)],\n",
        "                [np.zeros(sh), np.zeros(sh), X[18,:,:],X[19,:,:],X[20,:,:], np.zeros(sh), np.zeros(sh)],\n",
        "                [np.zeros(sh), np.zeros(sh), np.zeros(sh), X[21,:,:], np.zeros(sh), np.zeros(sh), np.zeros(sh)]])\n",
        "\n",
        "  # for x_seq in X:\n",
        "  #   n = len(X)\n",
        "  #   # new_seq_X = np.array([np.array([np.zeros(n), np.zeros(n), np.zeros(n), np.array(x_seq[0]), np.zeros(n), np.zeros(n), np.zeros(n)]),\n",
        "  #   #              np.array([np.zeros(n), np.array(x_seq[1]), np.array(x_seq[2]), np.array(x_seq[3]), np.array(x_seq[4]), np.array(x_seq[5]), np.zeros(n)]),\n",
        "  #   #              np.array([np.array(x_seq[6]), np.array(x_seq[7]), np.array(x_seq[8]), np.array(x_seq[9]), np.array(x_seq[10]), np.array(x_seq[11]), np.array(x_seq[12])]),\n",
        "  #   #              np.array([np.zeros(n), np.array(x_seq[13]), np.array(x_seq[14]), np.array(x_seq[15]), np.array(x_seq[16]), np.array(x_seq[17]), np.zeros(n)]),\n",
        "  #   #              np.array([np.zeros(n), np.zeros(n), np.array(x_seq[18]), np.array(x_seq[19]), np.array(x_seq[20]), np.zeros(n), np.zeros(n)]),\n",
        "  #   #              np.array([np.zeros(n), np.zeros(n), np.zeros(n), np.array(x_seq[21]), np.zeros(n), np.zeros(n), np.zeros(n)])])\n",
        "  #   # new_X.append(new_seq_X)\n",
        "  #   new_seq_X = np.array([[[0]*n, [0]*n, [0]*n, x_seq[0], [0]*n, [0]*n, [0]*n ],\n",
        "  #                [[0]*n, x_seq[1], x_seq[2], x_seq[3], x_seq[4], x_seq[5], [0]*n ],\n",
        "  #                [x_seq[6], x_seq[7], x_seq[8], x_seq[9], x_seq[10], x_seq[11], x_seq[12]],\n",
        "  #                [[0]*n, x_seq[13], x_seq[14], x_seq[15], x_seq[16], x_seq[17], [0]*n],\n",
        "  #                [[0]*n, [0]*n, x_seq[18], x_seq[19], x_seq[20], [0]*n, [0]*n],\n",
        "  #                [[0]*n, [0]*n, [0]*n, x_seq[21], [0]*n, [0]*n, [0]*n]])\n",
        "  #   new_X.append(new_seq_X)\n",
        "\n",
        "  # new_X = np.array(new_X)\n",
        "  new_X = np.swapaxes(new_X, 0,2)\n",
        "  new_X = np.swapaxes(new_X, 1,2)\n",
        "  return new_X"
      ],
      "metadata": {
        "id": "-u8tro1jwuon"
      },
      "execution_count": 9,
      "outputs": []
    },
    {
      "cell_type": "code",
      "source": [
        "X_spatial_prep = spatial_prep(X_train_valid_prep)"
      ],
      "metadata": {
        "id": "flRuB5gPygqF"
      },
      "execution_count": 10,
      "outputs": []
    },
    {
      "cell_type": "code",
      "source": [
        "X_spatial_test = spatial_prep(X_test)"
      ],
      "metadata": {
        "id": "spWmKQWT3qd1"
      },
      "execution_count": 11,
      "outputs": []
    },
    {
      "cell_type": "code",
      "source": [
        "print(X_spatial_prep.shape, X_spatial_test.shape)"
      ],
      "metadata": {
        "colab": {
          "base_uri": "https://localhost:8080/"
        },
        "id": "l3rD3lYUyumZ",
        "outputId": "d6fc0454-8d33-49ff-8505-394e2d2ebe22"
      },
      "execution_count": 12,
      "outputs": [
        {
          "output_type": "stream",
          "name": "stdout",
          "text": [
            "(8460, 6, 7, 250) (443, 6, 7, 250)\n"
          ]
        }
      ]
    },
    {
      "cell_type": "code",
      "source": [
        "\n",
        "y_train_valid_prep = keras.utils.to_categorical(y_train_valid_prep, num_classes)\n",
        "y_test = keras.utils.to_categorical(y_test, num_classes)"
      ],
      "metadata": {
        "id": "NZWq7ZCFq5z9"
      },
      "execution_count": 13,
      "outputs": []
    },
    {
      "cell_type": "code",
      "source": [
        "print(X_train_valid_prep.shape,y_train_valid_prep.shape, X_spatial_prep.shape, X_spatial_test.shape)\n",
        "print(X_test.shape, y_test.shape)"
      ],
      "metadata": {
        "colab": {
          "base_uri": "https://localhost:8080/"
        },
        "id": "YFZfw6CuqeBs",
        "outputId": "e5c25bed-d155-4165-9f3f-680c0e160a75"
      },
      "execution_count": 14,
      "outputs": [
        {
          "output_type": "stream",
          "name": "stdout",
          "text": [
            "(8460, 22, 250) (8460, 4) (8460, 6, 7, 250) (443, 6, 7, 250)\n",
            "(443, 22, 250) (443, 4)\n"
          ]
        }
      ]
    },
    {
      "cell_type": "code",
      "source": [
        "X_spatial_prep  = np.swapaxes(X_spatial_prep , 1,3)\n",
        "X_spatial_prep = np.swapaxes(X_spatial_prep , 2,3)\n",
        "X_spatial_test  = np.swapaxes(X_spatial_test , 1,3)\n",
        "X_spatial_test = np.swapaxes(X_spatial_test , 2,3)"
      ],
      "metadata": {
        "id": "b3_pN5eAY1bg"
      },
      "execution_count": 15,
      "outputs": []
    },
    {
      "cell_type": "code",
      "source": [
        "X_spatial_prep = X_spatial_prep.reshape(*X_spatial_prep.shape, 1)\n",
        "X_spatial_test = X_spatial_test.reshape(*X_spatial_test.shape, 1)"
      ],
      "metadata": {
        "id": "FeiaaX6qX3-e"
      },
      "execution_count": null,
      "outputs": []
    },
    {
      "cell_type": "code",
      "source": [
        "print(X_train_valid_prep.shape,y_train_valid_prep.shape, X_spatial_prep.shape, X_spatial_test.shape)\n",
        "print(X_test.shape, y_test.shape)"
      ],
      "metadata": {
        "colab": {
          "base_uri": "https://localhost:8080/"
        },
        "id": "1MC6IQn7YEF-",
        "outputId": "a7c9e055-1bd6-435e-caca-d711a5f8459a"
      },
      "execution_count": 16,
      "outputs": [
        {
          "output_type": "stream",
          "name": "stdout",
          "text": [
            "(8460, 22, 250) (8460, 4) (8460, 250, 6, 7) (443, 250, 6, 7)\n",
            "(443, 22, 250) (443, 4)\n"
          ]
        }
      ]
    },
    {
      "cell_type": "markdown",
      "source": [
        "## Cascade model with all subjects"
      ],
      "metadata": {
        "id": "IxgOEM-3WIPG"
      }
    },
    {
      "cell_type": "code",
      "source": [
        "from keras.layers import Conv2D,Conv3D, BatchNormalization, Activation, Flatten, Dense, Dropout, LSTM, Input, TimeDistributed, Permute, Reshape, MaxPooling2D,MaxPooling3D, GRU\n",
        "from keras import initializers, Model, optimizers, callbacks\n",
        "from keras import Sequential\n",
        "from keras import backend as K\n",
        "from keras.models import load_model\n",
        "from keras.callbacks import Callback\n",
        "from sklearn.preprocessing import OneHotEncoder, StandardScaler\n",
        "from sklearn.metrics import confusion_matrix, f1_score, precision_score, recall_score"
      ],
      "metadata": {
        "id": "GswnoLTxWgFD"
      },
      "execution_count": 17,
      "outputs": []
    },
    {
      "cell_type": "code",
      "source": [
        "# ## Complicated Model - the same as Zhang`s\n",
        "# input_shape = (250, 6, 7, 1)\n",
        "# lecun = initializers.lecun_normal(seed=42)\n",
        "\n",
        "# # TimeDistributed Wrapper\n",
        "# def timeDist(layer, prev_layer, name):\n",
        "#     return TimeDistributed(layer, name=name)(prev_layer)\n",
        "    \n",
        "# # Input layer\n",
        "# inputs = Input(shape=input_shape)\n",
        "\n",
        "# # Convolutional layers block\n",
        "# x = timeDist(Conv2D(32, (3,3), padding='same', \n",
        "#                     data_format='channels_last', kernel_initializer=lecun), inputs, name='CNN1')\n",
        "# x = BatchNormalization(name='batch1')(x)\n",
        "# x = Activation('elu', name='act1')(x)\n",
        "# x = timeDist(Conv2D(64, (3,3), padding='same', data_format='channels_last', kernel_initializer=lecun), x, name='CNN2')\n",
        "# x = BatchNormalization(name='batch2')(x)\n",
        "# x = Activation('elu', name='act2')(x)\n",
        "# x = timeDist(Conv2D(128, (3,3), padding='same', data_format='channels_last', kernel_initializer=lecun), x, name='CNN3')\n",
        "# x = BatchNormalization(name='batch3')(x)\n",
        "# x = Activation('elu', name='act3')(x)\n",
        "# x = timeDist(Flatten(), x, name='flatten')\n",
        "\n",
        "# # Fully connected layer block\n",
        "# y = Dense(256, kernel_initializer=lecun, name='FC')(x)\n",
        "# y = Dropout(0.5, name='dropout1')(y)\n",
        "# y = BatchNormalization(name='batch4')(y)\n",
        "# y = Activation(activation='elu')(y)\n",
        "\n",
        "# # Recurrent layers block\n",
        "# #z = LSTM(64, kernel_initializer=lecun, return_sequences=True, name='LSTM1')(y)\n",
        "# z = LSTM(64, kernel_initializer=lecun, return_sequences=True, name='LSTM2')(y)\n",
        "# z = Flatten()(z)\n",
        "# # Fully connected layer block\n",
        "# h = Dense(128, kernel_initializer=lecun, activation='relu', name='FC2')(z)\n",
        "# h = Dropout(0.5, name='dropout2')(h)\n",
        "\n",
        "# # Output layer\n",
        "# outputs = Dense(4, activation='softmax')(h)\n",
        "\n",
        "# # Model compile\n",
        "# model = Model(inputs=inputs, outputs=outputs)\n",
        "# model.summary()\n"
      ],
      "metadata": {
        "colab": {
          "base_uri": "https://localhost:8080/"
        },
        "id": "BSm44W_mWdxt",
        "outputId": "e00437d2-7bb1-4638-fe03-9529c76fd503"
      },
      "execution_count": null,
      "outputs": [
        {
          "output_type": "stream",
          "name": "stdout",
          "text": [
            "Model: \"model_3\"\n",
            "_________________________________________________________________\n",
            " Layer (type)                Output Shape              Param #   \n",
            "=================================================================\n",
            " input_4 (InputLayer)        [(None, 250, 6, 7, 1)]    0         \n",
            "                                                                 \n",
            " CNN1 (TimeDistributed)      (None, 250, 6, 7, 32)     320       \n",
            "                                                                 \n",
            " batch1 (BatchNormalization)  (None, 250, 6, 7, 32)    128       \n",
            "                                                                 \n",
            " act1 (Activation)           (None, 250, 6, 7, 32)     0         \n",
            "                                                                 \n",
            " CNN2 (TimeDistributed)      (None, 250, 6, 7, 64)     18496     \n",
            "                                                                 \n",
            " batch2 (BatchNormalization)  (None, 250, 6, 7, 64)    256       \n",
            "                                                                 \n",
            " act2 (Activation)           (None, 250, 6, 7, 64)     0         \n",
            "                                                                 \n",
            " CNN3 (TimeDistributed)      (None, 250, 6, 7, 128)    73856     \n",
            "                                                                 \n",
            " batch3 (BatchNormalization)  (None, 250, 6, 7, 128)   512       \n",
            "                                                                 \n",
            " act3 (Activation)           (None, 250, 6, 7, 128)    0         \n",
            "                                                                 \n",
            " flatten (TimeDistributed)   (None, 250, 5376)         0         \n",
            "                                                                 \n",
            " FC (Dense)                  (None, 250, 256)          1376512   \n",
            "                                                                 \n",
            " dropout1 (Dropout)          (None, 250, 256)          0         \n",
            "                                                                 \n",
            " batch4 (BatchNormalization)  (None, 250, 256)         1024      \n",
            "                                                                 \n",
            " activation_3 (Activation)   (None, 250, 256)          0         \n",
            "                                                                 \n",
            " LSTM2 (LSTM)                (None, 250, 64)           82176     \n",
            "                                                                 \n",
            " flatten_7 (Flatten)         (None, 16000)             0         \n",
            "                                                                 \n",
            " FC2 (Dense)                 (None, 128)               2048128   \n",
            "                                                                 \n",
            " dropout2 (Dropout)          (None, 128)               0         \n",
            "                                                                 \n",
            " dense_3 (Dense)             (None, 4)                 516       \n",
            "                                                                 \n",
            "=================================================================\n",
            "Total params: 3,601,924\n",
            "Trainable params: 3,600,964\n",
            "Non-trainable params: 960\n",
            "_________________________________________________________________\n"
          ]
        }
      ]
    },
    {
      "cell_type": "code",
      "source": [
        "## Complicated Model - the same as Zhang`s\n",
        "# input_shape = (250, 6, 7, 1)\n",
        "# lecun = initializers.lecun_normal(seed=42)\n",
        "\n",
        "# # TimeDistributed Wrapper\n",
        "# def timeDist(layer, prev_layer, name):\n",
        "#     return TimeDistributed(layer, name=name)(prev_layer)\n",
        "    \n",
        "# # Input layer\n",
        "# inputs = Input(shape=input_shape)\n",
        "\n",
        "# # Convolutional layers block\n",
        "# x = timeDist(Conv2D(32, (3,3), padding='same', \n",
        "#                     data_format='channels_last', kernel_initializer=lecun), inputs, name='CNN1')\n",
        "# x = BatchNormalization(name='batch1')(x)\n",
        "# x = Activation('elu', name='act1')(x)\n",
        "# x = timeDist(Conv2D(64, (3,3), padding='same', data_format='channels_last', kernel_initializer=lecun), x, name='CNN2')\n",
        "# x = BatchNormalization(name='batch2')(x)\n",
        "# x = Activation('elu', name='act2')(x)\n",
        "# x = timeDist(Conv2D(128, (3,3), padding='same', data_format='channels_last', kernel_initializer=lecun), x, name='CNN3')\n",
        "# x = BatchNormalization(name='batch3')(x)\n",
        "# x = Activation('elu', name='act3')(x)\n",
        "# x = timeDist(Flatten(), x, name='flatten')\n",
        "\n",
        "# # Fully connected layer block\n",
        "# y = Dense(64, kernel_initializer=lecun, name='FC')(x)\n",
        "# y = Dropout(0.5, name='dropout1')(y)\n",
        "# y = BatchNormalization(name='batch4')(y)\n",
        "# y = Activation(activation='elu')(y)\n",
        "\n",
        "# # Recurrent layers block\n",
        "# #z = LSTM(64, kernel_initializer=lecun, return_sequences=True, name='LSTM1')(y)\n",
        "# z = LSTM(64, kernel_initializer=lecun, name='LSTM2')(y)\n",
        "\n",
        "# # Fully connected layer block\n",
        "# h = Dense(128, kernel_initializer=lecun, activation='relu', name='FC2')(z)\n",
        "# h = Dropout(0.5, name='dropout2')(h)\n",
        "\n",
        "# # Output layer\n",
        "# outputs = Dense(4, activation='softmax')(h)\n",
        "\n",
        "# # Model compile\n",
        "# model = Model(inputs=inputs, outputs=outputs)\n",
        "# model.summary()\n",
        "\n",
        "lecun = initializers.lecun_normal(seed=42)\n",
        "\n",
        "model = Sequential()\n",
        "\n",
        "# model.add(Permute((2, 1), input_shape=(6,7, 250)))\n",
        "# model.add(Permute((3, 1), input_shape=(6,7, 250)))\n",
        "model.add(Reshape((250, 6, 7, 1), input_shape = (250,6,7)))\n",
        "\n",
        "model.add(Conv3D(filters=25, kernel_size=(10,1,1), kernel_initializer = lecun, strides=1, data_format=\"channels_last\"))\n",
        "model.add(Conv3D(filters=25, kernel_size=(1,6,7), kernel_initializer = lecun ))\n",
        "model.add(BatchNormalization())\n",
        "model.add(Activation(activation = 'elu'))\n",
        "model.add(MaxPooling3D(pool_size = (3,1,1), strides = (3,1,1)))\n",
        "model.add(Dropout(0.5))\n",
        "\n",
        "# Conv Pool Block 2\n",
        "model.add(Conv3D(filters = 50, kernel_size = (10,1,1), activation = 'elu', kernel_initializer = lecun))\n",
        "model.add(BatchNormalization())\n",
        "model.add(Activation(activation = 'elu'))\n",
        "model.add(MaxPooling3D(pool_size = (3,1,1), strides = (3,1,1)))\n",
        "model.add(Dropout(0.5))\n",
        "\n",
        "model.add(Permute((1, 4, 3, 2)))\n",
        "model.add(Reshape((23, 50)))\n",
        "\n",
        "# GRU layers\n",
        "model.add(GRU(16, return_sequences=True))\n",
        "model.add(GRU(16, return_sequences=True))\n",
        "# model.add(GRU(16, return_sequences=True))\n",
        "# model.add(GRU(16, return_sequences=True))\n",
        "model.add(Dropout(0.5))\n",
        "\n",
        "# Dense layers\n",
        "model.add(Flatten())\n",
        "model.add(Dense(units=4, activation='softmax'))\n",
        "\n",
        "model.compile(loss='categorical_crossentropy',\n",
        "              optimizer='adam',\n",
        "              metrics=['accuracy'])\n",
        "\n",
        "print(model.summary())\n"
      ],
      "metadata": {
        "colab": {
          "base_uri": "https://localhost:8080/"
        },
        "id": "4VeaUcZoQP2E",
        "outputId": "f6f151b8-28c6-4940-f49e-1c0e27ae65ce"
      },
      "execution_count": 18,
      "outputs": [
        {
          "output_type": "stream",
          "name": "stdout",
          "text": [
            "Model: \"sequential\"\n",
            "_________________________________________________________________\n",
            " Layer (type)                Output Shape              Param #   \n",
            "=================================================================\n",
            " reshape (Reshape)           (None, 250, 6, 7, 1)      0         \n",
            "                                                                 \n",
            " conv3d (Conv3D)             (None, 241, 6, 7, 25)     275       \n",
            "                                                                 \n",
            " conv3d_1 (Conv3D)           (None, 241, 1, 1, 25)     26275     \n",
            "                                                                 \n",
            " batch_normalization (BatchN  (None, 241, 1, 1, 25)    100       \n",
            " ormalization)                                                   \n",
            "                                                                 \n",
            " activation (Activation)     (None, 241, 1, 1, 25)     0         \n",
            "                                                                 \n",
            " max_pooling3d (MaxPooling3D  (None, 80, 1, 1, 25)     0         \n",
            " )                                                               \n",
            "                                                                 \n",
            " dropout (Dropout)           (None, 80, 1, 1, 25)      0         \n",
            "                                                                 \n",
            " conv3d_2 (Conv3D)           (None, 71, 1, 1, 50)      12550     \n",
            "                                                                 \n",
            " batch_normalization_1 (Batc  (None, 71, 1, 1, 50)     200       \n",
            " hNormalization)                                                 \n",
            "                                                                 \n",
            " activation_1 (Activation)   (None, 71, 1, 1, 50)      0         \n",
            "                                                                 \n",
            " max_pooling3d_1 (MaxPooling  (None, 23, 1, 1, 50)     0         \n",
            " 3D)                                                             \n",
            "                                                                 \n",
            " dropout_1 (Dropout)         (None, 23, 1, 1, 50)      0         \n",
            "                                                                 \n",
            " permute (Permute)           (None, 23, 50, 1, 1)      0         \n",
            "                                                                 \n",
            " reshape_1 (Reshape)         (None, 23, 50)            0         \n",
            "                                                                 \n",
            " gru (GRU)                   (None, 23, 16)            3264      \n",
            "                                                                 \n",
            " gru_1 (GRU)                 (None, 23, 16)            1632      \n",
            "                                                                 \n",
            " dropout_2 (Dropout)         (None, 23, 16)            0         \n",
            "                                                                 \n",
            " flatten (Flatten)           (None, 368)               0         \n",
            "                                                                 \n",
            " dense (Dense)               (None, 4)                 1476      \n",
            "                                                                 \n",
            "=================================================================\n",
            "Total params: 45,772\n",
            "Trainable params: 45,622\n",
            "Non-trainable params: 150\n",
            "_________________________________________________________________\n",
            "None\n"
          ]
        }
      ]
    },
    {
      "cell_type": "code",
      "source": [
        "model.compile(loss='categorical_crossentropy', optimizer='adam', metrics=['acc'])\n",
        "history = model.fit(X_spatial_prep, y_train_valid_prep, batch_size=64, epochs=100, shuffle=True,\n",
        "                    validation_split=0.2)"
      ],
      "metadata": {
        "colab": {
          "base_uri": "https://localhost:8080/"
        },
        "id": "vQNJ4-8OXRB0",
        "outputId": "e1032d4a-8ac2-49c5-8357-cedd35cd9490"
      },
      "execution_count": 23,
      "outputs": [
        {
          "output_type": "stream",
          "name": "stdout",
          "text": [
            "Epoch 1/100\n",
            "106/106 [==============================] - 9s 45ms/step - loss: 0.2647 - acc: 0.9029 - val_loss: 0.0518 - val_acc: 0.9870\n",
            "Epoch 2/100\n",
            "106/106 [==============================] - 4s 34ms/step - loss: 0.2693 - acc: 0.8998 - val_loss: 0.0510 - val_acc: 0.9882\n",
            "Epoch 3/100\n",
            "106/106 [==============================] - 4s 34ms/step - loss: 0.2378 - acc: 0.9090 - val_loss: 0.0474 - val_acc: 0.9888\n",
            "Epoch 4/100\n",
            "106/106 [==============================] - 4s 35ms/step - loss: 0.2590 - acc: 0.9082 - val_loss: 0.0443 - val_acc: 0.9900\n",
            "Epoch 5/100\n",
            "106/106 [==============================] - 4s 34ms/step - loss: 0.2597 - acc: 0.9016 - val_loss: 0.0472 - val_acc: 0.9876\n",
            "Epoch 6/100\n",
            "106/106 [==============================] - 4s 35ms/step - loss: 0.2641 - acc: 0.9001 - val_loss: 0.0405 - val_acc: 0.9929\n",
            "Epoch 7/100\n",
            "106/106 [==============================] - 4s 34ms/step - loss: 0.2586 - acc: 0.9044 - val_loss: 0.0466 - val_acc: 0.9917\n",
            "Epoch 8/100\n",
            "106/106 [==============================] - 4s 35ms/step - loss: 0.2561 - acc: 0.9047 - val_loss: 0.0430 - val_acc: 0.9911\n",
            "Epoch 9/100\n",
            "106/106 [==============================] - 4s 34ms/step - loss: 0.2527 - acc: 0.9048 - val_loss: 0.0488 - val_acc: 0.9923\n",
            "Epoch 10/100\n",
            "106/106 [==============================] - 4s 35ms/step - loss: 0.2694 - acc: 0.9012 - val_loss: 0.0543 - val_acc: 0.9840\n",
            "Epoch 11/100\n",
            "106/106 [==============================] - 4s 35ms/step - loss: 0.2628 - acc: 0.9010 - val_loss: 0.0601 - val_acc: 0.9870\n",
            "Epoch 12/100\n",
            "106/106 [==============================] - 4s 35ms/step - loss: 0.2544 - acc: 0.9048 - val_loss: 0.0475 - val_acc: 0.9882\n",
            "Epoch 13/100\n",
            "106/106 [==============================] - 4s 38ms/step - loss: 0.2518 - acc: 0.9075 - val_loss: 0.0519 - val_acc: 0.9864\n",
            "Epoch 14/100\n",
            "106/106 [==============================] - 4s 35ms/step - loss: 0.2696 - acc: 0.8991 - val_loss: 0.0493 - val_acc: 0.9882\n",
            "Epoch 15/100\n",
            "106/106 [==============================] - 4s 34ms/step - loss: 0.2722 - acc: 0.8947 - val_loss: 0.0517 - val_acc: 0.9870\n",
            "Epoch 16/100\n",
            "106/106 [==============================] - 4s 35ms/step - loss: 0.2660 - acc: 0.8989 - val_loss: 0.0459 - val_acc: 0.9888\n",
            "Epoch 17/100\n",
            "106/106 [==============================] - 4s 35ms/step - loss: 0.2532 - acc: 0.9047 - val_loss: 0.0447 - val_acc: 0.9905\n",
            "Epoch 18/100\n",
            "106/106 [==============================] - 4s 35ms/step - loss: 0.2568 - acc: 0.9057 - val_loss: 0.0562 - val_acc: 0.9876\n",
            "Epoch 19/100\n",
            "106/106 [==============================] - 4s 35ms/step - loss: 0.2413 - acc: 0.9090 - val_loss: 0.0500 - val_acc: 0.9894\n",
            "Epoch 20/100\n",
            "106/106 [==============================] - 4s 35ms/step - loss: 0.2686 - acc: 0.8988 - val_loss: 0.0467 - val_acc: 0.9905\n",
            "Epoch 21/100\n",
            "106/106 [==============================] - 4s 35ms/step - loss: 0.2581 - acc: 0.9066 - val_loss: 0.0467 - val_acc: 0.9876\n",
            "Epoch 22/100\n",
            "106/106 [==============================] - 4s 35ms/step - loss: 0.2557 - acc: 0.9074 - val_loss: 0.0564 - val_acc: 0.9840\n",
            "Epoch 23/100\n",
            "106/106 [==============================] - 4s 34ms/step - loss: 0.2473 - acc: 0.9106 - val_loss: 0.0430 - val_acc: 0.9882\n",
            "Epoch 24/100\n",
            "106/106 [==============================] - 4s 34ms/step - loss: 0.2391 - acc: 0.9142 - val_loss: 0.0474 - val_acc: 0.9870\n",
            "Epoch 25/100\n",
            "106/106 [==============================] - 4s 35ms/step - loss: 0.2413 - acc: 0.9109 - val_loss: 0.0404 - val_acc: 0.9917\n",
            "Epoch 26/100\n",
            "106/106 [==============================] - 4s 35ms/step - loss: 0.2529 - acc: 0.9043 - val_loss: 0.0430 - val_acc: 0.9911\n",
            "Epoch 27/100\n",
            "106/106 [==============================] - 4s 34ms/step - loss: 0.2382 - acc: 0.9146 - val_loss: 0.0434 - val_acc: 0.9900\n",
            "Epoch 28/100\n",
            "106/106 [==============================] - 4s 35ms/step - loss: 0.2542 - acc: 0.9038 - val_loss: 0.0501 - val_acc: 0.9882\n",
            "Epoch 29/100\n",
            "106/106 [==============================] - 4s 35ms/step - loss: 0.2588 - acc: 0.9047 - val_loss: 0.0427 - val_acc: 0.9894\n",
            "Epoch 30/100\n",
            "106/106 [==============================] - 4s 35ms/step - loss: 0.2522 - acc: 0.9056 - val_loss: 0.0479 - val_acc: 0.9876\n",
            "Epoch 31/100\n",
            "106/106 [==============================] - 4s 35ms/step - loss: 0.2603 - acc: 0.9028 - val_loss: 0.0411 - val_acc: 0.9911\n",
            "Epoch 32/100\n",
            "106/106 [==============================] - 4s 35ms/step - loss: 0.2318 - acc: 0.9143 - val_loss: 0.0376 - val_acc: 0.9929\n",
            "Epoch 33/100\n",
            "106/106 [==============================] - 4s 35ms/step - loss: 0.2406 - acc: 0.9121 - val_loss: 0.0504 - val_acc: 0.9882\n",
            "Epoch 34/100\n",
            "106/106 [==============================] - 4s 35ms/step - loss: 0.2596 - acc: 0.9028 - val_loss: 0.0423 - val_acc: 0.9882\n",
            "Epoch 35/100\n",
            "106/106 [==============================] - 4s 34ms/step - loss: 0.2448 - acc: 0.9084 - val_loss: 0.0503 - val_acc: 0.9858\n",
            "Epoch 36/100\n",
            "106/106 [==============================] - 4s 35ms/step - loss: 0.2607 - acc: 0.9038 - val_loss: 0.0446 - val_acc: 0.9917\n",
            "Epoch 37/100\n",
            "106/106 [==============================] - 4s 37ms/step - loss: 0.2480 - acc: 0.9059 - val_loss: 0.0386 - val_acc: 0.9935\n",
            "Epoch 38/100\n",
            "106/106 [==============================] - 4s 35ms/step - loss: 0.2458 - acc: 0.9100 - val_loss: 0.0431 - val_acc: 0.9911\n",
            "Epoch 39/100\n",
            "106/106 [==============================] - 4s 34ms/step - loss: 0.2545 - acc: 0.9038 - val_loss: 0.0431 - val_acc: 0.9905\n",
            "Epoch 40/100\n",
            "106/106 [==============================] - 4s 38ms/step - loss: 0.2511 - acc: 0.9057 - val_loss: 0.0452 - val_acc: 0.9900\n",
            "Epoch 41/100\n",
            "106/106 [==============================] - 4s 34ms/step - loss: 0.2443 - acc: 0.9071 - val_loss: 0.0407 - val_acc: 0.9900\n",
            "Epoch 42/100\n",
            "106/106 [==============================] - 4s 35ms/step - loss: 0.2464 - acc: 0.9100 - val_loss: 0.0426 - val_acc: 0.9900\n",
            "Epoch 43/100\n",
            "106/106 [==============================] - 4s 34ms/step - loss: 0.2492 - acc: 0.9103 - val_loss: 0.0378 - val_acc: 0.9917\n",
            "Epoch 44/100\n",
            "106/106 [==============================] - 4s 35ms/step - loss: 0.2378 - acc: 0.9106 - val_loss: 0.0414 - val_acc: 0.9900\n",
            "Epoch 45/100\n",
            "106/106 [==============================] - 4s 34ms/step - loss: 0.2412 - acc: 0.9103 - val_loss: 0.0497 - val_acc: 0.9864\n",
            "Epoch 46/100\n",
            "106/106 [==============================] - 4s 34ms/step - loss: 0.2359 - acc: 0.9145 - val_loss: 0.0430 - val_acc: 0.9923\n",
            "Epoch 47/100\n",
            "106/106 [==============================] - 4s 35ms/step - loss: 0.2402 - acc: 0.9100 - val_loss: 0.0435 - val_acc: 0.9905\n",
            "Epoch 48/100\n",
            "106/106 [==============================] - 4s 35ms/step - loss: 0.2498 - acc: 0.9047 - val_loss: 0.0392 - val_acc: 0.9935\n",
            "Epoch 49/100\n",
            "106/106 [==============================] - 4s 35ms/step - loss: 0.2471 - acc: 0.9079 - val_loss: 0.0417 - val_acc: 0.9911\n",
            "Epoch 50/100\n",
            "106/106 [==============================] - 4s 35ms/step - loss: 0.2513 - acc: 0.9065 - val_loss: 0.0427 - val_acc: 0.9905\n",
            "Epoch 51/100\n",
            "106/106 [==============================] - 4s 34ms/step - loss: 0.2251 - acc: 0.9193 - val_loss: 0.0403 - val_acc: 0.9923\n",
            "Epoch 52/100\n",
            "106/106 [==============================] - 4s 35ms/step - loss: 0.2330 - acc: 0.9158 - val_loss: 0.0347 - val_acc: 0.9929\n",
            "Epoch 53/100\n",
            "106/106 [==============================] - 4s 35ms/step - loss: 0.2398 - acc: 0.9121 - val_loss: 0.0473 - val_acc: 0.9876\n",
            "Epoch 54/100\n",
            "106/106 [==============================] - 4s 35ms/step - loss: 0.2230 - acc: 0.9131 - val_loss: 0.0386 - val_acc: 0.9923\n",
            "Epoch 55/100\n",
            "106/106 [==============================] - 4s 38ms/step - loss: 0.2407 - acc: 0.9108 - val_loss: 0.0471 - val_acc: 0.9894\n",
            "Epoch 56/100\n",
            "106/106 [==============================] - 4s 35ms/step - loss: 0.2510 - acc: 0.9048 - val_loss: 0.0394 - val_acc: 0.9917\n",
            "Epoch 57/100\n",
            "106/106 [==============================] - 4s 35ms/step - loss: 0.2350 - acc: 0.9116 - val_loss: 0.0403 - val_acc: 0.9900\n",
            "Epoch 58/100\n",
            "106/106 [==============================] - 4s 38ms/step - loss: 0.2521 - acc: 0.9081 - val_loss: 0.0398 - val_acc: 0.9911\n",
            "Epoch 59/100\n",
            "106/106 [==============================] - 4s 35ms/step - loss: 0.2273 - acc: 0.9137 - val_loss: 0.0358 - val_acc: 0.9947\n",
            "Epoch 60/100\n",
            "106/106 [==============================] - 4s 34ms/step - loss: 0.2510 - acc: 0.9057 - val_loss: 0.0373 - val_acc: 0.9929\n",
            "Epoch 61/100\n",
            "106/106 [==============================] - 4s 35ms/step - loss: 0.2337 - acc: 0.9150 - val_loss: 0.0378 - val_acc: 0.9935\n",
            "Epoch 62/100\n",
            "106/106 [==============================] - 4s 34ms/step - loss: 0.2445 - acc: 0.9085 - val_loss: 0.0383 - val_acc: 0.9894\n",
            "Epoch 63/100\n",
            "106/106 [==============================] - 4s 35ms/step - loss: 0.2403 - acc: 0.9099 - val_loss: 0.0356 - val_acc: 0.9947\n",
            "Epoch 64/100\n",
            "106/106 [==============================] - 4s 38ms/step - loss: 0.2412 - acc: 0.9112 - val_loss: 0.0385 - val_acc: 0.9911\n",
            "Epoch 65/100\n",
            "106/106 [==============================] - 4s 35ms/step - loss: 0.2339 - acc: 0.9084 - val_loss: 0.0403 - val_acc: 0.9894\n",
            "Epoch 66/100\n",
            "106/106 [==============================] - 4s 35ms/step - loss: 0.2423 - acc: 0.9125 - val_loss: 0.0433 - val_acc: 0.9876\n",
            "Epoch 67/100\n",
            "106/106 [==============================] - 4s 35ms/step - loss: 0.2324 - acc: 0.9142 - val_loss: 0.0343 - val_acc: 0.9929\n",
            "Epoch 68/100\n",
            "106/106 [==============================] - 4s 35ms/step - loss: 0.2551 - acc: 0.9056 - val_loss: 0.0466 - val_acc: 0.9905\n",
            "Epoch 69/100\n",
            "106/106 [==============================] - 4s 35ms/step - loss: 0.2287 - acc: 0.9137 - val_loss: 0.0443 - val_acc: 0.9894\n",
            "Epoch 70/100\n",
            "106/106 [==============================] - 4s 35ms/step - loss: 0.2426 - acc: 0.9116 - val_loss: 0.0399 - val_acc: 0.9905\n",
            "Epoch 71/100\n",
            "106/106 [==============================] - 4s 35ms/step - loss: 0.2374 - acc: 0.9146 - val_loss: 0.0329 - val_acc: 0.9935\n",
            "Epoch 72/100\n",
            "106/106 [==============================] - 4s 34ms/step - loss: 0.2449 - acc: 0.9082 - val_loss: 0.0484 - val_acc: 0.9864\n",
            "Epoch 73/100\n",
            "106/106 [==============================] - 4s 35ms/step - loss: 0.2274 - acc: 0.9118 - val_loss: 0.0415 - val_acc: 0.9929\n",
            "Epoch 74/100\n",
            "106/106 [==============================] - 4s 34ms/step - loss: 0.2411 - acc: 0.9127 - val_loss: 0.0346 - val_acc: 0.9935\n",
            "Epoch 75/100\n",
            "106/106 [==============================] - 4s 34ms/step - loss: 0.2265 - acc: 0.9150 - val_loss: 0.0445 - val_acc: 0.9876\n",
            "Epoch 76/100\n",
            "106/106 [==============================] - 4s 35ms/step - loss: 0.2353 - acc: 0.9140 - val_loss: 0.0380 - val_acc: 0.9894\n",
            "Epoch 77/100\n",
            "106/106 [==============================] - 4s 34ms/step - loss: 0.2508 - acc: 0.9084 - val_loss: 0.0442 - val_acc: 0.9900\n",
            "Epoch 78/100\n",
            "106/106 [==============================] - 4s 34ms/step - loss: 0.2403 - acc: 0.9053 - val_loss: 0.0384 - val_acc: 0.9935\n",
            "Epoch 79/100\n",
            "106/106 [==============================] - 4s 34ms/step - loss: 0.2458 - acc: 0.9130 - val_loss: 0.0417 - val_acc: 0.9911\n",
            "Epoch 80/100\n",
            "106/106 [==============================] - 4s 35ms/step - loss: 0.2442 - acc: 0.9088 - val_loss: 0.0411 - val_acc: 0.9900\n",
            "Epoch 81/100\n",
            "106/106 [==============================] - 4s 34ms/step - loss: 0.2401 - acc: 0.9119 - val_loss: 0.0387 - val_acc: 0.9935\n",
            "Epoch 82/100\n",
            "106/106 [==============================] - 4s 35ms/step - loss: 0.2486 - acc: 0.9065 - val_loss: 0.0373 - val_acc: 0.9917\n",
            "Epoch 83/100\n",
            "106/106 [==============================] - 4s 35ms/step - loss: 0.2159 - acc: 0.9215 - val_loss: 0.0341 - val_acc: 0.9947\n",
            "Epoch 84/100\n",
            "106/106 [==============================] - 4s 38ms/step - loss: 0.2235 - acc: 0.9192 - val_loss: 0.0350 - val_acc: 0.9923\n",
            "Epoch 85/100\n",
            "106/106 [==============================] - 4s 34ms/step - loss: 0.2307 - acc: 0.9147 - val_loss: 0.0410 - val_acc: 0.9900\n",
            "Epoch 86/100\n",
            "106/106 [==============================] - 4s 35ms/step - loss: 0.2443 - acc: 0.9040 - val_loss: 0.0384 - val_acc: 0.9941\n",
            "Epoch 87/100\n",
            "106/106 [==============================] - 4s 38ms/step - loss: 0.2343 - acc: 0.9130 - val_loss: 0.0400 - val_acc: 0.9905\n",
            "Epoch 88/100\n",
            "106/106 [==============================] - 4s 35ms/step - loss: 0.2327 - acc: 0.9168 - val_loss: 0.0370 - val_acc: 0.9917\n",
            "Epoch 89/100\n",
            "106/106 [==============================] - 4s 35ms/step - loss: 0.2492 - acc: 0.9093 - val_loss: 0.0392 - val_acc: 0.9923\n",
            "Epoch 90/100\n",
            "106/106 [==============================] - 4s 35ms/step - loss: 0.2223 - acc: 0.9173 - val_loss: 0.0357 - val_acc: 0.9923\n",
            "Epoch 91/100\n",
            "106/106 [==============================] - 4s 35ms/step - loss: 0.2164 - acc: 0.9241 - val_loss: 0.0368 - val_acc: 0.9894\n",
            "Epoch 92/100\n",
            "106/106 [==============================] - 4s 35ms/step - loss: 0.2455 - acc: 0.9047 - val_loss: 0.0397 - val_acc: 0.9888\n",
            "Epoch 93/100\n",
            "106/106 [==============================] - 4s 35ms/step - loss: 0.2420 - acc: 0.9113 - val_loss: 0.0455 - val_acc: 0.9905\n",
            "Epoch 94/100\n",
            "106/106 [==============================] - 4s 35ms/step - loss: 0.2357 - acc: 0.9125 - val_loss: 0.0442 - val_acc: 0.9870\n",
            "Epoch 95/100\n",
            "106/106 [==============================] - 4s 35ms/step - loss: 0.2282 - acc: 0.9199 - val_loss: 0.0380 - val_acc: 0.9947\n",
            "Epoch 96/100\n",
            "106/106 [==============================] - 4s 34ms/step - loss: 0.2397 - acc: 0.9100 - val_loss: 0.0354 - val_acc: 0.9923\n",
            "Epoch 97/100\n",
            "106/106 [==============================] - 4s 35ms/step - loss: 0.2287 - acc: 0.9137 - val_loss: 0.0371 - val_acc: 0.9935\n",
            "Epoch 98/100\n",
            "106/106 [==============================] - 4s 34ms/step - loss: 0.2337 - acc: 0.9094 - val_loss: 0.0346 - val_acc: 0.9929\n",
            "Epoch 99/100\n",
            "106/106 [==============================] - 4s 35ms/step - loss: 0.2110 - acc: 0.9211 - val_loss: 0.0318 - val_acc: 0.9917\n",
            "Epoch 100/100\n",
            "106/106 [==============================] - 4s 35ms/step - loss: 0.2491 - acc: 0.9081 - val_loss: 0.0347 - val_acc: 0.9941\n"
          ]
        }
      ]
    },
    {
      "cell_type": "code",
      "source": [
        "model.evaluate(X_spatial_test, y_test)"
      ],
      "metadata": {
        "colab": {
          "base_uri": "https://localhost:8080/"
        },
        "id": "E5W7-Qi6vG_9",
        "outputId": "079f1abc-2a84-4051-8e7a-964f2166494f"
      },
      "execution_count": 24,
      "outputs": [
        {
          "output_type": "stream",
          "name": "stdout",
          "text": [
            "14/14 [==============================] - 0s 13ms/step - loss: 0.9236 - acc: 0.7698\n"
          ]
        },
        {
          "output_type": "execute_result",
          "data": {
            "text/plain": [
              "[0.923640251159668, 0.7697516679763794]"
            ]
          },
          "metadata": {},
          "execution_count": 24
        }
      ]
    },
    {
      "cell_type": "code",
      "source": [
        "plt.plot(history.history['acc'], label='train')\n",
        "plt.plot(history.history['val_acc'], label='test')\n",
        "plt.legend();"
      ],
      "metadata": {
        "colab": {
          "base_uri": "https://localhost:8080/",
          "height": 265
        },
        "id": "qS3hSLpYWYAa",
        "outputId": "b772f0fd-5a08-4ac8-90eb-d8b6af1f9e57"
      },
      "execution_count": null,
      "outputs": [
        {
          "output_type": "display_data",
          "data": {
            "image/png": "[encoded data removed]",
            "text/plain": [
              "<Figure size 432x288 with 1 Axes>"
            ]
          },
          "metadata": {
            "needs_background": "light"
          }
        }
      ]
    }
  ]
}