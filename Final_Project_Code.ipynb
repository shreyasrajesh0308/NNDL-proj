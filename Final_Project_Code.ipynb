{
  "nbformat": 4,
  "nbformat_minor": 0,
  "metadata": {
    "colab": {
      "name": "Final Project Code.ipynb",
      "provenance": [],
      "include_colab_link": true
    },
    "kernelspec": {
      "name": "python3",
      "display_name": "Python 3"
    },
    "language_info": {
      "name": "python"
    },
    "accelerator": "GPU"
  },
  "cells": [
    {
      "cell_type": "markdown",
      "metadata": {
        "id": "view-in-github",
        "colab_type": "text"
      },
      "source": [
        "<a href=\"https://colab.research.google.com/github/shreyasrajesh0308/NNDL-proj/blob/main/Final_Project_Code.ipynb\" target=\"_parent\"><img src=\"https://colab.research.google.com/assets/colab-badge.svg\" alt=\"Open In Colab\"/></a>"
      ]
    },
    {
      "cell_type": "markdown",
      "source": [
        "#Import Necessary Dependencies"
      ],
      "metadata": {
        "id": "p19wBIfg-VYa"
      }
    },
    {
      "cell_type": "code",
      "source": [
        "import numpy as np\n",
        "from tensorflow import keras\n",
        "from tensorflow.keras import layers\n",
        "from matplotlib import pyplot as plt\n",
        "from sklearn.model_selection import GridSearchCV\n",
        "from keras.wrappers.scikit_learn import KerasClassifier\n",
        "from sklearn.model_selection import train_test_split\n",
        "from keras.layers import Conv3D, MaxPooling3D, Conv2D, BatchNormalization, Activation, Flatten, Dense, Dropout, LSTM, Input, TimeDistributed, Permute, Reshape, MaxPooling2D, GRU\n",
        "from keras import initializers, Model, optimizers, callbacks\n",
        "from keras import Sequential\n",
        "from keras import backend as K\n",
        "from keras.models import load_model\n",
        "from keras.callbacks import Callback\n",
        "from sklearn.preprocessing import OneHotEncoder, StandardScaler\n",
        "from sklearn.metrics import confusion_matrix, f1_score, precision_score, recall_score"
      ],
      "metadata": {
        "id": "2gXQ7pXTIqqT"
      },
      "execution_count": 191,
      "outputs": []
    },
    {
      "cell_type": "markdown",
      "source": [
        "### Load Data \n",
        "\n",
        "Load preprocessed data from Google Drive"
      ],
      "metadata": {
        "id": "5Fl4uJtrAqU0"
      }
    },
    {
      "cell_type": "code",
      "source": [
        "from google.colab import drive\n",
        "drive.mount('/content/drive')"
      ],
      "metadata": {
        "id": "Scu17GL9A7i5",
        "colab": {
          "base_uri": "https://localhost:8080/",
          "height": 0
        },
        "outputId": "e86e2fdb-edf5-479e-d159-38472d1a6fbc"
      },
      "execution_count": 192,
      "outputs": [
        {
          "output_type": "stream",
          "name": "stdout",
          "text": [
            "Drive already mounted at /content/drive; to attempt to forcibly remount, call drive.mount(\"/content/drive\", force_remount=True).\n"
          ]
        }
      ]
    },
    {
      "cell_type": "code",
      "source": [
        "X_test = np.load(\"/content/drive/MyDrive/eeg_project/X_test.npy\")\n",
        "y_test = np.load(\"/content/drive/MyDrive/eeg_project/y_test.npy\")\n",
        "person_train_valid = np.load(\"/content/drive/MyDrive/eeg_project/person_train_valid.npy\")\n",
        "X_train_valid = np.load(\"/content/drive/MyDrive/eeg_project/X_train_valid.npy\")\n",
        "y_train_valid = np.load(\"/content/drive/MyDrive/eeg_project/y_train_valid.npy\")\n",
        "person_test = np.load(\"/content/drive/MyDrive/eeg_project/person_test.npy\")"
      ],
      "metadata": {
        "id": "foTd2q3JIreb"
      },
      "execution_count": 193,
      "outputs": []
    },
    {
      "cell_type": "markdown",
      "source": [
        "Observing some basic characteristics about the data, like shape and output classes"
      ],
      "metadata": {
        "id": "y_akRtg--v6z"
      }
    },
    {
      "cell_type": "code",
      "source": [
        "print ('Training/Valid data shape: {}'.format(X_train_valid.shape))\n",
        "print ('Test data shape: {}'.format(X_test.shape))\n",
        "print ('Training/Valid target shape: {}'.format(y_train_valid.shape))\n",
        "print ('Test target shape: {}'.format(y_test.shape))\n",
        "print ('Person train/valid shape: {}'.format(person_train_valid.shape))\n",
        "print ('Person test shape: {}'.format(person_test.shape))\n"
      ],
      "metadata": {
        "id": "g6VAQSVEUtIW",
        "colab": {
          "base_uri": "https://localhost:8080/",
          "height": 0
        },
        "outputId": "119dcbb8-7646-4410-8b35-b8f1e5019c92"
      },
      "execution_count": 194,
      "outputs": [
        {
          "output_type": "stream",
          "name": "stdout",
          "text": [
            "Training/Valid data shape: (2115, 22, 1000)\n",
            "Test data shape: (443, 22, 1000)\n",
            "Training/Valid target shape: (2115,)\n",
            "Test target shape: (443,)\n",
            "Person train/valid shape: (2115, 1)\n",
            "Person test shape: (443, 1)\n"
          ]
        }
      ]
    },
    {
      "cell_type": "code",
      "source": [
        "print(np.unique(y_train_valid))\n",
        "print(np.unique(y_test))"
      ],
      "metadata": {
        "colab": {
          "base_uri": "https://localhost:8080/",
          "height": 0
        },
        "id": "bhxR60r5IzuR",
        "outputId": "93c2c4d0-f80b-4747-92a1-cab48817e42e"
      },
      "execution_count": 195,
      "outputs": [
        {
          "output_type": "stream",
          "name": "stdout",
          "text": [
            "[769 770 771 772]\n",
            "[769 770 771 772]\n"
          ]
        }
      ]
    },
    {
      "cell_type": "markdown",
      "source": [
        "Preprocess test data to convert it to classes in range 0-3"
      ],
      "metadata": {
        "id": "OWyid62p-5ml"
      }
    },
    {
      "cell_type": "code",
      "source": [
        "num_classes = 4\n",
        "y_train_valid = y_train_valid-769\n",
        "y_test = y_test-769"
      ],
      "metadata": {
        "id": "U4K1wzmfI4Rb"
      },
      "execution_count": 196,
      "outputs": []
    },
    {
      "cell_type": "markdown",
      "source": [
        "## Split Data into train and Valid"
      ],
      "metadata": {
        "id": "L4tuh59BQ-FV"
      }
    },
    {
      "cell_type": "code",
      "source": [
        "X_train, X_valid, y_train, y_valid = train_test_split(X_train_valid, y_train_valid, test_size=0.2, random_state=42)"
      ],
      "metadata": {
        "id": "6xo7RhdpRBPx"
      },
      "execution_count": 197,
      "outputs": []
    },
    {
      "cell_type": "code",
      "source": [
        "print ('Training data shape: {}'.format(X_train.shape))\n",
        "print ('Valid data shape: {}'.format(X_valid.shape))\n",
        "print ('Training target shape: {}'.format(y_train.shape))\n",
        "print ('Valid target shape: {}'.format(y_valid.shape))"
      ],
      "metadata": {
        "colab": {
          "base_uri": "https://localhost:8080/",
          "height": 0
        },
        "id": "McUbRkeARWXE",
        "outputId": "658f8205-d9b1-4a85-ede1-d6c3397b9175"
      },
      "execution_count": 198,
      "outputs": [
        {
          "output_type": "stream",
          "name": "stdout",
          "text": [
            "Training data shape: (1692, 22, 1000)\n",
            "Valid data shape: (423, 22, 1000)\n",
            "Training target shape: (1692,)\n",
            "Valid target shape: (423,)\n"
          ]
        }
      ]
    },
    {
      "cell_type": "markdown",
      "source": [
        "#Data Preprocessing and Augmentation\n",
        "Here we perform data preprocessing by first trimming the data down and reducing the number of time stamps through a combination of epoch extraction (discarding last 500 samples) and max pool to reduce it from 1000 to 250 time stamps.\n",
        "We also subsampling of the data, and add in some noise to enhance the size of the training dataset"
      ],
      "metadata": {
        "id": "5sZF8fDf_CzI"
      }
    },
    {
      "cell_type": "code",
      "source": [
        "def data_prep(X,y,sub_sample,average,noise):\n",
        "    \n",
        "    total_X = None\n",
        "    total_y = None\n",
        "    \n",
        "    # Trimming the data (sample,22,1000) -> (sample,22,500)\n",
        "    X = X[:,:,0:500]\n",
        "    print('Shape of X after trimming:',X.shape)\n",
        "    \n",
        "    # Maxpooling the data (sample,22,1000) -> (sample,22,500/sub_sample)\n",
        "    X_max = np.max(X.reshape(X.shape[0], X.shape[1], -1, sub_sample), axis=3)\n",
        "    \n",
        "    \n",
        "    total_X = X_max\n",
        "    total_y = y\n",
        "    print('Shape of X after maxpooling:',total_X.shape)\n",
        "    \n",
        "    # Averaging + noise \n",
        "    X_average = np.mean(X.reshape(X.shape[0], X.shape[1], -1, average),axis=3)\n",
        "    X_average = X_average + np.random.normal(0.0, 0.5, X_average.shape)\n",
        "    \n",
        "    total_X = np.vstack((total_X, X_average))\n",
        "    total_y = np.hstack((total_y, y))\n",
        "    print('Shape of X after averaging+noise and concatenating:',total_X.shape)\n",
        "    \n",
        "    # Subsampling\n",
        "    \n",
        "    for i in range(sub_sample):\n",
        "        \n",
        "        X_subsample = X[:, :, i::sub_sample] + \\\n",
        "                            (np.random.normal(0.0, 0.5, X[:, :,i::sub_sample].shape) if noise else 0.0)\n",
        "            \n",
        "        total_X = np.vstack((total_X, X_subsample))\n",
        "        total_y = np.hstack((total_y, y))\n",
        "        \n",
        "    \n",
        "    print('Shape of X after subsampling and concatenating:',total_X.shape)\n",
        "    return total_X,total_y\n",
        "\n",
        "\n",
        "X_train_prep,y_train_prep= data_prep(X_train,y_train,2,2,True)\n"
      ],
      "metadata": {
        "colab": {
          "base_uri": "https://localhost:8080/",
          "height": 0
        },
        "id": "0-ubjiWDpR_W",
        "outputId": "d42b50d8-1a72-441b-8ebf-03e614575735"
      },
      "execution_count": 199,
      "outputs": [
        {
          "output_type": "stream",
          "name": "stdout",
          "text": [
            "Shape of X after trimming: (1692, 22, 500)\n",
            "Shape of X after maxpooling: (1692, 22, 250)\n",
            "Shape of X after averaging+noise and concatenating: (3384, 22, 250)\n",
            "Shape of X after subsampling and concatenating: (6768, 22, 250)\n"
          ]
        }
      ]
    },
    {
      "cell_type": "code",
      "source": [
        "def data_prep_test(X,y, sub_sample=2):\n",
        "    \n",
        "    total_X = None\n",
        "    total_y = None\n",
        "    \n",
        "    # Trimming the data (sample,22,1000) -> (sample,22,500)\n",
        "    X = X[:,:,0:500]\n",
        "    print('Shape of X after trimming:',X.shape)\n",
        "    \n",
        "    # Maxpooling the data (sample,22,1000) -> (sample,22,500/sub_sample)\n",
        "    X_max = np.max(X.reshape(X.shape[0], X.shape[1], -1, sub_sample), axis=3)\n",
        "    \n",
        "    \n",
        "    total_X = X_max\n",
        "    total_y = y\n",
        "    print('Shape of X after maxpooling:',total_X.shape)\n",
        "    return total_X,total_y\n",
        "\n",
        "\n",
        "X_test,y_test = data_prep_test(X_test, y_test,2)\n"
      ],
      "metadata": {
        "colab": {
          "base_uri": "https://localhost:8080/",
          "height": 0
        },
        "id": "IhtalewhtI6R",
        "outputId": "c7d46255-78df-441c-99f1-4f180d03ffc5"
      },
      "execution_count": 200,
      "outputs": [
        {
          "output_type": "stream",
          "name": "stdout",
          "text": [
            "Shape of X after trimming: (443, 22, 500)\n",
            "Shape of X after maxpooling: (443, 22, 250)\n"
          ]
        }
      ]
    },
    {
      "cell_type": "code",
      "source": [
        "X_valid_prep,y_valid_prep = data_prep_test(X_valid, y_valid,2)\n"
      ],
      "metadata": {
        "colab": {
          "base_uri": "https://localhost:8080/",
          "height": 0
        },
        "id": "tu4DoAKFRsip",
        "outputId": "e3b413b4-8d28-45aa-92a6-cc0667496662"
      },
      "execution_count": 201,
      "outputs": [
        {
          "output_type": "stream",
          "name": "stdout",
          "text": [
            "Shape of X after trimming: (423, 22, 500)\n",
            "Shape of X after maxpooling: (423, 22, 250)\n"
          ]
        }
      ]
    },
    {
      "cell_type": "markdown",
      "source": [
        "#Creating Spatial Mesh\n",
        "We now convert the 2D set of time stamps (22x250) to a 3D 6x7 mesh (6x7x250) to model the relative proximity of the location of the electrodes on the scalp\n"
      ],
      "metadata": {
        "id": "UQd2xrA-_t_L"
      }
    },
    {
      "cell_type": "code",
      "source": [
        "def spatial_prep(X):\n",
        "  X = np.swapaxes(X, 0, 1)\n",
        "\n",
        "  sh = (X.shape[1],X.shape[2])\n",
        "  new_X = np.array([[np.zeros(sh), np.zeros(sh), np.zeros(sh), X[0,:,:], np.zeros(sh), np.zeros(sh), np.zeros(sh)],\n",
        "                [np.zeros(sh), X[1,:,:], X[2,:,:], X[3,:,:], X[4,:,:], X[5,:,:], np.zeros(sh)],\n",
        "                [X[6,:,:],X[7,:,:],X[8,:,:],X[9,:,:],X[10,:,:],X[11,:,:],X[12,:,:]],\n",
        "                [np.zeros(sh), X[13,:,:],X[14,:,:],X[15,:,:],X[16,:,:],X[17,:,:], np.zeros(sh)],\n",
        "                [np.zeros(sh), np.zeros(sh), X[18,:,:],X[19,:,:],X[20,:,:], np.zeros(sh), np.zeros(sh)],\n",
        "                [np.zeros(sh), np.zeros(sh), np.zeros(sh), X[21,:,:], np.zeros(sh), np.zeros(sh), np.zeros(sh)]])\n",
        "\n",
        "  \n",
        "  new_X = np.swapaxes(new_X, 0,2)\n",
        "  new_X = np.swapaxes(new_X, 1,2)\n",
        "  return new_X"
      ],
      "metadata": {
        "id": "-u8tro1jwuon"
      },
      "execution_count": 202,
      "outputs": []
    },
    {
      "cell_type": "code",
      "source": [
        "X_spatial_train = spatial_prep(X_train_prep)"
      ],
      "metadata": {
        "id": "flRuB5gPygqF"
      },
      "execution_count": 203,
      "outputs": []
    },
    {
      "cell_type": "code",
      "source": [
        "X_spatial_val = spatial_prep(X_valid_prep)"
      ],
      "metadata": {
        "id": "fLMcU9RzwFT-"
      },
      "execution_count": 204,
      "outputs": []
    },
    {
      "cell_type": "code",
      "source": [
        "X_spatial_test = spatial_prep(X_test)"
      ],
      "metadata": {
        "id": "spWmKQWT3qd1"
      },
      "execution_count": 205,
      "outputs": []
    },
    {
      "cell_type": "code",
      "source": [
        "print(X_spatial_train.shape, X_spatial_val.shape, X_spatial_test.shape)"
      ],
      "metadata": {
        "colab": {
          "base_uri": "https://localhost:8080/",
          "height": 0
        },
        "id": "l3rD3lYUyumZ",
        "outputId": "876d92dc-5cf5-4443-d712-7bfd76eab5d9"
      },
      "execution_count": 206,
      "outputs": [
        {
          "output_type": "stream",
          "name": "stdout",
          "text": [
            "(6768, 6, 7, 250) (423, 6, 7, 250) (443, 6, 7, 250)\n"
          ]
        }
      ]
    },
    {
      "cell_type": "markdown",
      "source": [
        "We now convert the labels to one hot encoded vectors"
      ],
      "metadata": {
        "id": "0Qu-37c5AIaj"
      }
    },
    {
      "cell_type": "code",
      "source": [
        "\n",
        "y_train_prep = keras.utils.to_categorical(y_train_prep, num_classes)\n",
        "y_valid_prep = keras.utils.to_categorical(y_valid_prep, num_classes)\n",
        "y_test = keras.utils.to_categorical(y_test, num_classes)"
      ],
      "metadata": {
        "id": "NZWq7ZCFq5z9"
      },
      "execution_count": 207,
      "outputs": []
    },
    {
      "cell_type": "code",
      "source": [
        "print(X_train_prep.shape,y_train_prep.shape, X_spatial_train.shape)\n",
        "print(X_valid_prep.shape,y_valid_prep.shape, X_spatial_val.shape)\n",
        "print(X_test.shape, y_test.shape, X_spatial_test.shape)"
      ],
      "metadata": {
        "colab": {
          "base_uri": "https://localhost:8080/",
          "height": 0
        },
        "id": "YFZfw6CuqeBs",
        "outputId": "271490ab-8e62-4a42-c6ea-3c144568d52c"
      },
      "execution_count": 208,
      "outputs": [
        {
          "output_type": "stream",
          "name": "stdout",
          "text": [
            "(6768, 22, 250) (6768, 4) (6768, 6, 7, 250)\n",
            "(423, 22, 250) (423, 4) (423, 6, 7, 250)\n",
            "(443, 22, 250) (443, 4) (443, 6, 7, 250)\n"
          ]
        }
      ]
    },
    {
      "cell_type": "markdown",
      "source": [
        "To streamline the input into the model, we also swap the axis of the input data to make the 3D convolution of the mesh easier"
      ],
      "metadata": {
        "id": "skmL_YwRAYjE"
      }
    },
    {
      "cell_type": "code",
      "source": [
        "X_spatial_train = np.swapaxes(X_spatial_train , 1,3)\n",
        "X_spatial_train = np.swapaxes(X_spatial_train , 2,3)\n",
        "X_spatial_val = np.swapaxes(X_spatial_val , 1,3)\n",
        "X_spatial_val = np.swapaxes(X_spatial_val , 2,3)\n",
        "X_spatial_test  = np.swapaxes(X_spatial_test , 1,3)\n",
        "X_spatial_test = np.swapaxes(X_spatial_test , 2,3)"
      ],
      "metadata": {
        "id": "b3_pN5eAY1bg"
      },
      "execution_count": 209,
      "outputs": []
    },
    {
      "cell_type": "code",
      "source": [
        "print(X_train_prep.shape,y_train_prep.shape, X_spatial_train.shape)\n",
        "print(X_valid_prep.shape,y_valid_prep.shape, X_spatial_val.shape)\n",
        "print(X_test.shape, y_test.shape, X_spatial_test.shape)"
      ],
      "metadata": {
        "colab": {
          "base_uri": "https://localhost:8080/",
          "height": 0
        },
        "id": "1MC6IQn7YEF-",
        "outputId": "3085b6cb-207d-4ea3-b357-464d6eb29a05"
      },
      "execution_count": 210,
      "outputs": [
        {
          "output_type": "stream",
          "name": "stdout",
          "text": [
            "(6768, 22, 250) (6768, 4) (6768, 250, 6, 7)\n",
            "(423, 22, 250) (423, 4) (423, 250, 6, 7)\n",
            "(443, 22, 250) (443, 4) (443, 250, 6, 7)\n"
          ]
        }
      ]
    },
    {
      "cell_type": "markdown",
      "source": [
        "## 3D conv + GRU with all subjects\n",
        "\n",
        "We now define the model architecture to be used for the task, and subsequently train it and test its accuracy. We also use this section to perform hyperparamater tuning and architecture selection to arrive that the model that performs best on this task."
      ],
      "metadata": {
        "id": "IxgOEM-3WIPG"
      }
    },
    {
      "cell_type": "code",
      "source": [
        "lecun = initializers.lecun_normal(seed=42)\n",
        "\n",
        "model = Sequential()\n",
        "\n",
        "model.add(Reshape((250, 6, 7, 1), input_shape = (250,6,7)))\n",
        "\n",
        "model.add(Conv3D(filters=25, kernel_size=(10,1,1), kernel_initializer = lecun, strides=1, data_format=\"channels_last\"))\n",
        "model.add(Conv3D(filters=25, kernel_size=(1,6,7), kernel_initializer = lecun ))\n",
        "model.add(BatchNormalization())\n",
        "model.add(Activation(activation = 'elu'))\n",
        "model.add(MaxPooling3D(pool_size = (3,1,1), strides = (3,1,1)))\n",
        "model.add(Dropout(0.5))\n",
        "\n",
        "# Conv Pool Block 2\n",
        "model.add(Conv3D(filters = 50, kernel_size = (10,1,1), activation = 'elu', kernel_initializer = lecun))\n",
        "model.add(BatchNormalization())\n",
        "model.add(Activation(activation = 'elu'))\n",
        "model.add(MaxPooling3D(pool_size = (3,1,1), strides = (3,1,1)))\n",
        "model.add(Dropout(0.5))\n",
        "\n",
        "model.add(Permute((1, 4, 3, 2)))\n",
        "model.add(Reshape((23, 50)))\n",
        "\n",
        "# GRU layers\n",
        "model.add(GRU(16, return_sequences=True))\n",
        "model.add(GRU(16, return_sequences=True))\n",
        "model.add(Dropout(0.5))\n",
        "\n",
        "# Dense layers\n",
        "model.add(Flatten())\n",
        "model.add(Dense(units=4, activation='softmax'))\n",
        "\n",
        "model.compile(loss='categorical_crossentropy',\n",
        "              optimizer='adam',\n",
        "              metrics=['accuracy'])\n",
        "\n",
        "print(model.summary())"
      ],
      "metadata": {
        "colab": {
          "base_uri": "https://localhost:8080/",
          "height": 0
        },
        "id": "BSm44W_mWdxt",
        "outputId": "a3036876-9b6c-4b70-ca90-6eb6a323008a"
      },
      "execution_count": 264,
      "outputs": [
        {
          "output_type": "stream",
          "name": "stdout",
          "text": [
            "Model: \"sequential_11\"\n",
            "_________________________________________________________________\n",
            " Layer (type)                Output Shape              Param #   \n",
            "=================================================================\n",
            " reshape_22 (Reshape)        (None, 250, 6, 7, 1)      0         \n",
            "                                                                 \n",
            " conv3d_33 (Conv3D)          (None, 241, 6, 7, 25)     275       \n",
            "                                                                 \n",
            " conv3d_34 (Conv3D)          (None, 241, 1, 1, 25)     26275     \n",
            "                                                                 \n",
            " batch_normalization_22 (Bat  (None, 241, 1, 1, 25)    100       \n",
            " chNormalization)                                                \n",
            "                                                                 \n",
            " activation_22 (Activation)  (None, 241, 1, 1, 25)     0         \n",
            "                                                                 \n",
            " max_pooling3d_22 (MaxPoolin  (None, 80, 1, 1, 25)     0         \n",
            " g3D)                                                            \n",
            "                                                                 \n",
            " dropout_33 (Dropout)        (None, 80, 1, 1, 25)      0         \n",
            "                                                                 \n",
            " conv3d_35 (Conv3D)          (None, 71, 1, 1, 50)      12550     \n",
            "                                                                 \n",
            " batch_normalization_23 (Bat  (None, 71, 1, 1, 50)     200       \n",
            " chNormalization)                                                \n",
            "                                                                 \n",
            " activation_23 (Activation)  (None, 71, 1, 1, 50)      0         \n",
            "                                                                 \n",
            " max_pooling3d_23 (MaxPoolin  (None, 23, 1, 1, 50)     0         \n",
            " g3D)                                                            \n",
            "                                                                 \n",
            " dropout_34 (Dropout)        (None, 23, 1, 1, 50)      0         \n",
            "                                                                 \n",
            " permute_11 (Permute)        (None, 23, 50, 1, 1)      0         \n",
            "                                                                 \n",
            " reshape_23 (Reshape)        (None, 23, 50)            0         \n",
            "                                                                 \n",
            " gru_22 (GRU)                (None, 23, 16)            3264      \n",
            "                                                                 \n",
            " gru_23 (GRU)                (None, 23, 16)            1632      \n",
            "                                                                 \n",
            " dropout_35 (Dropout)        (None, 23, 16)            0         \n",
            "                                                                 \n",
            " flatten_11 (Flatten)        (None, 368)               0         \n",
            "                                                                 \n",
            " dense_11 (Dense)            (None, 4)                 1476      \n",
            "                                                                 \n",
            "=================================================================\n",
            "Total params: 45,772\n",
            "Trainable params: 45,622\n",
            "Non-trainable params: 150\n",
            "_________________________________________________________________\n",
            "None\n"
          ]
        }
      ]
    },
    {
      "cell_type": "code",
      "source": [
        "model.compile(loss='categorical_crossentropy', optimizer='adam', metrics=['acc'])\n",
        "history = model.fit(X_spatial_train, y_train_prep, batch_size=64, epochs=200,\n",
        "                    validation_data=(X_spatial_val, y_valid_prep))"
      ],
      "metadata": {
        "colab": {
          "base_uri": "https://localhost:8080/",
          "height": 0
        },
        "id": "vQNJ4-8OXRB0",
        "outputId": "7b2f2431-b012-4a5b-8908-7c9dd5eb7bea"
      },
      "execution_count": 212,
      "outputs": [
        {
          "output_type": "stream",
          "name": "stdout",
          "text": [
            "Epoch 1/200\n",
            "106/106 [==============================] - 109s 26ms/step - loss: 1.4067 - acc: 0.2881 - val_loss: 1.3143 - val_acc: 0.3664\n",
            "Epoch 2/200\n",
            "106/106 [==============================] - 1s 14ms/step - loss: 1.2927 - acc: 0.3907 - val_loss: 1.2531 - val_acc: 0.4161\n",
            "Epoch 3/200\n",
            "106/106 [==============================] - 1s 14ms/step - loss: 1.2260 - acc: 0.4350 - val_loss: 1.2264 - val_acc: 0.4468\n",
            "Epoch 4/200\n",
            "106/106 [==============================] - 1s 14ms/step - loss: 1.1860 - acc: 0.4638 - val_loss: 1.1838 - val_acc: 0.4610\n",
            "Epoch 5/200\n",
            "106/106 [==============================] - 1s 14ms/step - loss: 1.1305 - acc: 0.5163 - val_loss: 1.1844 - val_acc: 0.4941\n",
            "Epoch 6/200\n",
            "106/106 [==============================] - 1s 14ms/step - loss: 1.0809 - acc: 0.5312 - val_loss: 1.0873 - val_acc: 0.5437\n",
            "Epoch 7/200\n",
            "106/106 [==============================] - 1s 14ms/step - loss: 1.0366 - acc: 0.5669 - val_loss: 1.0691 - val_acc: 0.5366\n",
            "Epoch 8/200\n",
            "106/106 [==============================] - 1s 14ms/step - loss: 0.9885 - acc: 0.5959 - val_loss: 1.0509 - val_acc: 0.5674\n",
            "Epoch 9/200\n",
            "106/106 [==============================] - 1s 14ms/step - loss: 0.9719 - acc: 0.6015 - val_loss: 1.0324 - val_acc: 0.5792\n",
            "Epoch 10/200\n",
            "106/106 [==============================] - 1s 14ms/step - loss: 0.9439 - acc: 0.6139 - val_loss: 1.0206 - val_acc: 0.5887\n",
            "Epoch 11/200\n",
            "106/106 [==============================] - 1s 14ms/step - loss: 0.9181 - acc: 0.6281 - val_loss: 0.9859 - val_acc: 0.5910\n",
            "Epoch 12/200\n",
            "106/106 [==============================] - 1s 14ms/step - loss: 0.9112 - acc: 0.6287 - val_loss: 0.9564 - val_acc: 0.6099\n",
            "Epoch 13/200\n",
            "106/106 [==============================] - 1s 14ms/step - loss: 0.8824 - acc: 0.6469 - val_loss: 0.9582 - val_acc: 0.6076\n",
            "Epoch 14/200\n",
            "106/106 [==============================] - 1s 14ms/step - loss: 0.8635 - acc: 0.6525 - val_loss: 0.9414 - val_acc: 0.6265\n",
            "Epoch 15/200\n",
            "106/106 [==============================] - 1s 14ms/step - loss: 0.8494 - acc: 0.6616 - val_loss: 0.9806 - val_acc: 0.6076\n",
            "Epoch 16/200\n",
            "106/106 [==============================] - 1s 14ms/step - loss: 0.8271 - acc: 0.6761 - val_loss: 0.9307 - val_acc: 0.6241\n",
            "Epoch 17/200\n",
            "106/106 [==============================] - 1s 14ms/step - loss: 0.8140 - acc: 0.6748 - val_loss: 1.0134 - val_acc: 0.6170\n",
            "Epoch 18/200\n",
            "106/106 [==============================] - 1s 14ms/step - loss: 0.7832 - acc: 0.6956 - val_loss: 0.8662 - val_acc: 0.6501\n",
            "Epoch 19/200\n",
            "106/106 [==============================] - 1s 14ms/step - loss: 0.7911 - acc: 0.6868 - val_loss: 0.8876 - val_acc: 0.6501\n",
            "Epoch 20/200\n",
            "106/106 [==============================] - 1s 14ms/step - loss: 0.7600 - acc: 0.6999 - val_loss: 0.9028 - val_acc: 0.6525\n",
            "Epoch 21/200\n",
            "106/106 [==============================] - 1s 14ms/step - loss: 0.7348 - acc: 0.7058 - val_loss: 0.8593 - val_acc: 0.6714\n",
            "Epoch 22/200\n",
            "106/106 [==============================] - 1s 14ms/step - loss: 0.7236 - acc: 0.7162 - val_loss: 0.8587 - val_acc: 0.6619\n",
            "Epoch 23/200\n",
            "106/106 [==============================] - 1s 14ms/step - loss: 0.7209 - acc: 0.7156 - val_loss: 0.8853 - val_acc: 0.6501\n",
            "Epoch 24/200\n",
            "106/106 [==============================] - 1s 14ms/step - loss: 0.6950 - acc: 0.7277 - val_loss: 0.8439 - val_acc: 0.6738\n",
            "Epoch 25/200\n",
            "106/106 [==============================] - 1s 14ms/step - loss: 0.6890 - acc: 0.7299 - val_loss: 0.8753 - val_acc: 0.6572\n",
            "Epoch 26/200\n",
            "106/106 [==============================] - 1s 14ms/step - loss: 0.6754 - acc: 0.7364 - val_loss: 0.8755 - val_acc: 0.6596\n",
            "Epoch 27/200\n",
            "106/106 [==============================] - 1s 14ms/step - loss: 0.6718 - acc: 0.7401 - val_loss: 0.8408 - val_acc: 0.6738\n",
            "Epoch 28/200\n",
            "106/106 [==============================] - 1s 14ms/step - loss: 0.6665 - acc: 0.7395 - val_loss: 0.8139 - val_acc: 0.7045\n",
            "Epoch 29/200\n",
            "106/106 [==============================] - 1s 14ms/step - loss: 0.6460 - acc: 0.7530 - val_loss: 0.8306 - val_acc: 0.6809\n",
            "Epoch 30/200\n",
            "106/106 [==============================] - 1s 14ms/step - loss: 0.6454 - acc: 0.7510 - val_loss: 0.8327 - val_acc: 0.6856\n",
            "Epoch 31/200\n",
            "106/106 [==============================] - 1s 14ms/step - loss: 0.6320 - acc: 0.7572 - val_loss: 0.8394 - val_acc: 0.6856\n",
            "Epoch 32/200\n",
            "106/106 [==============================] - 1s 14ms/step - loss: 0.6261 - acc: 0.7586 - val_loss: 0.8069 - val_acc: 0.6879\n",
            "Epoch 33/200\n",
            "106/106 [==============================] - 1s 14ms/step - loss: 0.6174 - acc: 0.7621 - val_loss: 0.8576 - val_acc: 0.6761\n",
            "Epoch 34/200\n",
            "106/106 [==============================] - 1s 14ms/step - loss: 0.6077 - acc: 0.7630 - val_loss: 0.8438 - val_acc: 0.7069\n",
            "Epoch 35/200\n",
            "106/106 [==============================] - 1s 14ms/step - loss: 0.6050 - acc: 0.7646 - val_loss: 0.8845 - val_acc: 0.6690\n",
            "Epoch 36/200\n",
            "106/106 [==============================] - 1s 14ms/step - loss: 0.6039 - acc: 0.7683 - val_loss: 0.8360 - val_acc: 0.6832\n",
            "Epoch 37/200\n",
            "106/106 [==============================] - 1s 14ms/step - loss: 0.5812 - acc: 0.7757 - val_loss: 0.8683 - val_acc: 0.6879\n",
            "Epoch 38/200\n",
            "106/106 [==============================] - 1s 14ms/step - loss: 0.5791 - acc: 0.7803 - val_loss: 0.8969 - val_acc: 0.6525\n",
            "Epoch 39/200\n",
            "106/106 [==============================] - 1s 14ms/step - loss: 0.5828 - acc: 0.7750 - val_loss: 0.8421 - val_acc: 0.6809\n",
            "Epoch 40/200\n",
            "106/106 [==============================] - 1s 14ms/step - loss: 0.5587 - acc: 0.7855 - val_loss: 0.8240 - val_acc: 0.6927\n",
            "Epoch 41/200\n",
            "106/106 [==============================] - 1s 14ms/step - loss: 0.5685 - acc: 0.7877 - val_loss: 0.8051 - val_acc: 0.6998\n",
            "Epoch 42/200\n",
            "106/106 [==============================] - 1s 14ms/step - loss: 0.5543 - acc: 0.7853 - val_loss: 0.9168 - val_acc: 0.6619\n",
            "Epoch 43/200\n",
            "106/106 [==============================] - 1s 14ms/step - loss: 0.5569 - acc: 0.7844 - val_loss: 0.8706 - val_acc: 0.6785\n",
            "Epoch 44/200\n",
            "106/106 [==============================] - 1s 14ms/step - loss: 0.5594 - acc: 0.7840 - val_loss: 0.8214 - val_acc: 0.7045\n",
            "Epoch 45/200\n",
            "106/106 [==============================] - 1s 14ms/step - loss: 0.5367 - acc: 0.7940 - val_loss: 0.8973 - val_acc: 0.6572\n",
            "Epoch 46/200\n",
            "106/106 [==============================] - 1s 14ms/step - loss: 0.5281 - acc: 0.8007 - val_loss: 0.8510 - val_acc: 0.6761\n",
            "Epoch 47/200\n",
            "106/106 [==============================] - 1s 14ms/step - loss: 0.5270 - acc: 0.7934 - val_loss: 0.7848 - val_acc: 0.6974\n",
            "Epoch 48/200\n",
            "106/106 [==============================] - 1s 14ms/step - loss: 0.5147 - acc: 0.8045 - val_loss: 0.8131 - val_acc: 0.7069\n",
            "Epoch 49/200\n",
            "106/106 [==============================] - 1s 14ms/step - loss: 0.5154 - acc: 0.8022 - val_loss: 0.8434 - val_acc: 0.6643\n",
            "Epoch 50/200\n",
            "106/106 [==============================] - 1s 14ms/step - loss: 0.5061 - acc: 0.8097 - val_loss: 0.8365 - val_acc: 0.6974\n",
            "Epoch 51/200\n",
            "106/106 [==============================] - 1s 14ms/step - loss: 0.4978 - acc: 0.8076 - val_loss: 0.8364 - val_acc: 0.6903\n",
            "Epoch 52/200\n",
            "106/106 [==============================] - 1s 14ms/step - loss: 0.4973 - acc: 0.8076 - val_loss: 0.8068 - val_acc: 0.6903\n",
            "Epoch 53/200\n",
            "106/106 [==============================] - 1s 14ms/step - loss: 0.4963 - acc: 0.8059 - val_loss: 0.8457 - val_acc: 0.6785\n",
            "Epoch 54/200\n",
            "106/106 [==============================] - 1s 14ms/step - loss: 0.4850 - acc: 0.8180 - val_loss: 0.9106 - val_acc: 0.6761\n",
            "Epoch 55/200\n",
            "106/106 [==============================] - 1s 14ms/step - loss: 0.4804 - acc: 0.8118 - val_loss: 0.8266 - val_acc: 0.7021\n",
            "Epoch 56/200\n",
            "106/106 [==============================] - 1s 14ms/step - loss: 0.4726 - acc: 0.8178 - val_loss: 0.8337 - val_acc: 0.6974\n",
            "Epoch 57/200\n",
            "106/106 [==============================] - 1s 14ms/step - loss: 0.4699 - acc: 0.8205 - val_loss: 0.8682 - val_acc: 0.6832\n",
            "Epoch 58/200\n",
            "106/106 [==============================] - 1s 14ms/step - loss: 0.4702 - acc: 0.8257 - val_loss: 0.8747 - val_acc: 0.6903\n",
            "Epoch 59/200\n",
            "106/106 [==============================] - 1s 14ms/step - loss: 0.4681 - acc: 0.8187 - val_loss: 0.8801 - val_acc: 0.6832\n",
            "Epoch 60/200\n",
            "106/106 [==============================] - 2s 14ms/step - loss: 0.4703 - acc: 0.8215 - val_loss: 0.8702 - val_acc: 0.6738\n",
            "Epoch 61/200\n",
            "106/106 [==============================] - 1s 14ms/step - loss: 0.4636 - acc: 0.8243 - val_loss: 0.8522 - val_acc: 0.6761\n",
            "Epoch 62/200\n",
            "106/106 [==============================] - 2s 14ms/step - loss: 0.4538 - acc: 0.8248 - val_loss: 0.8093 - val_acc: 0.6998\n",
            "Epoch 63/200\n",
            "106/106 [==============================] - 1s 14ms/step - loss: 0.4501 - acc: 0.8323 - val_loss: 0.8177 - val_acc: 0.7092\n",
            "Epoch 64/200\n",
            "106/106 [==============================] - 1s 14ms/step - loss: 0.4498 - acc: 0.8296 - val_loss: 0.8859 - val_acc: 0.6596\n",
            "Epoch 65/200\n",
            "106/106 [==============================] - 2s 14ms/step - loss: 0.4483 - acc: 0.8324 - val_loss: 0.8373 - val_acc: 0.7045\n",
            "Epoch 66/200\n",
            "106/106 [==============================] - 1s 14ms/step - loss: 0.4595 - acc: 0.8249 - val_loss: 0.8078 - val_acc: 0.7258\n",
            "Epoch 67/200\n",
            "106/106 [==============================] - 1s 14ms/step - loss: 0.4327 - acc: 0.8350 - val_loss: 0.8256 - val_acc: 0.7163\n",
            "Epoch 68/200\n",
            "106/106 [==============================] - 2s 14ms/step - loss: 0.4323 - acc: 0.8332 - val_loss: 0.8305 - val_acc: 0.7092\n",
            "Epoch 69/200\n",
            "106/106 [==============================] - 1s 14ms/step - loss: 0.4272 - acc: 0.8395 - val_loss: 0.8456 - val_acc: 0.7069\n",
            "Epoch 70/200\n",
            "106/106 [==============================] - 1s 14ms/step - loss: 0.4291 - acc: 0.8413 - val_loss: 0.9597 - val_acc: 0.6619\n",
            "Epoch 71/200\n",
            "106/106 [==============================] - 1s 14ms/step - loss: 0.4245 - acc: 0.8395 - val_loss: 0.8532 - val_acc: 0.6927\n",
            "Epoch 72/200\n",
            "106/106 [==============================] - 1s 14ms/step - loss: 0.4235 - acc: 0.8387 - val_loss: 0.9013 - val_acc: 0.6832\n",
            "Epoch 73/200\n",
            "106/106 [==============================] - 1s 14ms/step - loss: 0.4371 - acc: 0.8289 - val_loss: 0.9320 - val_acc: 0.6643\n",
            "Epoch 74/200\n",
            "106/106 [==============================] - 1s 14ms/step - loss: 0.4197 - acc: 0.8409 - val_loss: 0.8781 - val_acc: 0.6856\n",
            "Epoch 75/200\n",
            "106/106 [==============================] - 1s 14ms/step - loss: 0.4098 - acc: 0.8426 - val_loss: 0.8743 - val_acc: 0.6785\n",
            "Epoch 76/200\n",
            "106/106 [==============================] - 1s 14ms/step - loss: 0.3992 - acc: 0.8500 - val_loss: 0.8777 - val_acc: 0.6785\n",
            "Epoch 77/200\n",
            "106/106 [==============================] - 1s 14ms/step - loss: 0.4192 - acc: 0.8378 - val_loss: 0.8593 - val_acc: 0.7021\n",
            "Epoch 78/200\n",
            "106/106 [==============================] - 1s 14ms/step - loss: 0.4092 - acc: 0.8465 - val_loss: 0.8469 - val_acc: 0.7045\n",
            "Epoch 79/200\n",
            "106/106 [==============================] - 1s 14ms/step - loss: 0.3967 - acc: 0.8521 - val_loss: 0.9529 - val_acc: 0.6856\n",
            "Epoch 80/200\n",
            "106/106 [==============================] - 1s 14ms/step - loss: 0.4010 - acc: 0.8493 - val_loss: 0.9543 - val_acc: 0.6785\n",
            "Epoch 81/200\n",
            "106/106 [==============================] - 2s 14ms/step - loss: 0.4045 - acc: 0.8454 - val_loss: 0.9447 - val_acc: 0.6785\n",
            "Epoch 82/200\n",
            "106/106 [==============================] - 1s 14ms/step - loss: 0.3926 - acc: 0.8521 - val_loss: 0.9087 - val_acc: 0.6667\n",
            "Epoch 83/200\n",
            "106/106 [==============================] - 1s 14ms/step - loss: 0.4041 - acc: 0.8437 - val_loss: 0.9128 - val_acc: 0.6856\n",
            "Epoch 84/200\n",
            "106/106 [==============================] - 1s 14ms/step - loss: 0.3731 - acc: 0.8546 - val_loss: 0.9511 - val_acc: 0.6619\n",
            "Epoch 85/200\n",
            "106/106 [==============================] - 1s 14ms/step - loss: 0.3975 - acc: 0.8511 - val_loss: 0.9232 - val_acc: 0.6785\n",
            "Epoch 86/200\n",
            "106/106 [==============================] - 1s 14ms/step - loss: 0.3865 - acc: 0.8534 - val_loss: 0.9198 - val_acc: 0.6809\n",
            "Epoch 87/200\n",
            "106/106 [==============================] - 1s 14ms/step - loss: 0.3868 - acc: 0.8518 - val_loss: 0.9279 - val_acc: 0.6927\n",
            "Epoch 88/200\n",
            "106/106 [==============================] - 1s 14ms/step - loss: 0.4094 - acc: 0.8447 - val_loss: 0.9397 - val_acc: 0.6809\n",
            "Epoch 89/200\n",
            "106/106 [==============================] - 1s 14ms/step - loss: 0.3803 - acc: 0.8561 - val_loss: 0.8806 - val_acc: 0.6927\n",
            "Epoch 90/200\n",
            "106/106 [==============================] - 1s 14ms/step - loss: 0.3741 - acc: 0.8589 - val_loss: 0.8488 - val_acc: 0.6974\n",
            "Epoch 91/200\n",
            "106/106 [==============================] - 1s 14ms/step - loss: 0.3857 - acc: 0.8536 - val_loss: 0.8548 - val_acc: 0.6903\n",
            "Epoch 92/200\n",
            "106/106 [==============================] - 1s 14ms/step - loss: 0.3775 - acc: 0.8552 - val_loss: 0.9121 - val_acc: 0.6879\n",
            "Epoch 93/200\n",
            "106/106 [==============================] - 1s 14ms/step - loss: 0.3853 - acc: 0.8536 - val_loss: 0.8939 - val_acc: 0.7045\n",
            "Epoch 94/200\n",
            "106/106 [==============================] - 1s 14ms/step - loss: 0.3804 - acc: 0.8586 - val_loss: 0.9405 - val_acc: 0.6809\n",
            "Epoch 95/200\n",
            "106/106 [==============================] - 1s 14ms/step - loss: 0.3726 - acc: 0.8611 - val_loss: 0.8871 - val_acc: 0.6856\n",
            "Epoch 96/200\n",
            "106/106 [==============================] - 1s 14ms/step - loss: 0.3638 - acc: 0.8630 - val_loss: 0.9509 - val_acc: 0.6974\n",
            "Epoch 97/200\n",
            "106/106 [==============================] - 2s 14ms/step - loss: 0.3687 - acc: 0.8604 - val_loss: 0.9922 - val_acc: 0.6761\n",
            "Epoch 98/200\n",
            "106/106 [==============================] - 1s 14ms/step - loss: 0.3733 - acc: 0.8582 - val_loss: 0.9214 - val_acc: 0.6761\n",
            "Epoch 99/200\n",
            "106/106 [==============================] - 1s 14ms/step - loss: 0.3684 - acc: 0.8605 - val_loss: 0.9724 - val_acc: 0.6714\n",
            "Epoch 100/200\n",
            "106/106 [==============================] - 1s 14ms/step - loss: 0.3639 - acc: 0.8599 - val_loss: 0.9083 - val_acc: 0.6879\n",
            "Epoch 101/200\n",
            "106/106 [==============================] - 1s 14ms/step - loss: 0.3498 - acc: 0.8697 - val_loss: 0.9515 - val_acc: 0.6809\n",
            "Epoch 102/200\n",
            "106/106 [==============================] - 1s 14ms/step - loss: 0.3755 - acc: 0.8559 - val_loss: 0.9426 - val_acc: 0.6761\n",
            "Epoch 103/200\n",
            "106/106 [==============================] - 1s 14ms/step - loss: 0.3488 - acc: 0.8700 - val_loss: 0.9417 - val_acc: 0.6879\n",
            "Epoch 104/200\n",
            "106/106 [==============================] - 1s 14ms/step - loss: 0.3431 - acc: 0.8703 - val_loss: 0.9584 - val_acc: 0.6903\n",
            "Epoch 105/200\n",
            "106/106 [==============================] - 1s 14ms/step - loss: 0.3567 - acc: 0.8601 - val_loss: 0.9331 - val_acc: 0.6903\n",
            "Epoch 106/200\n",
            "106/106 [==============================] - 1s 14ms/step - loss: 0.3608 - acc: 0.8611 - val_loss: 0.9723 - val_acc: 0.6761\n",
            "Epoch 107/200\n",
            "106/106 [==============================] - 1s 14ms/step - loss: 0.3665 - acc: 0.8645 - val_loss: 0.9179 - val_acc: 0.6950\n",
            "Epoch 108/200\n",
            "106/106 [==============================] - 1s 14ms/step - loss: 0.3486 - acc: 0.8706 - val_loss: 0.9209 - val_acc: 0.7045\n",
            "Epoch 109/200\n",
            "106/106 [==============================] - 1s 14ms/step - loss: 0.3607 - acc: 0.8647 - val_loss: 0.9004 - val_acc: 0.6927\n",
            "Epoch 110/200\n",
            "106/106 [==============================] - 1s 14ms/step - loss: 0.3584 - acc: 0.8667 - val_loss: 0.9214 - val_acc: 0.6998\n",
            "Epoch 111/200\n",
            "106/106 [==============================] - 1s 14ms/step - loss: 0.3605 - acc: 0.8632 - val_loss: 0.9494 - val_acc: 0.6785\n",
            "Epoch 112/200\n",
            "106/106 [==============================] - 1s 14ms/step - loss: 0.3575 - acc: 0.8629 - val_loss: 0.9175 - val_acc: 0.7092\n",
            "Epoch 113/200\n",
            "106/106 [==============================] - 1s 14ms/step - loss: 0.3501 - acc: 0.8667 - val_loss: 0.9285 - val_acc: 0.6761\n",
            "Epoch 114/200\n",
            "106/106 [==============================] - 1s 14ms/step - loss: 0.3447 - acc: 0.8667 - val_loss: 0.8547 - val_acc: 0.7234\n",
            "Epoch 115/200\n",
            "106/106 [==============================] - 1s 14ms/step - loss: 0.3439 - acc: 0.8685 - val_loss: 0.8962 - val_acc: 0.6879\n",
            "Epoch 116/200\n",
            "106/106 [==============================] - 1s 14ms/step - loss: 0.3510 - acc: 0.8695 - val_loss: 0.8952 - val_acc: 0.6856\n",
            "Epoch 117/200\n",
            "106/106 [==============================] - 1s 14ms/step - loss: 0.3438 - acc: 0.8664 - val_loss: 0.9488 - val_acc: 0.6998\n",
            "Epoch 118/200\n",
            "106/106 [==============================] - 1s 14ms/step - loss: 0.3130 - acc: 0.8805 - val_loss: 0.9318 - val_acc: 0.6927\n",
            "Epoch 119/200\n",
            "106/106 [==============================] - 1s 14ms/step - loss: 0.3199 - acc: 0.8814 - val_loss: 0.9629 - val_acc: 0.7092\n",
            "Epoch 120/200\n",
            "106/106 [==============================] - 1s 14ms/step - loss: 0.3340 - acc: 0.8759 - val_loss: 0.9996 - val_acc: 0.6809\n",
            "Epoch 121/200\n",
            "106/106 [==============================] - 2s 14ms/step - loss: 0.3308 - acc: 0.8726 - val_loss: 0.9663 - val_acc: 0.6950\n",
            "Epoch 122/200\n",
            "106/106 [==============================] - 1s 14ms/step - loss: 0.3382 - acc: 0.8734 - val_loss: 0.9407 - val_acc: 0.7092\n",
            "Epoch 123/200\n",
            "106/106 [==============================] - 1s 14ms/step - loss: 0.3235 - acc: 0.8788 - val_loss: 0.8955 - val_acc: 0.7021\n",
            "Epoch 124/200\n",
            "106/106 [==============================] - 1s 14ms/step - loss: 0.3370 - acc: 0.8679 - val_loss: 0.9148 - val_acc: 0.6903\n",
            "Epoch 125/200\n",
            "106/106 [==============================] - 1s 14ms/step - loss: 0.3231 - acc: 0.8762 - val_loss: 0.9265 - val_acc: 0.6690\n",
            "Epoch 126/200\n",
            "106/106 [==============================] - 1s 14ms/step - loss: 0.3288 - acc: 0.8777 - val_loss: 0.9310 - val_acc: 0.6856\n",
            "Epoch 127/200\n",
            "106/106 [==============================] - 1s 14ms/step - loss: 0.3166 - acc: 0.8821 - val_loss: 0.9660 - val_acc: 0.7092\n",
            "Epoch 128/200\n",
            "106/106 [==============================] - 1s 14ms/step - loss: 0.3214 - acc: 0.8783 - val_loss: 0.9189 - val_acc: 0.6974\n",
            "Epoch 129/200\n",
            "106/106 [==============================] - 1s 14ms/step - loss: 0.3250 - acc: 0.8784 - val_loss: 1.0006 - val_acc: 0.6856\n",
            "Epoch 130/200\n",
            "106/106 [==============================] - 1s 14ms/step - loss: 0.3407 - acc: 0.8751 - val_loss: 0.9313 - val_acc: 0.7210\n",
            "Epoch 131/200\n",
            "106/106 [==============================] - 1s 14ms/step - loss: 0.3380 - acc: 0.8700 - val_loss: 0.9202 - val_acc: 0.7069\n",
            "Epoch 132/200\n",
            "106/106 [==============================] - 1s 14ms/step - loss: 0.3414 - acc: 0.8704 - val_loss: 0.9447 - val_acc: 0.6903\n",
            "Epoch 133/200\n",
            "106/106 [==============================] - 1s 14ms/step - loss: 0.3305 - acc: 0.8744 - val_loss: 0.9455 - val_acc: 0.6998\n",
            "Epoch 134/200\n",
            "106/106 [==============================] - 1s 14ms/step - loss: 0.3287 - acc: 0.8726 - val_loss: 0.9586 - val_acc: 0.6785\n",
            "Epoch 135/200\n",
            "106/106 [==============================] - 1s 14ms/step - loss: 0.3241 - acc: 0.8753 - val_loss: 0.9649 - val_acc: 0.6643\n",
            "Epoch 136/200\n",
            "106/106 [==============================] - 1s 14ms/step - loss: 0.3240 - acc: 0.8818 - val_loss: 0.9699 - val_acc: 0.7045\n",
            "Epoch 137/200\n",
            "106/106 [==============================] - 1s 14ms/step - loss: 0.3112 - acc: 0.8842 - val_loss: 0.9762 - val_acc: 0.6832\n",
            "Epoch 138/200\n",
            "106/106 [==============================] - 2s 14ms/step - loss: 0.3185 - acc: 0.8806 - val_loss: 1.0069 - val_acc: 0.6643\n",
            "Epoch 139/200\n",
            "106/106 [==============================] - 1s 14ms/step - loss: 0.3079 - acc: 0.8861 - val_loss: 0.9313 - val_acc: 0.6856\n",
            "Epoch 140/200\n",
            "106/106 [==============================] - 1s 14ms/step - loss: 0.3153 - acc: 0.8762 - val_loss: 0.9885 - val_acc: 0.6809\n",
            "Epoch 141/200\n",
            "106/106 [==============================] - 1s 14ms/step - loss: 0.3271 - acc: 0.8774 - val_loss: 1.0096 - val_acc: 0.6714\n",
            "Epoch 142/200\n",
            "106/106 [==============================] - 1s 14ms/step - loss: 0.3043 - acc: 0.8864 - val_loss: 0.9770 - val_acc: 0.6832\n",
            "Epoch 143/200\n",
            "106/106 [==============================] - 2s 14ms/step - loss: 0.3025 - acc: 0.8848 - val_loss: 1.0429 - val_acc: 0.6738\n",
            "Epoch 144/200\n",
            "106/106 [==============================] - 1s 14ms/step - loss: 0.3159 - acc: 0.8853 - val_loss: 1.0115 - val_acc: 0.6761\n",
            "Epoch 145/200\n",
            "106/106 [==============================] - 1s 14ms/step - loss: 0.3079 - acc: 0.8824 - val_loss: 0.9650 - val_acc: 0.6927\n",
            "Epoch 146/200\n",
            "106/106 [==============================] - 1s 14ms/step - loss: 0.2919 - acc: 0.8898 - val_loss: 0.9790 - val_acc: 0.6903\n",
            "Epoch 147/200\n",
            "106/106 [==============================] - 1s 14ms/step - loss: 0.2934 - acc: 0.8887 - val_loss: 1.0434 - val_acc: 0.6927\n",
            "Epoch 148/200\n",
            "106/106 [==============================] - 2s 14ms/step - loss: 0.2992 - acc: 0.8910 - val_loss: 0.9855 - val_acc: 0.6856\n",
            "Epoch 149/200\n",
            "106/106 [==============================] - 2s 14ms/step - loss: 0.3047 - acc: 0.8874 - val_loss: 1.0197 - val_acc: 0.6974\n",
            "Epoch 150/200\n",
            "106/106 [==============================] - 1s 14ms/step - loss: 0.2966 - acc: 0.8874 - val_loss: 0.9958 - val_acc: 0.7069\n",
            "Epoch 151/200\n",
            "106/106 [==============================] - 1s 14ms/step - loss: 0.3033 - acc: 0.8887 - val_loss: 1.0944 - val_acc: 0.6809\n",
            "Epoch 152/200\n",
            "106/106 [==============================] - 1s 14ms/step - loss: 0.3074 - acc: 0.8831 - val_loss: 0.9287 - val_acc: 0.6974\n",
            "Epoch 153/200\n",
            "106/106 [==============================] - 1s 14ms/step - loss: 0.3059 - acc: 0.8867 - val_loss: 1.0891 - val_acc: 0.6619\n",
            "Epoch 154/200\n",
            "106/106 [==============================] - 2s 14ms/step - loss: 0.2965 - acc: 0.8935 - val_loss: 0.9492 - val_acc: 0.6903\n",
            "Epoch 155/200\n",
            "106/106 [==============================] - 1s 14ms/step - loss: 0.2969 - acc: 0.8895 - val_loss: 1.0419 - val_acc: 0.6879\n",
            "Epoch 156/200\n",
            "106/106 [==============================] - 2s 14ms/step - loss: 0.2933 - acc: 0.8896 - val_loss: 0.9768 - val_acc: 0.7021\n",
            "Epoch 157/200\n",
            "106/106 [==============================] - 1s 14ms/step - loss: 0.3019 - acc: 0.8882 - val_loss: 1.0277 - val_acc: 0.6785\n",
            "Epoch 158/200\n",
            "106/106 [==============================] - 2s 14ms/step - loss: 0.2928 - acc: 0.8865 - val_loss: 0.9995 - val_acc: 0.6832\n",
            "Epoch 159/200\n",
            "106/106 [==============================] - 1s 14ms/step - loss: 0.2961 - acc: 0.8879 - val_loss: 1.0329 - val_acc: 0.6761\n",
            "Epoch 160/200\n",
            "106/106 [==============================] - 1s 14ms/step - loss: 0.2861 - acc: 0.8947 - val_loss: 1.0504 - val_acc: 0.6809\n",
            "Epoch 161/200\n",
            "106/106 [==============================] - 1s 14ms/step - loss: 0.2826 - acc: 0.8942 - val_loss: 1.0354 - val_acc: 0.6974\n",
            "Epoch 162/200\n",
            "106/106 [==============================] - 1s 14ms/step - loss: 0.2901 - acc: 0.8917 - val_loss: 1.0123 - val_acc: 0.6832\n",
            "Epoch 163/200\n",
            "106/106 [==============================] - 2s 14ms/step - loss: 0.2843 - acc: 0.8952 - val_loss: 1.0805 - val_acc: 0.6738\n",
            "Epoch 164/200\n",
            "106/106 [==============================] - 1s 14ms/step - loss: 0.2951 - acc: 0.8859 - val_loss: 0.9685 - val_acc: 0.6879\n",
            "Epoch 165/200\n",
            "106/106 [==============================] - 1s 14ms/step - loss: 0.2809 - acc: 0.8964 - val_loss: 0.9778 - val_acc: 0.6856\n",
            "Epoch 166/200\n",
            "106/106 [==============================] - 1s 14ms/step - loss: 0.2840 - acc: 0.8933 - val_loss: 1.0123 - val_acc: 0.6832\n",
            "Epoch 167/200\n",
            "106/106 [==============================] - 2s 14ms/step - loss: 0.2831 - acc: 0.8924 - val_loss: 1.0129 - val_acc: 0.6998\n",
            "Epoch 168/200\n",
            "106/106 [==============================] - 2s 14ms/step - loss: 0.2840 - acc: 0.8930 - val_loss: 1.0091 - val_acc: 0.6927\n",
            "Epoch 169/200\n",
            "106/106 [==============================] - 1s 14ms/step - loss: 0.2953 - acc: 0.8911 - val_loss: 0.9829 - val_acc: 0.7163\n",
            "Epoch 170/200\n",
            "106/106 [==============================] - 2s 14ms/step - loss: 0.2967 - acc: 0.8911 - val_loss: 0.9596 - val_acc: 0.7116\n",
            "Epoch 171/200\n",
            "106/106 [==============================] - 1s 14ms/step - loss: 0.2909 - acc: 0.8967 - val_loss: 1.0154 - val_acc: 0.6714\n",
            "Epoch 172/200\n",
            "106/106 [==============================] - 1s 14ms/step - loss: 0.2823 - acc: 0.8961 - val_loss: 0.9593 - val_acc: 0.6879\n",
            "Epoch 173/200\n",
            "106/106 [==============================] - 2s 14ms/step - loss: 0.2977 - acc: 0.8868 - val_loss: 1.0032 - val_acc: 0.6927\n",
            "Epoch 174/200\n",
            "106/106 [==============================] - 2s 14ms/step - loss: 0.2931 - acc: 0.8911 - val_loss: 1.0151 - val_acc: 0.6998\n",
            "Epoch 175/200\n",
            "106/106 [==============================] - 2s 14ms/step - loss: 0.2961 - acc: 0.8889 - val_loss: 0.9591 - val_acc: 0.6903\n",
            "Epoch 176/200\n",
            "106/106 [==============================] - 2s 14ms/step - loss: 0.2650 - acc: 0.9026 - val_loss: 0.9930 - val_acc: 0.6974\n",
            "Epoch 177/200\n",
            "106/106 [==============================] - 2s 14ms/step - loss: 0.2790 - acc: 0.8942 - val_loss: 1.0119 - val_acc: 0.6879\n",
            "Epoch 178/200\n",
            "106/106 [==============================] - 1s 14ms/step - loss: 0.2815 - acc: 0.8972 - val_loss: 1.0167 - val_acc: 0.6927\n",
            "Epoch 179/200\n",
            "106/106 [==============================] - 2s 14ms/step - loss: 0.2655 - acc: 0.9003 - val_loss: 1.0486 - val_acc: 0.6832\n",
            "Epoch 180/200\n",
            "106/106 [==============================] - 1s 14ms/step - loss: 0.2784 - acc: 0.8936 - val_loss: 1.0687 - val_acc: 0.6879\n",
            "Epoch 181/200\n",
            "106/106 [==============================] - 2s 14ms/step - loss: 0.2809 - acc: 0.8976 - val_loss: 0.9945 - val_acc: 0.6974\n",
            "Epoch 182/200\n",
            "106/106 [==============================] - 2s 14ms/step - loss: 0.2821 - acc: 0.8947 - val_loss: 1.0088 - val_acc: 0.6690\n",
            "Epoch 183/200\n",
            "106/106 [==============================] - 2s 14ms/step - loss: 0.2647 - acc: 0.9016 - val_loss: 1.0744 - val_acc: 0.6690\n",
            "Epoch 184/200\n",
            "106/106 [==============================] - 2s 15ms/step - loss: 0.2737 - acc: 0.8972 - val_loss: 1.0361 - val_acc: 0.6761\n",
            "Epoch 185/200\n",
            "106/106 [==============================] - 2s 15ms/step - loss: 0.2750 - acc: 0.8963 - val_loss: 0.9907 - val_acc: 0.6809\n",
            "Epoch 186/200\n",
            "106/106 [==============================] - 2s 14ms/step - loss: 0.2848 - acc: 0.8933 - val_loss: 0.9760 - val_acc: 0.6879\n",
            "Epoch 187/200\n",
            "106/106 [==============================] - 2s 14ms/step - loss: 0.2712 - acc: 0.9037 - val_loss: 0.9988 - val_acc: 0.6950\n",
            "Epoch 188/200\n",
            "106/106 [==============================] - 2s 14ms/step - loss: 0.2701 - acc: 0.9028 - val_loss: 1.1248 - val_acc: 0.6785\n",
            "Epoch 189/200\n",
            "106/106 [==============================] - 2s 14ms/step - loss: 0.2695 - acc: 0.8982 - val_loss: 1.0484 - val_acc: 0.6785\n",
            "Epoch 190/200\n",
            "106/106 [==============================] - 2s 14ms/step - loss: 0.2658 - acc: 0.9010 - val_loss: 1.0168 - val_acc: 0.7021\n",
            "Epoch 191/200\n",
            "106/106 [==============================] - 2s 14ms/step - loss: 0.2759 - acc: 0.9006 - val_loss: 0.9990 - val_acc: 0.6832\n",
            "Epoch 192/200\n",
            "106/106 [==============================] - 2s 14ms/step - loss: 0.2589 - acc: 0.9016 - val_loss: 1.0322 - val_acc: 0.6548\n",
            "Epoch 193/200\n",
            "106/106 [==============================] - 2s 14ms/step - loss: 0.2669 - acc: 0.9038 - val_loss: 1.0083 - val_acc: 0.6927\n",
            "Epoch 194/200\n",
            "106/106 [==============================] - 2s 14ms/step - loss: 0.2676 - acc: 0.8982 - val_loss: 1.0276 - val_acc: 0.6950\n",
            "Epoch 195/200\n",
            "106/106 [==============================] - 1s 14ms/step - loss: 0.2635 - acc: 0.9016 - val_loss: 1.0629 - val_acc: 0.6714\n",
            "Epoch 196/200\n",
            "106/106 [==============================] - 2s 14ms/step - loss: 0.2786 - acc: 0.8963 - val_loss: 1.0276 - val_acc: 0.6785\n",
            "Epoch 197/200\n",
            "106/106 [==============================] - 2s 14ms/step - loss: 0.2684 - acc: 0.9012 - val_loss: 1.1022 - val_acc: 0.6572\n",
            "Epoch 198/200\n",
            "106/106 [==============================] - 2s 15ms/step - loss: 0.2709 - acc: 0.8967 - val_loss: 1.0374 - val_acc: 0.6832\n",
            "Epoch 199/200\n",
            "106/106 [==============================] - 2s 15ms/step - loss: 0.2722 - acc: 0.8942 - val_loss: 1.0280 - val_acc: 0.6903\n",
            "Epoch 200/200\n",
            "106/106 [==============================] - 2s 15ms/step - loss: 0.2736 - acc: 0.9004 - val_loss: 1.0064 - val_acc: 0.6950\n"
          ]
        }
      ]
    },
    {
      "cell_type": "code",
      "source": [
        "\n",
        "test_loss, test_acc = model.evaluate(X_spatial_test, y_test)\n",
        "\n",
        "print(\"Test accuracy\", test_acc)\n",
        "print(\"Test loss\", test_loss)\n"
      ],
      "metadata": {
        "colab": {
          "base_uri": "https://localhost:8080/",
          "height": 0
        },
        "id": "E5W7-Qi6vG_9",
        "outputId": "6feafd67-fbb2-46a8-a0c8-0b4d097db9c0"
      },
      "execution_count": 213,
      "outputs": [
        {
          "output_type": "stream",
          "name": "stdout",
          "text": [
            "14/14 [==============================] - 0s 6ms/step - loss: 0.9697 - acc: 0.7201\n",
            "Test accuracy 0.7200902700424194\n",
            "Test loss 0.969683825969696\n"
          ]
        }
      ]
    },
    {
      "cell_type": "code",
      "source": [
        "plt.plot(history.history['acc'], label='train')\n",
        "plt.plot(history.history['val_acc'], label='val')\n",
        "plt.legend();"
      ],
      "metadata": {
        "colab": {
          "base_uri": "https://localhost:8080/",
          "height": 265
        },
        "id": "qS3hSLpYWYAa",
        "outputId": "b7b64567-ed75-4902-8d09-872a7c9b28b4"
      },
      "execution_count": 214,
      "outputs": [
        {
          "output_type": "display_data",
          "data": {
            "text/plain": [
              "<Figure size 432x288 with 1 Axes>"
            ],
            "image/png": "[encoded data removed]"
          },
          "metadata": {
            "needs_background": "light"
          }
        }
      ]
    },
    {
      "cell_type": "markdown",
      "source": [
        "## Training the model on entire data\n",
        "We now train the optimised model from the previous section on the data on the entire data, i.e both train and val sets. Note: we have also saved the architecture of the model as a SavedModel file from Colab, and are including it along with the submission"
      ],
      "metadata": {
        "id": "quT1aOWLWaS0"
      }
    },
    {
      "cell_type": "code",
      "source": [
        "X_train_all,y_train_all= data_prep(X_train_valid,y_train_valid,2,2,True)"
      ],
      "metadata": {
        "colab": {
          "base_uri": "https://localhost:8080/",
          "height": 0
        },
        "id": "CymOAvmyeko3",
        "outputId": "521bd548-4c1d-4290-ddc7-cfccb9c205f6"
      },
      "execution_count": 215,
      "outputs": [
        {
          "output_type": "stream",
          "name": "stdout",
          "text": [
            "Shape of X after trimming: (2115, 22, 500)\n",
            "Shape of X after maxpooling: (2115, 22, 250)\n",
            "Shape of X after averaging+noise and concatenating: (4230, 22, 250)\n",
            "Shape of X after subsampling and concatenating: (8460, 22, 250)\n"
          ]
        }
      ]
    },
    {
      "cell_type": "code",
      "source": [
        "X_spatial_all = spatial_prep(X_train_all)"
      ],
      "metadata": {
        "id": "lkyCscsvDerp"
      },
      "execution_count": 216,
      "outputs": []
    },
    {
      "cell_type": "code",
      "source": [
        "y_train_all = keras.utils.to_categorical(y_train_all, num_classes)"
      ],
      "metadata": {
        "id": "d-xe5hCKexlM"
      },
      "execution_count": 217,
      "outputs": []
    },
    {
      "cell_type": "code",
      "source": [
        "X_spatial_all = np.swapaxes(X_spatial_all,1,3)\n",
        "X_spatial_all = np.swapaxes(X_spatial_all,2,3)"
      ],
      "metadata": {
        "id": "MPeZG57UDhPI"
      },
      "execution_count": 218,
      "outputs": []
    },
    {
      "cell_type": "code",
      "source": [
        "print(X_spatial_all.shape, y_train_all.shape, y_test.shape, X_spatial_test.shape)"
      ],
      "metadata": {
        "colab": {
          "base_uri": "https://localhost:8080/",
          "height": 0
        },
        "id": "eKg-wb2aDjoA",
        "outputId": "4f493a49-5e2e-42ad-96db-40e8a58ae27c"
      },
      "execution_count": 219,
      "outputs": [
        {
          "output_type": "stream",
          "name": "stdout",
          "text": [
            "(8460, 250, 6, 7) (8460, 4) (443, 4) (443, 250, 6, 7)\n"
          ]
        }
      ]
    },
    {
      "cell_type": "code",
      "source": [
        "opt = keras.optimizers.Adam(learning_rate=0.001)"
      ],
      "metadata": {
        "id": "fbNufw_96wwT"
      },
      "execution_count": 265,
      "outputs": []
    },
    {
      "cell_type": "code",
      "source": [
        "callbacks = keras.callbacks.ReduceLROnPlateau(\n",
        "  monitor='loss', factor=0.1, patience=10,\n",
        "  mode='auto', min_delta=0.0001, cooldown=0, min_lr=0,\n",
        ")"
      ],
      "metadata": {
        "id": "nxnNHIUkFJHY"
      },
      "execution_count": 266,
      "outputs": []
    },
    {
      "cell_type": "code",
      "source": [
        "model.compile(loss='categorical_crossentropy', optimizer=opt, metrics=['acc'])\n",
        "history = model.fit(X_spatial_all, y_train_all, batch_size=64, epochs=200, callbacks = callbacks)"
      ],
      "metadata": {
        "colab": {
          "base_uri": "https://localhost:8080/",
          "height": 0
        },
        "id": "B6E65haLe7VH",
        "outputId": "d217ba47-8c56-4300-8288-f86316f4727f"
      },
      "execution_count": 230,
      "outputs": [
        {
          "output_type": "stream",
          "name": "stdout",
          "text": [
            "Epoch 1/200\n",
            "133/133 [==============================] - 5s 14ms/step - loss: 1.3841 - acc: 0.3191 - lr: 0.0010\n",
            "Epoch 2/200\n",
            "133/133 [==============================] - 2s 13ms/step - loss: 1.2639 - acc: 0.4071 - lr: 0.0010\n",
            "Epoch 3/200\n",
            "133/133 [==============================] - 2s 13ms/step - loss: 1.1880 - acc: 0.4730 - lr: 0.0010\n",
            "Epoch 4/200\n",
            "133/133 [==============================] - 2s 13ms/step - loss: 1.1351 - acc: 0.5129 - lr: 0.0010\n",
            "Epoch 5/200\n",
            "133/133 [==============================] - 2s 13ms/step - loss: 1.0891 - acc: 0.5320 - lr: 0.0010\n",
            "Epoch 6/200\n",
            "133/133 [==============================] - 2s 13ms/step - loss: 1.0515 - acc: 0.5557 - lr: 0.0010\n",
            "Epoch 7/200\n",
            "133/133 [==============================] - 2s 13ms/step - loss: 1.0274 - acc: 0.5735 - lr: 0.0010\n",
            "Epoch 8/200\n",
            "133/133 [==============================] - 2s 13ms/step - loss: 0.9866 - acc: 0.5907 - lr: 0.0010\n",
            "Epoch 9/200\n",
            "133/133 [==============================] - 2s 13ms/step - loss: 0.9444 - acc: 0.6147 - lr: 0.0010\n",
            "Epoch 10/200\n",
            "133/133 [==============================] - 2s 13ms/step - loss: 0.9213 - acc: 0.6271 - lr: 0.0010\n",
            "Epoch 11/200\n",
            "133/133 [==============================] - 2s 13ms/step - loss: 0.9033 - acc: 0.6292 - lr: 0.0010\n",
            "Epoch 12/200\n",
            "133/133 [==============================] - 2s 13ms/step - loss: 0.8766 - acc: 0.6447 - lr: 0.0010\n",
            "Epoch 13/200\n",
            "133/133 [==============================] - 2s 13ms/step - loss: 0.8454 - acc: 0.6593 - lr: 0.0010\n",
            "Epoch 14/200\n",
            "133/133 [==============================] - 2s 13ms/step - loss: 0.8133 - acc: 0.6738 - lr: 0.0010\n",
            "Epoch 15/200\n",
            "133/133 [==============================] - 2s 13ms/step - loss: 0.7949 - acc: 0.6844 - lr: 0.0010\n",
            "Epoch 16/200\n",
            "133/133 [==============================] - 2s 13ms/step - loss: 0.7840 - acc: 0.6780 - lr: 0.0010\n",
            "Epoch 17/200\n",
            "133/133 [==============================] - 2s 13ms/step - loss: 0.7770 - acc: 0.6905 - lr: 0.0010\n",
            "Epoch 18/200\n",
            "133/133 [==============================] - 2s 13ms/step - loss: 0.7550 - acc: 0.7017 - lr: 0.0010\n",
            "Epoch 19/200\n",
            "133/133 [==============================] - 2s 13ms/step - loss: 0.7310 - acc: 0.7115 - lr: 0.0010\n",
            "Epoch 20/200\n",
            "133/133 [==============================] - 2s 13ms/step - loss: 0.7329 - acc: 0.7086 - lr: 0.0010\n",
            "Epoch 21/200\n",
            "133/133 [==============================] - 2s 13ms/step - loss: 0.7094 - acc: 0.7174 - lr: 0.0010\n",
            "Epoch 22/200\n",
            "133/133 [==============================] - 2s 13ms/step - loss: 0.6980 - acc: 0.7221 - lr: 0.0010\n",
            "Epoch 23/200\n",
            "133/133 [==============================] - 2s 13ms/step - loss: 0.6812 - acc: 0.7342 - lr: 0.0010\n",
            "Epoch 24/200\n",
            "133/133 [==============================] - 2s 13ms/step - loss: 0.6756 - acc: 0.7400 - lr: 0.0010\n",
            "Epoch 25/200\n",
            "133/133 [==============================] - 2s 13ms/step - loss: 0.6733 - acc: 0.7351 - lr: 0.0010\n",
            "Epoch 26/200\n",
            "133/133 [==============================] - 2s 13ms/step - loss: 0.6575 - acc: 0.7384 - lr: 0.0010\n",
            "Epoch 27/200\n",
            "133/133 [==============================] - 2s 13ms/step - loss: 0.6479 - acc: 0.7468 - lr: 0.0010\n",
            "Epoch 28/200\n",
            "133/133 [==============================] - 2s 13ms/step - loss: 0.6357 - acc: 0.7570 - lr: 0.0010\n",
            "Epoch 29/200\n",
            "133/133 [==============================] - 2s 13ms/step - loss: 0.6246 - acc: 0.7589 - lr: 0.0010\n",
            "Epoch 30/200\n",
            "133/133 [==============================] - 2s 13ms/step - loss: 0.6281 - acc: 0.7518 - lr: 0.0010\n",
            "Epoch 31/200\n",
            "133/133 [==============================] - 2s 13ms/step - loss: 0.6119 - acc: 0.7677 - lr: 0.0010\n",
            "Epoch 32/200\n",
            "133/133 [==============================] - 2s 13ms/step - loss: 0.5927 - acc: 0.7742 - lr: 0.0010\n",
            "Epoch 33/200\n",
            "133/133 [==============================] - 2s 13ms/step - loss: 0.5865 - acc: 0.7728 - lr: 0.0010\n",
            "Epoch 34/200\n",
            "133/133 [==============================] - 2s 13ms/step - loss: 0.5884 - acc: 0.7663 - lr: 0.0010\n",
            "Epoch 35/200\n",
            "133/133 [==============================] - 2s 13ms/step - loss: 0.5877 - acc: 0.7687 - lr: 0.0010\n",
            "Epoch 36/200\n",
            "133/133 [==============================] - 2s 13ms/step - loss: 0.5743 - acc: 0.7738 - lr: 0.0010\n",
            "Epoch 37/200\n",
            "133/133 [==============================] - 2s 13ms/step - loss: 0.5677 - acc: 0.7830 - lr: 0.0010\n",
            "Epoch 38/200\n",
            "133/133 [==============================] - 2s 13ms/step - loss: 0.5649 - acc: 0.7842 - lr: 0.0010\n",
            "Epoch 39/200\n",
            "133/133 [==============================] - 2s 13ms/step - loss: 0.5518 - acc: 0.7909 - lr: 0.0010\n",
            "Epoch 40/200\n",
            "133/133 [==============================] - 2s 13ms/step - loss: 0.5526 - acc: 0.7889 - lr: 0.0010\n",
            "Epoch 41/200\n",
            "133/133 [==============================] - 2s 13ms/step - loss: 0.5498 - acc: 0.7888 - lr: 0.0010\n",
            "Epoch 42/200\n",
            "133/133 [==============================] - 2s 13ms/step - loss: 0.5392 - acc: 0.7877 - lr: 0.0010\n",
            "Epoch 43/200\n",
            "133/133 [==============================] - 2s 13ms/step - loss: 0.5309 - acc: 0.7940 - lr: 0.0010\n",
            "Epoch 44/200\n",
            "133/133 [==============================] - 2s 13ms/step - loss: 0.5321 - acc: 0.7953 - lr: 0.0010\n",
            "Epoch 45/200\n",
            "133/133 [==============================] - 2s 13ms/step - loss: 0.5314 - acc: 0.7930 - lr: 0.0010\n",
            "Epoch 46/200\n",
            "133/133 [==============================] - 2s 13ms/step - loss: 0.4983 - acc: 0.8100 - lr: 0.0010\n",
            "Epoch 47/200\n",
            "133/133 [==============================] - 2s 13ms/step - loss: 0.5149 - acc: 0.7982 - lr: 0.0010\n",
            "Epoch 48/200\n",
            "133/133 [==============================] - 2s 13ms/step - loss: 0.4981 - acc: 0.8078 - lr: 0.0010\n",
            "Epoch 49/200\n",
            "133/133 [==============================] - 2s 13ms/step - loss: 0.5032 - acc: 0.8071 - lr: 0.0010\n",
            "Epoch 50/200\n",
            "133/133 [==============================] - 2s 14ms/step - loss: 0.5038 - acc: 0.8087 - lr: 0.0010\n",
            "Epoch 51/200\n",
            "133/133 [==============================] - 2s 13ms/step - loss: 0.5016 - acc: 0.8053 - lr: 0.0010\n",
            "Epoch 52/200\n",
            "133/133 [==============================] - 2s 13ms/step - loss: 0.4904 - acc: 0.8097 - lr: 0.0010\n",
            "Epoch 53/200\n",
            "133/133 [==============================] - 2s 13ms/step - loss: 0.4976 - acc: 0.8079 - lr: 0.0010\n",
            "Epoch 54/200\n",
            "133/133 [==============================] - 2s 13ms/step - loss: 0.4836 - acc: 0.8125 - lr: 0.0010\n",
            "Epoch 55/200\n",
            "133/133 [==============================] - 2s 13ms/step - loss: 0.4721 - acc: 0.8173 - lr: 0.0010\n",
            "Epoch 56/200\n",
            "133/133 [==============================] - 2s 13ms/step - loss: 0.4793 - acc: 0.8139 - lr: 0.0010\n",
            "Epoch 57/200\n",
            "133/133 [==============================] - 2s 13ms/step - loss: 0.4801 - acc: 0.8169 - lr: 0.0010\n",
            "Epoch 58/200\n",
            "133/133 [==============================] - 2s 13ms/step - loss: 0.4661 - acc: 0.8199 - lr: 0.0010\n",
            "Epoch 59/200\n",
            "133/133 [==============================] - 2s 13ms/step - loss: 0.4697 - acc: 0.8207 - lr: 0.0010\n",
            "Epoch 60/200\n",
            "133/133 [==============================] - 2s 13ms/step - loss: 0.4768 - acc: 0.8201 - lr: 0.0010\n",
            "Epoch 61/200\n",
            "133/133 [==============================] - 2s 13ms/step - loss: 0.4626 - acc: 0.8257 - lr: 0.0010\n",
            "Epoch 62/200\n",
            "133/133 [==============================] - 2s 13ms/step - loss: 0.4467 - acc: 0.8285 - lr: 0.0010\n",
            "Epoch 63/200\n",
            "133/133 [==============================] - 2s 13ms/step - loss: 0.4537 - acc: 0.8248 - lr: 0.0010\n",
            "Epoch 64/200\n",
            "133/133 [==============================] - 2s 13ms/step - loss: 0.4583 - acc: 0.8254 - lr: 0.0010\n",
            "Epoch 65/200\n",
            "133/133 [==============================] - 2s 13ms/step - loss: 0.4627 - acc: 0.8243 - lr: 0.0010\n",
            "Epoch 66/200\n",
            "133/133 [==============================] - 2s 13ms/step - loss: 0.4508 - acc: 0.8267 - lr: 0.0010\n",
            "Epoch 67/200\n",
            "133/133 [==============================] - 2s 13ms/step - loss: 0.4317 - acc: 0.8349 - lr: 0.0010\n",
            "Epoch 68/200\n",
            "133/133 [==============================] - 2s 13ms/step - loss: 0.4392 - acc: 0.8312 - lr: 0.0010\n",
            "Epoch 69/200\n",
            "133/133 [==============================] - 2s 13ms/step - loss: 0.4475 - acc: 0.8270 - lr: 0.0010\n",
            "Epoch 70/200\n",
            "133/133 [==============================] - 2s 13ms/step - loss: 0.4495 - acc: 0.8288 - lr: 0.0010\n",
            "Epoch 71/200\n",
            "133/133 [==============================] - 2s 13ms/step - loss: 0.4246 - acc: 0.8353 - lr: 0.0010\n",
            "Epoch 72/200\n",
            "133/133 [==============================] - 2s 13ms/step - loss: 0.4278 - acc: 0.8355 - lr: 0.0010\n",
            "Epoch 73/200\n",
            "133/133 [==============================] - 2s 13ms/step - loss: 0.4273 - acc: 0.8356 - lr: 0.0010\n",
            "Epoch 74/200\n",
            "133/133 [==============================] - 2s 13ms/step - loss: 0.4276 - acc: 0.8343 - lr: 0.0010\n",
            "Epoch 75/200\n",
            "133/133 [==============================] - 2s 13ms/step - loss: 0.4180 - acc: 0.8428 - lr: 0.0010\n",
            "Epoch 76/200\n",
            "133/133 [==============================] - 2s 13ms/step - loss: 0.4238 - acc: 0.8394 - lr: 0.0010\n",
            "Epoch 77/200\n",
            "133/133 [==============================] - 2s 13ms/step - loss: 0.4203 - acc: 0.8410 - lr: 0.0010\n",
            "Epoch 78/200\n",
            "133/133 [==============================] - 2s 13ms/step - loss: 0.4186 - acc: 0.8368 - lr: 0.0010\n",
            "Epoch 79/200\n",
            "133/133 [==============================] - 2s 13ms/step - loss: 0.4221 - acc: 0.8410 - lr: 0.0010\n",
            "Epoch 80/200\n",
            "133/133 [==============================] - 2s 13ms/step - loss: 0.4136 - acc: 0.8424 - lr: 0.0010\n",
            "Epoch 81/200\n",
            "133/133 [==============================] - 2s 13ms/step - loss: 0.4189 - acc: 0.8390 - lr: 0.0010\n",
            "Epoch 82/200\n",
            "133/133 [==============================] - 2s 13ms/step - loss: 0.4265 - acc: 0.8370 - lr: 0.0010\n",
            "Epoch 83/200\n",
            "133/133 [==============================] - 2s 13ms/step - loss: 0.3936 - acc: 0.8494 - lr: 0.0010\n",
            "Epoch 84/200\n",
            "133/133 [==============================] - 2s 14ms/step - loss: 0.4089 - acc: 0.8442 - lr: 0.0010\n",
            "Epoch 85/200\n",
            "133/133 [==============================] - 2s 13ms/step - loss: 0.3926 - acc: 0.8544 - lr: 0.0010\n",
            "Epoch 86/200\n",
            "133/133 [==============================] - 2s 13ms/step - loss: 0.3994 - acc: 0.8513 - lr: 0.0010\n",
            "Epoch 87/200\n",
            "133/133 [==============================] - 2s 13ms/step - loss: 0.3923 - acc: 0.8502 - lr: 0.0010\n",
            "Epoch 88/200\n",
            "133/133 [==============================] - 2s 13ms/step - loss: 0.3857 - acc: 0.8532 - lr: 0.0010\n",
            "Epoch 89/200\n",
            "133/133 [==============================] - 2s 13ms/step - loss: 0.3871 - acc: 0.8500 - lr: 0.0010\n",
            "Epoch 90/200\n",
            "133/133 [==============================] - 2s 13ms/step - loss: 0.3950 - acc: 0.8501 - lr: 0.0010\n",
            "Epoch 91/200\n",
            "133/133 [==============================] - 2s 13ms/step - loss: 0.3887 - acc: 0.8500 - lr: 0.0010\n",
            "Epoch 92/200\n",
            "133/133 [==============================] - 2s 13ms/step - loss: 0.3750 - acc: 0.8552 - lr: 0.0010\n",
            "Epoch 93/200\n",
            "133/133 [==============================] - 2s 13ms/step - loss: 0.3988 - acc: 0.8489 - lr: 0.0010\n",
            "Epoch 94/200\n",
            "133/133 [==============================] - 2s 13ms/step - loss: 0.3815 - acc: 0.8526 - lr: 0.0010\n",
            "Epoch 95/200\n",
            "133/133 [==============================] - 2s 13ms/step - loss: 0.3787 - acc: 0.8517 - lr: 0.0010\n",
            "Epoch 96/200\n",
            "133/133 [==============================] - 2s 13ms/step - loss: 0.3792 - acc: 0.8543 - lr: 0.0010\n",
            "Epoch 97/200\n",
            "133/133 [==============================] - 2s 13ms/step - loss: 0.3835 - acc: 0.8526 - lr: 0.0010\n",
            "Epoch 98/200\n",
            "133/133 [==============================] - 2s 13ms/step - loss: 0.3908 - acc: 0.8548 - lr: 0.0010\n",
            "Epoch 99/200\n",
            "133/133 [==============================] - 2s 13ms/step - loss: 0.3821 - acc: 0.8540 - lr: 0.0010\n",
            "Epoch 100/200\n",
            "133/133 [==============================] - 2s 13ms/step - loss: 0.3585 - acc: 0.8656 - lr: 0.0010\n",
            "Epoch 101/200\n",
            "133/133 [==============================] - 2s 13ms/step - loss: 0.3679 - acc: 0.8600 - lr: 0.0010\n",
            "Epoch 102/200\n",
            "133/133 [==============================] - 2s 13ms/step - loss: 0.3635 - acc: 0.8642 - lr: 0.0010\n",
            "Epoch 103/200\n",
            "133/133 [==============================] - 2s 13ms/step - loss: 0.3585 - acc: 0.8631 - lr: 0.0010\n",
            "Epoch 104/200\n",
            "133/133 [==============================] - 2s 13ms/step - loss: 0.3564 - acc: 0.8635 - lr: 0.0010\n",
            "Epoch 105/200\n",
            "133/133 [==============================] - 2s 13ms/step - loss: 0.3530 - acc: 0.8691 - lr: 0.0010\n",
            "Epoch 106/200\n",
            "133/133 [==============================] - 2s 13ms/step - loss: 0.3649 - acc: 0.8608 - lr: 0.0010\n",
            "Epoch 107/200\n",
            "133/133 [==============================] - 2s 13ms/step - loss: 0.3674 - acc: 0.8604 - lr: 0.0010\n",
            "Epoch 108/200\n",
            "133/133 [==============================] - 2s 13ms/step - loss: 0.3507 - acc: 0.8650 - lr: 0.0010\n",
            "Epoch 109/200\n",
            "133/133 [==============================] - 2s 13ms/step - loss: 0.3600 - acc: 0.8612 - lr: 0.0010\n",
            "Epoch 110/200\n",
            "133/133 [==============================] - 2s 13ms/step - loss: 0.3654 - acc: 0.8613 - lr: 0.0010\n",
            "Epoch 111/200\n",
            "133/133 [==============================] - 2s 13ms/step - loss: 0.3711 - acc: 0.8567 - lr: 0.0010\n",
            "Epoch 112/200\n",
            "133/133 [==============================] - 2s 13ms/step - loss: 0.3504 - acc: 0.8665 - lr: 0.0010\n",
            "Epoch 113/200\n",
            "133/133 [==============================] - 2s 13ms/step - loss: 0.3503 - acc: 0.8673 - lr: 0.0010\n",
            "Epoch 114/200\n",
            "133/133 [==============================] - 2s 13ms/step - loss: 0.3473 - acc: 0.8689 - lr: 0.0010\n",
            "Epoch 115/200\n",
            "133/133 [==============================] - 2s 13ms/step - loss: 0.3509 - acc: 0.8674 - lr: 0.0010\n",
            "Epoch 116/200\n",
            "133/133 [==============================] - 2s 13ms/step - loss: 0.3644 - acc: 0.8606 - lr: 0.0010\n",
            "Epoch 117/200\n",
            "133/133 [==============================] - 2s 14ms/step - loss: 0.3738 - acc: 0.8592 - lr: 0.0010\n",
            "Epoch 118/200\n",
            "133/133 [==============================] - 2s 13ms/step - loss: 0.3429 - acc: 0.8675 - lr: 0.0010\n",
            "Epoch 119/200\n",
            "133/133 [==============================] - 2s 13ms/step - loss: 0.3478 - acc: 0.8667 - lr: 0.0010\n",
            "Epoch 120/200\n",
            "133/133 [==============================] - 2s 13ms/step - loss: 0.3441 - acc: 0.8691 - lr: 0.0010\n",
            "Epoch 121/200\n",
            "133/133 [==============================] - 2s 13ms/step - loss: 0.3394 - acc: 0.8715 - lr: 0.0010\n",
            "Epoch 122/200\n",
            "133/133 [==============================] - 2s 13ms/step - loss: 0.3477 - acc: 0.8682 - lr: 0.0010\n",
            "Epoch 123/200\n",
            "133/133 [==============================] - 2s 13ms/step - loss: 0.3407 - acc: 0.8708 - lr: 0.0010\n",
            "Epoch 124/200\n",
            "133/133 [==============================] - 2s 13ms/step - loss: 0.3387 - acc: 0.8690 - lr: 0.0010\n",
            "Epoch 125/200\n",
            "133/133 [==============================] - 2s 13ms/step - loss: 0.3465 - acc: 0.8674 - lr: 0.0010\n",
            "Epoch 126/200\n",
            "133/133 [==============================] - 2s 13ms/step - loss: 0.3331 - acc: 0.8721 - lr: 0.0010\n",
            "Epoch 127/200\n",
            "133/133 [==============================] - 2s 13ms/step - loss: 0.3341 - acc: 0.8726 - lr: 0.0010\n",
            "Epoch 128/200\n",
            "133/133 [==============================] - 2s 13ms/step - loss: 0.3204 - acc: 0.8837 - lr: 0.0010\n",
            "Epoch 129/200\n",
            "133/133 [==============================] - 2s 13ms/step - loss: 0.3317 - acc: 0.8743 - lr: 0.0010\n",
            "Epoch 130/200\n",
            "133/133 [==============================] - 2s 13ms/step - loss: 0.3326 - acc: 0.8757 - lr: 0.0010\n",
            "Epoch 131/200\n",
            "133/133 [==============================] - 2s 13ms/step - loss: 0.3341 - acc: 0.8741 - lr: 0.0010\n",
            "Epoch 132/200\n",
            "133/133 [==============================] - 2s 13ms/step - loss: 0.3287 - acc: 0.8772 - lr: 0.0010\n",
            "Epoch 133/200\n",
            "133/133 [==============================] - 2s 13ms/step - loss: 0.3372 - acc: 0.8706 - lr: 0.0010\n",
            "Epoch 134/200\n",
            "133/133 [==============================] - 2s 13ms/step - loss: 0.3386 - acc: 0.8687 - lr: 0.0010\n",
            "Epoch 135/200\n",
            "133/133 [==============================] - 2s 13ms/step - loss: 0.3381 - acc: 0.8726 - lr: 0.0010\n",
            "Epoch 136/200\n",
            "133/133 [==============================] - 2s 13ms/step - loss: 0.3193 - acc: 0.8823 - lr: 0.0010\n",
            "Epoch 137/200\n",
            "133/133 [==============================] - 2s 13ms/step - loss: 0.3242 - acc: 0.8773 - lr: 0.0010\n",
            "Epoch 138/200\n",
            "133/133 [==============================] - 2s 13ms/step - loss: 0.3394 - acc: 0.8687 - lr: 0.0010\n",
            "Epoch 139/200\n",
            "133/133 [==============================] - 2s 13ms/step - loss: 0.3186 - acc: 0.8807 - lr: 0.0010\n",
            "Epoch 140/200\n",
            "133/133 [==============================] - 2s 13ms/step - loss: 0.3134 - acc: 0.8823 - lr: 0.0010\n",
            "Epoch 141/200\n",
            "133/133 [==============================] - 2s 14ms/step - loss: 0.3403 - acc: 0.8695 - lr: 0.0010\n",
            "Epoch 142/200\n",
            "133/133 [==============================] - 2s 13ms/step - loss: 0.3313 - acc: 0.8755 - lr: 0.0010\n",
            "Epoch 143/200\n",
            "133/133 [==============================] - 2s 14ms/step - loss: 0.3127 - acc: 0.8852 - lr: 0.0010\n",
            "Epoch 144/200\n",
            "133/133 [==============================] - 2s 14ms/step - loss: 0.3160 - acc: 0.8817 - lr: 0.0010\n",
            "Epoch 145/200\n",
            "133/133 [==============================] - 2s 13ms/step - loss: 0.3210 - acc: 0.8785 - lr: 0.0010\n",
            "Epoch 146/200\n",
            "133/133 [==============================] - 2s 13ms/step - loss: 0.3163 - acc: 0.8835 - lr: 0.0010\n",
            "Epoch 147/200\n",
            "133/133 [==============================] - 2s 13ms/step - loss: 0.3195 - acc: 0.8800 - lr: 0.0010\n",
            "Epoch 148/200\n",
            "133/133 [==============================] - 2s 13ms/step - loss: 0.3191 - acc: 0.8772 - lr: 0.0010\n",
            "Epoch 149/200\n",
            "133/133 [==============================] - 2s 13ms/step - loss: 0.3067 - acc: 0.8835 - lr: 0.0010\n",
            "Epoch 150/200\n",
            "133/133 [==============================] - 2s 13ms/step - loss: 0.3133 - acc: 0.8819 - lr: 0.0010\n",
            "Epoch 151/200\n",
            "133/133 [==============================] - 2s 13ms/step - loss: 0.3123 - acc: 0.8855 - lr: 0.0010\n",
            "Epoch 152/200\n",
            "133/133 [==============================] - 2s 13ms/step - loss: 0.3194 - acc: 0.8803 - lr: 0.0010\n",
            "Epoch 153/200\n",
            "133/133 [==============================] - 2s 14ms/step - loss: 0.3113 - acc: 0.8812 - lr: 0.0010\n",
            "Epoch 154/200\n",
            "133/133 [==============================] - 2s 14ms/step - loss: 0.3228 - acc: 0.8794 - lr: 0.0010\n",
            "Epoch 155/200\n",
            "133/133 [==============================] - 2s 13ms/step - loss: 0.3030 - acc: 0.8863 - lr: 0.0010\n",
            "Epoch 156/200\n",
            "133/133 [==============================] - 2s 13ms/step - loss: 0.3077 - acc: 0.8859 - lr: 0.0010\n",
            "Epoch 157/200\n",
            "133/133 [==============================] - 2s 13ms/step - loss: 0.3092 - acc: 0.8848 - lr: 0.0010\n",
            "Epoch 158/200\n",
            "133/133 [==============================] - 2s 13ms/step - loss: 0.3055 - acc: 0.8849 - lr: 0.0010\n",
            "Epoch 159/200\n",
            "133/133 [==============================] - 2s 13ms/step - loss: 0.3100 - acc: 0.8832 - lr: 0.0010\n",
            "Epoch 160/200\n",
            "133/133 [==============================] - 2s 14ms/step - loss: 0.3053 - acc: 0.8869 - lr: 0.0010\n",
            "Epoch 161/200\n",
            "133/133 [==============================] - 2s 13ms/step - loss: 0.3050 - acc: 0.8839 - lr: 0.0010\n",
            "Epoch 162/200\n",
            "133/133 [==============================] - 2s 13ms/step - loss: 0.3026 - acc: 0.8838 - lr: 0.0010\n",
            "Epoch 163/200\n",
            "133/133 [==============================] - 2s 13ms/step - loss: 0.3159 - acc: 0.8838 - lr: 0.0010\n",
            "Epoch 164/200\n",
            "133/133 [==============================] - 2s 13ms/step - loss: 0.3122 - acc: 0.8872 - lr: 0.0010\n",
            "Epoch 165/200\n",
            "133/133 [==============================] - 2s 13ms/step - loss: 0.3079 - acc: 0.8839 - lr: 0.0010\n",
            "Epoch 166/200\n",
            "133/133 [==============================] - 2s 13ms/step - loss: 0.3186 - acc: 0.8778 - lr: 0.0010\n",
            "Epoch 167/200\n",
            "133/133 [==============================] - 2s 13ms/step - loss: 0.3175 - acc: 0.8803 - lr: 0.0010\n",
            "Epoch 168/200\n",
            "133/133 [==============================] - 2s 14ms/step - loss: 0.3039 - acc: 0.8836 - lr: 0.0010\n",
            "Epoch 169/200\n",
            "133/133 [==============================] - 2s 13ms/step - loss: 0.2951 - acc: 0.8902 - lr: 0.0010\n",
            "Epoch 170/200\n",
            "133/133 [==============================] - 2s 13ms/step - loss: 0.2946 - acc: 0.8911 - lr: 0.0010\n",
            "Epoch 171/200\n",
            "133/133 [==============================] - 2s 14ms/step - loss: 0.3039 - acc: 0.8861 - lr: 0.0010\n",
            "Epoch 172/200\n",
            "133/133 [==============================] - 2s 14ms/step - loss: 0.2881 - acc: 0.8909 - lr: 0.0010\n",
            "Epoch 173/200\n",
            "133/133 [==============================] - 2s 13ms/step - loss: 0.3002 - acc: 0.8879 - lr: 0.0010\n",
            "Epoch 174/200\n",
            "133/133 [==============================] - 2s 13ms/step - loss: 0.2896 - acc: 0.8931 - lr: 0.0010\n",
            "Epoch 175/200\n",
            "133/133 [==============================] - 2s 13ms/step - loss: 0.2948 - acc: 0.8870 - lr: 0.0010\n",
            "Epoch 176/200\n",
            "133/133 [==============================] - 2s 13ms/step - loss: 0.2885 - acc: 0.8927 - lr: 0.0010\n",
            "Epoch 177/200\n",
            "133/133 [==============================] - 2s 13ms/step - loss: 0.3081 - acc: 0.8813 - lr: 0.0010\n",
            "Epoch 178/200\n",
            "133/133 [==============================] - 2s 13ms/step - loss: 0.3062 - acc: 0.8871 - lr: 0.0010\n",
            "Epoch 179/200\n",
            "133/133 [==============================] - 2s 13ms/step - loss: 0.3057 - acc: 0.8837 - lr: 0.0010\n",
            "Epoch 180/200\n",
            "133/133 [==============================] - 2s 13ms/step - loss: 0.2872 - acc: 0.8895 - lr: 0.0010\n",
            "Epoch 181/200\n",
            "133/133 [==============================] - 2s 13ms/step - loss: 0.2981 - acc: 0.8885 - lr: 0.0010\n",
            "Epoch 182/200\n",
            "133/133 [==============================] - 2s 14ms/step - loss: 0.2982 - acc: 0.8897 - lr: 0.0010\n",
            "Epoch 183/200\n",
            "133/133 [==============================] - 2s 14ms/step - loss: 0.3076 - acc: 0.8829 - lr: 0.0010\n",
            "Epoch 184/200\n",
            "133/133 [==============================] - 2s 14ms/step - loss: 0.2992 - acc: 0.8863 - lr: 0.0010\n",
            "Epoch 185/200\n",
            "133/133 [==============================] - 2s 13ms/step - loss: 0.2801 - acc: 0.8924 - lr: 0.0010\n",
            "Epoch 186/200\n",
            "133/133 [==============================] - 2s 14ms/step - loss: 0.2884 - acc: 0.8913 - lr: 0.0010\n",
            "Epoch 187/200\n",
            "133/133 [==============================] - 2s 16ms/step - loss: 0.2991 - acc: 0.8852 - lr: 0.0010\n",
            "Epoch 188/200\n",
            "133/133 [==============================] - 3s 20ms/step - loss: 0.2741 - acc: 0.8972 - lr: 0.0010\n",
            "Epoch 189/200\n",
            "133/133 [==============================] - 2s 15ms/step - loss: 0.2930 - acc: 0.8947 - lr: 0.0010\n",
            "Epoch 190/200\n",
            "133/133 [==============================] - 2s 17ms/step - loss: 0.2864 - acc: 0.8941 - lr: 0.0010\n",
            "Epoch 191/200\n",
            "133/133 [==============================] - 3s 21ms/step - loss: 0.2804 - acc: 0.8967 - lr: 0.0010\n",
            "Epoch 192/200\n",
            "133/133 [==============================] - 2s 18ms/step - loss: 0.2770 - acc: 0.8959 - lr: 0.0010\n",
            "Epoch 193/200\n",
            "133/133 [==============================] - 2s 14ms/step - loss: 0.2849 - acc: 0.8952 - lr: 0.0010\n",
            "Epoch 194/200\n",
            "133/133 [==============================] - 2s 13ms/step - loss: 0.2733 - acc: 0.8986 - lr: 0.0010\n",
            "Epoch 195/200\n",
            "133/133 [==============================] - 2s 14ms/step - loss: 0.2887 - acc: 0.8924 - lr: 0.0010\n",
            "Epoch 196/200\n",
            "133/133 [==============================] - 2s 17ms/step - loss: 0.2802 - acc: 0.8949 - lr: 0.0010\n",
            "Epoch 197/200\n",
            "133/133 [==============================] - 2s 14ms/step - loss: 0.2723 - acc: 0.8955 - lr: 0.0010\n",
            "Epoch 198/200\n",
            "133/133 [==============================] - 2s 14ms/step - loss: 0.2816 - acc: 0.8940 - lr: 0.0010\n",
            "Epoch 199/200\n",
            "133/133 [==============================] - 2s 14ms/step - loss: 0.2844 - acc: 0.8947 - lr: 0.0010\n",
            "Epoch 200/200\n",
            "133/133 [==============================] - 2s 16ms/step - loss: 0.2823 - acc: 0.8962 - lr: 0.0010\n"
          ]
        }
      ]
    },
    {
      "cell_type": "code",
      "source": [
        "# giga = keras.models.load_model('final-model')\n",
        "# model = giga\n",
        "test_loss, test_acc = model.evaluate(X_spatial_test, y_test)\n",
        "\n",
        "print(\"Test accuracy\", test_acc)\n",
        "print(\"Test loss\", test_loss)"
      ],
      "metadata": {
        "colab": {
          "base_uri": "https://localhost:8080/"
        },
        "id": "M5GUKfV6TyHI",
        "outputId": "68455221-4600-435d-e31d-4de92623ede9"
      },
      "execution_count": 290,
      "outputs": [
        {
          "output_type": "stream",
          "name": "stdout",
          "text": [
            "14/14 [==============================] - 0s 7ms/step - loss: 0.8571 - acc: 0.7698\n",
            "Test accuracy 0.7697516679763794\n",
            "Test loss 0.8571227788925171\n"
          ]
        }
      ]
    },
    {
      "cell_type": "markdown",
      "source": [
        "\n",
        "To assess how the model performed on different classes, we plot a confusion matrix to compute class performance"
      ],
      "metadata": {
        "id": "vnvYiWMXCja-"
      }
    },
    {
      "cell_type": "code",
      "source": [
        "y_pred = model.predict(X_spatial_test)"
      ],
      "metadata": {
        "id": "xw7nT5hDKz2c"
      },
      "execution_count": 291,
      "outputs": []
    },
    {
      "cell_type": "code",
      "source": [
        "print(y_pred.shape)"
      ],
      "metadata": {
        "colab": {
          "base_uri": "https://localhost:8080/"
        },
        "id": "3i2Ru_iMK5lm",
        "outputId": "891aeab9-a30f-4b6e-c744-c56f15ddff86"
      },
      "execution_count": 292,
      "outputs": [
        {
          "output_type": "stream",
          "name": "stdout",
          "text": [
            "(443, 4)\n"
          ]
        }
      ]
    },
    {
      "cell_type": "code",
      "source": [
        "from sklearn.metrics import classification_report, confusion_matrix, ConfusionMatrixDisplay "
      ],
      "metadata": {
        "id": "-V4mKBWXLGwS"
      },
      "execution_count": 293,
      "outputs": []
    },
    {
      "cell_type": "code",
      "source": [
        "matrix = confusion_matrix(y_test.argmax(axis=1), y_pred.argmax(axis=1))"
      ],
      "metadata": {
        "id": "kSTTq98KLIfP"
      },
      "execution_count": 294,
      "outputs": []
    },
    {
      "cell_type": "code",
      "source": [
        "log_disp = ConfusionMatrixDisplay(matrix, display_labels=[769, 770, 771, 772]) \n",
        "log_disp.plot()"
      ],
      "metadata": {
        "colab": {
          "base_uri": "https://localhost:8080/",
          "height": 297
        },
        "id": "5Oxo0kMmKtN9",
        "outputId": "9abb31ed-f5e9-4b33-beef-da08c8fed9f6"
      },
      "execution_count": 295,
      "outputs": [
        {
          "output_type": "execute_result",
          "data": {
            "text/plain": [
              "<sklearn.metrics._plot.confusion_matrix.ConfusionMatrixDisplay at 0x7f1afada27d0>"
            ]
          },
          "metadata": {},
          "execution_count": 295
        },
        {
          "output_type": "display_data",
          "data": {
            "text/plain": [
              "<Figure size 432x288 with 2 Axes>"
            ],
            "image/png": "[encoded data removed]"
          },
          "metadata": {
            "needs_background": "light"
          }
        }
      ]
    },
    {
      "cell_type": "code",
      "source": [
        "model.save('final-model')"
      ],
      "metadata": {
        "id": "APhnh7owuZGx",
        "colab": {
          "base_uri": "https://localhost:8080/"
        },
        "outputId": "2e856e8d-8c6a-4eb6-fdf6-079fa5f61c05"
      },
      "execution_count": 296,
      "outputs": [
        {
          "output_type": "stream",
          "name": "stderr",
          "text": [
            "WARNING:absl:Found untraced functions such as gru_cell_32_layer_call_fn, gru_cell_32_layer_call_and_return_conditional_losses, gru_cell_33_layer_call_fn, gru_cell_33_layer_call_and_return_conditional_losses while saving (showing 4 of 4). These functions will not be directly callable after loading.\n"
          ]
        },
        {
          "output_type": "stream",
          "name": "stdout",
          "text": [
            "INFO:tensorflow:Assets written to: final-model/assets\n"
          ]
        },
        {
          "output_type": "stream",
          "name": "stderr",
          "text": [
            "INFO:tensorflow:Assets written to: final-model/assets\n",
            "WARNING:absl:<keras.layers.recurrent.GRUCell object at 0x7f1c4a252050> has the same name 'GRUCell' as a built-in Keras object. Consider renaming <class 'keras.layers.recurrent.GRUCell'> to avoid naming conflicts when loading with `tf.keras.models.load_model`. If renaming is not possible, pass the object in the `custom_objects` parameter of the load function.\n",
            "WARNING:absl:<keras.layers.recurrent.GRUCell object at 0x7f1c34265250> has the same name 'GRUCell' as a built-in Keras object. Consider renaming <class 'keras.layers.recurrent.GRUCell'> to avoid naming conflicts when loading with `tf.keras.models.load_model`. If renaming is not possible, pass the object in the `custom_objects` parameter of the load function.\n"
          ]
        }
      ]
    },
    {
      "cell_type": "code",
      "source": [
        "for j in range(9):\n",
        "  indeces = [ i for i in range(len(person_test)) if person_test[i]==j]\n",
        "  X_subject= X_test[indeces]\n",
        "  y_subject = y_test[indeces]\n",
        "  X_spatial_subject = spatial_prep(X_subject)\n",
        "  X_spatial_subject = np.swapaxes(X_spatial_subject, 1,3)\n",
        "  X_spatial_subject = np.swapaxes(X_spatial_subject, 2,3)\n",
        "\n",
        "  test_loss_subject, test_acc_subject = model.evaluate(X_spatial_subject, y_subject)\n",
        "  print(\"Statistics for subject \", j)\n",
        "  print(\"Test accuracy\", test_acc_subject)\n",
        "  print(\"Test loss\", test_loss_subject)"
      ],
      "metadata": {
        "colab": {
          "base_uri": "https://localhost:8080/"
        },
        "id": "Z26CllGtPMCZ",
        "outputId": "7572c91d-a7fe-4fb0-9873-81378b698226"
      },
      "execution_count": 297,
      "outputs": [
        {
          "output_type": "stream",
          "name": "stdout",
          "text": [
            "2/2 [==============================] - 0s 9ms/step - loss: 1.1200 - acc: 0.6800\n",
            "Statistics for subject  0\n",
            "Test accuracy 0.6800000071525574\n",
            "Test loss 1.1200186014175415\n",
            "2/2 [==============================] - 0s 9ms/step - loss: 0.7176 - acc: 0.7800\n",
            "Statistics for subject  1\n",
            "Test accuracy 0.7799999713897705\n",
            "Test loss 0.7175740599632263\n",
            "2/2 [==============================] - 0s 9ms/step - loss: 0.7058 - acc: 0.8000\n",
            "Statistics for subject  2\n",
            "Test accuracy 0.800000011920929\n",
            "Test loss 0.7058024406433105\n",
            "2/2 [==============================] - 0s 9ms/step - loss: 0.8001 - acc: 0.7600\n",
            "Statistics for subject  3\n",
            "Test accuracy 0.7599999904632568\n",
            "Test loss 0.800101637840271\n",
            "2/2 [==============================] - 0s 8ms/step - loss: 1.1086 - acc: 0.7021\n",
            "Statistics for subject  4\n",
            "Test accuracy 0.7021276354789734\n",
            "Test loss 1.1085593700408936\n",
            "2/2 [==============================] - 0s 9ms/step - loss: 0.8561 - acc: 0.7551\n",
            "Statistics for subject  5\n",
            "Test accuracy 0.7551020383834839\n",
            "Test loss 0.8561388850212097\n",
            "2/2 [==============================] - 0s 8ms/step - loss: 0.8277 - acc: 0.8200\n",
            "Statistics for subject  6\n",
            "Test accuracy 0.8199999928474426\n",
            "Test loss 0.8277008533477783\n",
            "2/2 [==============================] - 0s 7ms/step - loss: 1.0984 - acc: 0.7600\n",
            "Statistics for subject  7\n",
            "Test accuracy 0.7599999904632568\n",
            "Test loss 1.0984420776367188\n",
            "2/2 [==============================] - 0s 9ms/step - loss: 0.4717 - acc: 0.8723\n",
            "Statistics for subject  8\n",
            "Test accuracy 0.8723404407501221\n",
            "Test loss 0.47170859575271606\n"
          ]
        }
      ]
    },
    {
      "cell_type": "markdown",
      "source": [
        "#Training the model for one subject\n",
        "We now train the model architecture on just one subject, and compute the test accuracies for both the subject in question, and for all subjects"
      ],
      "metadata": {
        "id": "l-4_tqTVC3n7"
      }
    },
    {
      "cell_type": "code",
      "source": [
        "train_indeces = [ i for i in range(len(person_train_valid)) if person_train_valid[i]==0]\n",
        "X_train_subject_1 = X_train_valid[train_indeces]\n",
        "y_train_subject_1 = y_train_valid[train_indeces]"
      ],
      "metadata": {
        "id": "AwN_EjMMti8n"
      },
      "execution_count": 244,
      "outputs": []
    },
    {
      "cell_type": "code",
      "source": [
        "test_indeces = [ i for i in range(len(person_test)) if person_test[i]==0]\n",
        "X_test_subject_1 = X_test[test_indeces]\n",
        "y_test_subject_1 = y_test[test_indeces]\n"
      ],
      "metadata": {
        "id": "mSKHoRgJtjqr"
      },
      "execution_count": 245,
      "outputs": []
    },
    {
      "cell_type": "code",
      "source": [
        "print(X_train_subject_1.shape, y_train_subject_1.shape, X_test_subject_1.shape, y_test_subject_1.shape)"
      ],
      "metadata": {
        "colab": {
          "base_uri": "https://localhost:8080/",
          "height": 0
        },
        "id": "HihoFsvPts1H",
        "outputId": "103055ac-1a1f-45ce-bc81-4a35f6db23d2"
      },
      "execution_count": 246,
      "outputs": [
        {
          "output_type": "stream",
          "name": "stdout",
          "text": [
            "(237, 22, 1000) (237,) (50, 22, 250) (50, 4)\n"
          ]
        }
      ]
    },
    {
      "cell_type": "code",
      "source": [
        "X_train_1,y_train_1= data_prep(X_train_subject_1,y_train_subject_1,2,2,True)"
      ],
      "metadata": {
        "colab": {
          "base_uri": "https://localhost:8080/",
          "height": 0
        },
        "id": "tgGSl_7CuQPO",
        "outputId": "c00a7878-4090-48b8-e5ac-6cf17f3234a0"
      },
      "execution_count": 247,
      "outputs": [
        {
          "output_type": "stream",
          "name": "stdout",
          "text": [
            "Shape of X after trimming: (237, 22, 500)\n",
            "Shape of X after maxpooling: (237, 22, 250)\n",
            "Shape of X after averaging+noise and concatenating: (474, 22, 250)\n",
            "Shape of X after subsampling and concatenating: (948, 22, 250)\n"
          ]
        }
      ]
    },
    {
      "cell_type": "code",
      "source": [
        "X_spatial_train_1 = spatial_prep(X_train_1)"
      ],
      "metadata": {
        "id": "EO8alELqugZ5"
      },
      "execution_count": 248,
      "outputs": []
    },
    {
      "cell_type": "code",
      "source": [
        "X_spatial_test_1 = spatial_prep(X_test_subject_1)"
      ],
      "metadata": {
        "id": "jXNGs6ndukEN"
      },
      "execution_count": 249,
      "outputs": []
    },
    {
      "cell_type": "code",
      "source": [
        "print(X_spatial_train_1.shape,X_spatial_test_1.shape)"
      ],
      "metadata": {
        "colab": {
          "base_uri": "https://localhost:8080/",
          "height": 0
        },
        "id": "80mA-w3Vuth8",
        "outputId": "fa295cee-03ef-43f2-c314-7a3c1b2eab0a"
      },
      "execution_count": 250,
      "outputs": [
        {
          "output_type": "stream",
          "name": "stdout",
          "text": [
            "(948, 6, 7, 250) (50, 6, 7, 250)\n"
          ]
        }
      ]
    },
    {
      "cell_type": "code",
      "source": [
        "print(X_train_1.shape,y_train_1.shape, X_spatial_train_1.shape)\n",
        "print(X_test_subject_1.shape, y_test_subject_1.shape, X_spatial_test_1.shape)"
      ],
      "metadata": {
        "colab": {
          "base_uri": "https://localhost:8080/",
          "height": 0
        },
        "id": "3tIvejqEvQJi",
        "outputId": "b4fc76f4-3e80-4222-d450-58e02b58af6c"
      },
      "execution_count": 251,
      "outputs": [
        {
          "output_type": "stream",
          "name": "stdout",
          "text": [
            "(948, 22, 250) (948,) (948, 6, 7, 250)\n",
            "(50, 22, 250) (50, 4) (50, 6, 7, 250)\n"
          ]
        }
      ]
    },
    {
      "cell_type": "code",
      "source": [
        "X_spatial_train_1 = np.swapaxes(X_spatial_train_1 , 1,3)\n",
        "X_spatial_train_1 = np.swapaxes(X_spatial_train_1 , 2,3)\n",
        "X_spatial_test_1  = np.swapaxes(X_spatial_test_1, 1,3)\n",
        "X_spatial_test_1 = np.swapaxes(X_spatial_test_1 , 2,3)"
      ],
      "metadata": {
        "id": "hFjPC8XNvYW3"
      },
      "execution_count": 252,
      "outputs": []
    },
    {
      "cell_type": "code",
      "source": [
        "y_train_1 = keras.utils.to_categorical(y_train_1, num_classes)"
      ],
      "metadata": {
        "id": "XwHCw7DzxAHo"
      },
      "execution_count": 256,
      "outputs": []
    },
    {
      "cell_type": "code",
      "source": [
        "print(X_train_1.shape,y_train_1.shape, X_spatial_train_1.shape)\n",
        "print(X_test_subject_1.shape, y_test_subject_1.shape, X_spatial_test_1.shape)"
      ],
      "metadata": {
        "colab": {
          "base_uri": "https://localhost:8080/",
          "height": 0
        },
        "id": "3UITVGDtvaYO",
        "outputId": "0def01f4-2407-4132-bf4c-0cc74951abd4"
      },
      "execution_count": 257,
      "outputs": [
        {
          "output_type": "stream",
          "name": "stdout",
          "text": [
            "(948, 22, 250) (948, 4) (948, 250, 6, 7)\n",
            "(50, 22, 250) (50, 4) (50, 250, 6, 7)\n"
          ]
        }
      ]
    },
    {
      "cell_type": "code",
      "source": [
        "model.compile(loss='categorical_crossentropy', optimizer=opt, metrics=['acc'])\n",
        "history = model.fit(X_spatial_train_1, y_train_1, batch_size=64, epochs=100, callbacks = callbacks)"
      ],
      "metadata": {
        "colab": {
          "base_uri": "https://localhost:8080/",
          "height": 0
        },
        "id": "_puS7U-UwTeG",
        "outputId": "57ea3c8f-3716-405d-db60-15906082075e"
      },
      "execution_count": 267,
      "outputs": [
        {
          "output_type": "stream",
          "name": "stdout",
          "text": [
            "Epoch 1/100\n",
            "15/15 [==============================] - 3s 20ms/step - loss: 1.4719 - acc: 0.2416 - lr: 0.0010\n",
            "Epoch 2/100\n",
            "15/15 [==============================] - 0s 14ms/step - loss: 1.3926 - acc: 0.3312 - lr: 0.0010\n",
            "Epoch 3/100\n",
            "15/15 [==============================] - 0s 13ms/step - loss: 1.3768 - acc: 0.3186 - lr: 0.0010\n",
            "Epoch 4/100\n",
            "15/15 [==============================] - 0s 13ms/step - loss: 1.3434 - acc: 0.3576 - lr: 0.0010\n",
            "Epoch 5/100\n",
            "15/15 [==============================] - 0s 13ms/step - loss: 1.2801 - acc: 0.4177 - lr: 0.0010\n",
            "Epoch 6/100\n",
            "15/15 [==============================] - 0s 14ms/step - loss: 1.2427 - acc: 0.4325 - lr: 0.0010\n",
            "Epoch 7/100\n",
            "15/15 [==============================] - 0s 13ms/step - loss: 1.1909 - acc: 0.4747 - lr: 0.0010\n",
            "Epoch 8/100\n",
            "15/15 [==============================] - 0s 14ms/step - loss: 1.1651 - acc: 0.4916 - lr: 0.0010\n",
            "Epoch 9/100\n",
            "15/15 [==============================] - 0s 13ms/step - loss: 1.0964 - acc: 0.5158 - lr: 0.0010\n",
            "Epoch 10/100\n",
            "15/15 [==============================] - 0s 13ms/step - loss: 1.0203 - acc: 0.5612 - lr: 0.0010\n",
            "Epoch 11/100\n",
            "15/15 [==============================] - 0s 14ms/step - loss: 0.9577 - acc: 0.6181 - lr: 0.0010\n",
            "Epoch 12/100\n",
            "15/15 [==============================] - 0s 14ms/step - loss: 0.8847 - acc: 0.6319 - lr: 0.0010\n",
            "Epoch 13/100\n",
            "15/15 [==============================] - 0s 13ms/step - loss: 0.8502 - acc: 0.6656 - lr: 0.0010\n",
            "Epoch 14/100\n",
            "15/15 [==============================] - 0s 13ms/step - loss: 0.7632 - acc: 0.6920 - lr: 0.0010\n",
            "Epoch 15/100\n",
            "15/15 [==============================] - 0s 13ms/step - loss: 0.7563 - acc: 0.6909 - lr: 0.0010\n",
            "Epoch 16/100\n",
            "15/15 [==============================] - 0s 13ms/step - loss: 0.6936 - acc: 0.7226 - lr: 0.0010\n",
            "Epoch 17/100\n",
            "15/15 [==============================] - 0s 13ms/step - loss: 0.6401 - acc: 0.7479 - lr: 0.0010\n",
            "Epoch 18/100\n",
            "15/15 [==============================] - 0s 13ms/step - loss: 0.6096 - acc: 0.7574 - lr: 0.0010\n",
            "Epoch 19/100\n",
            "15/15 [==============================] - 0s 13ms/step - loss: 0.5215 - acc: 0.8059 - lr: 0.0010\n",
            "Epoch 20/100\n",
            "15/15 [==============================] - 0s 13ms/step - loss: 0.4854 - acc: 0.8196 - lr: 0.0010\n",
            "Epoch 21/100\n",
            "15/15 [==============================] - 0s 13ms/step - loss: 0.4837 - acc: 0.7975 - lr: 0.0010\n",
            "Epoch 22/100\n",
            "15/15 [==============================] - 0s 13ms/step - loss: 0.4694 - acc: 0.8186 - lr: 0.0010\n",
            "Epoch 23/100\n",
            "15/15 [==============================] - 0s 14ms/step - loss: 0.4466 - acc: 0.8449 - lr: 0.0010\n",
            "Epoch 24/100\n",
            "15/15 [==============================] - 0s 13ms/step - loss: 0.3733 - acc: 0.8618 - lr: 0.0010\n",
            "Epoch 25/100\n",
            "15/15 [==============================] - 0s 14ms/step - loss: 0.3716 - acc: 0.8745 - lr: 0.0010\n",
            "Epoch 26/100\n",
            "15/15 [==============================] - 0s 14ms/step - loss: 0.3245 - acc: 0.8797 - lr: 0.0010\n",
            "Epoch 27/100\n",
            "15/15 [==============================] - 0s 14ms/step - loss: 0.3944 - acc: 0.8365 - lr: 0.0010\n",
            "Epoch 28/100\n",
            "15/15 [==============================] - 0s 13ms/step - loss: 0.3634 - acc: 0.8565 - lr: 0.0010\n",
            "Epoch 29/100\n",
            "15/15 [==============================] - 0s 13ms/step - loss: 0.3294 - acc: 0.8755 - lr: 0.0010\n",
            "Epoch 30/100\n",
            "15/15 [==============================] - 0s 13ms/step - loss: 0.3169 - acc: 0.8892 - lr: 0.0010\n",
            "Epoch 31/100\n",
            "15/15 [==============================] - 0s 13ms/step - loss: 0.3241 - acc: 0.8724 - lr: 0.0010\n",
            "Epoch 32/100\n",
            "15/15 [==============================] - 0s 13ms/step - loss: 0.3054 - acc: 0.8755 - lr: 0.0010\n",
            "Epoch 33/100\n",
            "15/15 [==============================] - 0s 13ms/step - loss: 0.2916 - acc: 0.8861 - lr: 0.0010\n",
            "Epoch 34/100\n",
            "15/15 [==============================] - 0s 13ms/step - loss: 0.2724 - acc: 0.8977 - lr: 0.0010\n",
            "Epoch 35/100\n",
            "15/15 [==============================] - 0s 13ms/step - loss: 0.2616 - acc: 0.8924 - lr: 0.0010\n",
            "Epoch 36/100\n",
            "15/15 [==============================] - 0s 14ms/step - loss: 0.2471 - acc: 0.9093 - lr: 0.0010\n",
            "Epoch 37/100\n",
            "15/15 [==============================] - 0s 13ms/step - loss: 0.2142 - acc: 0.9230 - lr: 0.0010\n",
            "Epoch 38/100\n",
            "15/15 [==============================] - 0s 13ms/step - loss: 0.2274 - acc: 0.9167 - lr: 0.0010\n",
            "Epoch 39/100\n",
            "15/15 [==============================] - 0s 13ms/step - loss: 0.2167 - acc: 0.9209 - lr: 0.0010\n",
            "Epoch 40/100\n",
            "15/15 [==============================] - 0s 13ms/step - loss: 0.2061 - acc: 0.9283 - lr: 0.0010\n",
            "Epoch 41/100\n",
            "15/15 [==============================] - 0s 14ms/step - loss: 0.2106 - acc: 0.9272 - lr: 0.0010\n",
            "Epoch 42/100\n",
            "15/15 [==============================] - 0s 13ms/step - loss: 0.2237 - acc: 0.9177 - lr: 0.0010\n",
            "Epoch 43/100\n",
            "15/15 [==============================] - 0s 13ms/step - loss: 0.2244 - acc: 0.9093 - lr: 0.0010\n",
            "Epoch 44/100\n",
            "15/15 [==============================] - 0s 13ms/step - loss: 0.1909 - acc: 0.9262 - lr: 0.0010\n",
            "Epoch 45/100\n",
            "15/15 [==============================] - 0s 13ms/step - loss: 0.2166 - acc: 0.9135 - lr: 0.0010\n",
            "Epoch 46/100\n",
            "15/15 [==============================] - 0s 14ms/step - loss: 0.1622 - acc: 0.9430 - lr: 0.0010\n",
            "Epoch 47/100\n",
            "15/15 [==============================] - 0s 13ms/step - loss: 0.1773 - acc: 0.9283 - lr: 0.0010\n",
            "Epoch 48/100\n",
            "15/15 [==============================] - 0s 13ms/step - loss: 0.1743 - acc: 0.9314 - lr: 0.0010\n",
            "Epoch 49/100\n",
            "15/15 [==============================] - 0s 13ms/step - loss: 0.1604 - acc: 0.9420 - lr: 0.0010\n",
            "Epoch 50/100\n",
            "15/15 [==============================] - 0s 13ms/step - loss: 0.1472 - acc: 0.9462 - lr: 0.0010\n",
            "Epoch 51/100\n",
            "15/15 [==============================] - 0s 14ms/step - loss: 0.1416 - acc: 0.9483 - lr: 0.0010\n",
            "Epoch 52/100\n",
            "15/15 [==============================] - 0s 13ms/step - loss: 0.1533 - acc: 0.9494 - lr: 0.0010\n",
            "Epoch 53/100\n",
            "15/15 [==============================] - 0s 13ms/step - loss: 0.1540 - acc: 0.9430 - lr: 0.0010\n",
            "Epoch 54/100\n",
            "15/15 [==============================] - 0s 13ms/step - loss: 0.1377 - acc: 0.9515 - lr: 0.0010\n",
            "Epoch 55/100\n",
            "15/15 [==============================] - 0s 14ms/step - loss: 0.1397 - acc: 0.9504 - lr: 0.0010\n",
            "Epoch 56/100\n",
            "15/15 [==============================] - 0s 13ms/step - loss: 0.1195 - acc: 0.9589 - lr: 0.0010\n",
            "Epoch 57/100\n",
            "15/15 [==============================] - 0s 13ms/step - loss: 0.1577 - acc: 0.9399 - lr: 0.0010\n",
            "Epoch 58/100\n",
            "15/15 [==============================] - 0s 13ms/step - loss: 0.1329 - acc: 0.9494 - lr: 0.0010\n",
            "Epoch 59/100\n",
            "15/15 [==============================] - 0s 13ms/step - loss: 0.1329 - acc: 0.9473 - lr: 0.0010\n",
            "Epoch 60/100\n",
            "15/15 [==============================] - 0s 14ms/step - loss: 0.1298 - acc: 0.9483 - lr: 0.0010\n",
            "Epoch 61/100\n",
            "15/15 [==============================] - 0s 13ms/step - loss: 0.1258 - acc: 0.9536 - lr: 0.0010\n",
            "Epoch 62/100\n",
            "15/15 [==============================] - 0s 13ms/step - loss: 0.1420 - acc: 0.9473 - lr: 0.0010\n",
            "Epoch 63/100\n",
            "15/15 [==============================] - 0s 13ms/step - loss: 0.1236 - acc: 0.9599 - lr: 0.0010\n",
            "Epoch 64/100\n",
            "15/15 [==============================] - 0s 13ms/step - loss: 0.1039 - acc: 0.9641 - lr: 0.0010\n",
            "Epoch 65/100\n",
            "15/15 [==============================] - 0s 14ms/step - loss: 0.1005 - acc: 0.9652 - lr: 0.0010\n",
            "Epoch 66/100\n",
            "15/15 [==============================] - 0s 13ms/step - loss: 0.0841 - acc: 0.9757 - lr: 0.0010\n",
            "Epoch 67/100\n",
            "15/15 [==============================] - 0s 13ms/step - loss: 0.1105 - acc: 0.9568 - lr: 0.0010\n",
            "Epoch 68/100\n",
            "15/15 [==============================] - 0s 13ms/step - loss: 0.0943 - acc: 0.9694 - lr: 0.0010\n",
            "Epoch 69/100\n",
            "15/15 [==============================] - 0s 13ms/step - loss: 0.1079 - acc: 0.9599 - lr: 0.0010\n",
            "Epoch 70/100\n",
            "15/15 [==============================] - 0s 13ms/step - loss: 0.0844 - acc: 0.9736 - lr: 0.0010\n",
            "Epoch 71/100\n",
            "15/15 [==============================] - 0s 14ms/step - loss: 0.0940 - acc: 0.9684 - lr: 0.0010\n",
            "Epoch 72/100\n",
            "15/15 [==============================] - 0s 14ms/step - loss: 0.1118 - acc: 0.9557 - lr: 0.0010\n",
            "Epoch 73/100\n",
            "15/15 [==============================] - 0s 13ms/step - loss: 0.1470 - acc: 0.9451 - lr: 0.0010\n",
            "Epoch 74/100\n",
            "15/15 [==============================] - 0s 13ms/step - loss: 0.1049 - acc: 0.9631 - lr: 0.0010\n",
            "Epoch 75/100\n",
            "15/15 [==============================] - 0s 14ms/step - loss: 0.0966 - acc: 0.9610 - lr: 0.0010\n",
            "Epoch 76/100\n",
            "15/15 [==============================] - 0s 14ms/step - loss: 0.0806 - acc: 0.9705 - lr: 0.0010\n",
            "Epoch 77/100\n",
            "15/15 [==============================] - 0s 13ms/step - loss: 0.0685 - acc: 0.9800 - lr: 0.0010\n",
            "Epoch 78/100\n",
            "15/15 [==============================] - 0s 13ms/step - loss: 0.0679 - acc: 0.9789 - lr: 0.0010\n",
            "Epoch 79/100\n",
            "15/15 [==============================] - 0s 13ms/step - loss: 0.0799 - acc: 0.9757 - lr: 0.0010\n",
            "Epoch 80/100\n",
            "15/15 [==============================] - 0s 14ms/step - loss: 0.0803 - acc: 0.9694 - lr: 0.0010\n",
            "Epoch 81/100\n",
            "15/15 [==============================] - 0s 14ms/step - loss: 0.1030 - acc: 0.9631 - lr: 0.0010\n",
            "Epoch 82/100\n",
            "15/15 [==============================] - 0s 13ms/step - loss: 0.0814 - acc: 0.9736 - lr: 0.0010\n",
            "Epoch 83/100\n",
            "15/15 [==============================] - 0s 14ms/step - loss: 0.0713 - acc: 0.9821 - lr: 0.0010\n",
            "Epoch 84/100\n",
            "15/15 [==============================] - 0s 13ms/step - loss: 0.0527 - acc: 0.9842 - lr: 0.0010\n",
            "Epoch 85/100\n",
            "15/15 [==============================] - 0s 14ms/step - loss: 0.0742 - acc: 0.9726 - lr: 0.0010\n",
            "Epoch 86/100\n",
            "15/15 [==============================] - 0s 13ms/step - loss: 0.0882 - acc: 0.9641 - lr: 0.0010\n",
            "Epoch 87/100\n",
            "15/15 [==============================] - 0s 13ms/step - loss: 0.0750 - acc: 0.9736 - lr: 0.0010\n",
            "Epoch 88/100\n",
            "15/15 [==============================] - 0s 13ms/step - loss: 0.0723 - acc: 0.9747 - lr: 0.0010\n",
            "Epoch 89/100\n",
            "15/15 [==============================] - 0s 13ms/step - loss: 0.0844 - acc: 0.9736 - lr: 0.0010\n",
            "Epoch 90/100\n",
            "15/15 [==============================] - 0s 14ms/step - loss: 0.0650 - acc: 0.9778 - lr: 0.0010\n",
            "Epoch 91/100\n",
            "15/15 [==============================] - 0s 13ms/step - loss: 0.0727 - acc: 0.9747 - lr: 0.0010\n",
            "Epoch 92/100\n",
            "15/15 [==============================] - 0s 14ms/step - loss: 0.0868 - acc: 0.9684 - lr: 0.0010\n",
            "Epoch 93/100\n",
            "15/15 [==============================] - 0s 13ms/step - loss: 0.0687 - acc: 0.9778 - lr: 0.0010\n",
            "Epoch 94/100\n",
            "15/15 [==============================] - 0s 13ms/step - loss: 0.0716 - acc: 0.9757 - lr: 0.0010\n",
            "Epoch 95/100\n",
            "15/15 [==============================] - 0s 14ms/step - loss: 0.0592 - acc: 0.9831 - lr: 1.0000e-04\n",
            "Epoch 96/100\n",
            "15/15 [==============================] - 0s 13ms/step - loss: 0.0449 - acc: 0.9884 - lr: 1.0000e-04\n",
            "Epoch 97/100\n",
            "15/15 [==============================] - 0s 13ms/step - loss: 0.0494 - acc: 0.9842 - lr: 1.0000e-04\n",
            "Epoch 98/100\n",
            "15/15 [==============================] - 0s 13ms/step - loss: 0.0551 - acc: 0.9821 - lr: 1.0000e-04\n",
            "Epoch 99/100\n",
            "15/15 [==============================] - 0s 14ms/step - loss: 0.0573 - acc: 0.9863 - lr: 1.0000e-04\n",
            "Epoch 100/100\n",
            "15/15 [==============================] - 0s 13ms/step - loss: 0.0670 - acc: 0.9789 - lr: 1.0000e-04\n"
          ]
        }
      ]
    },
    {
      "cell_type": "code",
      "source": [
        "#Test accuracy for Subject 0\n",
        "\n",
        "test_loss_1, test_acc_1 = model.evaluate(X_spatial_test_1, y_test_subject_1)\n",
        "\n",
        "print(\"Test accuracy\", test_acc_1)\n",
        "print(\"Test loss\", test_loss_1)"
      ],
      "metadata": {
        "colab": {
          "base_uri": "https://localhost:8080/",
          "height": 0
        },
        "id": "fHoU2mFcwhai",
        "outputId": "ef7e05b3-5a76-4b2b-ddde-68410f5b6482"
      },
      "execution_count": 268,
      "outputs": [
        {
          "output_type": "stream",
          "name": "stdout",
          "text": [
            "2/2 [==============================] - 1s 10ms/step - loss: 1.8978 - acc: 0.6000\n",
            "Test accuracy 0.6000000238418579\n",
            "Test loss 1.8977808952331543\n"
          ]
        }
      ]
    },
    {
      "cell_type": "code",
      "source": [
        "#Test accuracy across all subjects\n",
        "\n",
        "test_loss_all, test_acc_all = model.evaluate(X_spatial_test, y_test)\n",
        "\n",
        "print(\"Test accuracy\", test_acc_all)\n",
        "print(\"Test loss\", test_loss_all)"
      ],
      "metadata": {
        "colab": {
          "base_uri": "https://localhost:8080/",
          "height": 0
        },
        "id": "N1IQp6BHxfNM",
        "outputId": "cfc44de9-fa6d-46d3-aec0-92dd7b452845"
      },
      "execution_count": 269,
      "outputs": [
        {
          "output_type": "stream",
          "name": "stdout",
          "text": [
            "14/14 [==============================] - 0s 7ms/step - loss: 3.9685 - acc: 0.3995\n",
            "Test accuracy 0.3995485305786133\n",
            "Test loss 3.968545436859131\n"
          ]
        }
      ]
    },
    {
      "cell_type": "code",
      "source": [
        "y_pred_1 = model.predict(X_spatial_test)"
      ],
      "metadata": {
        "id": "Ir2Jt2gxW8LE"
      },
      "execution_count": 272,
      "outputs": []
    },
    {
      "cell_type": "code",
      "source": [
        "matrix_one = confusion_matrix(y_test.argmax(axis=1), y_pred_1.argmax(axis=1))"
      ],
      "metadata": {
        "id": "NjWfTZMOV0mI"
      },
      "execution_count": 273,
      "outputs": []
    },
    {
      "cell_type": "code",
      "source": [
        "log_disp_one = ConfusionMatrixDisplay(matrix_one, display_labels=[769, 770, 771, 772]) \n",
        "log_disp_one.plot()"
      ],
      "metadata": {
        "colab": {
          "base_uri": "https://localhost:8080/",
          "height": 297
        },
        "id": "gGEfXLyXV9bs",
        "outputId": "8c09e592-8249-403d-ccf7-dd9d52904392"
      },
      "execution_count": 275,
      "outputs": [
        {
          "output_type": "execute_result",
          "data": {
            "text/plain": [
              "<sklearn.metrics._plot.confusion_matrix.ConfusionMatrixDisplay at 0x7f1c4287b310>"
            ]
          },
          "metadata": {},
          "execution_count": 275
        },
        {
          "output_type": "display_data",
          "data": {
            "text/plain": [
              "<Figure size 432x288 with 2 Axes>"
            ],
            "image/png": "[encoded data removed]"
          },
          "metadata": {
            "needs_background": "light"
          }
        }
      ]
    },
    {
      "cell_type": "code",
      "source": [
        "for j in range(9):\n",
        "  indeces = [ i for i in range(len(person_test)) if person_test[i]==j]\n",
        "  X_subject= X_test[indeces]\n",
        "  y_subject = y_test[indeces]\n",
        "  X_spatial_subject = spatial_prep(X_subject)\n",
        "  X_spatial_subject = np.swapaxes(X_spatial_subject, 1,3)\n",
        "  X_spatial_subject = np.swapaxes(X_spatial_subject, 2,3)\n",
        "\n",
        "  test_loss_subject, test_acc_subject = model.evaluate(X_spatial_subject, y_subject)\n",
        "  print(\"Statistics for subject \", j)\n",
        "  print(\"Test accuracy\", test_acc_subject)\n",
        "  print(\"Test loss\", test_loss_subject)"
      ],
      "metadata": {
        "colab": {
          "base_uri": "https://localhost:8080/",
          "height": 0
        },
        "id": "K7dLduBdWJg5",
        "outputId": "b6d1a4ea-85cc-4bde-9060-8edef903bd2f"
      },
      "execution_count": 276,
      "outputs": [
        {
          "output_type": "stream",
          "name": "stdout",
          "text": [
            "2/2 [==============================] - 0s 7ms/step - loss: 1.8978 - acc: 0.6000\n",
            "Statistics for subject  0\n",
            "Test accuracy 0.6000000238418579\n",
            "Test loss 1.8977808952331543\n",
            "2/2 [==============================] - 0s 7ms/step - loss: 4.4162 - acc: 0.3400\n",
            "Statistics for subject  1\n",
            "Test accuracy 0.3400000035762787\n",
            "Test loss 4.416205406188965\n",
            "2/2 [==============================] - 0s 9ms/step - loss: 2.0131 - acc: 0.5600\n",
            "Statistics for subject  2\n",
            "Test accuracy 0.5600000023841858\n",
            "Test loss 2.013089656829834\n",
            "2/2 [==============================] - 0s 9ms/step - loss: 3.6129 - acc: 0.3800\n",
            "Statistics for subject  3\n",
            "Test accuracy 0.3799999952316284\n",
            "Test loss 3.612865924835205\n",
            "2/2 [==============================] - 0s 10ms/step - loss: 4.9795 - acc: 0.4043\n",
            "Statistics for subject  4\n",
            "Test accuracy 0.40425533056259155\n",
            "Test loss 4.979465961456299\n",
            "2/2 [==============================] - 0s 9ms/step - loss: 6.1326 - acc: 0.2653\n",
            "Statistics for subject  5\n",
            "Test accuracy 0.26530611515045166\n",
            "Test loss 6.132593154907227\n",
            "2/2 [==============================] - 0s 9ms/step - loss: 3.2692 - acc: 0.3800\n",
            "Statistics for subject  6\n",
            "Test accuracy 0.3799999952316284\n",
            "Test loss 3.2691924571990967\n",
            "2/2 [==============================] - 0s 9ms/step - loss: 4.1357 - acc: 0.3800\n",
            "Statistics for subject  7\n",
            "Test accuracy 0.3799999952316284\n",
            "Test loss 4.135655879974365\n",
            "2/2 [==============================] - 0s 9ms/step - loss: 5.4531 - acc: 0.2766\n",
            "Statistics for subject  8\n",
            "Test accuracy 0.27659574151039124\n",
            "Test loss 5.453065872192383\n"
          ]
        }
      ]
    }
  ]
}