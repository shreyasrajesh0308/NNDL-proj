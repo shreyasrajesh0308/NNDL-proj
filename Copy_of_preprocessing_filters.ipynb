{
  "nbformat": 4,
  "nbformat_minor": 0,
  "metadata": {
    "colab": {
      "name": "Copy of preprocessing_filters.ipynb",
      "provenance": [],
      "include_colab_link": true
    },
    "kernelspec": {
      "name": "python3",
      "display_name": "Python 3"
    },
    "language_info": {
      "name": "python"
    },
    "accelerator": "GPU"
  },
  "cells": [
    {
      "cell_type": "markdown",
      "metadata": {
        "id": "view-in-github",
        "colab_type": "text"
      },
      "source": [
        "<a href=\"https://colab.research.google.com/github/shreyasrajesh0308/NNDL-proj/blob/main/Copy_of_preprocessing_filters.ipynb\" target=\"_parent\"><img src=\"https://colab.research.google.com/assets/colab-badge.svg\" alt=\"Open In Colab\"/></a>"
      ]
    },
    {
      "cell_type": "markdown",
      "source": [
        "Model Paper: "
      ],
      "metadata": {
        "id": "Wy-ORg0nyKtV"
      }
    },
    {
      "cell_type": "markdown",
      "source": [
        "### Load Data \n",
        "\n",
        "Load preprocessed data"
      ],
      "metadata": {
        "id": "5Fl4uJtrAqU0"
      }
    },
    {
      "cell_type": "code",
      "source": [
        "from google.colab import drive\n",
        "drive.mount('/content/drive')"
      ],
      "metadata": {
        "id": "Scu17GL9A7i5",
        "colab": {
          "base_uri": "https://localhost:8080/"
        },
        "outputId": "a17446d8-bd51-445a-ec54-b357b7be2b29"
      },
      "execution_count": 2,
      "outputs": [
        {
          "output_type": "stream",
          "name": "stdout",
          "text": [
            "Drive already mounted at /content/drive; to attempt to forcibly remount, call drive.mount(\"/content/drive\", force_remount=True).\n"
          ]
        }
      ]
    },
    {
      "cell_type": "code",
      "source": [
        "import numpy as np\n",
        "from tensorflow import keras\n",
        "from tensorflow.keras import layers\n",
        "from matplotlib import pyplot as plt\n",
        "from sklearn.model_selection import GridSearchCV\n",
        "from keras.wrappers.scikit_learn import KerasClassifier"
      ],
      "metadata": {
        "id": "2gXQ7pXTIqqT"
      },
      "execution_count": 3,
      "outputs": []
    },
    {
      "cell_type": "code",
      "source": [
        "\n",
        "X_test = np.load(\"/content/drive/MyDrive/eeg_project/X_test.npy\")\n",
        "y_test = np.load(\"/content/drive/MyDrive/eeg_project/y_test.npy\")\n",
        "person_train_valid = np.load(\"/content/drive/MyDrive/eeg_project/person_train_valid.npy\")\n",
        "X_train_valid = np.load(\"/content/drive/MyDrive/eeg_project/X_train_valid.npy\")\n",
        "y_train_valid = np.load(\"/content/drive/MyDrive/eeg_project/y_train_valid.npy\")\n",
        "person_test = np.load(\"/content/drive/MyDrive/eeg_project/person_test.npy\")\n"
      ],
      "metadata": {
        "id": "foTd2q3JIreb"
      },
      "execution_count": 4,
      "outputs": []
    },
    {
      "cell_type": "code",
      "source": [
        "print ('Training/Valid data shape: {}'.format(X_train_valid.shape))\n",
        "print ('Test data shape: {}'.format(X_test.shape))\n",
        "print ('Training/Valid target shape: {}'.format(y_train_valid.shape))\n",
        "print ('Test target shape: {}'.format(y_test.shape))\n",
        "print ('Person train/valid shape: {}'.format(person_train_valid.shape))\n",
        "print ('Person test shape: {}'.format(person_test.shape))\n"
      ],
      "metadata": {
        "id": "g6VAQSVEUtIW",
        "colab": {
          "base_uri": "https://localhost:8080/"
        },
        "outputId": "d32b508f-66b7-441d-f23c-93204a49dadd"
      },
      "execution_count": 5,
      "outputs": [
        {
          "output_type": "stream",
          "name": "stdout",
          "text": [
            "Training/Valid data shape: (2115, 22, 1000)\n",
            "Test data shape: (443, 22, 1000)\n",
            "Training/Valid target shape: (2115,)\n",
            "Test target shape: (443,)\n",
            "Person train/valid shape: (2115, 1)\n",
            "Person test shape: (443, 1)\n"
          ]
        }
      ]
    },
    {
      "cell_type": "code",
      "source": [
        "print(np.unique(y_train_valid))\n",
        "print(np.unique(y_test))"
      ],
      "metadata": {
        "colab": {
          "base_uri": "https://localhost:8080/"
        },
        "id": "bhxR60r5IzuR",
        "outputId": "5a8650c3-d188-4c51-b455-31f4786fdded"
      },
      "execution_count": 6,
      "outputs": [
        {
          "output_type": "stream",
          "name": "stdout",
          "text": [
            "[769 770 771 772]\n",
            "[769 770 771 772]\n"
          ]
        }
      ]
    },
    {
      "cell_type": "code",
      "source": [
        "num_classes = 4\n",
        "y_train_valid = y_train_valid-769\n",
        "y_test = y_test-769"
      ],
      "metadata": {
        "id": "U4K1wzmfI4Rb"
      },
      "execution_count": 7,
      "outputs": []
    },
    {
      "cell_type": "code",
      "source": [
        "def data_prep(X,y,sub_sample,average,noise):\n",
        "    \n",
        "    total_X = None\n",
        "    total_y = None\n",
        "    \n",
        "    # Trimming the data (sample,22,1000) -> (sample,22,500)\n",
        "    X = X[:,:,0:500]\n",
        "    print('Shape of X after trimming:',X.shape)\n",
        "    \n",
        "    # Maxpooling the data (sample,22,1000) -> (sample,22,500/sub_sample)\n",
        "    X_max = np.max(X.reshape(X.shape[0], X.shape[1], -1, sub_sample), axis=3)\n",
        "    \n",
        "    \n",
        "    total_X = X_max\n",
        "    total_y = y\n",
        "    print('Shape of X after maxpooling:',total_X.shape)\n",
        "    \n",
        "    # Averaging + noise \n",
        "    X_average = np.mean(X.reshape(X.shape[0], X.shape[1], -1, average),axis=3)\n",
        "    X_average = X_average + np.random.normal(0.0, 0.5, X_average.shape)\n",
        "    \n",
        "    total_X = np.vstack((total_X, X_average))\n",
        "    total_y = np.hstack((total_y, y))\n",
        "    print('Shape of X after averaging+noise and concatenating:',total_X.shape)\n",
        "    \n",
        "    # Subsampling\n",
        "    \n",
        "    for i in range(sub_sample):\n",
        "        \n",
        "        X_subsample = X[:, :, i::sub_sample] + \\\n",
        "                            (np.random.normal(0.0, 0.5, X[:, :,i::sub_sample].shape) if noise else 0.0)\n",
        "            \n",
        "        total_X = np.vstack((total_X, X_subsample))\n",
        "        total_y = np.hstack((total_y, y))\n",
        "        \n",
        "    \n",
        "    print('Shape of X after subsampling and concatenating:',total_X.shape)\n",
        "    return total_X,total_y\n",
        "\n",
        "\n",
        "X_train_valid_prep,y_train_valid_prep = data_prep(X_train_valid,y_train_valid,2,2,True)\n"
      ],
      "metadata": {
        "colab": {
          "base_uri": "https://localhost:8080/"
        },
        "id": "0-ubjiWDpR_W",
        "outputId": "63352c12-0e1a-4f8a-eb6c-705285e4fc61"
      },
      "execution_count": 9,
      "outputs": [
        {
          "output_type": "stream",
          "name": "stdout",
          "text": [
            "Shape of X after trimming: (2115, 22, 500)\n",
            "Shape of X after maxpooling: (2115, 22, 250)\n",
            "Shape of X after averaging+noise and concatenating: (4230, 22, 250)\n",
            "Shape of X after subsampling and concatenating: (8460, 22, 250)\n"
          ]
        }
      ]
    },
    {
      "cell_type": "code",
      "source": [
        "def data_prep_test(X,y, sub_sample=2):\n",
        "    \n",
        "    total_X = None\n",
        "    total_y = None\n",
        "    \n",
        "    # Trimming the data (sample,22,1000) -> (sample,22,500)\n",
        "    X = X[:,:,0:500]\n",
        "    print('Shape of X after trimming:',X.shape)\n",
        "    \n",
        "    # Maxpooling the data (sample,22,1000) -> (sample,22,500/sub_sample)\n",
        "    X_max = np.max(X.reshape(X.shape[0], X.shape[1], -1, sub_sample), axis=3)\n",
        "    \n",
        "    \n",
        "    total_X = X_max\n",
        "    total_y = y\n",
        "    print('Shape of X after maxpooling:',total_X.shape)\n",
        "    return total_X,total_y\n",
        "\n",
        "\n",
        "X_test,y_test = data_prep_test(X_test, y_test,2)\n"
      ],
      "metadata": {
        "colab": {
          "base_uri": "https://localhost:8080/"
        },
        "id": "IhtalewhtI6R",
        "outputId": "d59acae9-266d-4755-de98-4cccee68eff5"
      },
      "execution_count": 10,
      "outputs": [
        {
          "output_type": "stream",
          "name": "stdout",
          "text": [
            "Shape of X after trimming: (443, 22, 500)\n",
            "Shape of X after maxpooling: (443, 22, 250)\n"
          ]
        }
      ]
    },
    {
      "cell_type": "code",
      "source": [
        "def spatial_prep(X):\n",
        "  # new_X = []\n",
        "  # X = X.tolist()\n",
        "  X = np.swapaxes(X, 0, 1)\n",
        "\n",
        "  sh = (X.shape[1],X.shape[2])\n",
        "  new_X = np.array([[np.zeros(sh), np.zeros(sh), np.zeros(sh), X[0,:,:], np.zeros(sh), np.zeros(sh), np.zeros(sh)],\n",
        "                [np.zeros(sh), X[1,:,:], X[2,:,:], X[3,:,:], X[4,:,:], X[5,:,:], np.zeros(sh)],\n",
        "                [X[6,:,:],X[7,:,:],X[8,:,:],X[9,:,:],X[10,:,:],X[11,:,:],X[12,:,:]],\n",
        "                [np.zeros(sh), X[13,:,:],X[14,:,:],X[15,:,:],X[16,:,:],X[17,:,:], np.zeros(sh)],\n",
        "                [np.zeros(sh), np.zeros(sh), X[18,:,:],X[19,:,:],X[20,:,:], np.zeros(sh), np.zeros(sh)],\n",
        "                [np.zeros(sh), np.zeros(sh), np.zeros(sh), X[21,:,:], np.zeros(sh), np.zeros(sh), np.zeros(sh)]])\n",
        "\n",
        "  # for x_seq in X:\n",
        "  #   n = len(X)\n",
        "  #   # new_seq_X = np.array([np.array([np.zeros(n), np.zeros(n), np.zeros(n), np.array(x_seq[0]), np.zeros(n), np.zeros(n), np.zeros(n)]),\n",
        "  #   #              np.array([np.zeros(n), np.array(x_seq[1]), np.array(x_seq[2]), np.array(x_seq[3]), np.array(x_seq[4]), np.array(x_seq[5]), np.zeros(n)]),\n",
        "  #   #              np.array([np.array(x_seq[6]), np.array(x_seq[7]), np.array(x_seq[8]), np.array(x_seq[9]), np.array(x_seq[10]), np.array(x_seq[11]), np.array(x_seq[12])]),\n",
        "  #   #              np.array([np.zeros(n), np.array(x_seq[13]), np.array(x_seq[14]), np.array(x_seq[15]), np.array(x_seq[16]), np.array(x_seq[17]), np.zeros(n)]),\n",
        "  #   #              np.array([np.zeros(n), np.zeros(n), np.array(x_seq[18]), np.array(x_seq[19]), np.array(x_seq[20]), np.zeros(n), np.zeros(n)]),\n",
        "  #   #              np.array([np.zeros(n), np.zeros(n), np.zeros(n), np.array(x_seq[21]), np.zeros(n), np.zeros(n), np.zeros(n)])])\n",
        "  #   # new_X.append(new_seq_X)\n",
        "  #   new_seq_X = np.array([[[0]*n, [0]*n, [0]*n, x_seq[0], [0]*n, [0]*n, [0]*n ],\n",
        "  #                [[0]*n, x_seq[1], x_seq[2], x_seq[3], x_seq[4], x_seq[5], [0]*n ],\n",
        "  #                [x_seq[6], x_seq[7], x_seq[8], x_seq[9], x_seq[10], x_seq[11], x_seq[12]],\n",
        "  #                [[0]*n, x_seq[13], x_seq[14], x_seq[15], x_seq[16], x_seq[17], [0]*n],\n",
        "  #                [[0]*n, [0]*n, x_seq[18], x_seq[19], x_seq[20], [0]*n, [0]*n],\n",
        "  #                [[0]*n, [0]*n, [0]*n, x_seq[21], [0]*n, [0]*n, [0]*n]])\n",
        "  #   new_X.append(new_seq_X)\n",
        "\n",
        "  # new_X = np.array(new_X)\n",
        "  new_X = np.swapaxes(new_X, 0,2)\n",
        "  new_X = np.swapaxes(new_X, 1,2)\n",
        "  return new_X"
      ],
      "metadata": {
        "id": "-u8tro1jwuon"
      },
      "execution_count": 11,
      "outputs": []
    },
    {
      "cell_type": "code",
      "source": [
        "X_spatial_prep = spatial_prep(X_train_valid_prep)"
      ],
      "metadata": {
        "id": "flRuB5gPygqF"
      },
      "execution_count": 12,
      "outputs": []
    },
    {
      "cell_type": "code",
      "source": [
        "X_spatial_test = spatial_prep(X_test)"
      ],
      "metadata": {
        "id": "spWmKQWT3qd1"
      },
      "execution_count": 13,
      "outputs": []
    },
    {
      "cell_type": "code",
      "source": [
        "print(X_spatial_prep.shape, X_spatial_test.shape)"
      ],
      "metadata": {
        "colab": {
          "base_uri": "https://localhost:8080/"
        },
        "id": "l3rD3lYUyumZ",
        "outputId": "82e230de-5b03-4793-f25b-40b6bb40fe53"
      },
      "execution_count": 14,
      "outputs": [
        {
          "output_type": "stream",
          "name": "stdout",
          "text": [
            "(8460, 6, 7, 250) (443, 6, 7, 250)\n"
          ]
        }
      ]
    },
    {
      "cell_type": "code",
      "source": [
        "np.max(X_train_valid_prep)\n",
        "plt.plot(X_train_valid_prep[1][1], color = 'blue')"
      ],
      "metadata": {
        "colab": {
          "base_uri": "https://localhost:8080/",
          "height": 283
        },
        "id": "jmOr3kYqxN-A",
        "outputId": "f55445fa-7f5e-4256-e400-fceb774b0d95"
      },
      "execution_count": 15,
      "outputs": [
        {
          "output_type": "execute_result",
          "data": {
            "text/plain": [
              "[<matplotlib.lines.Line2D at 0x7fc4e1853b50>]"
            ]
          },
          "metadata": {},
          "execution_count": 15
        },
        {
          "output_type": "display_data",
          "data": {
            "image/png": "[encoded data removed]",
            "text/plain": [
              "<Figure size 432x288 with 1 Axes>"
            ]
          },
          "metadata": {
            "needs_background": "light"
          }
        }
      ]
    },
    {
      "cell_type": "code",
      "source": [
        "X_train_copy = X_train_valid_prep.copy()\n",
        "X_test_copy = X_test.copy()\n",
        "\n",
        "from scipy import signal\n",
        "\n",
        "n, wn = signal.buttord(wp=[8, 13], ws=[6, 18], fs=250, gpass=1, gstop=36)\n",
        "sos1 = signal.butter(n, wn, btype='bandpass', fs=250, output='sos')\n",
        "\n",
        "n, wn = signal.buttord(wp=[13, 30], ws=[8, 48], fs=250, gpass=1, gstop=36)\n",
        "sos2 = signal.butter(n, wn, btype='bandpass', fs=250, output='sos')\n",
        "\n",
        "X_train_valid_filtered_1 = signal.sosfiltfilt(sos1, X_train_valid_prep, axis=-1)\n",
        "X_train_valid_filtered_2 = signal.sosfiltfilt(sos2, X_train_valid_prep, axis=-1)\n",
        "X_test_filtered_1 = signal.sosfiltfilt(sos1, X_test, axis=-1)\n",
        "X_test_filtered_2 = signal.sosfiltfilt(sos2, X_test, axis=-1)\n",
        "\n",
        "X_train_valid_prep = np.concatenate([X_train_valid_filtered_1, X_train_valid_filtered_2], axis=1)\n",
        "X_test = np.concatenate([X_test_filtered_1, X_test_filtered_2], axis = 1)\n",
        "\n",
        "# y_train_valid_prep = np.concatenate([y_train_valid_prep,y_train_valid_prep], axis=0)\n",
        "# y_test = np.concatenate([y_test, y_test], a)"
      ],
      "metadata": {
        "id": "PZ-1BIQ5JDN_"
      },
      "execution_count": 16,
      "outputs": []
    },
    {
      "cell_type": "code",
      "source": [
        "plt.plot(X_train_valid_prep[0][0], color = 'blue')\n",
        "plt.plot(X_train_copy[0][0], color = 'orange')"
      ],
      "metadata": {
        "colab": {
          "base_uri": "https://localhost:8080/",
          "height": 283
        },
        "id": "mOUuYZ2VMd26",
        "outputId": "ad437f54-1578-4110-d65f-92b2e6f42b68"
      },
      "execution_count": 30,
      "outputs": [
        {
          "output_type": "execute_result",
          "data": {
            "text/plain": [
              "[<matplotlib.lines.Line2D at 0x7fc46698e490>]"
            ]
          },
          "metadata": {},
          "execution_count": 30
        },
        {
          "output_type": "display_data",
          "data": {
            "image/png": "[encoded data removed]",
            "text/plain": [
              "<Figure size 432x288 with 1 Axes>"
            ]
          },
          "metadata": {
            "needs_background": "light"
          }
        }
      ]
    },
    {
      "cell_type": "code",
      "source": [
        "\n",
        "y_train_valid_prep = keras.utils.to_categorical(y_train_valid_prep, num_classes)\n",
        "y_test = keras.utils.to_categorical(y_test, num_classes)"
      ],
      "metadata": {
        "id": "NZWq7ZCFq5z9"
      },
      "execution_count": 18,
      "outputs": []
    },
    {
      "cell_type": "code",
      "source": [
        "print(X_train_valid_prep.shape,y_train_valid_prep.shape, X_spatial_prep.shape, X_spatial_test.shape)\n",
        "print(X_test.shape, y_test.shape)"
      ],
      "metadata": {
        "colab": {
          "base_uri": "https://localhost:8080/"
        },
        "id": "YFZfw6CuqeBs",
        "outputId": "3f7bb0c5-0efd-4f78-951c-1ebe03231c09"
      },
      "execution_count": 19,
      "outputs": [
        {
          "output_type": "stream",
          "name": "stdout",
          "text": [
            "(8460, 44, 250) (8460, 4) (8460, 6, 7, 250) (443, 6, 7, 250)\n",
            "(443, 44, 250) (443, 4)\n"
          ]
        }
      ]
    },
    {
      "cell_type": "code",
      "source": [
        "X_spatial_prep  = np.swapaxes(X_spatial_prep , 1,3)\n",
        "X_spatial_prep = np.swapaxes(X_spatial_prep , 2,3)\n",
        "X_spatial_test  = np.swapaxes(X_spatial_test , 1,3)\n",
        "X_spatial_test = np.swapaxes(X_spatial_test , 2,3)"
      ],
      "metadata": {
        "id": "b3_pN5eAY1bg"
      },
      "execution_count": null,
      "outputs": []
    },
    {
      "cell_type": "code",
      "source": [
        "X_spatial_prep = X_spatial_prep.reshape(*X_spatial_prep.shape, 1)\n",
        "X_spatial_test = X_spatial_test.reshape(*X_spatial_test.shape, 1)"
      ],
      "metadata": {
        "id": "FeiaaX6qX3-e"
      },
      "execution_count": null,
      "outputs": []
    },
    {
      "cell_type": "code",
      "source": [
        "print(X_train_valid_prep.shape,y_train_valid_prep.shape, X_spatial_prep.shape, X_spatial_test.shape)\n",
        "print(X_test.shape, y_test.shape)"
      ],
      "metadata": {
        "colab": {
          "base_uri": "https://localhost:8080/"
        },
        "id": "1MC6IQn7YEF-",
        "outputId": "557fa17a-6bc7-4b73-8c1f-5ce4b69f676e"
      },
      "execution_count": 20,
      "outputs": [
        {
          "output_type": "stream",
          "name": "stdout",
          "text": [
            "(8460, 44, 250) (8460, 4) (8460, 6, 7, 250) (443, 6, 7, 250)\n",
            "(443, 44, 250) (443, 4)\n"
          ]
        }
      ]
    },
    {
      "cell_type": "markdown",
      "source": [
        "## CNN + GRU model with all subjects"
      ],
      "metadata": {
        "id": "IxgOEM-3WIPG"
      }
    },
    {
      "cell_type": "code",
      "source": [
        "from keras.layers import Conv2D, BatchNormalization, Activation, Flatten, Dense, Dropout, LSTM, Input, TimeDistributed, Permute, Reshape, MaxPooling2D, GRU\n",
        "from keras import initializers, Model, optimizers, callbacks\n",
        "from keras import Sequential\n",
        "from keras import backend as K\n",
        "from keras.models import load_model\n",
        "from keras.callbacks import Callback\n",
        "from sklearn.preprocessing import OneHotEncoder, StandardScaler\n",
        "from sklearn.metrics import confusion_matrix, f1_score, precision_score, recall_score"
      ],
      "metadata": {
        "id": "GswnoLTxWgFD"
      },
      "execution_count": 21,
      "outputs": []
    },
    {
      "cell_type": "code",
      "source": [
        "## Complicated Model - the same as Zhang`s\n",
        "# input_shape = (250, 6, 7, 1)\n",
        "# lecun = initializers.lecun_normal(seed=42)\n",
        "\n",
        "# # TimeDistributed Wrapper\n",
        "# def timeDist(layer, prev_layer, name):\n",
        "#     return TimeDistributed(layer, name=name)(prev_layer)\n",
        "    \n",
        "# # Input layer\n",
        "# inputs = Input(shape=input_shape)\n",
        "\n",
        "# # Convolutional layers block\n",
        "# x = timeDist(Conv2D(32, (3,3), padding='same', \n",
        "#                     data_format='channels_last', kernel_initializer=lecun), inputs, name='CNN1')\n",
        "# x = BatchNormalization(name='batch1')(x)\n",
        "# x = Activation('elu', name='act1')(x)\n",
        "# x = timeDist(Conv2D(64, (3,3), padding='same', data_format='channels_last', kernel_initializer=lecun), x, name='CNN2')\n",
        "# x = BatchNormalization(name='batch2')(x)\n",
        "# x = Activation('elu', name='act2')(x)\n",
        "# x = timeDist(Conv2D(128, (3,3), padding='same', data_format='channels_last', kernel_initializer=lecun), x, name='CNN3')\n",
        "# x = BatchNormalization(name='batch3')(x)\n",
        "# x = Activation('elu', name='act3')(x)\n",
        "# x = timeDist(Flatten(), x, name='flatten')\n",
        "\n",
        "# # Fully connected layer block\n",
        "# y = Dense(64, kernel_initializer=lecun, name='FC')(x)\n",
        "# y = Dropout(0.5, name='dropout1')(y)\n",
        "# y = BatchNormalization(name='batch4')(y)\n",
        "# y = Activation(activation='elu')(y)\n",
        "\n",
        "# # Recurrent layers block\n",
        "# #z = LSTM(64, kernel_initializer=lecun, return_sequences=True, name='LSTM1')(y)\n",
        "# z = LSTM(64, kernel_initializer=lecun, name='LSTM2')(y)\n",
        "\n",
        "# # Fully connected layer block\n",
        "# h = Dense(128, kernel_initializer=lecun, activation='relu', name='FC2')(z)\n",
        "# h = Dropout(0.5, name='dropout2')(h)\n",
        "\n",
        "# # Output layer\n",
        "# outputs = Dense(4, activation='softmax')(h)\n",
        "\n",
        "# # Model compile\n",
        "# model = Model(inputs=inputs, outputs=outputs)\n",
        "# model.summary()\n",
        "\n",
        "lecun = initializers.lecun_normal(seed=42)\n",
        "\n",
        "model = Sequential()\n",
        "\n",
        "model.add(Permute((2, 1), input_shape=(44, 250)))\n",
        "model.add(Reshape((250, 44, 1)))\n",
        "\n",
        "model.add(Conv2D(filters=25, kernel_size=(10,1), kernel_initializer = lecun, strides=1, data_format=\"channels_last\"))\n",
        "model.add(Conv2D(filters=25, kernel_size=(1,44), kernel_initializer = lecun ))\n",
        "model.add(BatchNormalization())\n",
        "model.add(Activation(activation = 'elu'))\n",
        "model.add(MaxPooling2D(pool_size = (3,1), strides = (3,1)))\n",
        "model.add(Dropout(0.5))\n",
        "\n",
        "# Conv Pool Block 2\n",
        "model.add(Conv2D(filters = 50, kernel_size = (10,1), activation = 'elu', kernel_initializer = lecun))\n",
        "model.add(BatchNormalization())\n",
        "model.add(Activation(activation = 'elu'))\n",
        "model.add(MaxPooling2D(pool_size = (3,1), strides = (3,1)))\n",
        "model.add(Dropout(0.5))\n",
        "\n",
        "model.add(Permute((1, 3, 2)))\n",
        "model.add(Reshape((23, 50)))\n",
        "\n",
        "# GRU layers\n",
        "model.add(GRU(16, return_sequences=True))\n",
        "model.add(GRU(16, return_sequences=True))\n",
        "# model.add(GRU(16, return_sequences=True))\n",
        "# model.add(GRU(16, return_sequences=True))\n",
        "model.add(Dropout(0.5))\n",
        "\n",
        "# Dense layers\n",
        "model.add(Flatten())\n",
        "model.add(Dense(units=4, activation='softmax'))\n",
        "\n",
        "model.compile(loss='categorical_crossentropy',\n",
        "              optimizer='adam',\n",
        "              metrics=['accuracy'])\n",
        "\n",
        "print(model.summary())\n"
      ],
      "metadata": {
        "colab": {
          "base_uri": "https://localhost:8080/"
        },
        "id": "BSm44W_mWdxt",
        "outputId": "aacaaa3d-cccb-42a0-df32-3225f38d7aa4"
      },
      "execution_count": 22,
      "outputs": [
        {
          "output_type": "stream",
          "name": "stdout",
          "text": [
            "Model: \"sequential\"\n",
            "_________________________________________________________________\n",
            " Layer (type)                Output Shape              Param #   \n",
            "=================================================================\n",
            " permute (Permute)           (None, 250, 44)           0         \n",
            "                                                                 \n",
            " reshape (Reshape)           (None, 250, 44, 1)        0         \n",
            "                                                                 \n",
            " conv2d (Conv2D)             (None, 241, 44, 25)       275       \n",
            "                                                                 \n",
            " conv2d_1 (Conv2D)           (None, 241, 1, 25)        27525     \n",
            "                                                                 \n",
            " batch_normalization (BatchN  (None, 241, 1, 25)       100       \n",
            " ormalization)                                                   \n",
            "                                                                 \n",
            " activation (Activation)     (None, 241, 1, 25)        0         \n",
            "                                                                 \n",
            " max_pooling2d (MaxPooling2D  (None, 80, 1, 25)        0         \n",
            " )                                                               \n",
            "                                                                 \n",
            " dropout (Dropout)           (None, 80, 1, 25)         0         \n",
            "                                                                 \n",
            " conv2d_2 (Conv2D)           (None, 71, 1, 50)         12550     \n",
            "                                                                 \n",
            " batch_normalization_1 (Batc  (None, 71, 1, 50)        200       \n",
            " hNormalization)                                                 \n",
            "                                                                 \n",
            " activation_1 (Activation)   (None, 71, 1, 50)         0         \n",
            "                                                                 \n",
            " max_pooling2d_1 (MaxPooling  (None, 23, 1, 50)        0         \n",
            " 2D)                                                             \n",
            "                                                                 \n",
            " dropout_1 (Dropout)         (None, 23, 1, 50)         0         \n",
            "                                                                 \n",
            " permute_1 (Permute)         (None, 23, 50, 1)         0         \n",
            "                                                                 \n",
            " reshape_1 (Reshape)         (None, 23, 50)            0         \n",
            "                                                                 \n",
            " gru (GRU)                   (None, 23, 16)            3264      \n",
            "                                                                 \n",
            " gru_1 (GRU)                 (None, 23, 16)            1632      \n",
            "                                                                 \n",
            " dropout_2 (Dropout)         (None, 23, 16)            0         \n",
            "                                                                 \n",
            " flatten (Flatten)           (None, 368)               0         \n",
            "                                                                 \n",
            " dense (Dense)               (None, 4)                 1476      \n",
            "                                                                 \n",
            "=================================================================\n",
            "Total params: 47,022\n",
            "Trainable params: 46,872\n",
            "Non-trainable params: 150\n",
            "_________________________________________________________________\n",
            "None\n"
          ]
        }
      ]
    },
    {
      "cell_type": "code",
      "source": [
        "model.compile(loss='categorical_crossentropy', optimizer='adam', metrics=['acc'])\n",
        "history = model.fit(X_train_valid_prep, y_train_valid_prep, batch_size=64, epochs=300, shuffle=True,\n",
        "                    validation_split=0.2)"
      ],
      "metadata": {
        "colab": {
          "base_uri": "https://localhost:8080/"
        },
        "id": "vQNJ4-8OXRB0",
        "outputId": "1d17fcfb-81c0-4934-8503-2f0c28064a37"
      },
      "execution_count": 26,
      "outputs": [
        {
          "output_type": "stream",
          "name": "stdout",
          "text": [
            "Epoch 1/300\n",
            "106/106 [==============================] - 9s 43ms/step - loss: 0.6846 - acc: 0.7222 - val_loss: 0.4162 - val_acc: 0.8546\n",
            "Epoch 2/300\n",
            "106/106 [==============================] - 3s 30ms/step - loss: 0.6669 - acc: 0.7397 - val_loss: 0.3990 - val_acc: 0.8682\n",
            "Epoch 3/300\n",
            "106/106 [==============================] - 3s 30ms/step - loss: 0.6677 - acc: 0.7397 - val_loss: 0.3968 - val_acc: 0.8641\n",
            "Epoch 4/300\n",
            "106/106 [==============================] - 3s 30ms/step - loss: 0.6534 - acc: 0.7425 - val_loss: 0.4123 - val_acc: 0.8564\n",
            "Epoch 5/300\n",
            "106/106 [==============================] - 3s 30ms/step - loss: 0.6549 - acc: 0.7425 - val_loss: 0.3960 - val_acc: 0.8670\n",
            "Epoch 6/300\n",
            "106/106 [==============================] - 3s 30ms/step - loss: 0.6627 - acc: 0.7419 - val_loss: 0.4112 - val_acc: 0.8617\n",
            "Epoch 7/300\n",
            "106/106 [==============================] - 3s 30ms/step - loss: 0.6537 - acc: 0.7394 - val_loss: 0.3913 - val_acc: 0.8771\n",
            "Epoch 8/300\n",
            "106/106 [==============================] - 3s 30ms/step - loss: 0.6510 - acc: 0.7377 - val_loss: 0.3978 - val_acc: 0.8664\n",
            "Epoch 9/300\n",
            "106/106 [==============================] - 3s 30ms/step - loss: 0.6586 - acc: 0.7405 - val_loss: 0.3968 - val_acc: 0.8629\n",
            "Epoch 10/300\n",
            "106/106 [==============================] - 3s 30ms/step - loss: 0.6457 - acc: 0.7425 - val_loss: 0.3849 - val_acc: 0.8771\n",
            "Epoch 11/300\n",
            "106/106 [==============================] - 3s 30ms/step - loss: 0.6398 - acc: 0.7422 - val_loss: 0.3879 - val_acc: 0.8717\n",
            "Epoch 12/300\n",
            "106/106 [==============================] - 3s 30ms/step - loss: 0.6490 - acc: 0.7442 - val_loss: 0.3727 - val_acc: 0.8759\n",
            "Epoch 13/300\n",
            "106/106 [==============================] - 3s 30ms/step - loss: 0.6490 - acc: 0.7389 - val_loss: 0.3866 - val_acc: 0.8729\n",
            "Epoch 14/300\n",
            "106/106 [==============================] - 3s 30ms/step - loss: 0.6390 - acc: 0.7465 - val_loss: 0.3963 - val_acc: 0.8570\n",
            "Epoch 15/300\n",
            "106/106 [==============================] - 3s 30ms/step - loss: 0.6367 - acc: 0.7479 - val_loss: 0.3868 - val_acc: 0.8682\n",
            "Epoch 16/300\n",
            "106/106 [==============================] - 3s 32ms/step - loss: 0.6409 - acc: 0.7496 - val_loss: 0.3753 - val_acc: 0.8741\n",
            "Epoch 17/300\n",
            "106/106 [==============================] - 3s 32ms/step - loss: 0.6386 - acc: 0.7530 - val_loss: 0.3743 - val_acc: 0.8759\n",
            "Epoch 18/300\n",
            "106/106 [==============================] - 3s 30ms/step - loss: 0.6297 - acc: 0.7530 - val_loss: 0.3830 - val_acc: 0.8729\n",
            "Epoch 19/300\n",
            "106/106 [==============================] - 3s 30ms/step - loss: 0.6369 - acc: 0.7481 - val_loss: 0.3772 - val_acc: 0.8717\n",
            "Epoch 20/300\n",
            "106/106 [==============================] - 3s 30ms/step - loss: 0.6259 - acc: 0.7496 - val_loss: 0.3579 - val_acc: 0.8812\n",
            "Epoch 21/300\n",
            "106/106 [==============================] - 3s 30ms/step - loss: 0.6303 - acc: 0.7500 - val_loss: 0.3575 - val_acc: 0.8800\n",
            "Epoch 22/300\n",
            "106/106 [==============================] - 3s 30ms/step - loss: 0.6232 - acc: 0.7496 - val_loss: 0.3640 - val_acc: 0.8836\n",
            "Epoch 23/300\n",
            "106/106 [==============================] - 3s 30ms/step - loss: 0.6119 - acc: 0.7561 - val_loss: 0.3477 - val_acc: 0.8901\n",
            "Epoch 24/300\n",
            "106/106 [==============================] - 3s 30ms/step - loss: 0.6169 - acc: 0.7571 - val_loss: 0.3487 - val_acc: 0.8889\n",
            "Epoch 25/300\n",
            "106/106 [==============================] - 3s 30ms/step - loss: 0.6208 - acc: 0.7485 - val_loss: 0.3450 - val_acc: 0.8871\n",
            "Epoch 26/300\n",
            "106/106 [==============================] - 3s 30ms/step - loss: 0.6083 - acc: 0.7549 - val_loss: 0.3494 - val_acc: 0.8865\n",
            "Epoch 27/300\n",
            "106/106 [==============================] - 3s 30ms/step - loss: 0.6348 - acc: 0.7496 - val_loss: 0.3711 - val_acc: 0.8741\n",
            "Epoch 28/300\n",
            "106/106 [==============================] - 3s 30ms/step - loss: 0.6139 - acc: 0.7566 - val_loss: 0.3612 - val_acc: 0.8806\n",
            "Epoch 29/300\n",
            "106/106 [==============================] - 3s 30ms/step - loss: 0.6193 - acc: 0.7535 - val_loss: 0.3444 - val_acc: 0.8978\n",
            "Epoch 30/300\n",
            "106/106 [==============================] - 3s 30ms/step - loss: 0.6341 - acc: 0.7456 - val_loss: 0.3496 - val_acc: 0.8830\n",
            "Epoch 31/300\n",
            "106/106 [==============================] - 3s 30ms/step - loss: 0.6223 - acc: 0.7496 - val_loss: 0.3576 - val_acc: 0.8859\n",
            "Epoch 32/300\n",
            "106/106 [==============================] - 3s 30ms/step - loss: 0.6220 - acc: 0.7544 - val_loss: 0.3429 - val_acc: 0.8942\n",
            "Epoch 33/300\n",
            "106/106 [==============================] - 3s 30ms/step - loss: 0.6092 - acc: 0.7634 - val_loss: 0.3482 - val_acc: 0.8824\n",
            "Epoch 34/300\n",
            "106/106 [==============================] - 3s 30ms/step - loss: 0.6132 - acc: 0.7589 - val_loss: 0.3626 - val_acc: 0.8771\n",
            "Epoch 35/300\n",
            "106/106 [==============================] - 3s 30ms/step - loss: 0.6105 - acc: 0.7598 - val_loss: 0.3380 - val_acc: 0.8842\n",
            "Epoch 36/300\n",
            "106/106 [==============================] - 3s 31ms/step - loss: 0.6075 - acc: 0.7547 - val_loss: 0.3499 - val_acc: 0.8824\n",
            "Epoch 37/300\n",
            "106/106 [==============================] - 3s 30ms/step - loss: 0.5999 - acc: 0.7645 - val_loss: 0.3576 - val_acc: 0.8700\n",
            "Epoch 38/300\n",
            "106/106 [==============================] - 3s 30ms/step - loss: 0.5970 - acc: 0.7642 - val_loss: 0.3222 - val_acc: 0.8995\n",
            "Epoch 39/300\n",
            "106/106 [==============================] - 3s 31ms/step - loss: 0.5845 - acc: 0.7704 - val_loss: 0.3097 - val_acc: 0.9025\n",
            "Epoch 40/300\n",
            "106/106 [==============================] - 3s 31ms/step - loss: 0.6056 - acc: 0.7595 - val_loss: 0.3268 - val_acc: 0.8895\n",
            "Epoch 41/300\n",
            "106/106 [==============================] - 3s 30ms/step - loss: 0.5970 - acc: 0.7708 - val_loss: 0.3282 - val_acc: 0.8853\n",
            "Epoch 42/300\n",
            "106/106 [==============================] - 3s 30ms/step - loss: 0.5994 - acc: 0.7680 - val_loss: 0.3354 - val_acc: 0.8913\n",
            "Epoch 43/300\n",
            "106/106 [==============================] - 3s 31ms/step - loss: 0.5977 - acc: 0.7680 - val_loss: 0.3156 - val_acc: 0.8978\n",
            "Epoch 44/300\n",
            "106/106 [==============================] - 3s 30ms/step - loss: 0.5914 - acc: 0.7682 - val_loss: 0.3220 - val_acc: 0.8913\n",
            "Epoch 45/300\n",
            "106/106 [==============================] - 3s 30ms/step - loss: 0.6012 - acc: 0.7596 - val_loss: 0.3425 - val_acc: 0.8806\n",
            "Epoch 46/300\n",
            "106/106 [==============================] - 3s 31ms/step - loss: 0.5897 - acc: 0.7697 - val_loss: 0.3266 - val_acc: 0.8978\n",
            "Epoch 47/300\n",
            "106/106 [==============================] - 3s 30ms/step - loss: 0.5988 - acc: 0.7640 - val_loss: 0.3128 - val_acc: 0.9043\n",
            "Epoch 48/300\n",
            "106/106 [==============================] - 3s 31ms/step - loss: 0.6020 - acc: 0.7617 - val_loss: 0.3217 - val_acc: 0.8948\n",
            "Epoch 49/300\n",
            "106/106 [==============================] - 3s 31ms/step - loss: 0.5732 - acc: 0.7674 - val_loss: 0.3117 - val_acc: 0.8983\n",
            "Epoch 50/300\n",
            "106/106 [==============================] - 3s 30ms/step - loss: 0.6030 - acc: 0.7627 - val_loss: 0.3440 - val_acc: 0.8800\n",
            "Epoch 51/300\n",
            "106/106 [==============================] - 3s 30ms/step - loss: 0.5932 - acc: 0.7668 - val_loss: 0.3131 - val_acc: 0.8995\n",
            "Epoch 52/300\n",
            "106/106 [==============================] - 3s 30ms/step - loss: 0.5881 - acc: 0.7729 - val_loss: 0.3190 - val_acc: 0.9025\n",
            "Epoch 53/300\n",
            "106/106 [==============================] - 3s 30ms/step - loss: 0.5936 - acc: 0.7692 - val_loss: 0.3097 - val_acc: 0.9019\n",
            "Epoch 54/300\n",
            "106/106 [==============================] - 3s 30ms/step - loss: 0.5825 - acc: 0.7714 - val_loss: 0.3073 - val_acc: 0.9048\n",
            "Epoch 55/300\n",
            "106/106 [==============================] - 3s 30ms/step - loss: 0.5984 - acc: 0.7646 - val_loss: 0.3235 - val_acc: 0.8972\n",
            "Epoch 56/300\n",
            "106/106 [==============================] - 3s 30ms/step - loss: 0.5684 - acc: 0.7716 - val_loss: 0.3290 - val_acc: 0.8883\n",
            "Epoch 57/300\n",
            "106/106 [==============================] - 3s 30ms/step - loss: 0.5949 - acc: 0.7670 - val_loss: 0.2996 - val_acc: 0.9078\n",
            "Epoch 58/300\n",
            "106/106 [==============================] - 3s 30ms/step - loss: 0.5818 - acc: 0.7790 - val_loss: 0.2976 - val_acc: 0.9178\n",
            "Epoch 59/300\n",
            "106/106 [==============================] - 3s 30ms/step - loss: 0.5881 - acc: 0.7671 - val_loss: 0.3260 - val_acc: 0.8859\n",
            "Epoch 60/300\n",
            "106/106 [==============================] - 3s 31ms/step - loss: 0.5841 - acc: 0.7697 - val_loss: 0.3026 - val_acc: 0.9043\n",
            "Epoch 61/300\n",
            "106/106 [==============================] - 3s 31ms/step - loss: 0.5842 - acc: 0.7704 - val_loss: 0.2968 - val_acc: 0.9137\n",
            "Epoch 62/300\n",
            "106/106 [==============================] - 3s 30ms/step - loss: 0.5822 - acc: 0.7741 - val_loss: 0.3501 - val_acc: 0.8859\n",
            "Epoch 63/300\n",
            "106/106 [==============================] - 3s 31ms/step - loss: 0.5716 - acc: 0.7785 - val_loss: 0.3108 - val_acc: 0.9066\n",
            "Epoch 64/300\n",
            "106/106 [==============================] - 3s 31ms/step - loss: 0.5767 - acc: 0.7748 - val_loss: 0.3101 - val_acc: 0.8954\n",
            "Epoch 65/300\n",
            "106/106 [==============================] - 3s 31ms/step - loss: 0.5717 - acc: 0.7775 - val_loss: 0.3002 - val_acc: 0.9043\n",
            "Epoch 66/300\n",
            "106/106 [==============================] - 3s 30ms/step - loss: 0.5733 - acc: 0.7772 - val_loss: 0.2982 - val_acc: 0.9060\n",
            "Epoch 67/300\n",
            "106/106 [==============================] - 3s 31ms/step - loss: 0.5851 - acc: 0.7682 - val_loss: 0.2959 - val_acc: 0.8978\n",
            "Epoch 68/300\n",
            "106/106 [==============================] - 3s 31ms/step - loss: 0.5866 - acc: 0.7697 - val_loss: 0.3043 - val_acc: 0.9096\n",
            "Epoch 69/300\n",
            "106/106 [==============================] - 3s 31ms/step - loss: 0.5707 - acc: 0.7803 - val_loss: 0.2895 - val_acc: 0.9090\n",
            "Epoch 70/300\n",
            "106/106 [==============================] - 3s 31ms/step - loss: 0.5774 - acc: 0.7689 - val_loss: 0.2948 - val_acc: 0.9131\n",
            "Epoch 71/300\n",
            "106/106 [==============================] - 3s 31ms/step - loss: 0.5744 - acc: 0.7702 - val_loss: 0.2854 - val_acc: 0.9113\n",
            "Epoch 72/300\n",
            "106/106 [==============================] - 3s 30ms/step - loss: 0.5586 - acc: 0.7770 - val_loss: 0.3080 - val_acc: 0.9048\n",
            "Epoch 73/300\n",
            "106/106 [==============================] - 3s 30ms/step - loss: 0.5774 - acc: 0.7763 - val_loss: 0.2811 - val_acc: 0.9161\n",
            "Epoch 74/300\n",
            "106/106 [==============================] - 3s 31ms/step - loss: 0.5615 - acc: 0.7801 - val_loss: 0.2854 - val_acc: 0.9155\n",
            "Epoch 75/300\n",
            "106/106 [==============================] - 3s 30ms/step - loss: 0.5682 - acc: 0.7713 - val_loss: 0.2924 - val_acc: 0.9025\n",
            "Epoch 76/300\n",
            "106/106 [==============================] - 3s 30ms/step - loss: 0.5736 - acc: 0.7754 - val_loss: 0.3058 - val_acc: 0.8966\n",
            "Epoch 77/300\n",
            "106/106 [==============================] - 3s 30ms/step - loss: 0.5762 - acc: 0.7730 - val_loss: 0.3265 - val_acc: 0.8901\n",
            "Epoch 78/300\n",
            "106/106 [==============================] - 3s 31ms/step - loss: 0.5562 - acc: 0.7908 - val_loss: 0.2957 - val_acc: 0.9137\n",
            "Epoch 79/300\n",
            "106/106 [==============================] - 3s 30ms/step - loss: 0.5543 - acc: 0.7843 - val_loss: 0.2843 - val_acc: 0.9131\n",
            "Epoch 80/300\n",
            "106/106 [==============================] - 3s 30ms/step - loss: 0.5516 - acc: 0.7801 - val_loss: 0.2702 - val_acc: 0.9178\n",
            "Epoch 81/300\n",
            "106/106 [==============================] - 3s 31ms/step - loss: 0.5689 - acc: 0.7793 - val_loss: 0.2766 - val_acc: 0.9149\n",
            "Epoch 82/300\n",
            "106/106 [==============================] - 3s 31ms/step - loss: 0.5595 - acc: 0.7847 - val_loss: 0.2982 - val_acc: 0.8995\n",
            "Epoch 83/300\n",
            "106/106 [==============================] - 3s 31ms/step - loss: 0.5583 - acc: 0.7824 - val_loss: 0.2757 - val_acc: 0.9208\n",
            "Epoch 84/300\n",
            "106/106 [==============================] - 3s 31ms/step - loss: 0.5724 - acc: 0.7720 - val_loss: 0.2771 - val_acc: 0.9143\n",
            "Epoch 85/300\n",
            "106/106 [==============================] - 3s 31ms/step - loss: 0.5689 - acc: 0.7762 - val_loss: 0.2728 - val_acc: 0.9167\n",
            "Epoch 86/300\n",
            "106/106 [==============================] - 3s 30ms/step - loss: 0.5467 - acc: 0.7897 - val_loss: 0.2798 - val_acc: 0.9155\n",
            "Epoch 87/300\n",
            "106/106 [==============================] - 3s 30ms/step - loss: 0.5587 - acc: 0.7784 - val_loss: 0.2773 - val_acc: 0.9190\n",
            "Epoch 88/300\n",
            "106/106 [==============================] - 3s 31ms/step - loss: 0.5549 - acc: 0.7759 - val_loss: 0.2634 - val_acc: 0.9220\n",
            "Epoch 89/300\n",
            "106/106 [==============================] - 3s 31ms/step - loss: 0.5528 - acc: 0.7862 - val_loss: 0.2756 - val_acc: 0.9143\n",
            "Epoch 90/300\n",
            "106/106 [==============================] - 3s 30ms/step - loss: 0.5595 - acc: 0.7813 - val_loss: 0.2734 - val_acc: 0.9196\n",
            "Epoch 91/300\n",
            "106/106 [==============================] - 3s 31ms/step - loss: 0.5766 - acc: 0.7708 - val_loss: 0.2792 - val_acc: 0.9149\n",
            "Epoch 92/300\n",
            "106/106 [==============================] - 3s 30ms/step - loss: 0.5435 - acc: 0.7868 - val_loss: 0.2780 - val_acc: 0.9090\n",
            "Epoch 93/300\n",
            "106/106 [==============================] - 3s 31ms/step - loss: 0.5373 - acc: 0.7921 - val_loss: 0.2887 - val_acc: 0.9001\n",
            "Epoch 94/300\n",
            "106/106 [==============================] - 3s 30ms/step - loss: 0.5533 - acc: 0.7852 - val_loss: 0.3132 - val_acc: 0.8859\n",
            "Epoch 95/300\n",
            "106/106 [==============================] - 3s 31ms/step - loss: 0.5498 - acc: 0.7819 - val_loss: 0.2672 - val_acc: 0.9202\n",
            "Epoch 96/300\n",
            "106/106 [==============================] - 3s 31ms/step - loss: 0.5455 - acc: 0.7841 - val_loss: 0.2486 - val_acc: 0.9249\n",
            "Epoch 97/300\n",
            "106/106 [==============================] - 3s 31ms/step - loss: 0.5514 - acc: 0.7828 - val_loss: 0.2660 - val_acc: 0.9208\n",
            "Epoch 98/300\n",
            "106/106 [==============================] - 3s 31ms/step - loss: 0.5539 - acc: 0.7815 - val_loss: 0.2543 - val_acc: 0.9226\n",
            "Epoch 99/300\n",
            "106/106 [==============================] - 3s 31ms/step - loss: 0.5472 - acc: 0.7871 - val_loss: 0.2612 - val_acc: 0.9184\n",
            "Epoch 100/300\n",
            "106/106 [==============================] - 3s 31ms/step - loss: 0.5336 - acc: 0.7945 - val_loss: 0.2770 - val_acc: 0.9143\n",
            "Epoch 101/300\n",
            "106/106 [==============================] - 3s 31ms/step - loss: 0.5628 - acc: 0.7798 - val_loss: 0.2597 - val_acc: 0.9243\n",
            "Epoch 102/300\n",
            "106/106 [==============================] - 3s 31ms/step - loss: 0.5383 - acc: 0.7877 - val_loss: 0.2642 - val_acc: 0.9238\n",
            "Epoch 103/300\n",
            "106/106 [==============================] - 3s 31ms/step - loss: 0.5592 - acc: 0.7807 - val_loss: 0.2492 - val_acc: 0.9350\n",
            "Epoch 104/300\n",
            "106/106 [==============================] - 3s 31ms/step - loss: 0.5274 - acc: 0.7906 - val_loss: 0.2516 - val_acc: 0.9220\n",
            "Epoch 105/300\n",
            "106/106 [==============================] - 3s 31ms/step - loss: 0.5450 - acc: 0.7895 - val_loss: 0.2535 - val_acc: 0.9320\n",
            "Epoch 106/300\n",
            "106/106 [==============================] - 3s 31ms/step - loss: 0.5510 - acc: 0.7825 - val_loss: 0.2617 - val_acc: 0.9214\n",
            "Epoch 107/300\n",
            "106/106 [==============================] - 3s 31ms/step - loss: 0.5280 - acc: 0.7923 - val_loss: 0.2535 - val_acc: 0.9214\n",
            "Epoch 108/300\n",
            "106/106 [==============================] - 3s 30ms/step - loss: 0.5231 - acc: 0.7930 - val_loss: 0.2513 - val_acc: 0.9255\n",
            "Epoch 109/300\n",
            "106/106 [==============================] - 3s 31ms/step - loss: 0.5427 - acc: 0.7846 - val_loss: 0.2525 - val_acc: 0.9249\n",
            "Epoch 110/300\n",
            "106/106 [==============================] - 3s 30ms/step - loss: 0.5478 - acc: 0.7892 - val_loss: 0.2759 - val_acc: 0.9108\n",
            "Epoch 111/300\n",
            "106/106 [==============================] - 3s 31ms/step - loss: 0.5353 - acc: 0.7881 - val_loss: 0.2519 - val_acc: 0.9267\n",
            "Epoch 112/300\n",
            "106/106 [==============================] - 3s 30ms/step - loss: 0.5380 - acc: 0.7908 - val_loss: 0.2572 - val_acc: 0.9220\n",
            "Epoch 113/300\n",
            "106/106 [==============================] - 3s 31ms/step - loss: 0.5110 - acc: 0.8044 - val_loss: 0.2507 - val_acc: 0.9255\n",
            "Epoch 114/300\n",
            "106/106 [==============================] - 3s 30ms/step - loss: 0.5375 - acc: 0.7923 - val_loss: 0.2444 - val_acc: 0.9309\n",
            "Epoch 115/300\n",
            "106/106 [==============================] - 3s 30ms/step - loss: 0.5314 - acc: 0.7906 - val_loss: 0.2410 - val_acc: 0.9303\n",
            "Epoch 116/300\n",
            "106/106 [==============================] - 3s 31ms/step - loss: 0.5158 - acc: 0.8007 - val_loss: 0.2361 - val_acc: 0.9267\n",
            "Epoch 117/300\n",
            "106/106 [==============================] - 3s 31ms/step - loss: 0.5370 - acc: 0.7841 - val_loss: 0.2481 - val_acc: 0.9255\n",
            "Epoch 118/300\n",
            "106/106 [==============================] - 3s 30ms/step - loss: 0.5294 - acc: 0.8011 - val_loss: 0.2497 - val_acc: 0.9249\n",
            "Epoch 119/300\n",
            "106/106 [==============================] - 3s 31ms/step - loss: 0.5253 - acc: 0.7940 - val_loss: 0.2468 - val_acc: 0.9261\n",
            "Epoch 120/300\n",
            "106/106 [==============================] - 3s 31ms/step - loss: 0.5222 - acc: 0.7943 - val_loss: 0.2600 - val_acc: 0.9190\n",
            "Epoch 121/300\n",
            "106/106 [==============================] - 3s 31ms/step - loss: 0.5442 - acc: 0.7903 - val_loss: 0.2519 - val_acc: 0.9226\n",
            "Epoch 122/300\n",
            "106/106 [==============================] - 3s 31ms/step - loss: 0.5229 - acc: 0.7977 - val_loss: 0.2508 - val_acc: 0.9202\n",
            "Epoch 123/300\n",
            "106/106 [==============================] - 3s 31ms/step - loss: 0.5184 - acc: 0.8011 - val_loss: 0.2545 - val_acc: 0.9226\n",
            "Epoch 124/300\n",
            "106/106 [==============================] - 3s 31ms/step - loss: 0.5409 - acc: 0.7899 - val_loss: 0.2570 - val_acc: 0.9190\n",
            "Epoch 125/300\n",
            "106/106 [==============================] - 3s 31ms/step - loss: 0.5309 - acc: 0.7927 - val_loss: 0.2450 - val_acc: 0.9243\n",
            "Epoch 126/300\n",
            "106/106 [==============================] - 3s 31ms/step - loss: 0.5206 - acc: 0.7957 - val_loss: 0.2424 - val_acc: 0.9314\n",
            "Epoch 127/300\n",
            "106/106 [==============================] - 3s 31ms/step - loss: 0.5224 - acc: 0.7968 - val_loss: 0.2513 - val_acc: 0.9161\n",
            "Epoch 128/300\n",
            "106/106 [==============================] - 3s 31ms/step - loss: 0.5165 - acc: 0.7992 - val_loss: 0.2418 - val_acc: 0.9220\n",
            "Epoch 129/300\n",
            "106/106 [==============================] - 3s 31ms/step - loss: 0.5301 - acc: 0.7942 - val_loss: 0.2325 - val_acc: 0.9350\n",
            "Epoch 130/300\n",
            "106/106 [==============================] - 3s 30ms/step - loss: 0.5249 - acc: 0.7946 - val_loss: 0.2358 - val_acc: 0.9291\n",
            "Epoch 131/300\n",
            "106/106 [==============================] - 3s 31ms/step - loss: 0.5245 - acc: 0.7914 - val_loss: 0.2389 - val_acc: 0.9309\n",
            "Epoch 132/300\n",
            "106/106 [==============================] - 3s 31ms/step - loss: 0.5084 - acc: 0.8026 - val_loss: 0.2314 - val_acc: 0.9338\n",
            "Epoch 133/300\n",
            "106/106 [==============================] - 3s 31ms/step - loss: 0.5100 - acc: 0.7995 - val_loss: 0.2260 - val_acc: 0.9320\n",
            "Epoch 134/300\n",
            "106/106 [==============================] - 3s 31ms/step - loss: 0.5140 - acc: 0.8022 - val_loss: 0.2285 - val_acc: 0.9291\n",
            "Epoch 135/300\n",
            "106/106 [==============================] - 3s 31ms/step - loss: 0.5276 - acc: 0.7993 - val_loss: 0.2164 - val_acc: 0.9427\n",
            "Epoch 136/300\n",
            "106/106 [==============================] - 3s 31ms/step - loss: 0.5105 - acc: 0.8050 - val_loss: 0.2489 - val_acc: 0.9255\n",
            "Epoch 137/300\n",
            "106/106 [==============================] - 3s 31ms/step - loss: 0.5058 - acc: 0.7979 - val_loss: 0.2266 - val_acc: 0.9344\n",
            "Epoch 138/300\n",
            "106/106 [==============================] - 3s 31ms/step - loss: 0.5078 - acc: 0.8082 - val_loss: 0.2268 - val_acc: 0.9356\n",
            "Epoch 139/300\n",
            "106/106 [==============================] - 3s 31ms/step - loss: 0.5175 - acc: 0.7985 - val_loss: 0.2147 - val_acc: 0.9391\n",
            "Epoch 140/300\n",
            "106/106 [==============================] - 3s 31ms/step - loss: 0.5112 - acc: 0.7992 - val_loss: 0.2163 - val_acc: 0.9480\n",
            "Epoch 141/300\n",
            "106/106 [==============================] - 3s 31ms/step - loss: 0.5122 - acc: 0.8039 - val_loss: 0.2299 - val_acc: 0.9344\n",
            "Epoch 142/300\n",
            "106/106 [==============================] - 3s 31ms/step - loss: 0.5207 - acc: 0.8008 - val_loss: 0.2145 - val_acc: 0.9433\n",
            "Epoch 143/300\n",
            "106/106 [==============================] - 3s 31ms/step - loss: 0.5218 - acc: 0.7949 - val_loss: 0.2284 - val_acc: 0.9362\n",
            "Epoch 144/300\n",
            "106/106 [==============================] - 3s 31ms/step - loss: 0.5061 - acc: 0.7988 - val_loss: 0.2168 - val_acc: 0.9409\n",
            "Epoch 145/300\n",
            "106/106 [==============================] - 3s 31ms/step - loss: 0.5249 - acc: 0.7986 - val_loss: 0.2287 - val_acc: 0.9391\n",
            "Epoch 146/300\n",
            "106/106 [==============================] - 3s 31ms/step - loss: 0.5040 - acc: 0.8103 - val_loss: 0.2238 - val_acc: 0.9338\n",
            "Epoch 147/300\n",
            "106/106 [==============================] - 3s 31ms/step - loss: 0.5181 - acc: 0.7973 - val_loss: 0.2408 - val_acc: 0.9220\n",
            "Epoch 148/300\n",
            "106/106 [==============================] - 3s 31ms/step - loss: 0.5085 - acc: 0.8025 - val_loss: 0.2299 - val_acc: 0.9314\n",
            "Epoch 149/300\n",
            "106/106 [==============================] - 3s 31ms/step - loss: 0.5074 - acc: 0.8005 - val_loss: 0.2267 - val_acc: 0.9391\n",
            "Epoch 150/300\n",
            "106/106 [==============================] - 3s 31ms/step - loss: 0.5241 - acc: 0.7931 - val_loss: 0.2235 - val_acc: 0.9403\n",
            "Epoch 151/300\n",
            "106/106 [==============================] - 3s 31ms/step - loss: 0.5084 - acc: 0.8004 - val_loss: 0.2266 - val_acc: 0.9320\n",
            "Epoch 152/300\n",
            "106/106 [==============================] - 3s 31ms/step - loss: 0.5127 - acc: 0.8013 - val_loss: 0.2151 - val_acc: 0.9356\n",
            "Epoch 153/300\n",
            "106/106 [==============================] - 3s 31ms/step - loss: 0.5163 - acc: 0.8048 - val_loss: 0.2247 - val_acc: 0.9368\n",
            "Epoch 154/300\n",
            "106/106 [==============================] - 3s 31ms/step - loss: 0.4997 - acc: 0.8029 - val_loss: 0.2246 - val_acc: 0.9356\n",
            "Epoch 155/300\n",
            "106/106 [==============================] - 3s 31ms/step - loss: 0.5058 - acc: 0.8038 - val_loss: 0.2130 - val_acc: 0.9456\n",
            "Epoch 156/300\n",
            "106/106 [==============================] - 3s 31ms/step - loss: 0.5227 - acc: 0.7948 - val_loss: 0.2338 - val_acc: 0.9314\n",
            "Epoch 157/300\n",
            "106/106 [==============================] - 3s 31ms/step - loss: 0.4959 - acc: 0.8087 - val_loss: 0.2195 - val_acc: 0.9421\n",
            "Epoch 158/300\n",
            "106/106 [==============================] - 3s 31ms/step - loss: 0.5110 - acc: 0.7996 - val_loss: 0.2265 - val_acc: 0.9350\n",
            "Epoch 159/300\n",
            "106/106 [==============================] - 3s 31ms/step - loss: 0.4996 - acc: 0.8073 - val_loss: 0.2207 - val_acc: 0.9350\n",
            "Epoch 160/300\n",
            "106/106 [==============================] - 3s 31ms/step - loss: 0.5010 - acc: 0.8054 - val_loss: 0.2137 - val_acc: 0.9397\n",
            "Epoch 161/300\n",
            "106/106 [==============================] - 3s 31ms/step - loss: 0.4897 - acc: 0.8110 - val_loss: 0.2203 - val_acc: 0.9362\n",
            "Epoch 162/300\n",
            "106/106 [==============================] - 3s 31ms/step - loss: 0.5120 - acc: 0.7998 - val_loss: 0.2104 - val_acc: 0.9433\n",
            "Epoch 163/300\n",
            "106/106 [==============================] - 3s 31ms/step - loss: 0.4976 - acc: 0.8047 - val_loss: 0.2105 - val_acc: 0.9415\n",
            "Epoch 164/300\n",
            "106/106 [==============================] - 3s 31ms/step - loss: 0.5017 - acc: 0.8027 - val_loss: 0.2033 - val_acc: 0.9462\n",
            "Epoch 165/300\n",
            "106/106 [==============================] - 3s 31ms/step - loss: 0.4886 - acc: 0.8092 - val_loss: 0.2229 - val_acc: 0.9344\n",
            "Epoch 166/300\n",
            "106/106 [==============================] - 3s 31ms/step - loss: 0.5109 - acc: 0.8053 - val_loss: 0.2077 - val_acc: 0.9444\n",
            "Epoch 167/300\n",
            "106/106 [==============================] - 3s 31ms/step - loss: 0.4979 - acc: 0.8082 - val_loss: 0.2049 - val_acc: 0.9415\n",
            "Epoch 168/300\n",
            "106/106 [==============================] - 3s 31ms/step - loss: 0.4938 - acc: 0.8087 - val_loss: 0.2040 - val_acc: 0.9439\n",
            "Epoch 169/300\n",
            "106/106 [==============================] - 3s 32ms/step - loss: 0.4962 - acc: 0.8104 - val_loss: 0.2032 - val_acc: 0.9409\n",
            "Epoch 170/300\n",
            "106/106 [==============================] - 3s 31ms/step - loss: 0.5164 - acc: 0.8038 - val_loss: 0.2133 - val_acc: 0.9403\n",
            "Epoch 171/300\n",
            "106/106 [==============================] - 3s 31ms/step - loss: 0.5097 - acc: 0.8001 - val_loss: 0.2144 - val_acc: 0.9344\n",
            "Epoch 172/300\n",
            "106/106 [==============================] - 3s 31ms/step - loss: 0.4921 - acc: 0.8036 - val_loss: 0.2034 - val_acc: 0.9433\n",
            "Epoch 173/300\n",
            "106/106 [==============================] - 3s 31ms/step - loss: 0.4876 - acc: 0.8129 - val_loss: 0.2003 - val_acc: 0.9450\n",
            "Epoch 174/300\n",
            "106/106 [==============================] - 3s 31ms/step - loss: 0.4934 - acc: 0.8075 - val_loss: 0.2021 - val_acc: 0.9350\n",
            "Epoch 175/300\n",
            "106/106 [==============================] - 3s 31ms/step - loss: 0.4937 - acc: 0.8090 - val_loss: 0.2113 - val_acc: 0.9391\n",
            "Epoch 176/300\n",
            "106/106 [==============================] - 3s 31ms/step - loss: 0.4972 - acc: 0.8098 - val_loss: 0.2174 - val_acc: 0.9326\n",
            "Epoch 177/300\n",
            "106/106 [==============================] - 3s 31ms/step - loss: 0.5031 - acc: 0.8091 - val_loss: 0.2159 - val_acc: 0.9344\n",
            "Epoch 178/300\n",
            "106/106 [==============================] - 3s 31ms/step - loss: 0.5047 - acc: 0.8057 - val_loss: 0.1990 - val_acc: 0.9492\n",
            "Epoch 179/300\n",
            "106/106 [==============================] - 3s 31ms/step - loss: 0.4901 - acc: 0.8125 - val_loss: 0.2110 - val_acc: 0.9338\n",
            "Epoch 180/300\n",
            "106/106 [==============================] - 3s 31ms/step - loss: 0.4890 - acc: 0.8135 - val_loss: 0.2042 - val_acc: 0.9433\n",
            "Epoch 181/300\n",
            "106/106 [==============================] - 3s 31ms/step - loss: 0.4902 - acc: 0.8085 - val_loss: 0.2112 - val_acc: 0.9397\n",
            "Epoch 182/300\n",
            "106/106 [==============================] - 3s 31ms/step - loss: 0.4990 - acc: 0.8067 - val_loss: 0.1975 - val_acc: 0.9462\n",
            "Epoch 183/300\n",
            "106/106 [==============================] - 3s 31ms/step - loss: 0.4860 - acc: 0.8158 - val_loss: 0.1993 - val_acc: 0.9480\n",
            "Epoch 184/300\n",
            "106/106 [==============================] - 3s 31ms/step - loss: 0.4795 - acc: 0.8134 - val_loss: 0.2090 - val_acc: 0.9385\n",
            "Epoch 185/300\n",
            "106/106 [==============================] - 3s 31ms/step - loss: 0.4958 - acc: 0.8051 - val_loss: 0.2041 - val_acc: 0.9439\n",
            "Epoch 186/300\n",
            "106/106 [==============================] - 3s 31ms/step - loss: 0.4833 - acc: 0.8124 - val_loss: 0.2005 - val_acc: 0.9450\n",
            "Epoch 187/300\n",
            "106/106 [==============================] - 3s 31ms/step - loss: 0.4883 - acc: 0.8153 - val_loss: 0.2040 - val_acc: 0.9409\n",
            "Epoch 188/300\n",
            "106/106 [==============================] - 3s 31ms/step - loss: 0.4665 - acc: 0.8215 - val_loss: 0.1943 - val_acc: 0.9498\n",
            "Epoch 189/300\n",
            "106/106 [==============================] - 3s 31ms/step - loss: 0.4904 - acc: 0.8088 - val_loss: 0.2018 - val_acc: 0.9433\n",
            "Epoch 190/300\n",
            "106/106 [==============================] - 3s 31ms/step - loss: 0.4903 - acc: 0.8070 - val_loss: 0.2005 - val_acc: 0.9444\n",
            "Epoch 191/300\n",
            "106/106 [==============================] - 3s 31ms/step - loss: 0.4901 - acc: 0.8069 - val_loss: 0.2090 - val_acc: 0.9397\n",
            "Epoch 192/300\n",
            "106/106 [==============================] - 3s 31ms/step - loss: 0.4798 - acc: 0.8189 - val_loss: 0.1883 - val_acc: 0.9509\n",
            "Epoch 193/300\n",
            "106/106 [==============================] - 3s 31ms/step - loss: 0.4856 - acc: 0.8144 - val_loss: 0.2157 - val_acc: 0.9362\n",
            "Epoch 194/300\n",
            "106/106 [==============================] - 3s 31ms/step - loss: 0.4907 - acc: 0.8033 - val_loss: 0.2039 - val_acc: 0.9433\n",
            "Epoch 195/300\n",
            "106/106 [==============================] - 3s 31ms/step - loss: 0.4860 - acc: 0.8098 - val_loss: 0.2034 - val_acc: 0.9421\n",
            "Epoch 196/300\n",
            "106/106 [==============================] - 3s 31ms/step - loss: 0.4948 - acc: 0.8103 - val_loss: 0.2080 - val_acc: 0.9433\n",
            "Epoch 197/300\n",
            "106/106 [==============================] - 3s 31ms/step - loss: 0.4828 - acc: 0.8168 - val_loss: 0.2024 - val_acc: 0.9403\n",
            "Epoch 198/300\n",
            "106/106 [==============================] - 3s 31ms/step - loss: 0.4798 - acc: 0.8084 - val_loss: 0.1941 - val_acc: 0.9433\n",
            "Epoch 199/300\n",
            "106/106 [==============================] - 3s 31ms/step - loss: 0.4821 - acc: 0.8116 - val_loss: 0.2055 - val_acc: 0.9427\n",
            "Epoch 200/300\n",
            "106/106 [==============================] - 3s 31ms/step - loss: 0.4755 - acc: 0.8126 - val_loss: 0.2028 - val_acc: 0.9415\n",
            "Epoch 201/300\n",
            "106/106 [==============================] - 3s 31ms/step - loss: 0.4685 - acc: 0.8162 - val_loss: 0.1899 - val_acc: 0.9492\n",
            "Epoch 202/300\n",
            "106/106 [==============================] - 3s 32ms/step - loss: 0.4832 - acc: 0.8128 - val_loss: 0.1867 - val_acc: 0.9474\n",
            "Epoch 203/300\n",
            "106/106 [==============================] - 3s 31ms/step - loss: 0.4775 - acc: 0.8180 - val_loss: 0.1854 - val_acc: 0.9450\n",
            "Epoch 204/300\n",
            "106/106 [==============================] - 3s 31ms/step - loss: 0.5001 - acc: 0.8110 - val_loss: 0.2143 - val_acc: 0.9362\n",
            "Epoch 205/300\n",
            "106/106 [==============================] - 3s 31ms/step - loss: 0.4828 - acc: 0.8159 - val_loss: 0.1842 - val_acc: 0.9504\n",
            "Epoch 206/300\n",
            "106/106 [==============================] - 3s 31ms/step - loss: 0.4755 - acc: 0.8165 - val_loss: 0.1863 - val_acc: 0.9504\n",
            "Epoch 207/300\n",
            "106/106 [==============================] - 3s 31ms/step - loss: 0.4924 - acc: 0.8129 - val_loss: 0.1887 - val_acc: 0.9504\n",
            "Epoch 208/300\n",
            "106/106 [==============================] - 3s 31ms/step - loss: 0.4819 - acc: 0.8171 - val_loss: 0.2026 - val_acc: 0.9415\n",
            "Epoch 209/300\n",
            "106/106 [==============================] - 3s 31ms/step - loss: 0.4719 - acc: 0.8175 - val_loss: 0.1817 - val_acc: 0.9515\n",
            "Epoch 210/300\n",
            "106/106 [==============================] - 3s 31ms/step - loss: 0.4663 - acc: 0.8160 - val_loss: 0.1819 - val_acc: 0.9480\n",
            "Epoch 211/300\n",
            "106/106 [==============================] - 3s 31ms/step - loss: 0.4923 - acc: 0.8076 - val_loss: 0.1981 - val_acc: 0.9439\n",
            "Epoch 212/300\n",
            "106/106 [==============================] - 3s 31ms/step - loss: 0.4817 - acc: 0.8159 - val_loss: 0.1973 - val_acc: 0.9397\n",
            "Epoch 213/300\n",
            "106/106 [==============================] - 3s 31ms/step - loss: 0.4808 - acc: 0.8116 - val_loss: 0.1803 - val_acc: 0.9462\n",
            "Epoch 214/300\n",
            "106/106 [==============================] - 3s 31ms/step - loss: 0.4726 - acc: 0.8150 - val_loss: 0.1812 - val_acc: 0.9474\n",
            "Epoch 215/300\n",
            "106/106 [==============================] - 3s 31ms/step - loss: 0.4773 - acc: 0.8199 - val_loss: 0.2003 - val_acc: 0.9379\n",
            "Epoch 216/300\n",
            "106/106 [==============================] - 3s 31ms/step - loss: 0.4826 - acc: 0.8094 - val_loss: 0.1889 - val_acc: 0.9433\n",
            "Epoch 217/300\n",
            "106/106 [==============================] - 3s 31ms/step - loss: 0.4734 - acc: 0.8189 - val_loss: 0.1957 - val_acc: 0.9397\n",
            "Epoch 218/300\n",
            "106/106 [==============================] - 3s 31ms/step - loss: 0.4690 - acc: 0.8190 - val_loss: 0.1818 - val_acc: 0.9521\n",
            "Epoch 219/300\n",
            "106/106 [==============================] - 3s 31ms/step - loss: 0.4742 - acc: 0.8143 - val_loss: 0.1981 - val_acc: 0.9439\n",
            "Epoch 220/300\n",
            "106/106 [==============================] - 3s 31ms/step - loss: 0.4822 - acc: 0.8119 - val_loss: 0.1863 - val_acc: 0.9474\n",
            "Epoch 221/300\n",
            "106/106 [==============================] - 3s 31ms/step - loss: 0.4808 - acc: 0.8160 - val_loss: 0.1935 - val_acc: 0.9450\n",
            "Epoch 222/300\n",
            "106/106 [==============================] - 3s 31ms/step - loss: 0.4724 - acc: 0.8190 - val_loss: 0.1955 - val_acc: 0.9444\n",
            "Epoch 223/300\n",
            "106/106 [==============================] - 3s 31ms/step - loss: 0.4759 - acc: 0.8187 - val_loss: 0.1856 - val_acc: 0.9480\n",
            "Epoch 224/300\n",
            "106/106 [==============================] - 3s 31ms/step - loss: 0.4644 - acc: 0.8197 - val_loss: 0.1786 - val_acc: 0.9509\n",
            "Epoch 225/300\n",
            "106/106 [==============================] - 3s 31ms/step - loss: 0.4816 - acc: 0.8172 - val_loss: 0.1881 - val_acc: 0.9527\n",
            "Epoch 226/300\n",
            "106/106 [==============================] - 3s 31ms/step - loss: 0.4550 - acc: 0.8199 - val_loss: 0.1745 - val_acc: 0.9574\n",
            "Epoch 227/300\n",
            "106/106 [==============================] - 3s 31ms/step - loss: 0.4682 - acc: 0.8209 - val_loss: 0.1819 - val_acc: 0.9468\n",
            "Epoch 228/300\n",
            "106/106 [==============================] - 3s 31ms/step - loss: 0.4800 - acc: 0.8137 - val_loss: 0.1820 - val_acc: 0.9521\n",
            "Epoch 229/300\n",
            "106/106 [==============================] - 3s 31ms/step - loss: 0.4654 - acc: 0.8249 - val_loss: 0.1864 - val_acc: 0.9462\n",
            "Epoch 230/300\n",
            "106/106 [==============================] - 3s 31ms/step - loss: 0.4648 - acc: 0.8202 - val_loss: 0.1781 - val_acc: 0.9527\n",
            "Epoch 231/300\n",
            "106/106 [==============================] - 3s 31ms/step - loss: 0.4732 - acc: 0.8153 - val_loss: 0.1816 - val_acc: 0.9486\n",
            "Epoch 232/300\n",
            "106/106 [==============================] - 3s 32ms/step - loss: 0.4670 - acc: 0.8200 - val_loss: 0.1777 - val_acc: 0.9533\n",
            "Epoch 233/300\n",
            "106/106 [==============================] - 3s 32ms/step - loss: 0.4725 - acc: 0.8199 - val_loss: 0.1642 - val_acc: 0.9545\n",
            "Epoch 234/300\n",
            "106/106 [==============================] - 3s 32ms/step - loss: 0.4588 - acc: 0.8227 - val_loss: 0.1770 - val_acc: 0.9515\n",
            "Epoch 235/300\n",
            "106/106 [==============================] - 3s 31ms/step - loss: 0.4700 - acc: 0.8224 - val_loss: 0.1807 - val_acc: 0.9515\n",
            "Epoch 236/300\n",
            "106/106 [==============================] - 3s 31ms/step - loss: 0.4662 - acc: 0.8184 - val_loss: 0.1971 - val_acc: 0.9391\n",
            "Epoch 237/300\n",
            "106/106 [==============================] - 3s 31ms/step - loss: 0.4459 - acc: 0.8268 - val_loss: 0.1629 - val_acc: 0.9580\n",
            "Epoch 238/300\n",
            "106/106 [==============================] - 3s 31ms/step - loss: 0.4675 - acc: 0.8166 - val_loss: 0.1723 - val_acc: 0.9492\n",
            "Epoch 239/300\n",
            "106/106 [==============================] - 3s 31ms/step - loss: 0.4664 - acc: 0.8209 - val_loss: 0.1730 - val_acc: 0.9533\n",
            "Epoch 240/300\n",
            "106/106 [==============================] - 3s 31ms/step - loss: 0.4586 - acc: 0.8190 - val_loss: 0.1643 - val_acc: 0.9604\n",
            "Epoch 241/300\n",
            "106/106 [==============================] - 3s 32ms/step - loss: 0.4662 - acc: 0.8184 - val_loss: 0.1754 - val_acc: 0.9504\n",
            "Epoch 242/300\n",
            "106/106 [==============================] - 3s 31ms/step - loss: 0.4684 - acc: 0.8177 - val_loss: 0.1726 - val_acc: 0.9527\n",
            "Epoch 243/300\n",
            "106/106 [==============================] - 3s 31ms/step - loss: 0.4707 - acc: 0.8137 - val_loss: 0.1847 - val_acc: 0.9462\n",
            "Epoch 244/300\n",
            "106/106 [==============================] - 3s 31ms/step - loss: 0.4662 - acc: 0.8187 - val_loss: 0.1759 - val_acc: 0.9539\n",
            "Epoch 245/300\n",
            "106/106 [==============================] - 3s 31ms/step - loss: 0.4699 - acc: 0.8227 - val_loss: 0.1705 - val_acc: 0.9622\n",
            "Epoch 246/300\n",
            "106/106 [==============================] - 3s 31ms/step - loss: 0.4693 - acc: 0.8242 - val_loss: 0.1912 - val_acc: 0.9433\n",
            "Epoch 247/300\n",
            "106/106 [==============================] - 3s 31ms/step - loss: 0.4700 - acc: 0.8152 - val_loss: 0.1842 - val_acc: 0.9468\n",
            "Epoch 248/300\n",
            "106/106 [==============================] - 3s 31ms/step - loss: 0.4626 - acc: 0.8186 - val_loss: 0.1769 - val_acc: 0.9509\n",
            "Epoch 249/300\n",
            "106/106 [==============================] - 3s 31ms/step - loss: 0.4615 - acc: 0.8252 - val_loss: 0.1746 - val_acc: 0.9527\n",
            "Epoch 250/300\n",
            "106/106 [==============================] - 3s 31ms/step - loss: 0.4588 - acc: 0.8251 - val_loss: 0.1735 - val_acc: 0.9486\n",
            "Epoch 251/300\n",
            "106/106 [==============================] - 3s 32ms/step - loss: 0.4490 - acc: 0.8268 - val_loss: 0.1827 - val_acc: 0.9474\n",
            "Epoch 252/300\n",
            "106/106 [==============================] - 3s 31ms/step - loss: 0.4673 - acc: 0.8211 - val_loss: 0.1864 - val_acc: 0.9421\n",
            "Epoch 253/300\n",
            "106/106 [==============================] - 3s 31ms/step - loss: 0.4584 - acc: 0.8212 - val_loss: 0.1766 - val_acc: 0.9498\n",
            "Epoch 254/300\n",
            "106/106 [==============================] - 3s 31ms/step - loss: 0.4556 - acc: 0.8246 - val_loss: 0.1749 - val_acc: 0.9521\n",
            "Epoch 255/300\n",
            "106/106 [==============================] - 3s 31ms/step - loss: 0.4574 - acc: 0.8258 - val_loss: 0.1724 - val_acc: 0.9527\n",
            "Epoch 256/300\n",
            "106/106 [==============================] - 3s 31ms/step - loss: 0.4537 - acc: 0.8257 - val_loss: 0.1693 - val_acc: 0.9539\n",
            "Epoch 257/300\n",
            "106/106 [==============================] - 3s 31ms/step - loss: 0.4582 - acc: 0.8209 - val_loss: 0.1815 - val_acc: 0.9450\n",
            "Epoch 258/300\n",
            "106/106 [==============================] - 3s 32ms/step - loss: 0.4777 - acc: 0.8141 - val_loss: 0.1899 - val_acc: 0.9521\n",
            "Epoch 259/300\n",
            "106/106 [==============================] - 3s 31ms/step - loss: 0.4409 - acc: 0.8282 - val_loss: 0.1787 - val_acc: 0.9480\n",
            "Epoch 260/300\n",
            "106/106 [==============================] - 3s 31ms/step - loss: 0.4519 - acc: 0.8296 - val_loss: 0.1613 - val_acc: 0.9574\n",
            "Epoch 261/300\n",
            "106/106 [==============================] - 3s 32ms/step - loss: 0.4775 - acc: 0.8138 - val_loss: 0.1681 - val_acc: 0.9545\n",
            "Epoch 262/300\n",
            "106/106 [==============================] - 3s 31ms/step - loss: 0.4444 - acc: 0.8313 - val_loss: 0.1667 - val_acc: 0.9574\n",
            "Epoch 263/300\n",
            "106/106 [==============================] - 3s 31ms/step - loss: 0.4659 - acc: 0.8141 - val_loss: 0.1863 - val_acc: 0.9444\n",
            "Epoch 264/300\n",
            "106/106 [==============================] - 3s 31ms/step - loss: 0.4518 - acc: 0.8234 - val_loss: 0.1883 - val_acc: 0.9362\n",
            "Epoch 265/300\n",
            "106/106 [==============================] - 3s 31ms/step - loss: 0.4530 - acc: 0.8268 - val_loss: 0.1748 - val_acc: 0.9551\n",
            "Epoch 266/300\n",
            "106/106 [==============================] - 3s 31ms/step - loss: 0.4493 - acc: 0.8332 - val_loss: 0.1694 - val_acc: 0.9551\n",
            "Epoch 267/300\n",
            "106/106 [==============================] - 3s 31ms/step - loss: 0.4500 - acc: 0.8285 - val_loss: 0.1706 - val_acc: 0.9580\n",
            "Epoch 268/300\n",
            "106/106 [==============================] - 3s 31ms/step - loss: 0.4586 - acc: 0.8261 - val_loss: 0.1838 - val_acc: 0.9480\n",
            "Epoch 269/300\n",
            "106/106 [==============================] - 3s 32ms/step - loss: 0.4370 - acc: 0.8316 - val_loss: 0.1644 - val_acc: 0.9645\n",
            "Epoch 270/300\n",
            "106/106 [==============================] - 3s 31ms/step - loss: 0.4542 - acc: 0.8264 - val_loss: 0.1668 - val_acc: 0.9569\n",
            "Epoch 271/300\n",
            "106/106 [==============================] - 3s 31ms/step - loss: 0.4536 - acc: 0.8249 - val_loss: 0.1628 - val_acc: 0.9628\n",
            "Epoch 272/300\n",
            "106/106 [==============================] - 3s 32ms/step - loss: 0.4676 - acc: 0.8171 - val_loss: 0.1750 - val_acc: 0.9504\n",
            "Epoch 273/300\n",
            "106/106 [==============================] - 3s 31ms/step - loss: 0.4413 - acc: 0.8257 - val_loss: 0.1695 - val_acc: 0.9533\n",
            "Epoch 274/300\n",
            "106/106 [==============================] - 3s 31ms/step - loss: 0.4746 - acc: 0.8172 - val_loss: 0.1637 - val_acc: 0.9545\n",
            "Epoch 275/300\n",
            "106/106 [==============================] - 3s 31ms/step - loss: 0.4606 - acc: 0.8231 - val_loss: 0.1572 - val_acc: 0.9574\n",
            "Epoch 276/300\n",
            "106/106 [==============================] - 3s 32ms/step - loss: 0.4513 - acc: 0.8274 - val_loss: 0.1640 - val_acc: 0.9533\n",
            "Epoch 277/300\n",
            "106/106 [==============================] - 3s 31ms/step - loss: 0.4606 - acc: 0.8174 - val_loss: 0.1798 - val_acc: 0.9444\n",
            "Epoch 278/300\n",
            "106/106 [==============================] - 3s 32ms/step - loss: 0.4610 - acc: 0.8251 - val_loss: 0.1765 - val_acc: 0.9527\n",
            "Epoch 279/300\n",
            "106/106 [==============================] - 3s 32ms/step - loss: 0.4638 - acc: 0.8236 - val_loss: 0.1643 - val_acc: 0.9557\n",
            "Epoch 280/300\n",
            "106/106 [==============================] - 3s 32ms/step - loss: 0.4476 - acc: 0.8280 - val_loss: 0.1720 - val_acc: 0.9504\n",
            "Epoch 281/300\n",
            "106/106 [==============================] - 3s 32ms/step - loss: 0.4589 - acc: 0.8220 - val_loss: 0.1685 - val_acc: 0.9598\n",
            "Epoch 282/300\n",
            "106/106 [==============================] - 3s 32ms/step - loss: 0.4640 - acc: 0.8196 - val_loss: 0.1696 - val_acc: 0.9574\n",
            "Epoch 283/300\n",
            "106/106 [==============================] - 3s 32ms/step - loss: 0.4630 - acc: 0.8208 - val_loss: 0.1716 - val_acc: 0.9551\n",
            "Epoch 284/300\n",
            "106/106 [==============================] - 3s 32ms/step - loss: 0.4472 - acc: 0.8292 - val_loss: 0.1574 - val_acc: 0.9628\n",
            "Epoch 285/300\n",
            "106/106 [==============================] - 3s 32ms/step - loss: 0.4504 - acc: 0.8288 - val_loss: 0.1618 - val_acc: 0.9592\n",
            "Epoch 286/300\n",
            "106/106 [==============================] - 3s 32ms/step - loss: 0.4698 - acc: 0.8183 - val_loss: 0.1683 - val_acc: 0.9551\n",
            "Epoch 287/300\n",
            "106/106 [==============================] - 3s 31ms/step - loss: 0.4474 - acc: 0.8317 - val_loss: 0.1612 - val_acc: 0.9616\n",
            "Epoch 288/300\n",
            "106/106 [==============================] - 3s 32ms/step - loss: 0.4292 - acc: 0.8392 - val_loss: 0.1503 - val_acc: 0.9574\n",
            "Epoch 289/300\n",
            "106/106 [==============================] - 3s 32ms/step - loss: 0.4409 - acc: 0.8311 - val_loss: 0.1535 - val_acc: 0.9598\n",
            "Epoch 290/300\n",
            "106/106 [==============================] - 3s 32ms/step - loss: 0.4498 - acc: 0.8267 - val_loss: 0.1595 - val_acc: 0.9569\n",
            "Epoch 291/300\n",
            "106/106 [==============================] - 3s 32ms/step - loss: 0.4500 - acc: 0.8251 - val_loss: 0.1720 - val_acc: 0.9545\n",
            "Epoch 292/300\n",
            "106/106 [==============================] - 3s 32ms/step - loss: 0.4583 - acc: 0.8233 - val_loss: 0.1731 - val_acc: 0.9515\n",
            "Epoch 293/300\n",
            "106/106 [==============================] - 3s 32ms/step - loss: 0.4547 - acc: 0.8234 - val_loss: 0.1525 - val_acc: 0.9574\n",
            "Epoch 294/300\n",
            "106/106 [==============================] - 3s 31ms/step - loss: 0.4458 - acc: 0.8246 - val_loss: 0.1554 - val_acc: 0.9569\n",
            "Epoch 295/300\n",
            "106/106 [==============================] - 3s 32ms/step - loss: 0.4373 - acc: 0.8307 - val_loss: 0.1567 - val_acc: 0.9569\n",
            "Epoch 296/300\n",
            "106/106 [==============================] - 3s 32ms/step - loss: 0.4341 - acc: 0.8339 - val_loss: 0.1753 - val_acc: 0.9468\n",
            "Epoch 297/300\n",
            "106/106 [==============================] - 3s 32ms/step - loss: 0.4602 - acc: 0.8230 - val_loss: 0.1631 - val_acc: 0.9557\n",
            "Epoch 298/300\n",
            "106/106 [==============================] - 3s 32ms/step - loss: 0.4431 - acc: 0.8338 - val_loss: 0.1472 - val_acc: 0.9663\n",
            "Epoch 299/300\n",
            "106/106 [==============================] - 3s 32ms/step - loss: 0.4423 - acc: 0.8279 - val_loss: 0.1623 - val_acc: 0.9551\n",
            "Epoch 300/300\n",
            "106/106 [==============================] - 3s 32ms/step - loss: 0.4526 - acc: 0.8292 - val_loss: 0.1624 - val_acc: 0.9580\n"
          ]
        }
      ]
    },
    {
      "cell_type": "code",
      "source": [
        "model.evaluate(X_test, y_test)"
      ],
      "metadata": {
        "colab": {
          "base_uri": "https://localhost:8080/"
        },
        "id": "E5W7-Qi6vG_9",
        "outputId": "d3c112ac-5e53-4df7-efde-52053a3384cd"
      },
      "execution_count": 27,
      "outputs": [
        {
          "output_type": "stream",
          "name": "stdout",
          "text": [
            "14/14 [==============================] - 0s 14ms/step - loss: 1.1169 - acc: 0.5959\n"
          ]
        },
        {
          "output_type": "execute_result",
          "data": {
            "text/plain": [
              "[1.1168915033340454, 0.5959367752075195]"
            ]
          },
          "metadata": {},
          "execution_count": 27
        }
      ]
    },
    {
      "cell_type": "code",
      "source": [
        "plt.plot(history.history['acc'], label='train')\n",
        "plt.plot(history.history['val_acc'], label='test')\n",
        "plt.legend();"
      ],
      "metadata": {
        "colab": {
          "base_uri": "https://localhost:8080/",
          "height": 265
        },
        "id": "qS3hSLpYWYAa",
        "outputId": "c2475b5b-bab5-4f7a-a6cd-bf3106ccd4db"
      },
      "execution_count": null,
      "outputs": [
        {
          "output_type": "display_data",
          "data": {
            "image/png": "[encoded data removed]",
            "text/plain": [
              "<Figure size 432x288 with 1 Axes>"
            ]
          },
          "metadata": {
            "needs_background": "light"
          }
        }
      ]
    }
  ]
}