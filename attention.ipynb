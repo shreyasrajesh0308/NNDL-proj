{
  "nbformat": 4,
  "nbformat_minor": 0,
  "metadata": {
    "colab": {
      "name": "attention.ipynb",
      "provenance": [],
      "collapsed_sections": [],
      "include_colab_link": true
    },
    "kernelspec": {
      "name": "python3",
      "display_name": "Python 3"
    },
    "language_info": {
      "name": "python"
    },
    "accelerator": "GPU"
  },
  "cells": [
    {
      "cell_type": "markdown",
      "metadata": {
        "id": "view-in-github",
        "colab_type": "text"
      },
      "source": [
        "<a href=\"https://colab.research.google.com/github/shreyasrajesh0308/NNDL-proj/blob/main/attention.ipynb\" target=\"_parent\"><img src=\"https://colab.research.google.com/assets/colab-badge.svg\" alt=\"Open In Colab\"/></a>"
      ]
    },
    {
      "cell_type": "markdown",
      "source": [
        "Model Paper: "
      ],
      "metadata": {
        "id": "Wy-ORg0nyKtV"
      }
    },
    {
      "cell_type": "markdown",
      "source": [
        "### Load Data \n",
        "\n",
        "Load preprocessed data"
      ],
      "metadata": {
        "id": "5Fl4uJtrAqU0"
      }
    },
    {
      "cell_type": "code",
      "source": [
        "from google.colab import drive\n",
        "drive.mount('/content/drive')"
      ],
      "metadata": {
        "id": "Scu17GL9A7i5",
        "colab": {
          "base_uri": "https://localhost:8080/"
        },
        "outputId": "e094663b-a432-4823-f861-c2904d1685dc"
      },
      "execution_count": null,
      "outputs": [
        {
          "output_type": "stream",
          "name": "stdout",
          "text": [
            "Drive already mounted at /content/drive; to attempt to forcibly remount, call drive.mount(\"/content/drive\", force_remount=True).\n"
          ]
        }
      ]
    },
    {
      "cell_type": "code",
      "source": [
        "import numpy as np\n",
        "from tensorflow import keras\n",
        "from tensorflow.keras import layers\n",
        "from matplotlib import pyplot as plt\n",
        "from sklearn.model_selection import GridSearchCV\n",
        "from keras.wrappers.scikit_learn import KerasClassifier\n",
        "from sklearn.preprocessing import StandardScaler"
      ],
      "metadata": {
        "id": "2gXQ7pXTIqqT"
      },
      "execution_count": null,
      "outputs": []
    },
    {
      "cell_type": "code",
      "source": [
        "\n",
        "X_test = np.load(\"/content/drive/MyDrive/eeg_project/X_test.npy\")\n",
        "y_test = np.load(\"/content/drive/MyDrive/eeg_project/y_test.npy\")\n",
        "person_train_valid = np.load(\"/content/drive/MyDrive/eeg_project/person_train_valid.npy\")\n",
        "X_train_valid = np.load(\"/content/drive/MyDrive/eeg_project/X_train_valid.npy\")\n",
        "y_train_valid = np.load(\"/content/drive/MyDrive/eeg_project/y_train_valid.npy\")\n",
        "person_test = np.load(\"/content/drive/MyDrive/eeg_project/person_test.npy\")\n"
      ],
      "metadata": {
        "id": "foTd2q3JIreb"
      },
      "execution_count": null,
      "outputs": []
    },
    {
      "cell_type": "code",
      "source": [
        "print ('Training/Valid data shape: {}'.format(X_train_valid.shape))\n",
        "print ('Test data shape: {}'.format(X_test.shape))\n",
        "print ('Training/Valid target shape: {}'.format(y_train_valid.shape))\n",
        "print ('Test target shape: {}'.format(y_test.shape))\n",
        "print ('Person train/valid shape: {}'.format(person_train_valid.shape))\n",
        "print ('Person test shape: {}'.format(person_test.shape))\n"
      ],
      "metadata": {
        "id": "g6VAQSVEUtIW",
        "colab": {
          "base_uri": "https://localhost:8080/"
        },
        "outputId": "c32a9c11-5fee-47dc-af39-b7543e3987ec"
      },
      "execution_count": null,
      "outputs": [
        {
          "output_type": "stream",
          "name": "stdout",
          "text": [
            "Training/Valid data shape: (2115, 22, 1000)\n",
            "Test data shape: (443, 22, 1000)\n",
            "Training/Valid target shape: (2115,)\n",
            "Test target shape: (443,)\n",
            "Person train/valid shape: (2115, 1)\n",
            "Person test shape: (443, 1)\n"
          ]
        }
      ]
    },
    {
      "cell_type": "code",
      "source": [
        "print(np.unique(y_train_valid))\n",
        "print(np.unique(y_test))"
      ],
      "metadata": {
        "colab": {
          "base_uri": "https://localhost:8080/"
        },
        "id": "bhxR60r5IzuR",
        "outputId": "3a98fa56-11cb-4c36-d944-30f5ff9df2a4"
      },
      "execution_count": null,
      "outputs": [
        {
          "output_type": "stream",
          "name": "stdout",
          "text": [
            "[769 770 771 772]\n",
            "[769 770 771 772]\n"
          ]
        }
      ]
    },
    {
      "cell_type": "code",
      "source": [
        "num_classes = 4\n",
        "y_train_valid = y_train_valid-769\n",
        "y_test = y_test-769"
      ],
      "metadata": {
        "id": "U4K1wzmfI4Rb"
      },
      "execution_count": null,
      "outputs": []
    },
    {
      "cell_type": "code",
      "source": [
        "def data_prep(X,y,sub_sample,average,noise):\n",
        "    \n",
        "    total_X = None\n",
        "    total_y = None\n",
        "    \n",
        "    # Trimming the data (sample,22,1000) -> (sample,22,500)\n",
        "    X = X[:,:,0:500]\n",
        "    print('Shape of X after trimming:',X.shape)\n",
        "    \n",
        "    # Maxpooling the data (sample,22,1000) -> (sample,22,500/sub_sample)\n",
        "    X_max = np.max(X.reshape(X.shape[0], X.shape[1], -1, sub_sample), axis=3)\n",
        "    \n",
        "    \n",
        "    total_X = X_max\n",
        "    total_y = y\n",
        "    print('Shape of X after maxpooling:',total_X.shape)\n",
        "    \n",
        "    # Averaging + noise \n",
        "    X_average = np.mean(X.reshape(X.shape[0], X.shape[1], -1, average),axis=3)\n",
        "    X_average = X_average + np.random.normal(0.0, 0.5, X_average.shape)\n",
        "    \n",
        "    total_X = np.vstack((total_X, X_average))\n",
        "    total_y = np.hstack((total_y, y))\n",
        "    print('Shape of X after averaging+noise and concatenating:',total_X.shape)\n",
        "    \n",
        "    # Subsampling\n",
        "    \n",
        "    for i in range(sub_sample):\n",
        "        \n",
        "        X_subsample = X[:, :, i::sub_sample] + \\\n",
        "                            (np.random.normal(0.0, 0.5, X[:, :,i::sub_sample].shape) if noise else 0.0)\n",
        "            \n",
        "        total_X = np.vstack((total_X, X_subsample))\n",
        "        total_y = np.hstack((total_y, y))\n",
        "        \n",
        "    \n",
        "    print('Shape of X after subsampling and concatenating:',total_X.shape)\n",
        "    return total_X,total_y\n",
        "\n",
        "\n",
        "X_train_valid_prep,y_train_valid_prep = data_prep(X_train_valid,y_train_valid,2,2,True)\n"
      ],
      "metadata": {
        "colab": {
          "base_uri": "https://localhost:8080/"
        },
        "id": "0-ubjiWDpR_W",
        "outputId": "19031ca8-b636-426c-ddfb-dbc9e7731dab"
      },
      "execution_count": null,
      "outputs": [
        {
          "output_type": "stream",
          "name": "stdout",
          "text": [
            "Shape of X after trimming: (2115, 22, 500)\n",
            "Shape of X after maxpooling: (2115, 22, 250)\n",
            "Shape of X after averaging+noise and concatenating: (4230, 22, 250)\n",
            "Shape of X after subsampling and concatenating: (8460, 22, 250)\n"
          ]
        }
      ]
    },
    {
      "cell_type": "code",
      "source": [
        "def data_prep_test(X,y, sub_sample=2):\n",
        "    \n",
        "    total_X = None\n",
        "    total_y = None\n",
        "    \n",
        "    # Trimming the data (sample,22,1000) -> (sample,22,500)\n",
        "    X = X[:,:,0:500]\n",
        "    print('Shape of X after trimming:',X.shape)\n",
        "    \n",
        "    # Maxpooling the data (sample,22,1000) -> (sample,22,500/sub_sample)\n",
        "    X_max = np.max(X.reshape(X.shape[0], X.shape[1], -1, sub_sample), axis=3)\n",
        "    \n",
        "    \n",
        "    total_X = X_max\n",
        "    total_y = y\n",
        "    print('Shape of X after maxpooling:',total_X.shape)\n",
        "    return total_X,total_y\n",
        "\n",
        "\n",
        "X_test,y_test = data_prep_test(X_test, y_test,2)\n"
      ],
      "metadata": {
        "colab": {
          "base_uri": "https://localhost:8080/"
        },
        "id": "IhtalewhtI6R",
        "outputId": "11813eb3-33a1-473c-ae71-4a3bfb4f5005"
      },
      "execution_count": null,
      "outputs": [
        {
          "output_type": "stream",
          "name": "stdout",
          "text": [
            "Shape of X after trimming: (443, 22, 500)\n",
            "Shape of X after maxpooling: (443, 22, 250)\n"
          ]
        }
      ]
    },
    {
      "cell_type": "code",
      "source": [
        "\n",
        "y_train_valid_prep = keras.utils.to_categorical(y_train_valid_prep, num_classes)\n",
        "y_test = keras.utils.to_categorical(y_test, num_classes)"
      ],
      "metadata": {
        "id": "NZWq7ZCFq5z9"
      },
      "execution_count": null,
      "outputs": []
    },
    {
      "cell_type": "code",
      "source": [
        "print(X_train_valid_prep.shape,y_train_valid_prep.shape)\n",
        "print(X_test.shape, y_test.shape)"
      ],
      "metadata": {
        "colab": {
          "base_uri": "https://localhost:8080/"
        },
        "id": "YFZfw6CuqeBs",
        "outputId": "3ba717c6-3a00-4f13-d574-e8e550eb6921"
      },
      "execution_count": null,
      "outputs": [
        {
          "output_type": "stream",
          "name": "stdout",
          "text": [
            "(8460, 22, 250) (8460,)\n",
            "(443, 22, 250) (443,)\n"
          ]
        }
      ]
    },
    {
      "cell_type": "code",
      "source": [
        "X_train_valid_prep = np.swapaxes(X_train_valid_prep, 1, 2)\n",
        "X_test = np.swapaxes(X_test, 1, 2)"
      ],
      "metadata": {
        "id": "L4MojHQU12YB"
      },
      "execution_count": null,
      "outputs": []
    },
    {
      "cell_type": "code",
      "source": [
        "print(X_train_valid_prep.shape,y_train_valid_prep.shape)\n",
        "print(X_test.shape, y_test.shape)"
      ],
      "metadata": {
        "colab": {
          "base_uri": "https://localhost:8080/"
        },
        "id": "SVGBRD5O1-78",
        "outputId": "078f3066-245e-4855-fd98-a68de7b262d9"
      },
      "execution_count": null,
      "outputs": [
        {
          "output_type": "stream",
          "name": "stdout",
          "text": [
            "(8460, 250, 22) (8460,)\n",
            "(443, 250, 22) (443,)\n"
          ]
        }
      ]
    },
    {
      "cell_type": "markdown",
      "source": [
        "## Transformer model with all subjects"
      ],
      "metadata": {
        "id": "IxgOEM-3WIPG"
      }
    },
    {
      "cell_type": "code",
      "source": [
        "from keras.layers import Conv2D, BatchNormalization, Activation, Flatten, Dense, Dropout, LSTM, Input, TimeDistributed, Permute, Reshape, MaxPooling2D, GRU\n",
        "from keras import initializers, Model, optimizers, callbacks\n",
        "from keras import Sequential\n",
        "from keras import backend as K\n",
        "from keras.models import load_model\n",
        "from keras.callbacks import Callback\n",
        "from sklearn.preprocessing import OneHotEncoder, StandardScaler\n",
        "from sklearn.metrics import confusion_matrix, f1_score, precision_score, recall_score\n",
        "from tensorflow import keras\n",
        "from tensorflow.keras import layers\n"
      ],
      "metadata": {
        "id": "GswnoLTxWgFD"
      },
      "execution_count": null,
      "outputs": []
    },
    {
      "cell_type": "code",
      "source": [
        "def transformer_encoder(inputs, head_size, num_heads, ff_dim, dropout=0):\n",
        "    # Normalization and Attention\n",
        "    x = layers.LayerNormalization(epsilon=1e-6)(inputs)\n",
        "    x = layers.MultiHeadAttention(\n",
        "        key_dim=head_size, num_heads=num_heads, dropout=dropout\n",
        "    )(x, x)\n",
        "    x = layers.Dropout(dropout)(x)\n",
        "    res = x + inputs\n",
        "\n",
        "    # Feed Forward Part\n",
        "    x = layers.LayerNormalization(epsilon=1e-6)(res)\n",
        "    x = layers.Conv1D(filters=ff_dim, kernel_size=1, activation=\"relu\")(x)\n",
        "    x = layers.Dropout(dropout)(x)\n",
        "    x = layers.Conv1D(filters=inputs.shape[-1], kernel_size=1)(x)\n",
        "    return x + res\n"
      ],
      "metadata": {
        "id": "wYFHPdrb0i52"
      },
      "execution_count": null,
      "outputs": []
    },
    {
      "cell_type": "code",
      "source": [
        "def build_model(\n",
        "    input_shape,\n",
        "    head_size,\n",
        "    num_heads,\n",
        "    ff_dim,\n",
        "    num_transformer_blocks,\n",
        "    mlp_units,\n",
        "    dropout=0,\n",
        "    mlp_dropout=0,\n",
        "):\n",
        "    inputs = keras.Input(shape=input_shape)\n",
        "    x = inputs\n",
        "    for _ in range(num_transformer_blocks):\n",
        "        x = transformer_encoder(x, head_size, num_heads, ff_dim, dropout)\n",
        "\n",
        "    x = layers.GlobalAveragePooling1D(data_format=\"channels_first\")(x)\n",
        "    for dim in mlp_units:\n",
        "        x = layers.Dense(dim, activation=\"relu\")(x)\n",
        "        x = layers.Dropout(mlp_dropout)(x)\n",
        "    outputs = layers.Dense(num_classes, activation=\"softmax\")(x)\n",
        "    return keras.Model(inputs, outputs)\n"
      ],
      "metadata": {
        "id": "BSm44W_mWdxt"
      },
      "execution_count": null,
      "outputs": []
    },
    {
      "cell_type": "code",
      "source": [
        "input_shape = X_train_valid_prep.shape[1:]\n",
        "\n",
        "model = build_model(\n",
        "    input_shape,\n",
        "    head_size=256,\n",
        "    num_heads=4,\n",
        "    ff_dim=4,\n",
        "    num_transformer_blocks=4,\n",
        "    mlp_units=[128],\n",
        "    mlp_dropout=0.4,\n",
        "    dropout=0.25,\n",
        ")\n",
        "\n",
        "model.compile(\n",
        "    loss=\"sparse_categorical_crossentropy\",\n",
        "    optimizer=keras.optimizers.Adam(learning_rate=1e-4),\n",
        "    metrics=[\"sparse_categorical_accuracy\"],\n",
        ")\n",
        "model.summary()\n",
        "\n",
        "# callbacks = [keras.callbacks.EarlyStopping(patience=10, restore_best_weights=True)]\n",
        "\n"
      ],
      "metadata": {
        "colab": {
          "base_uri": "https://localhost:8080/"
        },
        "id": "dIk5e9Ze0vEe",
        "outputId": "ee99d209-a43e-45f9-c38d-a67b70adf7fd"
      },
      "execution_count": null,
      "outputs": [
        {
          "output_type": "stream",
          "name": "stdout",
          "text": [
            "Model: \"model_5\"\n",
            "__________________________________________________________________________________________________\n",
            " Layer (type)                   Output Shape         Param #     Connected to                     \n",
            "==================================================================================================\n",
            " input_6 (InputLayer)           [(None, 250, 22)]    0           []                               \n",
            "                                                                                                  \n",
            " layer_normalization_40 (LayerN  (None, 250, 22)     44          ['input_6[0][0]']                \n",
            " ormalization)                                                                                    \n",
            "                                                                                                  \n",
            " multi_head_attention_20 (Multi  (None, 250, 22)     93206       ['layer_normalization_40[0][0]', \n",
            " HeadAttention)                                                   'layer_normalization_40[0][0]'] \n",
            "                                                                                                  \n",
            " dropout_45 (Dropout)           (None, 250, 22)      0           ['multi_head_attention_20[0][0]']\n",
            "                                                                                                  \n",
            " tf.__operators__.add_40 (TFOpL  (None, 250, 22)     0           ['dropout_45[0][0]',             \n",
            " ambda)                                                           'input_6[0][0]']                \n",
            "                                                                                                  \n",
            " layer_normalization_41 (LayerN  (None, 250, 22)     44          ['tf.__operators__.add_40[0][0]']\n",
            " ormalization)                                                                                    \n",
            "                                                                                                  \n",
            " conv1d_40 (Conv1D)             (None, 250, 4)       92          ['layer_normalization_41[0][0]'] \n",
            "                                                                                                  \n",
            " dropout_46 (Dropout)           (None, 250, 4)       0           ['conv1d_40[0][0]']              \n",
            "                                                                                                  \n",
            " conv1d_41 (Conv1D)             (None, 250, 22)      110         ['dropout_46[0][0]']             \n",
            "                                                                                                  \n",
            " tf.__operators__.add_41 (TFOpL  (None, 250, 22)     0           ['conv1d_41[0][0]',              \n",
            " ambda)                                                           'tf.__operators__.add_40[0][0]']\n",
            "                                                                                                  \n",
            " layer_normalization_42 (LayerN  (None, 250, 22)     44          ['tf.__operators__.add_41[0][0]']\n",
            " ormalization)                                                                                    \n",
            "                                                                                                  \n",
            " multi_head_attention_21 (Multi  (None, 250, 22)     93206       ['layer_normalization_42[0][0]', \n",
            " HeadAttention)                                                   'layer_normalization_42[0][0]'] \n",
            "                                                                                                  \n",
            " dropout_47 (Dropout)           (None, 250, 22)      0           ['multi_head_attention_21[0][0]']\n",
            "                                                                                                  \n",
            " tf.__operators__.add_42 (TFOpL  (None, 250, 22)     0           ['dropout_47[0][0]',             \n",
            " ambda)                                                           'tf.__operators__.add_41[0][0]']\n",
            "                                                                                                  \n",
            " layer_normalization_43 (LayerN  (None, 250, 22)     44          ['tf.__operators__.add_42[0][0]']\n",
            " ormalization)                                                                                    \n",
            "                                                                                                  \n",
            " conv1d_42 (Conv1D)             (None, 250, 4)       92          ['layer_normalization_43[0][0]'] \n",
            "                                                                                                  \n",
            " dropout_48 (Dropout)           (None, 250, 4)       0           ['conv1d_42[0][0]']              \n",
            "                                                                                                  \n",
            " conv1d_43 (Conv1D)             (None, 250, 22)      110         ['dropout_48[0][0]']             \n",
            "                                                                                                  \n",
            " tf.__operators__.add_43 (TFOpL  (None, 250, 22)     0           ['conv1d_43[0][0]',              \n",
            " ambda)                                                           'tf.__operators__.add_42[0][0]']\n",
            "                                                                                                  \n",
            " layer_normalization_44 (LayerN  (None, 250, 22)     44          ['tf.__operators__.add_43[0][0]']\n",
            " ormalization)                                                                                    \n",
            "                                                                                                  \n",
            " multi_head_attention_22 (Multi  (None, 250, 22)     93206       ['layer_normalization_44[0][0]', \n",
            " HeadAttention)                                                   'layer_normalization_44[0][0]'] \n",
            "                                                                                                  \n",
            " dropout_49 (Dropout)           (None, 250, 22)      0           ['multi_head_attention_22[0][0]']\n",
            "                                                                                                  \n",
            " tf.__operators__.add_44 (TFOpL  (None, 250, 22)     0           ['dropout_49[0][0]',             \n",
            " ambda)                                                           'tf.__operators__.add_43[0][0]']\n",
            "                                                                                                  \n",
            " layer_normalization_45 (LayerN  (None, 250, 22)     44          ['tf.__operators__.add_44[0][0]']\n",
            " ormalization)                                                                                    \n",
            "                                                                                                  \n",
            " conv1d_44 (Conv1D)             (None, 250, 4)       92          ['layer_normalization_45[0][0]'] \n",
            "                                                                                                  \n",
            " dropout_50 (Dropout)           (None, 250, 4)       0           ['conv1d_44[0][0]']              \n",
            "                                                                                                  \n",
            " conv1d_45 (Conv1D)             (None, 250, 22)      110         ['dropout_50[0][0]']             \n",
            "                                                                                                  \n",
            " tf.__operators__.add_45 (TFOpL  (None, 250, 22)     0           ['conv1d_45[0][0]',              \n",
            " ambda)                                                           'tf.__operators__.add_44[0][0]']\n",
            "                                                                                                  \n",
            " layer_normalization_46 (LayerN  (None, 250, 22)     44          ['tf.__operators__.add_45[0][0]']\n",
            " ormalization)                                                                                    \n",
            "                                                                                                  \n",
            " multi_head_attention_23 (Multi  (None, 250, 22)     93206       ['layer_normalization_46[0][0]', \n",
            " HeadAttention)                                                   'layer_normalization_46[0][0]'] \n",
            "                                                                                                  \n",
            " dropout_51 (Dropout)           (None, 250, 22)      0           ['multi_head_attention_23[0][0]']\n",
            "                                                                                                  \n",
            " tf.__operators__.add_46 (TFOpL  (None, 250, 22)     0           ['dropout_51[0][0]',             \n",
            " ambda)                                                           'tf.__operators__.add_45[0][0]']\n",
            "                                                                                                  \n",
            " layer_normalization_47 (LayerN  (None, 250, 22)     44          ['tf.__operators__.add_46[0][0]']\n",
            " ormalization)                                                                                    \n",
            "                                                                                                  \n",
            " conv1d_46 (Conv1D)             (None, 250, 4)       92          ['layer_normalization_47[0][0]'] \n",
            "                                                                                                  \n",
            " dropout_52 (Dropout)           (None, 250, 4)       0           ['conv1d_46[0][0]']              \n",
            "                                                                                                  \n",
            " conv1d_47 (Conv1D)             (None, 250, 22)      110         ['dropout_52[0][0]']             \n",
            "                                                                                                  \n",
            " tf.__operators__.add_47 (TFOpL  (None, 250, 22)     0           ['conv1d_47[0][0]',              \n",
            " ambda)                                                           'tf.__operators__.add_46[0][0]']\n",
            "                                                                                                  \n",
            " global_average_pooling1d_5 (Gl  (None, 250)         0           ['tf.__operators__.add_47[0][0]']\n",
            " obalAveragePooling1D)                                                                            \n",
            "                                                                                                  \n",
            " dense_10 (Dense)               (None, 128)          32128       ['global_average_pooling1d_5[0][0\n",
            "                                                                 ]']                              \n",
            "                                                                                                  \n",
            " dropout_53 (Dropout)           (None, 128)          0           ['dense_10[0][0]']               \n",
            "                                                                                                  \n",
            " dense_11 (Dense)               (None, 4)            516         ['dropout_53[0][0]']             \n",
            "                                                                                                  \n",
            "==================================================================================================\n",
            "Total params: 406,628\n",
            "Trainable params: 406,628\n",
            "Non-trainable params: 0\n",
            "__________________________________________________________________________________________________\n"
          ]
        }
      ]
    },
    {
      "cell_type": "code",
      "source": [
        "\n",
        "model.fit(\n",
        "    X_train_valid_prep,\n",
        "    y_train_valid_prep,\n",
        "    validation_split=0.2,\n",
        "    epochs=200,\n",
        "    batch_size=64\n",
        ")"
      ],
      "metadata": {
        "colab": {
          "base_uri": "https://localhost:8080/"
        },
        "id": "vQNJ4-8OXRB0",
        "outputId": "4f8c2df0-d017-45ff-efc8-18d419040900"
      },
      "execution_count": null,
      "outputs": [
        {
          "output_type": "stream",
          "name": "stdout",
          "text": [
            "Epoch 1/200\n",
            "106/106 [==============================] - 64s 473ms/step - loss: 11.5033 - sparse_categorical_accuracy: 0.2648 - val_loss: 6.8582 - val_sparse_categorical_accuracy: 0.2884\n",
            "Epoch 2/200\n",
            "106/106 [==============================] - 49s 463ms/step - loss: 8.6392 - sparse_categorical_accuracy: 0.2841 - val_loss: 5.1527 - val_sparse_categorical_accuracy: 0.3085\n",
            "Epoch 3/200\n",
            "106/106 [==============================] - 50s 469ms/step - loss: 7.1914 - sparse_categorical_accuracy: 0.2884 - val_loss: 4.3068 - val_sparse_categorical_accuracy: 0.3227\n",
            "Epoch 4/200\n",
            "106/106 [==============================] - 50s 470ms/step - loss: 5.8424 - sparse_categorical_accuracy: 0.3053 - val_loss: 3.4222 - val_sparse_categorical_accuracy: 0.3168\n",
            "Epoch 5/200\n",
            "106/106 [==============================] - 50s 470ms/step - loss: 3.7788 - sparse_categorical_accuracy: 0.2937 - val_loss: 1.7776 - val_sparse_categorical_accuracy: 0.2908\n",
            "Epoch 6/200\n",
            "106/106 [==============================] - 49s 459ms/step - loss: 1.5209 - sparse_categorical_accuracy: 0.2773 - val_loss: 1.3856 - val_sparse_categorical_accuracy: 0.2778\n",
            "Epoch 7/200\n",
            "106/106 [==============================] - 48s 454ms/step - loss: 1.3937 - sparse_categorical_accuracy: 0.2691 - val_loss: 1.3796 - val_sparse_categorical_accuracy: 0.2671\n",
            "Epoch 8/200\n",
            "106/106 [==============================] - 48s 454ms/step - loss: 1.3846 - sparse_categorical_accuracy: 0.2652 - val_loss: 1.3755 - val_sparse_categorical_accuracy: 0.2766\n",
            "Epoch 9/200\n",
            "106/106 [==============================] - 48s 454ms/step - loss: 1.3831 - sparse_categorical_accuracy: 0.2605 - val_loss: 1.3753 - val_sparse_categorical_accuracy: 0.2713\n",
            "Epoch 10/200\n",
            "106/106 [==============================] - 48s 455ms/step - loss: 1.3825 - sparse_categorical_accuracy: 0.2648 - val_loss: 1.3754 - val_sparse_categorical_accuracy: 0.2671\n",
            "Epoch 11/200\n",
            "106/106 [==============================] - 48s 454ms/step - loss: 1.3794 - sparse_categorical_accuracy: 0.2691 - val_loss: 1.3719 - val_sparse_categorical_accuracy: 0.2908\n",
            "Epoch 12/200\n",
            "106/106 [==============================] - 48s 455ms/step - loss: 1.3778 - sparse_categorical_accuracy: 0.2697 - val_loss: 1.3725 - val_sparse_categorical_accuracy: 0.2784\n",
            "Epoch 13/200\n",
            "106/106 [==============================] - 48s 455ms/step - loss: 1.3765 - sparse_categorical_accuracy: 0.2670 - val_loss: 1.3669 - val_sparse_categorical_accuracy: 0.2914\n",
            "Epoch 14/200\n",
            "106/106 [==============================] - 48s 455ms/step - loss: 1.3773 - sparse_categorical_accuracy: 0.2782 - val_loss: 1.3668 - val_sparse_categorical_accuracy: 0.2961\n",
            "Epoch 15/200\n",
            "106/106 [==============================] - 48s 455ms/step - loss: 1.3688 - sparse_categorical_accuracy: 0.2822 - val_loss: 1.3625 - val_sparse_categorical_accuracy: 0.2955\n",
            "Epoch 16/200\n",
            "106/106 [==============================] - 49s 465ms/step - loss: 1.3766 - sparse_categorical_accuracy: 0.2756 - val_loss: 1.3615 - val_sparse_categorical_accuracy: 0.2937\n",
            "Epoch 17/200\n",
            "106/106 [==============================] - 48s 456ms/step - loss: 1.3666 - sparse_categorical_accuracy: 0.2832 - val_loss: 1.3590 - val_sparse_categorical_accuracy: 0.2991\n",
            "Epoch 18/200\n",
            "106/106 [==============================] - 48s 454ms/step - loss: 1.3628 - sparse_categorical_accuracy: 0.2924 - val_loss: 1.3560 - val_sparse_categorical_accuracy: 0.3174\n",
            "Epoch 19/200\n",
            "106/106 [==============================] - 48s 454ms/step - loss: 1.3708 - sparse_categorical_accuracy: 0.2782 - val_loss: 1.3596 - val_sparse_categorical_accuracy: 0.2890\n",
            "Epoch 20/200\n",
            "106/106 [==============================] - 48s 455ms/step - loss: 1.3669 - sparse_categorical_accuracy: 0.2849 - val_loss: 1.3555 - val_sparse_categorical_accuracy: 0.3056\n",
            "Epoch 21/200\n",
            "106/106 [==============================] - 48s 454ms/step - loss: 1.3645 - sparse_categorical_accuracy: 0.2902 - val_loss: 1.3507 - val_sparse_categorical_accuracy: 0.3091\n",
            "Epoch 22/200\n",
            "106/106 [==============================] - 48s 454ms/step - loss: 1.3615 - sparse_categorical_accuracy: 0.2928 - val_loss: 1.3509 - val_sparse_categorical_accuracy: 0.3215\n",
            "Epoch 23/200\n",
            "106/106 [==============================] - 48s 457ms/step - loss: 1.3563 - sparse_categorical_accuracy: 0.3002 - val_loss: 1.3397 - val_sparse_categorical_accuracy: 0.3197\n",
            "Epoch 24/200\n",
            "106/106 [==============================] - 48s 456ms/step - loss: 1.3578 - sparse_categorical_accuracy: 0.2923 - val_loss: 1.3421 - val_sparse_categorical_accuracy: 0.3115\n",
            "Epoch 25/200\n",
            "106/106 [==============================] - 48s 458ms/step - loss: 1.3529 - sparse_categorical_accuracy: 0.3066 - val_loss: 1.3403 - val_sparse_categorical_accuracy: 0.3197\n",
            "Epoch 26/200\n",
            "106/106 [==============================] - 48s 457ms/step - loss: 1.3442 - sparse_categorical_accuracy: 0.3048 - val_loss: 1.3344 - val_sparse_categorical_accuracy: 0.3245\n",
            "Epoch 27/200\n",
            "106/106 [==============================] - 48s 457ms/step - loss: 1.3481 - sparse_categorical_accuracy: 0.3005 - val_loss: 1.3335 - val_sparse_categorical_accuracy: 0.3316\n",
            "Epoch 28/200\n",
            "106/106 [==============================] - 50s 468ms/step - loss: 1.3405 - sparse_categorical_accuracy: 0.3094 - val_loss: 1.3274 - val_sparse_categorical_accuracy: 0.3322\n",
            "Epoch 29/200\n",
            "106/106 [==============================] - 48s 456ms/step - loss: 1.3402 - sparse_categorical_accuracy: 0.3171 - val_loss: 1.3212 - val_sparse_categorical_accuracy: 0.3511\n",
            "Epoch 30/200\n",
            "106/106 [==============================] - 48s 457ms/step - loss: 1.3333 - sparse_categorical_accuracy: 0.3189 - val_loss: 1.3201 - val_sparse_categorical_accuracy: 0.3534\n",
            "Epoch 31/200\n",
            "106/106 [==============================] - 48s 456ms/step - loss: 1.3317 - sparse_categorical_accuracy: 0.3254 - val_loss: 1.3068 - val_sparse_categorical_accuracy: 0.3582\n",
            "Epoch 32/200\n",
            "106/106 [==============================] - 48s 458ms/step - loss: 1.3325 - sparse_categorical_accuracy: 0.3237 - val_loss: 1.3082 - val_sparse_categorical_accuracy: 0.3682\n",
            "Epoch 33/200\n",
            "106/106 [==============================] - 49s 459ms/step - loss: 1.3259 - sparse_categorical_accuracy: 0.3279 - val_loss: 1.3123 - val_sparse_categorical_accuracy: 0.3652\n",
            "Epoch 34/200\n",
            "106/106 [==============================] - 49s 459ms/step - loss: 1.3204 - sparse_categorical_accuracy: 0.3267 - val_loss: 1.2959 - val_sparse_categorical_accuracy: 0.3647\n",
            "Epoch 35/200\n",
            "106/106 [==============================] - 49s 460ms/step - loss: 1.3135 - sparse_categorical_accuracy: 0.3375 - val_loss: 1.2926 - val_sparse_categorical_accuracy: 0.3682\n",
            "Epoch 36/200\n",
            "106/106 [==============================] - 49s 458ms/step - loss: 1.3158 - sparse_categorical_accuracy: 0.3330 - val_loss: 1.2923 - val_sparse_categorical_accuracy: 0.3629\n",
            "Epoch 37/200\n",
            "106/106 [==============================] - 49s 459ms/step - loss: 1.3043 - sparse_categorical_accuracy: 0.3401 - val_loss: 1.2757 - val_sparse_categorical_accuracy: 0.3788\n",
            "Epoch 38/200\n",
            "106/106 [==============================] - 49s 460ms/step - loss: 1.3034 - sparse_categorical_accuracy: 0.3463 - val_loss: 1.2706 - val_sparse_categorical_accuracy: 0.3788\n",
            "Epoch 39/200\n",
            "106/106 [==============================] - 49s 460ms/step - loss: 1.2974 - sparse_categorical_accuracy: 0.3483 - val_loss: 1.2732 - val_sparse_categorical_accuracy: 0.3942\n",
            "Epoch 40/200\n",
            "106/106 [==============================] - 49s 460ms/step - loss: 1.2940 - sparse_categorical_accuracy: 0.3502 - val_loss: 1.2649 - val_sparse_categorical_accuracy: 0.4037\n",
            "Epoch 41/200\n",
            "106/106 [==============================] - 49s 460ms/step - loss: 1.2818 - sparse_categorical_accuracy: 0.3599 - val_loss: 1.2528 - val_sparse_categorical_accuracy: 0.3877\n",
            "Epoch 42/200\n",
            "106/106 [==============================] - 49s 461ms/step - loss: 1.2858 - sparse_categorical_accuracy: 0.3540 - val_loss: 1.2488 - val_sparse_categorical_accuracy: 0.4007\n",
            "Epoch 43/200\n",
            "106/106 [==============================] - 49s 460ms/step - loss: 1.2739 - sparse_categorical_accuracy: 0.3579 - val_loss: 1.2357 - val_sparse_categorical_accuracy: 0.3907\n",
            "Epoch 44/200\n",
            "106/106 [==============================] - 49s 461ms/step - loss: 1.2716 - sparse_categorical_accuracy: 0.3638 - val_loss: 1.2334 - val_sparse_categorical_accuracy: 0.4043\n",
            "Epoch 45/200\n",
            "106/106 [==============================] - 49s 461ms/step - loss: 1.2745 - sparse_categorical_accuracy: 0.3682 - val_loss: 1.2291 - val_sparse_categorical_accuracy: 0.4196\n",
            "Epoch 46/200\n",
            "106/106 [==============================] - 49s 462ms/step - loss: 1.2569 - sparse_categorical_accuracy: 0.3756 - val_loss: 1.2158 - val_sparse_categorical_accuracy: 0.4196\n",
            "Epoch 47/200\n",
            "106/106 [==============================] - 49s 462ms/step - loss: 1.2520 - sparse_categorical_accuracy: 0.3819 - val_loss: 1.2080 - val_sparse_categorical_accuracy: 0.4279\n",
            "Epoch 48/200\n",
            "106/106 [==============================] - 49s 462ms/step - loss: 1.2512 - sparse_categorical_accuracy: 0.3757 - val_loss: 1.2009 - val_sparse_categorical_accuracy: 0.4243\n",
            "Epoch 49/200\n",
            "106/106 [==============================] - 49s 463ms/step - loss: 1.2467 - sparse_categorical_accuracy: 0.3774 - val_loss: 1.1970 - val_sparse_categorical_accuracy: 0.4314\n",
            "Epoch 50/200\n",
            "106/106 [==============================] - 49s 463ms/step - loss: 1.2350 - sparse_categorical_accuracy: 0.3868 - val_loss: 1.1873 - val_sparse_categorical_accuracy: 0.4303\n",
            "Epoch 51/200\n",
            "106/106 [==============================] - 49s 463ms/step - loss: 1.2337 - sparse_categorical_accuracy: 0.3775 - val_loss: 1.1873 - val_sparse_categorical_accuracy: 0.4439\n",
            "Epoch 52/200\n",
            "106/106 [==============================] - 49s 464ms/step - loss: 1.2222 - sparse_categorical_accuracy: 0.3989 - val_loss: 1.1765 - val_sparse_categorical_accuracy: 0.4480\n",
            "Epoch 53/200\n",
            "106/106 [==============================] - 49s 463ms/step - loss: 1.2166 - sparse_categorical_accuracy: 0.3986 - val_loss: 1.1758 - val_sparse_categorical_accuracy: 0.4574\n",
            "Epoch 54/200\n",
            "106/106 [==============================] - 49s 463ms/step - loss: 1.2060 - sparse_categorical_accuracy: 0.4105 - val_loss: 1.1606 - val_sparse_categorical_accuracy: 0.4474\n",
            "Epoch 55/200\n",
            "106/106 [==============================] - 49s 464ms/step - loss: 1.2028 - sparse_categorical_accuracy: 0.4109 - val_loss: 1.1522 - val_sparse_categorical_accuracy: 0.4580\n",
            "Epoch 56/200\n",
            "106/106 [==============================] - 49s 464ms/step - loss: 1.2034 - sparse_categorical_accuracy: 0.4056 - val_loss: 1.1540 - val_sparse_categorical_accuracy: 0.4569\n",
            "Epoch 57/200\n",
            "106/106 [==============================] - 49s 464ms/step - loss: 1.1904 - sparse_categorical_accuracy: 0.4176 - val_loss: 1.1438 - val_sparse_categorical_accuracy: 0.4681\n",
            "Epoch 58/200\n",
            "106/106 [==============================] - 49s 464ms/step - loss: 1.1828 - sparse_categorical_accuracy: 0.4303 - val_loss: 1.1425 - val_sparse_categorical_accuracy: 0.4675\n",
            "Epoch 59/200\n",
            "106/106 [==============================] - 49s 464ms/step - loss: 1.1721 - sparse_categorical_accuracy: 0.4199 - val_loss: 1.1253 - val_sparse_categorical_accuracy: 0.4775\n",
            "Epoch 60/200\n",
            "106/106 [==============================] - 49s 465ms/step - loss: 1.1750 - sparse_categorical_accuracy: 0.4215 - val_loss: 1.1232 - val_sparse_categorical_accuracy: 0.4722\n",
            "Epoch 61/200\n",
            "106/106 [==============================] - 49s 464ms/step - loss: 1.1697 - sparse_categorical_accuracy: 0.4224 - val_loss: 1.1182 - val_sparse_categorical_accuracy: 0.4734\n",
            "Epoch 62/200\n",
            "106/106 [==============================] - 49s 464ms/step - loss: 1.1613 - sparse_categorical_accuracy: 0.4291 - val_loss: 1.1070 - val_sparse_categorical_accuracy: 0.4793\n",
            "Epoch 63/200\n",
            "106/106 [==============================] - 49s 465ms/step - loss: 1.1518 - sparse_categorical_accuracy: 0.4381 - val_loss: 1.0999 - val_sparse_categorical_accuracy: 0.4888\n",
            "Epoch 64/200\n",
            "106/106 [==============================] - 49s 465ms/step - loss: 1.1473 - sparse_categorical_accuracy: 0.4311 - val_loss: 1.0969 - val_sparse_categorical_accuracy: 0.4888\n",
            "Epoch 65/200\n",
            "106/106 [==============================] - 49s 464ms/step - loss: 1.1401 - sparse_categorical_accuracy: 0.4393 - val_loss: 1.0851 - val_sparse_categorical_accuracy: 0.5077\n",
            "Epoch 66/200\n",
            "106/106 [==============================] - 49s 465ms/step - loss: 1.1311 - sparse_categorical_accuracy: 0.4473 - val_loss: 1.0782 - val_sparse_categorical_accuracy: 0.5053\n",
            "Epoch 67/200\n",
            "106/106 [==============================] - 49s 465ms/step - loss: 1.1236 - sparse_categorical_accuracy: 0.4539 - val_loss: 1.0768 - val_sparse_categorical_accuracy: 0.5118\n",
            "Epoch 68/200\n",
            "106/106 [==============================] - 49s 465ms/step - loss: 1.1133 - sparse_categorical_accuracy: 0.4645 - val_loss: 1.0656 - val_sparse_categorical_accuracy: 0.5089\n",
            "Epoch 69/200\n",
            "106/106 [==============================] - 49s 465ms/step - loss: 1.1045 - sparse_categorical_accuracy: 0.4641 - val_loss: 1.0708 - val_sparse_categorical_accuracy: 0.5071\n",
            "Epoch 70/200\n",
            "106/106 [==============================] - 49s 464ms/step - loss: 1.1036 - sparse_categorical_accuracy: 0.4676 - val_loss: 1.0511 - val_sparse_categorical_accuracy: 0.5189\n",
            "Epoch 71/200\n",
            "106/106 [==============================] - 49s 465ms/step - loss: 1.0991 - sparse_categorical_accuracy: 0.4663 - val_loss: 1.0512 - val_sparse_categorical_accuracy: 0.5219\n",
            "Epoch 72/200\n",
            "106/106 [==============================] - 49s 466ms/step - loss: 1.0878 - sparse_categorical_accuracy: 0.4777 - val_loss: 1.0427 - val_sparse_categorical_accuracy: 0.5278\n",
            "Epoch 73/200\n",
            "106/106 [==============================] - 49s 465ms/step - loss: 1.0899 - sparse_categorical_accuracy: 0.4704 - val_loss: 1.0357 - val_sparse_categorical_accuracy: 0.5319\n",
            "Epoch 74/200\n",
            "106/106 [==============================] - 50s 476ms/step - loss: 1.0743 - sparse_categorical_accuracy: 0.4799 - val_loss: 1.0321 - val_sparse_categorical_accuracy: 0.5248\n",
            "Epoch 75/200\n",
            "106/106 [==============================] - 49s 465ms/step - loss: 1.0739 - sparse_categorical_accuracy: 0.4812 - val_loss: 1.0271 - val_sparse_categorical_accuracy: 0.5296\n",
            "Epoch 76/200\n",
            "106/106 [==============================] - 49s 465ms/step - loss: 1.0644 - sparse_categorical_accuracy: 0.4873 - val_loss: 1.0201 - val_sparse_categorical_accuracy: 0.5343\n",
            "Epoch 77/200\n",
            "106/106 [==============================] - 50s 475ms/step - loss: 1.0600 - sparse_categorical_accuracy: 0.4877 - val_loss: 1.0149 - val_sparse_categorical_accuracy: 0.5349\n",
            "Epoch 78/200\n",
            "106/106 [==============================] - 49s 465ms/step - loss: 1.0489 - sparse_categorical_accuracy: 0.4997 - val_loss: 1.0083 - val_sparse_categorical_accuracy: 0.5414\n",
            "Epoch 79/200\n",
            "106/106 [==============================] - 49s 465ms/step - loss: 1.0497 - sparse_categorical_accuracy: 0.5003 - val_loss: 1.0062 - val_sparse_categorical_accuracy: 0.5408\n",
            "Epoch 80/200\n",
            "106/106 [==============================] - 50s 476ms/step - loss: 1.0304 - sparse_categorical_accuracy: 0.5077 - val_loss: 1.0090 - val_sparse_categorical_accuracy: 0.5455\n",
            "Epoch 81/200\n",
            "106/106 [==============================] - 49s 465ms/step - loss: 1.0351 - sparse_categorical_accuracy: 0.5064 - val_loss: 0.9933 - val_sparse_categorical_accuracy: 0.5431\n",
            "Epoch 82/200\n",
            "106/106 [==============================] - 49s 465ms/step - loss: 1.0286 - sparse_categorical_accuracy: 0.5072 - val_loss: 0.9897 - val_sparse_categorical_accuracy: 0.5538\n",
            "Epoch 83/200\n",
            "106/106 [==============================] - 49s 465ms/step - loss: 1.0289 - sparse_categorical_accuracy: 0.5052 - val_loss: 0.9826 - val_sparse_categorical_accuracy: 0.5668\n",
            "Epoch 84/200\n",
            "106/106 [==============================] - 49s 466ms/step - loss: 1.0105 - sparse_categorical_accuracy: 0.5102 - val_loss: 0.9773 - val_sparse_categorical_accuracy: 0.5615\n",
            "Epoch 85/200\n",
            "106/106 [==============================] - 49s 466ms/step - loss: 1.0084 - sparse_categorical_accuracy: 0.5139 - val_loss: 0.9726 - val_sparse_categorical_accuracy: 0.5538\n",
            "Epoch 86/200\n",
            "106/106 [==============================] - 49s 465ms/step - loss: 0.9916 - sparse_categorical_accuracy: 0.5236 - val_loss: 0.9653 - val_sparse_categorical_accuracy: 0.5632\n",
            "Epoch 87/200\n",
            "106/106 [==============================] - 49s 466ms/step - loss: 0.9859 - sparse_categorical_accuracy: 0.5229 - val_loss: 0.9602 - val_sparse_categorical_accuracy: 0.5668\n",
            "Epoch 88/200\n",
            "106/106 [==============================] - 49s 465ms/step - loss: 0.9984 - sparse_categorical_accuracy: 0.5160 - val_loss: 0.9601 - val_sparse_categorical_accuracy: 0.5668\n",
            "Epoch 89/200\n",
            "106/106 [==============================] - 49s 465ms/step - loss: 0.9964 - sparse_categorical_accuracy: 0.5259 - val_loss: 0.9556 - val_sparse_categorical_accuracy: 0.5762\n",
            "Epoch 90/200\n",
            "106/106 [==============================] - 49s 466ms/step - loss: 0.9758 - sparse_categorical_accuracy: 0.5318 - val_loss: 0.9499 - val_sparse_categorical_accuracy: 0.5703\n",
            "Epoch 91/200\n",
            "106/106 [==============================] - 49s 466ms/step - loss: 0.9724 - sparse_categorical_accuracy: 0.5358 - val_loss: 0.9426 - val_sparse_categorical_accuracy: 0.5768\n",
            "Epoch 92/200\n",
            "106/106 [==============================] - 49s 466ms/step - loss: 0.9770 - sparse_categorical_accuracy: 0.5324 - val_loss: 0.9416 - val_sparse_categorical_accuracy: 0.5780\n",
            "Epoch 93/200\n",
            "106/106 [==============================] - 49s 465ms/step - loss: 0.9666 - sparse_categorical_accuracy: 0.5344 - val_loss: 0.9397 - val_sparse_categorical_accuracy: 0.5798\n",
            "Epoch 94/200\n",
            "106/106 [==============================] - 49s 465ms/step - loss: 0.9531 - sparse_categorical_accuracy: 0.5433 - val_loss: 0.9343 - val_sparse_categorical_accuracy: 0.5851\n",
            "Epoch 95/200\n",
            "106/106 [==============================] - 49s 465ms/step - loss: 0.9447 - sparse_categorical_accuracy: 0.5480 - val_loss: 0.9288 - val_sparse_categorical_accuracy: 0.5887\n",
            "Epoch 96/200\n",
            "106/106 [==============================] - 49s 465ms/step - loss: 0.9503 - sparse_categorical_accuracy: 0.5517 - val_loss: 0.9205 - val_sparse_categorical_accuracy: 0.5940\n",
            "Epoch 97/200\n",
            "106/106 [==============================] - 49s 466ms/step - loss: 0.9427 - sparse_categorical_accuracy: 0.5527 - val_loss: 0.9166 - val_sparse_categorical_accuracy: 0.5892\n",
            "Epoch 98/200\n",
            "106/106 [==============================] - 49s 466ms/step - loss: 0.9345 - sparse_categorical_accuracy: 0.5474 - val_loss: 0.9148 - val_sparse_categorical_accuracy: 0.6005\n",
            "Epoch 99/200\n",
            "106/106 [==============================] - 49s 466ms/step - loss: 0.9349 - sparse_categorical_accuracy: 0.5541 - val_loss: 0.9174 - val_sparse_categorical_accuracy: 0.6011\n",
            "Epoch 100/200\n",
            "106/106 [==============================] - 49s 466ms/step - loss: 0.9320 - sparse_categorical_accuracy: 0.5576 - val_loss: 0.8975 - val_sparse_categorical_accuracy: 0.6082\n",
            "Epoch 101/200\n",
            "106/106 [==============================] - 49s 466ms/step - loss: 0.9148 - sparse_categorical_accuracy: 0.5689 - val_loss: 0.9102 - val_sparse_categorical_accuracy: 0.6011\n",
            "Epoch 102/200\n",
            "106/106 [==============================] - 49s 466ms/step - loss: 0.9113 - sparse_categorical_accuracy: 0.5687 - val_loss: 0.8888 - val_sparse_categorical_accuracy: 0.6070\n",
            "Epoch 103/200\n",
            "106/106 [==============================] - 49s 466ms/step - loss: 0.9106 - sparse_categorical_accuracy: 0.5696 - val_loss: 0.8856 - val_sparse_categorical_accuracy: 0.6141\n",
            "Epoch 104/200\n",
            "106/106 [==============================] - 49s 466ms/step - loss: 0.9008 - sparse_categorical_accuracy: 0.5655 - val_loss: 0.8794 - val_sparse_categorical_accuracy: 0.6087\n",
            "Epoch 105/200\n",
            "106/106 [==============================] - 49s 466ms/step - loss: 0.8928 - sparse_categorical_accuracy: 0.5730 - val_loss: 0.8824 - val_sparse_categorical_accuracy: 0.6093\n",
            "Epoch 106/200\n",
            "106/106 [==============================] - 49s 466ms/step - loss: 0.8953 - sparse_categorical_accuracy: 0.5773 - val_loss: 0.8698 - val_sparse_categorical_accuracy: 0.6265\n",
            "Epoch 107/200\n",
            "106/106 [==============================] - 49s 466ms/step - loss: 0.8821 - sparse_categorical_accuracy: 0.5876 - val_loss: 0.8681 - val_sparse_categorical_accuracy: 0.6206\n",
            "Epoch 108/200\n",
            "106/106 [==============================] - 49s 466ms/step - loss: 0.8877 - sparse_categorical_accuracy: 0.5819 - val_loss: 0.8645 - val_sparse_categorical_accuracy: 0.6259\n",
            "Epoch 109/200\n",
            "106/106 [==============================] - 49s 466ms/step - loss: 0.8617 - sparse_categorical_accuracy: 0.5885 - val_loss: 0.8517 - val_sparse_categorical_accuracy: 0.6389\n",
            "Epoch 110/200\n",
            "106/106 [==============================] - 49s 466ms/step - loss: 0.8688 - sparse_categorical_accuracy: 0.5860 - val_loss: 0.8581 - val_sparse_categorical_accuracy: 0.6342\n",
            "Epoch 111/200\n",
            "106/106 [==============================] - 49s 466ms/step - loss: 0.8655 - sparse_categorical_accuracy: 0.5882 - val_loss: 0.8507 - val_sparse_categorical_accuracy: 0.6365\n",
            "Epoch 112/200\n",
            "106/106 [==============================] - 49s 466ms/step - loss: 0.8524 - sparse_categorical_accuracy: 0.5968 - val_loss: 0.8411 - val_sparse_categorical_accuracy: 0.6430\n",
            "Epoch 113/200\n",
            "106/106 [==============================] - 49s 466ms/step - loss: 0.8607 - sparse_categorical_accuracy: 0.5915 - val_loss: 0.8466 - val_sparse_categorical_accuracy: 0.6336\n",
            "Epoch 114/200\n",
            "106/106 [==============================] - 49s 466ms/step - loss: 0.8428 - sparse_categorical_accuracy: 0.6008 - val_loss: 0.8329 - val_sparse_categorical_accuracy: 0.6460\n",
            "Epoch 115/200\n",
            "106/106 [==============================] - 49s 466ms/step - loss: 0.8383 - sparse_categorical_accuracy: 0.6055 - val_loss: 0.8362 - val_sparse_categorical_accuracy: 0.6383\n",
            "Epoch 116/200\n",
            "106/106 [==============================] - 49s 465ms/step - loss: 0.8449 - sparse_categorical_accuracy: 0.5972 - val_loss: 0.8358 - val_sparse_categorical_accuracy: 0.6442\n",
            "Epoch 117/200\n",
            "106/106 [==============================] - 49s 466ms/step - loss: 0.8228 - sparse_categorical_accuracy: 0.6161 - val_loss: 0.8209 - val_sparse_categorical_accuracy: 0.6460\n",
            "Epoch 118/200\n",
            "106/106 [==============================] - 49s 466ms/step - loss: 0.8283 - sparse_categorical_accuracy: 0.6045 - val_loss: 0.8099 - val_sparse_categorical_accuracy: 0.6543\n",
            "Epoch 119/200\n",
            "106/106 [==============================] - 49s 466ms/step - loss: 0.8229 - sparse_categorical_accuracy: 0.6117 - val_loss: 0.8091 - val_sparse_categorical_accuracy: 0.6602\n",
            "Epoch 120/200\n",
            "106/106 [==============================] - 49s 466ms/step - loss: 0.8131 - sparse_categorical_accuracy: 0.6124 - val_loss: 0.8136 - val_sparse_categorical_accuracy: 0.6602\n",
            "Epoch 121/200\n",
            "106/106 [==============================] - 49s 466ms/step - loss: 0.8160 - sparse_categorical_accuracy: 0.6089 - val_loss: 0.8104 - val_sparse_categorical_accuracy: 0.6613\n",
            "Epoch 122/200\n",
            "106/106 [==============================] - 49s 466ms/step - loss: 0.8007 - sparse_categorical_accuracy: 0.6186 - val_loss: 0.7943 - val_sparse_categorical_accuracy: 0.6613\n",
            "Epoch 123/200\n",
            "106/106 [==============================] - 49s 467ms/step - loss: 0.7896 - sparse_categorical_accuracy: 0.6220 - val_loss: 0.7935 - val_sparse_categorical_accuracy: 0.6673\n",
            "Epoch 124/200\n",
            "106/106 [==============================] - 49s 466ms/step - loss: 0.7992 - sparse_categorical_accuracy: 0.6285 - val_loss: 0.7912 - val_sparse_categorical_accuracy: 0.6690\n",
            "Epoch 125/200\n",
            "106/106 [==============================] - 49s 467ms/step - loss: 0.7849 - sparse_categorical_accuracy: 0.6257 - val_loss: 0.7890 - val_sparse_categorical_accuracy: 0.6714\n",
            "Epoch 126/200\n",
            "106/106 [==============================] - 49s 467ms/step - loss: 0.7840 - sparse_categorical_accuracy: 0.6278 - val_loss: 0.7861 - val_sparse_categorical_accuracy: 0.6690\n",
            "Epoch 127/200\n",
            "106/106 [==============================] - 49s 467ms/step - loss: 0.7720 - sparse_categorical_accuracy: 0.6374 - val_loss: 0.7947 - val_sparse_categorical_accuracy: 0.6684\n",
            "Epoch 128/200\n",
            "106/106 [==============================] - 49s 467ms/step - loss: 0.7673 - sparse_categorical_accuracy: 0.6365 - val_loss: 0.7718 - val_sparse_categorical_accuracy: 0.6779\n",
            "Epoch 129/200\n",
            "106/106 [==============================] - 49s 467ms/step - loss: 0.7662 - sparse_categorical_accuracy: 0.6327 - val_loss: 0.7656 - val_sparse_categorical_accuracy: 0.6879\n",
            "Epoch 130/200\n",
            "106/106 [==============================] - 49s 466ms/step - loss: 0.7704 - sparse_categorical_accuracy: 0.6315 - val_loss: 0.7545 - val_sparse_categorical_accuracy: 0.6921\n",
            "Epoch 131/200\n",
            "106/106 [==============================] - 49s 467ms/step - loss: 0.7677 - sparse_categorical_accuracy: 0.6370 - val_loss: 0.7663 - val_sparse_categorical_accuracy: 0.6767\n",
            "Epoch 132/200\n",
            "106/106 [==============================] - 49s 467ms/step - loss: 0.7592 - sparse_categorical_accuracy: 0.6362 - val_loss: 0.7526 - val_sparse_categorical_accuracy: 0.6868\n",
            "Epoch 133/200\n",
            "106/106 [==============================] - 49s 467ms/step - loss: 0.7541 - sparse_categorical_accuracy: 0.6408 - val_loss: 0.7446 - val_sparse_categorical_accuracy: 0.6879\n",
            "Epoch 134/200\n",
            "106/106 [==============================] - 49s 467ms/step - loss: 0.7365 - sparse_categorical_accuracy: 0.6504 - val_loss: 0.7481 - val_sparse_categorical_accuracy: 0.6927\n",
            "Epoch 135/200\n",
            "106/106 [==============================] - 49s 467ms/step - loss: 0.7462 - sparse_categorical_accuracy: 0.6424 - val_loss: 0.7527 - val_sparse_categorical_accuracy: 0.6850\n",
            "Epoch 136/200\n",
            "106/106 [==============================] - 49s 467ms/step - loss: 0.7516 - sparse_categorical_accuracy: 0.6429 - val_loss: 0.7422 - val_sparse_categorical_accuracy: 0.6927\n",
            "Epoch 137/200\n",
            "106/106 [==============================] - 49s 467ms/step - loss: 0.7205 - sparse_categorical_accuracy: 0.6582 - val_loss: 0.7453 - val_sparse_categorical_accuracy: 0.6874\n",
            "Epoch 138/200\n",
            "106/106 [==============================] - 49s 467ms/step - loss: 0.7309 - sparse_categorical_accuracy: 0.6509 - val_loss: 0.7270 - val_sparse_categorical_accuracy: 0.7033\n",
            "Epoch 139/200\n",
            "106/106 [==============================] - 50s 468ms/step - loss: 0.7205 - sparse_categorical_accuracy: 0.6597 - val_loss: 0.7311 - val_sparse_categorical_accuracy: 0.6915\n",
            "Epoch 140/200\n",
            "106/106 [==============================] - 50s 468ms/step - loss: 0.7174 - sparse_categorical_accuracy: 0.6593 - val_loss: 0.7481 - val_sparse_categorical_accuracy: 0.6962\n",
            "Epoch 141/200\n",
            "106/106 [==============================] - 49s 467ms/step - loss: 0.7038 - sparse_categorical_accuracy: 0.6616 - val_loss: 0.7401 - val_sparse_categorical_accuracy: 0.6980\n",
            "Epoch 142/200\n",
            "106/106 [==============================] - 50s 468ms/step - loss: 0.7070 - sparse_categorical_accuracy: 0.6624 - val_loss: 0.7134 - val_sparse_categorical_accuracy: 0.7051\n",
            "Epoch 143/200\n",
            "106/106 [==============================] - 49s 467ms/step - loss: 0.7101 - sparse_categorical_accuracy: 0.6600 - val_loss: 0.7211 - val_sparse_categorical_accuracy: 0.7069\n",
            "Epoch 144/200\n",
            "106/106 [==============================] - 49s 467ms/step - loss: 0.7047 - sparse_categorical_accuracy: 0.6646 - val_loss: 0.7106 - val_sparse_categorical_accuracy: 0.7145\n",
            "Epoch 145/200\n",
            "106/106 [==============================] - 49s 467ms/step - loss: 0.6861 - sparse_categorical_accuracy: 0.6711 - val_loss: 0.7368 - val_sparse_categorical_accuracy: 0.7021\n",
            "Epoch 146/200\n",
            "106/106 [==============================] - 49s 467ms/step - loss: 0.7035 - sparse_categorical_accuracy: 0.6687 - val_loss: 0.7179 - val_sparse_categorical_accuracy: 0.7057\n",
            "Epoch 147/200\n",
            "106/106 [==============================] - 49s 467ms/step - loss: 0.6998 - sparse_categorical_accuracy: 0.6622 - val_loss: 0.7140 - val_sparse_categorical_accuracy: 0.7086\n",
            "Epoch 148/200\n",
            "106/106 [==============================] - 49s 467ms/step - loss: 0.6880 - sparse_categorical_accuracy: 0.6742 - val_loss: 0.7035 - val_sparse_categorical_accuracy: 0.7128\n",
            "Epoch 149/200\n",
            "106/106 [==============================] - 49s 467ms/step - loss: 0.6775 - sparse_categorical_accuracy: 0.6835 - val_loss: 0.7140 - val_sparse_categorical_accuracy: 0.7092\n",
            "Epoch 150/200\n",
            "106/106 [==============================] - 49s 467ms/step - loss: 0.6669 - sparse_categorical_accuracy: 0.6835 - val_loss: 0.7055 - val_sparse_categorical_accuracy: 0.7134\n",
            "Epoch 151/200\n",
            "106/106 [==============================] - 50s 468ms/step - loss: 0.6645 - sparse_categorical_accuracy: 0.6900 - val_loss: 0.6848 - val_sparse_categorical_accuracy: 0.7210\n",
            "Epoch 152/200\n",
            "106/106 [==============================] - 49s 467ms/step - loss: 0.6754 - sparse_categorical_accuracy: 0.6770 - val_loss: 0.6872 - val_sparse_categorical_accuracy: 0.7228\n",
            "Epoch 153/200\n",
            "106/106 [==============================] - 50s 468ms/step - loss: 0.6510 - sparse_categorical_accuracy: 0.6919 - val_loss: 0.6920 - val_sparse_categorical_accuracy: 0.7270\n",
            "Epoch 154/200\n",
            "106/106 [==============================] - 50s 468ms/step - loss: 0.6561 - sparse_categorical_accuracy: 0.6834 - val_loss: 0.6797 - val_sparse_categorical_accuracy: 0.7228\n",
            "Epoch 155/200\n",
            "106/106 [==============================] - 50s 467ms/step - loss: 0.6523 - sparse_categorical_accuracy: 0.6829 - val_loss: 0.6851 - val_sparse_categorical_accuracy: 0.7287\n",
            "Epoch 156/200\n",
            "106/106 [==============================] - 49s 467ms/step - loss: 0.6575 - sparse_categorical_accuracy: 0.6897 - val_loss: 0.6743 - val_sparse_categorical_accuracy: 0.7370\n",
            "Epoch 157/200\n",
            "106/106 [==============================] - 49s 467ms/step - loss: 0.6487 - sparse_categorical_accuracy: 0.6900 - val_loss: 0.6891 - val_sparse_categorical_accuracy: 0.7240\n",
            "Epoch 158/200\n",
            " 40/106 [==========>...................] - ETA: 28s - loss: 0.6353 - sparse_categorical_accuracy: 0.7090"
          ]
        }
      ]
    },
    {
      "cell_type": "code",
      "source": [
        "model.evaluate(X_test, y_test)"
      ],
      "metadata": {
        "colab": {
          "base_uri": "https://localhost:8080/",
          "height": 168
        },
        "id": "E5W7-Qi6vG_9",
        "outputId": "dc2cfa92-574f-41b8-9134-b2ec0ef670e2"
      },
      "execution_count": null,
      "outputs": [
        {
          "output_type": "error",
          "ename": "NameError",
          "evalue": "ignored",
          "traceback": [
            "\u001b[0;31m---------------------------------------------------------------------------\u001b[0m",
            "\u001b[0;31mNameError\u001b[0m                                 Traceback (most recent call last)",
            "\u001b[0;32m<ipython-input-1-acc519fcce62>\u001b[0m in \u001b[0;36m<module>\u001b[0;34m()\u001b[0m\n\u001b[0;32m----> 1\u001b[0;31m \u001b[0mmodel\u001b[0m\u001b[0;34m.\u001b[0m\u001b[0mevaluate\u001b[0m\u001b[0;34m(\u001b[0m\u001b[0mX_test\u001b[0m\u001b[0;34m,\u001b[0m \u001b[0my_test\u001b[0m\u001b[0;34m)\u001b[0m\u001b[0;34m\u001b[0m\u001b[0;34m\u001b[0m\u001b[0m\n\u001b[0m",
            "\u001b[0;31mNameError\u001b[0m: name 'model' is not defined"
          ]
        }
      ]
    },
    {
      "cell_type": "code",
      "source": [
        "plt.plot(history.history['acc'], label='train')\n",
        "plt.plot(history.history['val_acc'], label='test')\n",
        "plt.legend();"
      ],
      "metadata": {
        "colab": {
          "base_uri": "https://localhost:8080/",
          "height": 267
        },
        "id": "qS3hSLpYWYAa",
        "outputId": "c2123b03-85d2-4c91-f5e1-d7097a39793d"
      },
      "execution_count": null,
      "outputs": [
        {
          "output_type": "display_data",
          "data": {
            "image/png": "[encoded data removed]",
            "text/plain": [
              "<Figure size 432x288 with 1 Axes>"
            ]
          },
          "metadata": {
            "needs_background": "light"
          }
        }
      ]
    }
  ]
}