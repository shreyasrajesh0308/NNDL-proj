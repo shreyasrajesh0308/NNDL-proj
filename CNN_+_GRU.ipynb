{
  "nbformat": 4,
  "nbformat_minor": 0,
  "metadata": {
    "colab": {
      "name": "CNN + GRU.ipynb",
      "provenance": [],
      "include_colab_link": true
    },
    "kernelspec": {
      "name": "python3",
      "display_name": "Python 3"
    },
    "language_info": {
      "name": "python"
    },
    "accelerator": "GPU"
  },
  "cells": [
    {
      "cell_type": "markdown",
      "metadata": {
        "id": "view-in-github",
        "colab_type": "text"
      },
      "source": [
        "<a href=\"https://colab.research.google.com/github/shreyasrajesh0308/NNDL-proj/blob/main/CNN_%2B_GRU.ipynb\" target=\"_parent\"><img src=\"https://colab.research.google.com/assets/colab-badge.svg\" alt=\"Open In Colab\"/></a>"
      ]
    },
    {
      "cell_type": "markdown",
      "source": [
        "Model Paper: "
      ],
      "metadata": {
        "id": "Wy-ORg0nyKtV"
      }
    },
    {
      "cell_type": "markdown",
      "source": [
        "### Load Data \n",
        "\n",
        "Load preprocessed data"
      ],
      "metadata": {
        "id": "5Fl4uJtrAqU0"
      }
    },
    {
      "cell_type": "code",
      "source": [
        "from google.colab import drive\n",
        "drive.mount('/content/drive')"
      ],
      "metadata": {
        "id": "Scu17GL9A7i5",
        "colab": {
          "base_uri": "https://localhost:8080/"
        },
        "outputId": "a0c3bfd9-6517-45bf-901a-1e66352fac39"
      },
      "execution_count": null,
      "outputs": [
        {
          "output_type": "stream",
          "name": "stdout",
          "text": [
            "Mounted at /content/drive\n"
          ]
        }
      ]
    },
    {
      "cell_type": "code",
      "source": [
        "import numpy as np\n",
        "from tensorflow import keras\n",
        "from tensorflow.keras import layers\n",
        "from matplotlib import pyplot as plt\n",
        "from sklearn.model_selection import GridSearchCV\n",
        "from keras.wrappers.scikit_learn import KerasClassifier"
      ],
      "metadata": {
        "id": "2gXQ7pXTIqqT"
      },
      "execution_count": null,
      "outputs": []
    },
    {
      "cell_type": "code",
      "source": [
        "\n",
        "X_test = np.load(\"/content/drive/MyDrive/eeg_project/X_test.npy\")\n",
        "y_test = np.load(\"/content/drive/MyDrive/eeg_project/y_test.npy\")\n",
        "person_train_valid = np.load(\"/content/drive/MyDrive/eeg_project/person_train_valid.npy\")\n",
        "X_train_valid = np.load(\"/content/drive/MyDrive/eeg_project/X_train_valid.npy\")\n",
        "y_train_valid = np.load(\"/content/drive/MyDrive/eeg_project/y_train_valid.npy\")\n",
        "person_test = np.load(\"/content/drive/MyDrive/eeg_project/person_test.npy\")\n"
      ],
      "metadata": {
        "id": "foTd2q3JIreb"
      },
      "execution_count": null,
      "outputs": []
    },
    {
      "cell_type": "code",
      "source": [
        "print ('Training/Valid data shape: {}'.format(X_train_valid.shape))\n",
        "print ('Test data shape: {}'.format(X_test.shape))\n",
        "print ('Training/Valid target shape: {}'.format(y_train_valid.shape))\n",
        "print ('Test target shape: {}'.format(y_test.shape))\n",
        "print ('Person train/valid shape: {}'.format(person_train_valid.shape))\n",
        "print ('Person test shape: {}'.format(person_test.shape))\n"
      ],
      "metadata": {
        "id": "g6VAQSVEUtIW",
        "colab": {
          "base_uri": "https://localhost:8080/"
        },
        "outputId": "c6079cd8-fae9-4c34-f3d1-bfa30c12734e"
      },
      "execution_count": null,
      "outputs": [
        {
          "output_type": "stream",
          "name": "stdout",
          "text": [
            "Training/Valid data shape: (2115, 22, 1000)\n",
            "Test data shape: (443, 22, 1000)\n",
            "Training/Valid target shape: (2115,)\n",
            "Test target shape: (443,)\n",
            "Person train/valid shape: (2115, 1)\n",
            "Person test shape: (443, 1)\n"
          ]
        }
      ]
    },
    {
      "cell_type": "code",
      "source": [
        "print(np.unique(y_train_valid))\n",
        "print(np.unique(y_test))"
      ],
      "metadata": {
        "colab": {
          "base_uri": "https://localhost:8080/"
        },
        "id": "bhxR60r5IzuR",
        "outputId": "7a6968c9-3327-4139-afb2-ffd31f3754b5"
      },
      "execution_count": null,
      "outputs": [
        {
          "output_type": "stream",
          "name": "stdout",
          "text": [
            "[769 770 771 772]\n",
            "[769 770 771 772]\n"
          ]
        }
      ]
    },
    {
      "cell_type": "code",
      "source": [
        "num_classes = 4\n",
        "y_train_valid = y_train_valid-769\n",
        "y_test = y_test-769"
      ],
      "metadata": {
        "id": "U4K1wzmfI4Rb"
      },
      "execution_count": null,
      "outputs": []
    },
    {
      "cell_type": "code",
      "source": [
        "def data_prep(X,y,sub_sample,average,noise):\n",
        "    \n",
        "    total_X = None\n",
        "    total_y = None\n",
        "    \n",
        "    # Trimming the data (sample,22,1000) -> (sample,22,500)\n",
        "    X = X[:,:,0:500]\n",
        "    print('Shape of X after trimming:',X.shape)\n",
        "    \n",
        "    # Maxpooling the data (sample,22,1000) -> (sample,22,500/sub_sample)\n",
        "    X_max = np.max(X.reshape(X.shape[0], X.shape[1], -1, sub_sample), axis=3)\n",
        "    \n",
        "    \n",
        "    total_X = X_max\n",
        "    total_y = y\n",
        "    print('Shape of X after maxpooling:',total_X.shape)\n",
        "    \n",
        "    # Averaging + noise \n",
        "    X_average = np.mean(X.reshape(X.shape[0], X.shape[1], -1, average),axis=3)\n",
        "    X_average = X_average + np.random.normal(0.0, 0.5, X_average.shape)\n",
        "    \n",
        "    total_X = np.vstack((total_X, X_average))\n",
        "    total_y = np.hstack((total_y, y))\n",
        "    print('Shape of X after averaging+noise and concatenating:',total_X.shape)\n",
        "    \n",
        "    # Subsampling\n",
        "    \n",
        "    for i in range(sub_sample):\n",
        "        \n",
        "        X_subsample = X[:, :, i::sub_sample] + \\\n",
        "                            (np.random.normal(0.0, 0.5, X[:, :,i::sub_sample].shape) if noise else 0.0)\n",
        "            \n",
        "        total_X = np.vstack((total_X, X_subsample))\n",
        "        total_y = np.hstack((total_y, y))\n",
        "        \n",
        "    \n",
        "    print('Shape of X after subsampling and concatenating:',total_X.shape)\n",
        "    return total_X,total_y\n",
        "\n",
        "\n",
        "X_train_valid_prep,y_train_valid_prep = data_prep(X_train_valid,y_train_valid,2,2,True)\n"
      ],
      "metadata": {
        "colab": {
          "base_uri": "https://localhost:8080/"
        },
        "id": "0-ubjiWDpR_W",
        "outputId": "022cea52-0fb1-4e39-80a4-7e1a3b0d5877"
      },
      "execution_count": null,
      "outputs": [
        {
          "output_type": "stream",
          "name": "stdout",
          "text": [
            "Shape of X after trimming: (2115, 22, 500)\n",
            "Shape of X after maxpooling: (2115, 22, 250)\n",
            "Shape of X after averaging+noise and concatenating: (4230, 22, 250)\n",
            "Shape of X after subsampling and concatenating: (8460, 22, 250)\n"
          ]
        }
      ]
    },
    {
      "cell_type": "code",
      "source": [
        "def data_prep_test(X,y, sub_sample=2):\n",
        "    \n",
        "    total_X = None\n",
        "    total_y = None\n",
        "    \n",
        "    # Trimming the data (sample,22,1000) -> (sample,22,500)\n",
        "    X = X[:,:,0:500]\n",
        "    print('Shape of X after trimming:',X.shape)\n",
        "    \n",
        "    # Maxpooling the data (sample,22,1000) -> (sample,22,500/sub_sample)\n",
        "    X_max = np.max(X.reshape(X.shape[0], X.shape[1], -1, sub_sample), axis=3)\n",
        "    \n",
        "    \n",
        "    total_X = X_max\n",
        "    total_y = y\n",
        "    print('Shape of X after maxpooling:',total_X.shape)\n",
        "    return total_X,total_y\n",
        "\n",
        "\n",
        "X_test,y_test = data_prep_test(X_test, y_test,2)\n"
      ],
      "metadata": {
        "colab": {
          "base_uri": "https://localhost:8080/"
        },
        "id": "IhtalewhtI6R",
        "outputId": "47f3c0fa-8478-4ac0-c0aa-55a9ee7d25fd"
      },
      "execution_count": null,
      "outputs": [
        {
          "output_type": "stream",
          "name": "stdout",
          "text": [
            "Shape of X after trimming: (443, 22, 500)\n",
            "Shape of X after maxpooling: (443, 22, 250)\n"
          ]
        }
      ]
    },
    {
      "cell_type": "code",
      "source": [
        "def spatial_prep(X):\n",
        "  # new_X = []\n",
        "  # X = X.tolist()\n",
        "  X = np.swapaxes(X, 0, 1)\n",
        "\n",
        "  sh = (X.shape[1],X.shape[2])\n",
        "  new_X = np.array([[np.zeros(sh), np.zeros(sh), np.zeros(sh), X[0,:,:], np.zeros(sh), np.zeros(sh), np.zeros(sh)],\n",
        "                [np.zeros(sh), X[1,:,:], X[2,:,:], X[3,:,:], X[4,:,:], X[5,:,:], np.zeros(sh)],\n",
        "                [X[6,:,:],X[7,:,:],X[8,:,:],X[9,:,:],X[10,:,:],X[11,:,:],X[12,:,:]],\n",
        "                [np.zeros(sh), X[13,:,:],X[14,:,:],X[15,:,:],X[16,:,:],X[17,:,:], np.zeros(sh)],\n",
        "                [np.zeros(sh), np.zeros(sh), X[18,:,:],X[19,:,:],X[20,:,:], np.zeros(sh), np.zeros(sh)],\n",
        "                [np.zeros(sh), np.zeros(sh), np.zeros(sh), X[21,:,:], np.zeros(sh), np.zeros(sh), np.zeros(sh)]])\n",
        "\n",
        "  # for x_seq in X:\n",
        "  #   n = len(X)\n",
        "  #   # new_seq_X = np.array([np.array([np.zeros(n), np.zeros(n), np.zeros(n), np.array(x_seq[0]), np.zeros(n), np.zeros(n), np.zeros(n)]),\n",
        "  #   #              np.array([np.zeros(n), np.array(x_seq[1]), np.array(x_seq[2]), np.array(x_seq[3]), np.array(x_seq[4]), np.array(x_seq[5]), np.zeros(n)]),\n",
        "  #   #              np.array([np.array(x_seq[6]), np.array(x_seq[7]), np.array(x_seq[8]), np.array(x_seq[9]), np.array(x_seq[10]), np.array(x_seq[11]), np.array(x_seq[12])]),\n",
        "  #   #              np.array([np.zeros(n), np.array(x_seq[13]), np.array(x_seq[14]), np.array(x_seq[15]), np.array(x_seq[16]), np.array(x_seq[17]), np.zeros(n)]),\n",
        "  #   #              np.array([np.zeros(n), np.zeros(n), np.array(x_seq[18]), np.array(x_seq[19]), np.array(x_seq[20]), np.zeros(n), np.zeros(n)]),\n",
        "  #   #              np.array([np.zeros(n), np.zeros(n), np.zeros(n), np.array(x_seq[21]), np.zeros(n), np.zeros(n), np.zeros(n)])])\n",
        "  #   # new_X.append(new_seq_X)\n",
        "  #   new_seq_X = np.array([[[0]*n, [0]*n, [0]*n, x_seq[0], [0]*n, [0]*n, [0]*n ],\n",
        "  #                [[0]*n, x_seq[1], x_seq[2], x_seq[3], x_seq[4], x_seq[5], [0]*n ],\n",
        "  #                [x_seq[6], x_seq[7], x_seq[8], x_seq[9], x_seq[10], x_seq[11], x_seq[12]],\n",
        "  #                [[0]*n, x_seq[13], x_seq[14], x_seq[15], x_seq[16], x_seq[17], [0]*n],\n",
        "  #                [[0]*n, [0]*n, x_seq[18], x_seq[19], x_seq[20], [0]*n, [0]*n],\n",
        "  #                [[0]*n, [0]*n, [0]*n, x_seq[21], [0]*n, [0]*n, [0]*n]])\n",
        "  #   new_X.append(new_seq_X)\n",
        "\n",
        "  # new_X = np.array(new_X)\n",
        "  new_X = np.swapaxes(new_X, 0,2)\n",
        "  new_X = np.swapaxes(new_X, 1,2)\n",
        "  return new_X"
      ],
      "metadata": {
        "id": "-u8tro1jwuon"
      },
      "execution_count": null,
      "outputs": []
    },
    {
      "cell_type": "code",
      "source": [
        "X_spatial_prep = spatial_prep(X_train_valid_prep)"
      ],
      "metadata": {
        "id": "flRuB5gPygqF"
      },
      "execution_count": null,
      "outputs": []
    },
    {
      "cell_type": "code",
      "source": [
        "X_spatial_test = spatial_prep(X_test)"
      ],
      "metadata": {
        "id": "spWmKQWT3qd1"
      },
      "execution_count": null,
      "outputs": []
    },
    {
      "cell_type": "code",
      "source": [
        "print(X_spatial_prep.shape, X_spatial_test.shape)"
      ],
      "metadata": {
        "colab": {
          "base_uri": "https://localhost:8080/"
        },
        "id": "l3rD3lYUyumZ",
        "outputId": "dae237fb-2037-4426-fb5f-7634f93481e7"
      },
      "execution_count": null,
      "outputs": [
        {
          "output_type": "stream",
          "name": "stdout",
          "text": [
            "(8460, 6, 7, 250) (443, 6, 7, 250)\n"
          ]
        }
      ]
    },
    {
      "cell_type": "code",
      "source": [
        "\n",
        "y_train_valid_prep = keras.utils.to_categorical(y_train_valid_prep, num_classes)\n",
        "y_test = keras.utils.to_categorical(y_test, num_classes)"
      ],
      "metadata": {
        "id": "NZWq7ZCFq5z9"
      },
      "execution_count": null,
      "outputs": []
    },
    {
      "cell_type": "code",
      "source": [
        "print(X_train_valid_prep.shape,y_train_valid_prep.shape, X_spatial_prep.shape, X_spatial_test.shape)\n",
        "print(X_test.shape, y_test.shape)"
      ],
      "metadata": {
        "colab": {
          "base_uri": "https://localhost:8080/"
        },
        "id": "YFZfw6CuqeBs",
        "outputId": "88e49b8e-869a-4005-e7f7-8a5721d428bf"
      },
      "execution_count": null,
      "outputs": [
        {
          "output_type": "stream",
          "name": "stdout",
          "text": [
            "(8460, 22, 250) (8460, 4) (8460, 6, 7, 250) (443, 6, 7, 250)\n",
            "(443, 22, 250) (443, 4)\n"
          ]
        }
      ]
    },
    {
      "cell_type": "code",
      "source": [
        "X_spatial_prep  = np.swapaxes(X_spatial_prep , 1,3)\n",
        "X_spatial_prep = np.swapaxes(X_spatial_prep , 2,3)\n",
        "X_spatial_test  = np.swapaxes(X_spatial_test , 1,3)\n",
        "X_spatial_test = np.swapaxes(X_spatial_test , 2,3)"
      ],
      "metadata": {
        "id": "b3_pN5eAY1bg"
      },
      "execution_count": null,
      "outputs": []
    },
    {
      "cell_type": "code",
      "source": [
        "X_spatial_prep = X_spatial_prep.reshape(*X_spatial_prep.shape, 1)\n",
        "X_spatial_test = X_spatial_test.reshape(*X_spatial_test.shape, 1)"
      ],
      "metadata": {
        "id": "FeiaaX6qX3-e"
      },
      "execution_count": null,
      "outputs": []
    },
    {
      "cell_type": "code",
      "source": [
        "print(X_train_valid_prep.shape,y_train_valid_prep.shape, X_spatial_prep.shape, X_spatial_test.shape)\n",
        "print(X_test.shape, y_test.shape)"
      ],
      "metadata": {
        "colab": {
          "base_uri": "https://localhost:8080/"
        },
        "id": "1MC6IQn7YEF-",
        "outputId": "a027cdc4-3580-4762-9cb6-d98ea975314f"
      },
      "execution_count": null,
      "outputs": [
        {
          "output_type": "stream",
          "name": "stdout",
          "text": [
            "(8460, 22, 250) (8460, 4) (8460, 250, 6, 7, 1) (443, 250, 6, 7, 1)\n",
            "(443, 22, 250) (443, 4)\n"
          ]
        }
      ]
    },
    {
      "cell_type": "markdown",
      "source": [
        "## CNN + GRU model with all subjects"
      ],
      "metadata": {
        "id": "IxgOEM-3WIPG"
      }
    },
    {
      "cell_type": "code",
      "source": [
        "from keras.layers import Conv2D, BatchNormalization, Activation, Flatten, Dense, Dropout, LSTM, Input, TimeDistributed, Permute, Reshape, MaxPooling2D, GRU\n",
        "from keras import initializers, Model, optimizers, callbacks\n",
        "from keras import Sequential\n",
        "from keras import backend as K\n",
        "from keras.models import load_model\n",
        "from keras.callbacks import Callback\n",
        "from sklearn.preprocessing import OneHotEncoder, StandardScaler\n",
        "from sklearn.metrics import confusion_matrix, f1_score, precision_score, recall_score"
      ],
      "metadata": {
        "id": "GswnoLTxWgFD"
      },
      "execution_count": null,
      "outputs": []
    },
    {
      "cell_type": "code",
      "source": [
        "## Complicated Model - the same as Zhang`s\n",
        "# input_shape = (250, 6, 7, 1)\n",
        "# lecun = initializers.lecun_normal(seed=42)\n",
        "\n",
        "# # TimeDistributed Wrapper\n",
        "# def timeDist(layer, prev_layer, name):\n",
        "#     return TimeDistributed(layer, name=name)(prev_layer)\n",
        "    \n",
        "# # Input layer\n",
        "# inputs = Input(shape=input_shape)\n",
        "\n",
        "# # Convolutional layers block\n",
        "# x = timeDist(Conv2D(32, (3,3), padding='same', \n",
        "#                     data_format='channels_last', kernel_initializer=lecun), inputs, name='CNN1')\n",
        "# x = BatchNormalization(name='batch1')(x)\n",
        "# x = Activation('elu', name='act1')(x)\n",
        "# x = timeDist(Conv2D(64, (3,3), padding='same', data_format='channels_last', kernel_initializer=lecun), x, name='CNN2')\n",
        "# x = BatchNormalization(name='batch2')(x)\n",
        "# x = Activation('elu', name='act2')(x)\n",
        "# x = timeDist(Conv2D(128, (3,3), padding='same', data_format='channels_last', kernel_initializer=lecun), x, name='CNN3')\n",
        "# x = BatchNormalization(name='batch3')(x)\n",
        "# x = Activation('elu', name='act3')(x)\n",
        "# x = timeDist(Flatten(), x, name='flatten')\n",
        "\n",
        "# # Fully connected layer block\n",
        "# y = Dense(64, kernel_initializer=lecun, name='FC')(x)\n",
        "# y = Dropout(0.5, name='dropout1')(y)\n",
        "# y = BatchNormalization(name='batch4')(y)\n",
        "# y = Activation(activation='elu')(y)\n",
        "\n",
        "# # Recurrent layers block\n",
        "# #z = LSTM(64, kernel_initializer=lecun, return_sequences=True, name='LSTM1')(y)\n",
        "# z = LSTM(64, kernel_initializer=lecun, name='LSTM2')(y)\n",
        "\n",
        "# # Fully connected layer block\n",
        "# h = Dense(128, kernel_initializer=lecun, activation='relu', name='FC2')(z)\n",
        "# h = Dropout(0.5, name='dropout2')(h)\n",
        "\n",
        "# # Output layer\n",
        "# outputs = Dense(4, activation='softmax')(h)\n",
        "\n",
        "# # Model compile\n",
        "# model = Model(inputs=inputs, outputs=outputs)\n",
        "# model.summary()\n",
        "\n",
        "lecun = initializers.lecun_normal(seed=42)\n",
        "\n",
        "model = Sequential()\n",
        "\n",
        "model.add(Permute((2, 1), input_shape=(22, 250)))\n",
        "model.add(Reshape((250, 22, 1)))\n",
        "\n",
        "model.add(Conv2D(filters=25, kernel_size=(10,1), kernel_initializer = lecun, strides=1, data_format=\"channels_last\"))\n",
        "model.add(Conv2D(filters=25, kernel_size=(1,22), kernel_initializer = lecun ))\n",
        "model.add(BatchNormalization())\n",
        "model.add(Activation(activation = 'elu'))\n",
        "model.add(MaxPooling2D(pool_size = (3,1), strides = (3,1)))\n",
        "model.add(Dropout(0.5))\n",
        "\n",
        "# Conv Pool Block 2\n",
        "model.add(Conv2D(filters = 50, kernel_size = (10,1), activation = 'elu', kernel_initializer = lecun))\n",
        "model.add(BatchNormalization())\n",
        "model.add(Activation(activation = 'elu'))\n",
        "model.add(MaxPooling2D(pool_size = (3,1), strides = (3,1)))\n",
        "model.add(Dropout(0.5))\n",
        "\n",
        "model.add(Permute((1, 3, 2)))\n",
        "model.add(Reshape((23, 50)))\n",
        "\n",
        "# GRU layers\n",
        "model.add(GRU(16, return_sequences=True))\n",
        "model.add(GRU(16, return_sequences=True))\n",
        "# model.add(GRU(16, return_sequences=True))\n",
        "# model.add(GRU(16, return_sequences=True))\n",
        "model.add(Dropout(0.5))\n",
        "\n",
        "# Dense layers\n",
        "model.add(Flatten())\n",
        "model.add(Dense(units=4, activation='softmax'))\n",
        "\n",
        "model.compile(loss='categorical_crossentropy',\n",
        "              optimizer='adam',\n",
        "              metrics=['accuracy'])\n",
        "\n",
        "print(model.summary())\n"
      ],
      "metadata": {
        "colab": {
          "base_uri": "https://localhost:8080/"
        },
        "id": "BSm44W_mWdxt",
        "outputId": "9183688d-001f-4a16-8b00-cc93232d97c5"
      },
      "execution_count": null,
      "outputs": [
        {
          "output_type": "stream",
          "name": "stdout",
          "text": [
            "Model: \"sequential_4\"\n",
            "_________________________________________________________________\n",
            " Layer (type)                Output Shape              Param #   \n",
            "=================================================================\n",
            " permute_7 (Permute)         (None, 250, 22)           0         \n",
            "                                                                 \n",
            " reshape_7 (Reshape)         (None, 250, 22, 1)        0         \n",
            "                                                                 \n",
            " conv2d_9 (Conv2D)           (None, 241, 22, 25)       275       \n",
            "                                                                 \n",
            " conv2d_10 (Conv2D)          (None, 241, 1, 25)        13775     \n",
            "                                                                 \n",
            " batch_normalization_6 (Batc  (None, 241, 1, 25)       100       \n",
            " hNormalization)                                                 \n",
            "                                                                 \n",
            " activation_6 (Activation)   (None, 241, 1, 25)        0         \n",
            "                                                                 \n",
            " max_pooling2d_6 (MaxPooling  (None, 80, 1, 25)        0         \n",
            " 2D)                                                             \n",
            "                                                                 \n",
            " dropout_6 (Dropout)         (None, 80, 1, 25)         0         \n",
            "                                                                 \n",
            " conv2d_11 (Conv2D)          (None, 71, 1, 50)         12550     \n",
            "                                                                 \n",
            " batch_normalization_7 (Batc  (None, 71, 1, 50)        200       \n",
            " hNormalization)                                                 \n",
            "                                                                 \n",
            " activation_7 (Activation)   (None, 71, 1, 50)         0         \n",
            "                                                                 \n",
            " max_pooling2d_7 (MaxPooling  (None, 23, 1, 50)        0         \n",
            " 2D)                                                             \n",
            "                                                                 \n",
            " dropout_7 (Dropout)         (None, 23, 1, 50)         0         \n",
            "                                                                 \n",
            " permute_8 (Permute)         (None, 23, 50, 1)         0         \n",
            "                                                                 \n",
            " reshape_8 (Reshape)         (None, 23, 50)            0         \n",
            "                                                                 \n",
            " gru_8 (GRU)                 (None, 23, 16)            3264      \n",
            "                                                                 \n",
            " gru_9 (GRU)                 (None, 23, 16)            1632      \n",
            "                                                                 \n",
            " dropout_8 (Dropout)         (None, 23, 16)            0         \n",
            "                                                                 \n",
            " flatten_2 (Flatten)         (None, 368)               0         \n",
            "                                                                 \n",
            " dense_2 (Dense)             (None, 4)                 1476      \n",
            "                                                                 \n",
            "=================================================================\n",
            "Total params: 33,272\n",
            "Trainable params: 33,122\n",
            "Non-trainable params: 150\n",
            "_________________________________________________________________\n",
            "None\n"
          ]
        }
      ]
    },
    {
      "cell_type": "code",
      "source": [
        "model.compile(loss='categorical_crossentropy', optimizer='adam', metrics=['acc'])\n",
        "history = model.fit(X_train_valid_prep, y_train_valid_prep, batch_size=64, epochs=100, shuffle=True,\n",
        "                    validation_split=0.2)"
      ],
      "metadata": {
        "colab": {
          "base_uri": "https://localhost:8080/"
        },
        "id": "vQNJ4-8OXRB0",
        "outputId": "bf82b41d-e590-4c8b-c233-957c8fa5ba15"
      },
      "execution_count": null,
      "outputs": [
        {
          "output_type": "stream",
          "name": "stdout",
          "text": [
            "Epoch 1/150\n",
            "106/106 [==============================] - 8s 37ms/step - loss: 0.3281 - acc: 0.8757 - val_loss: 0.0822 - val_acc: 0.9799\n",
            "Epoch 2/150\n",
            "106/106 [==============================] - 3s 28ms/step - loss: 0.3043 - acc: 0.8849 - val_loss: 0.0789 - val_acc: 0.9799\n",
            "Epoch 3/150\n",
            "106/106 [==============================] - 3s 29ms/step - loss: 0.3092 - acc: 0.8808 - val_loss: 0.0840 - val_acc: 0.9793\n",
            "Epoch 4/150\n",
            "106/106 [==============================] - 3s 29ms/step - loss: 0.3179 - acc: 0.8836 - val_loss: 0.0983 - val_acc: 0.9758\n",
            "Epoch 5/150\n",
            "106/106 [==============================] - 3s 29ms/step - loss: 0.3206 - acc: 0.8781 - val_loss: 0.0956 - val_acc: 0.9722\n",
            "Epoch 6/150\n",
            "106/106 [==============================] - 3s 29ms/step - loss: 0.3114 - acc: 0.8855 - val_loss: 0.0860 - val_acc: 0.9758\n",
            "Epoch 7/150\n",
            "106/106 [==============================] - 3s 29ms/step - loss: 0.3250 - acc: 0.8808 - val_loss: 0.0887 - val_acc: 0.9781\n",
            "Epoch 8/150\n",
            "106/106 [==============================] - 3s 28ms/step - loss: 0.3104 - acc: 0.8836 - val_loss: 0.0764 - val_acc: 0.9835\n",
            "Epoch 9/150\n",
            "106/106 [==============================] - 3s 29ms/step - loss: 0.3270 - acc: 0.8787 - val_loss: 0.0814 - val_acc: 0.9811\n",
            "Epoch 10/150\n",
            "106/106 [==============================] - 3s 29ms/step - loss: 0.3105 - acc: 0.8868 - val_loss: 0.0844 - val_acc: 0.9758\n",
            "Epoch 11/150\n",
            "106/106 [==============================] - 3s 29ms/step - loss: 0.3039 - acc: 0.8880 - val_loss: 0.0759 - val_acc: 0.9829\n",
            "Epoch 12/150\n",
            "106/106 [==============================] - 3s 29ms/step - loss: 0.3063 - acc: 0.8859 - val_loss: 0.0883 - val_acc: 0.9752\n",
            "Epoch 13/150\n",
            "106/106 [==============================] - 3s 29ms/step - loss: 0.3074 - acc: 0.8889 - val_loss: 0.0820 - val_acc: 0.9781\n",
            "Epoch 14/150\n",
            "106/106 [==============================] - 3s 29ms/step - loss: 0.3102 - acc: 0.8837 - val_loss: 0.0798 - val_acc: 0.9775\n",
            "Epoch 15/150\n",
            "106/106 [==============================] - 3s 29ms/step - loss: 0.2960 - acc: 0.8902 - val_loss: 0.0745 - val_acc: 0.9805\n",
            "Epoch 16/150\n",
            "106/106 [==============================] - 3s 29ms/step - loss: 0.2980 - acc: 0.8884 - val_loss: 0.0818 - val_acc: 0.9746\n",
            "Epoch 17/150\n",
            " 30/106 [=======>......................] - ETA: 1s - loss: 0.2899 - acc: 0.8896"
          ]
        }
      ]
    },
    {
      "cell_type": "code",
      "source": [
        "model.evaluate(X_test, y_test)"
      ],
      "metadata": {
        "colab": {
          "base_uri": "https://localhost:8080/"
        },
        "id": "E5W7-Qi6vG_9",
        "outputId": "80609a96-6293-4f82-d9f8-75665be28479"
      },
      "execution_count": null,
      "outputs": [
        {
          "output_type": "stream",
          "name": "stdout",
          "text": [
            "14/14 [==============================] - 0s 9ms/step - loss: 0.8372 - acc: 0.7449\n"
          ]
        },
        {
          "output_type": "execute_result",
          "data": {
            "text/plain": [
              "[0.8371706008911133, 0.7449209690093994]"
            ]
          },
          "metadata": {},
          "execution_count": 39
        }
      ]
    },
    {
      "cell_type": "code",
      "source": [
        "plt.plot(history.history['acc'], label='train')\n",
        "plt.plot(history.history['val_acc'], label='test')\n",
        "plt.legend();"
      ],
      "metadata": {
        "colab": {
          "base_uri": "https://localhost:8080/",
          "height": 267
        },
        "id": "qS3hSLpYWYAa",
        "outputId": "c2123b03-85d2-4c91-f5e1-d7097a39793d"
      },
      "execution_count": null,
      "outputs": [
        {
          "output_type": "display_data",
          "data": {
            "image/png": "[encoded data removed]",
            "text/plain": [
              "<Figure size 432x288 with 1 Axes>"
            ]
          },
          "metadata": {
            "needs_background": "light"
          }
        }
      ]
    }
  ]
}