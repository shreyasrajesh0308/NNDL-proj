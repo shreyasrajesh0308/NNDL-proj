{
  "nbformat": 4,
  "nbformat_minor": 0,
  "metadata": {
    "colab": {
      "name": "CNN + GRU.ipynb",
      "provenance": [],
      "include_colab_link": true
    },
    "kernelspec": {
      "name": "python3",
      "display_name": "Python 3"
    },
    "language_info": {
      "name": "python"
    },
    "accelerator": "GPU"
  },
  "cells": [
    {
      "cell_type": "markdown",
      "metadata": {
        "id": "view-in-github",
        "colab_type": "text"
      },
      "source": [
        "<a href=\"https://colab.research.google.com/github/shreyasrajesh0308/NNDL-proj/blob/main/CNN_%2B_GRU.ipynb\" target=\"_parent\"><img src=\"https://colab.research.google.com/assets/colab-badge.svg\" alt=\"Open In Colab\"/></a>"
      ]
    },
    {
      "cell_type": "markdown",
      "source": [
        "Model Paper: "
      ],
      "metadata": {
        "id": "Wy-ORg0nyKtV"
      }
    },
    {
      "cell_type": "markdown",
      "source": [
        "### Load Data \n",
        "\n",
        "Load preprocessed data"
      ],
      "metadata": {
        "id": "5Fl4uJtrAqU0"
      }
    },
    {
      "cell_type": "code",
      "source": [
        "from google.colab import drive\n",
        "drive.mount('/content/drive')"
      ],
      "metadata": {
        "id": "Scu17GL9A7i5",
        "colab": {
          "base_uri": "https://localhost:8080/"
        },
        "outputId": "838df8b8-876c-4335-ae38-13398d5b56cc"
      },
      "execution_count": 2,
      "outputs": [
        {
          "output_type": "stream",
          "name": "stdout",
          "text": [
            "Mounted at /content/drive\n"
          ]
        }
      ]
    },
    {
      "cell_type": "code",
      "source": [
        "import numpy as np\n",
        "from tensorflow import keras\n",
        "from tensorflow.keras import layers\n",
        "from matplotlib import pyplot as plt\n",
        "from sklearn.model_selection import GridSearchCV\n",
        "from keras.wrappers.scikit_learn import KerasClassifier\n",
        "from sklearn.model_selection import train_test_split"
      ],
      "metadata": {
        "id": "2gXQ7pXTIqqT"
      },
      "execution_count": 3,
      "outputs": []
    },
    {
      "cell_type": "code",
      "source": [
        "X_test = np.load(\"/content/drive/MyDrive/project_data/X_test.npy\")\n",
        "y_test = np.load(\"/content/drive/MyDrive/project_data/y_test.npy\")\n",
        "person_train_valid = np.load(\"/content/drive/MyDrive/project_data/person_train_valid.npy\")\n",
        "X_train_valid = np.load(\"/content/drive/MyDrive/project_data/X_train_valid.npy\")\n",
        "y_train_valid = np.load(\"/content/drive/MyDrive/project_data/y_train_valid.npy\")\n",
        "person_test = np.load(\"/content/drive/MyDrive/project_data/person_test.npy\")"
      ],
      "metadata": {
        "id": "foTd2q3JIreb"
      },
      "execution_count": 4,
      "outputs": []
    },
    {
      "cell_type": "code",
      "source": [
        "print ('Training/Valid data shape: {}'.format(X_train_valid.shape))\n",
        "print ('Test data shape: {}'.format(X_test.shape))\n",
        "print ('Training/Valid target shape: {}'.format(y_train_valid.shape))\n",
        "print ('Test target shape: {}'.format(y_test.shape))\n",
        "print ('Person train/valid shape: {}'.format(person_train_valid.shape))\n",
        "print ('Person test shape: {}'.format(person_test.shape))\n"
      ],
      "metadata": {
        "id": "g6VAQSVEUtIW",
        "colab": {
          "base_uri": "https://localhost:8080/"
        },
        "outputId": "5b23f44a-2fd8-4191-f943-65bd5452715e"
      },
      "execution_count": 5,
      "outputs": [
        {
          "output_type": "stream",
          "name": "stdout",
          "text": [
            "Training/Valid data shape: (2115, 22, 1000)\n",
            "Test data shape: (443, 22, 1000)\n",
            "Training/Valid target shape: (2115,)\n",
            "Test target shape: (443,)\n",
            "Person train/valid shape: (2115, 1)\n",
            "Person test shape: (443, 1)\n"
          ]
        }
      ]
    },
    {
      "cell_type": "code",
      "source": [
        "print(np.unique(y_train_valid))\n",
        "print(np.unique(y_test))"
      ],
      "metadata": {
        "colab": {
          "base_uri": "https://localhost:8080/"
        },
        "id": "bhxR60r5IzuR",
        "outputId": "b34befc1-1871-4ff8-fdf2-db4912372786"
      },
      "execution_count": 6,
      "outputs": [
        {
          "output_type": "stream",
          "name": "stdout",
          "text": [
            "[769 770 771 772]\n",
            "[769 770 771 772]\n"
          ]
        }
      ]
    },
    {
      "cell_type": "code",
      "source": [
        "num_classes = 4\n",
        "y_train_valid = y_train_valid-769\n",
        "y_test = y_test-769"
      ],
      "metadata": {
        "id": "U4K1wzmfI4Rb"
      },
      "execution_count": 7,
      "outputs": []
    },
    {
      "cell_type": "markdown",
      "source": [
        "## Split Data into train and Valid"
      ],
      "metadata": {
        "id": "L4tuh59BQ-FV"
      }
    },
    {
      "cell_type": "code",
      "source": [
        "X_train, X_valid, y_train, y_valid = train_test_split(X_train_valid, y_train_valid, test_size=0.2, random_state=42)"
      ],
      "metadata": {
        "id": "6xo7RhdpRBPx"
      },
      "execution_count": 8,
      "outputs": []
    },
    {
      "cell_type": "code",
      "source": [
        "print ('Training data shape: {}'.format(X_train.shape))\n",
        "print ('Valid data shape: {}'.format(X_valid.shape))\n",
        "print ('Training target shape: {}'.format(y_train.shape))\n",
        "print ('Valid target shape: {}'.format(y_valid.shape))"
      ],
      "metadata": {
        "id": "McUbRkeARWXE",
        "outputId": "39d9d9ab-5d12-49ae-8246-ca9e0649c118",
        "colab": {
          "base_uri": "https://localhost:8080/"
        }
      },
      "execution_count": 9,
      "outputs": [
        {
          "output_type": "stream",
          "name": "stdout",
          "text": [
            "Training data shape: (1692, 22, 1000)\n",
            "Valid data shape: (423, 22, 1000)\n",
            "Training target shape: (1692,)\n",
            "Valid target shape: (423,)\n"
          ]
        }
      ]
    },
    {
      "cell_type": "code",
      "source": [
        "def data_prep(X,y,sub_sample,average,noise):\n",
        "    \n",
        "    total_X = None\n",
        "    total_y = None\n",
        "    \n",
        "    # Trimming the data (sample,22,1000) -> (sample,22,500)\n",
        "    X = X[:,:,0:500]\n",
        "    print('Shape of X after trimming:',X.shape)\n",
        "    \n",
        "    # Maxpooling the data (sample,22,1000) -> (sample,22,500/sub_sample)\n",
        "    X_max = np.max(X.reshape(X.shape[0], X.shape[1], -1, sub_sample), axis=3)\n",
        "    \n",
        "    \n",
        "    total_X = X_max\n",
        "    total_y = y\n",
        "    print('Shape of X after maxpooling:',total_X.shape)\n",
        "    \n",
        "    # Averaging + noise \n",
        "    X_average = np.mean(X.reshape(X.shape[0], X.shape[1], -1, average),axis=3)\n",
        "    X_average = X_average + np.random.normal(0.0, 0.5, X_average.shape)\n",
        "    \n",
        "    total_X = np.vstack((total_X, X_average))\n",
        "    total_y = np.hstack((total_y, y))\n",
        "    print('Shape of X after averaging+noise and concatenating:',total_X.shape)\n",
        "    \n",
        "    # Subsampling\n",
        "    \n",
        "    for i in range(sub_sample):\n",
        "        \n",
        "        X_subsample = X[:, :, i::sub_sample] + \\\n",
        "                            (np.random.normal(0.0, 0.5, X[:, :,i::sub_sample].shape) if noise else 0.0)\n",
        "            \n",
        "        total_X = np.vstack((total_X, X_subsample))\n",
        "        total_y = np.hstack((total_y, y))\n",
        "        \n",
        "    \n",
        "    print('Shape of X after subsampling and concatenating:',total_X.shape)\n",
        "    return total_X,total_y\n",
        "\n",
        "\n",
        "X_train_prep,y_train_prep= data_prep(X_train,y_train,2,2,True)\n"
      ],
      "metadata": {
        "colab": {
          "base_uri": "https://localhost:8080/"
        },
        "id": "0-ubjiWDpR_W",
        "outputId": "a6982030-c37c-4ff7-bb68-97138ea861e3"
      },
      "execution_count": 10,
      "outputs": [
        {
          "output_type": "stream",
          "name": "stdout",
          "text": [
            "Shape of X after trimming: (1692, 22, 500)\n",
            "Shape of X after maxpooling: (1692, 22, 250)\n",
            "Shape of X after averaging+noise and concatenating: (3384, 22, 250)\n",
            "Shape of X after subsampling and concatenating: (6768, 22, 250)\n"
          ]
        }
      ]
    },
    {
      "cell_type": "code",
      "source": [
        "def data_prep_test(X,y, sub_sample=2):\n",
        "    \n",
        "    total_X = None\n",
        "    total_y = None\n",
        "    \n",
        "    # Trimming the data (sample,22,1000) -> (sample,22,500)\n",
        "    X = X[:,:,0:500]\n",
        "    print('Shape of X after trimming:',X.shape)\n",
        "    \n",
        "    # Maxpooling the data (sample,22,1000) -> (sample,22,500/sub_sample)\n",
        "    X_max = np.max(X.reshape(X.shape[0], X.shape[1], -1, sub_sample), axis=3)\n",
        "    \n",
        "    \n",
        "    total_X = X_max\n",
        "    total_y = y\n",
        "    print('Shape of X after maxpooling:',total_X.shape)\n",
        "    return total_X,total_y\n",
        "\n",
        "\n",
        "X_test,y_test = data_prep_test(X_test, y_test,2)\n"
      ],
      "metadata": {
        "colab": {
          "base_uri": "https://localhost:8080/"
        },
        "id": "IhtalewhtI6R",
        "outputId": "35b01219-d616-427c-85be-2f671553d0ef"
      },
      "execution_count": 11,
      "outputs": [
        {
          "output_type": "stream",
          "name": "stdout",
          "text": [
            "Shape of X after trimming: (443, 22, 500)\n",
            "Shape of X after maxpooling: (443, 22, 250)\n"
          ]
        }
      ]
    },
    {
      "cell_type": "code",
      "source": [
        "X_valid_prep,y_valid_prep = data_prep_test(X_valid, y_valid,2)\n"
      ],
      "metadata": {
        "id": "tu4DoAKFRsip",
        "outputId": "1b111c8b-c219-4fa1-835c-8a41a0fdfa98",
        "colab": {
          "base_uri": "https://localhost:8080/"
        }
      },
      "execution_count": 12,
      "outputs": [
        {
          "output_type": "stream",
          "name": "stdout",
          "text": [
            "Shape of X after trimming: (423, 22, 500)\n",
            "Shape of X after maxpooling: (423, 22, 250)\n"
          ]
        }
      ]
    },
    {
      "cell_type": "code",
      "source": [
        "def spatial_prep(X):\n",
        "  # new_X = []\n",
        "  # X = X.tolist()\n",
        "  X = np.swapaxes(X, 0, 1)\n",
        "\n",
        "  sh = (X.shape[1],X.shape[2])\n",
        "  new_X = np.array([[np.zeros(sh), np.zeros(sh), np.zeros(sh), X[0,:,:], np.zeros(sh), np.zeros(sh), np.zeros(sh)],\n",
        "                [np.zeros(sh), X[1,:,:], X[2,:,:], X[3,:,:], X[4,:,:], X[5,:,:], np.zeros(sh)],\n",
        "                [X[6,:,:],X[7,:,:],X[8,:,:],X[9,:,:],X[10,:,:],X[11,:,:],X[12,:,:]],\n",
        "                [np.zeros(sh), X[13,:,:],X[14,:,:],X[15,:,:],X[16,:,:],X[17,:,:], np.zeros(sh)],\n",
        "                [np.zeros(sh), np.zeros(sh), X[18,:,:],X[19,:,:],X[20,:,:], np.zeros(sh), np.zeros(sh)],\n",
        "                [np.zeros(sh), np.zeros(sh), np.zeros(sh), X[21,:,:], np.zeros(sh), np.zeros(sh), np.zeros(sh)]])\n",
        "\n",
        "  # for x_seq in X:\n",
        "  #   n = len(X)\n",
        "  #   # new_seq_X = np.array([np.array([np.zeros(n), np.zeros(n), np.zeros(n), np.array(x_seq[0]), np.zeros(n), np.zeros(n), np.zeros(n)]),\n",
        "  #   #              np.array([np.zeros(n), np.array(x_seq[1]), np.array(x_seq[2]), np.array(x_seq[3]), np.array(x_seq[4]), np.array(x_seq[5]), np.zeros(n)]),\n",
        "  #   #              np.array([np.array(x_seq[6]), np.array(x_seq[7]), np.array(x_seq[8]), np.array(x_seq[9]), np.array(x_seq[10]), np.array(x_seq[11]), np.array(x_seq[12])]),\n",
        "  #   #              np.array([np.zeros(n), np.array(x_seq[13]), np.array(x_seq[14]), np.array(x_seq[15]), np.array(x_seq[16]), np.array(x_seq[17]), np.zeros(n)]),\n",
        "  #   #              np.array([np.zeros(n), np.zeros(n), np.array(x_seq[18]), np.array(x_seq[19]), np.array(x_seq[20]), np.zeros(n), np.zeros(n)]),\n",
        "  #   #              np.array([np.zeros(n), np.zeros(n), np.zeros(n), np.array(x_seq[21]), np.zeros(n), np.zeros(n), np.zeros(n)])])\n",
        "  #   # new_X.append(new_seq_X)\n",
        "  #   new_seq_X = np.array([[[0]*n, [0]*n, [0]*n, x_seq[0], [0]*n, [0]*n, [0]*n ],\n",
        "  #                [[0]*n, x_seq[1], x_seq[2], x_seq[3], x_seq[4], x_seq[5], [0]*n ],\n",
        "  #                [x_seq[6], x_seq[7], x_seq[8], x_seq[9], x_seq[10], x_seq[11], x_seq[12]],\n",
        "  #                [[0]*n, x_seq[13], x_seq[14], x_seq[15], x_seq[16], x_seq[17], [0]*n],\n",
        "  #                [[0]*n, [0]*n, x_seq[18], x_seq[19], x_seq[20], [0]*n, [0]*n],\n",
        "  #                [[0]*n, [0]*n, [0]*n, x_seq[21], [0]*n, [0]*n, [0]*n]])\n",
        "  #   new_X.append(new_seq_X)\n",
        "\n",
        "  # new_X = np.array(new_X)\n",
        "  new_X = np.swapaxes(new_X, 0,2)\n",
        "  new_X = np.swapaxes(new_X, 1,2)\n",
        "  return new_X"
      ],
      "metadata": {
        "id": "-u8tro1jwuon"
      },
      "execution_count": null,
      "outputs": []
    },
    {
      "cell_type": "code",
      "source": [
        "X_spatial_prep = spatial_prep(X_train_valid_prep)"
      ],
      "metadata": {
        "id": "flRuB5gPygqF"
      },
      "execution_count": null,
      "outputs": []
    },
    {
      "cell_type": "code",
      "source": [
        "X_spatial_test = spatial_prep(X_test)"
      ],
      "metadata": {
        "id": "spWmKQWT3qd1"
      },
      "execution_count": null,
      "outputs": []
    },
    {
      "cell_type": "code",
      "source": [
        "print(X_spatial_prep.shape, X_spatial_test.shape)"
      ],
      "metadata": {
        "colab": {
          "base_uri": "https://localhost:8080/"
        },
        "id": "l3rD3lYUyumZ",
        "outputId": "dae237fb-2037-4426-fb5f-7634f93481e7"
      },
      "execution_count": null,
      "outputs": [
        {
          "output_type": "stream",
          "name": "stdout",
          "text": [
            "(8460, 6, 7, 250) (443, 6, 7, 250)\n"
          ]
        }
      ]
    },
    {
      "cell_type": "code",
      "source": [
        "\n",
        "y_train_prep = keras.utils.to_categorical(y_train_prep, num_classes)\n",
        "y_valid_prep = keras.utils.to_categorical(y_valid_prep, num_classes)\n",
        "y_test = keras.utils.to_categorical(y_test, num_classes)"
      ],
      "metadata": {
        "id": "NZWq7ZCFq5z9"
      },
      "execution_count": 16,
      "outputs": []
    },
    {
      "cell_type": "code",
      "source": [
        "print(X_train_valid_prep.shape,y_train_valid_prep.shape, X_spatial_prep.shape, X_spatial_test.shape)\n",
        "print(X_test.shape, y_test.shape)"
      ],
      "metadata": {
        "colab": {
          "base_uri": "https://localhost:8080/"
        },
        "id": "YFZfw6CuqeBs",
        "outputId": "88e49b8e-869a-4005-e7f7-8a5721d428bf"
      },
      "execution_count": null,
      "outputs": [
        {
          "output_type": "stream",
          "name": "stdout",
          "text": [
            "(8460, 22, 250) (8460, 4) (8460, 6, 7, 250) (443, 6, 7, 250)\n",
            "(443, 22, 250) (443, 4)\n"
          ]
        }
      ]
    },
    {
      "cell_type": "code",
      "source": [
        "X_spatial_prep  = np.swapaxes(X_spatial_prep , 1,3)\n",
        "X_spatial_prep = np.swapaxes(X_spatial_prep , 2,3)\n",
        "X_spatial_test  = np.swapaxes(X_spatial_test , 1,3)\n",
        "X_spatial_test = np.swapaxes(X_spatial_test , 2,3)"
      ],
      "metadata": {
        "id": "b3_pN5eAY1bg"
      },
      "execution_count": null,
      "outputs": []
    },
    {
      "cell_type": "code",
      "source": [
        "X_spatial_prep = X_spatial_prep.reshape(*X_spatial_prep.shape, 1)\n",
        "X_spatial_test = X_spatial_test.reshape(*X_spatial_test.shape, 1)"
      ],
      "metadata": {
        "id": "FeiaaX6qX3-e"
      },
      "execution_count": null,
      "outputs": []
    },
    {
      "cell_type": "code",
      "source": [
        "print(X_train_valid_prep.shape,y_train_valid_prep.shape, X_spatial_prep.shape, X_spatial_test.shape)\n",
        "print(X_test.shape, y_test.shape)"
      ],
      "metadata": {
        "colab": {
          "base_uri": "https://localhost:8080/"
        },
        "id": "1MC6IQn7YEF-",
        "outputId": "a027cdc4-3580-4762-9cb6-d98ea975314f"
      },
      "execution_count": null,
      "outputs": [
        {
          "output_type": "stream",
          "name": "stdout",
          "text": [
            "(8460, 22, 250) (8460, 4) (8460, 250, 6, 7, 1) (443, 250, 6, 7, 1)\n",
            "(443, 22, 250) (443, 4)\n"
          ]
        }
      ]
    },
    {
      "cell_type": "markdown",
      "source": [
        "## CNN + GRU model with all subjects"
      ],
      "metadata": {
        "id": "IxgOEM-3WIPG"
      }
    },
    {
      "cell_type": "code",
      "source": [
        "from keras.layers import Conv2D, BatchNormalization, Activation, Flatten, Dense, Dropout, LSTM, Input, TimeDistributed, Permute, Reshape, MaxPooling2D, GRU\n",
        "from keras import initializers, Model, optimizers, callbacks\n",
        "from keras import Sequential\n",
        "from keras import backend as K\n",
        "from keras.models import load_model\n",
        "from keras.callbacks import Callback\n",
        "from sklearn.preprocessing import OneHotEncoder, StandardScaler\n",
        "from sklearn.metrics import confusion_matrix, f1_score, precision_score, recall_score"
      ],
      "metadata": {
        "id": "GswnoLTxWgFD"
      },
      "execution_count": 13,
      "outputs": []
    },
    {
      "cell_type": "code",
      "source": [
        "## Complicated Model - the same as Zhang`s\n",
        "# input_shape = (250, 6, 7, 1)\n",
        "# lecun = initializers.lecun_normal(seed=42)\n",
        "\n",
        "# # TimeDistributed Wrapper\n",
        "# def timeDist(layer, prev_layer, name):\n",
        "#     return TimeDistributed(layer, name=name)(prev_layer)\n",
        "    \n",
        "# # Input layer\n",
        "# inputs = Input(shape=input_shape)\n",
        "\n",
        "# # Convolutional layers block\n",
        "# x = timeDist(Conv2D(32, (3,3), padding='same', \n",
        "#                     data_format='channels_last', kernel_initializer=lecun), inputs, name='CNN1')\n",
        "# x = BatchNormalization(name='batch1')(x)\n",
        "# x = Activation('elu', name='act1')(x)\n",
        "# x = timeDist(Conv2D(64, (3,3), padding='same', data_format='channels_last', kernel_initializer=lecun), x, name='CNN2')\n",
        "# x = BatchNormalization(name='batch2')(x)\n",
        "# x = Activation('elu', name='act2')(x)\n",
        "# x = timeDist(Conv2D(128, (3,3), padding='same', data_format='channels_last', kernel_initializer=lecun), x, name='CNN3')\n",
        "# x = BatchNormalization(name='batch3')(x)\n",
        "# x = Activation('elu', name='act3')(x)\n",
        "# x = timeDist(Flatten(), x, name='flatten')\n",
        "\n",
        "# # Fully connected layer block\n",
        "# y = Dense(64, kernel_initializer=lecun, name='FC')(x)\n",
        "# y = Dropout(0.5, name='dropout1')(y)\n",
        "# y = BatchNormalization(name='batch4')(y)\n",
        "# y = Activation(activation='elu')(y)\n",
        "\n",
        "# # Recurrent layers block\n",
        "# #z = LSTM(64, kernel_initializer=lecun, return_sequences=True, name='LSTM1')(y)\n",
        "# z = LSTM(64, kernel_initializer=lecun, name='LSTM2')(y)\n",
        "\n",
        "# # Fully connected layer block\n",
        "# h = Dense(128, kernel_initializer=lecun, activation='relu', name='FC2')(z)\n",
        "# h = Dropout(0.5, name='dropout2')(h)\n",
        "\n",
        "# # Output layer\n",
        "# outputs = Dense(4, activation='softmax')(h)\n",
        "\n",
        "# # Model compile\n",
        "# model = Model(inputs=inputs, outputs=outputs)\n",
        "# model.summary()\n",
        "\n",
        "lecun = initializers.lecun_normal(seed=42)\n",
        "\n",
        "model = Sequential()\n",
        "\n",
        "model.add(Permute((2, 1), input_shape=(22, 250)))\n",
        "model.add(Reshape((250, 22, 1)))\n",
        "\n",
        "model.add(Conv2D(filters=25, kernel_size=(10,1), kernel_initializer = lecun, strides=1, data_format=\"channels_last\"))\n",
        "model.add(Conv2D(filters=25, kernel_size=(1,22), kernel_initializer = lecun ))\n",
        "model.add(BatchNormalization())\n",
        "model.add(Activation(activation = 'elu'))\n",
        "model.add(MaxPooling2D(pool_size = (3,1), strides = (3,1)))\n",
        "model.add(Dropout(0.5))\n",
        "\n",
        "# Conv Pool Block 2\n",
        "model.add(Conv2D(filters = 50, kernel_size = (10,1), activation = 'elu', kernel_initializer = lecun))\n",
        "model.add(BatchNormalization())\n",
        "model.add(Activation(activation = 'elu'))\n",
        "model.add(MaxPooling2D(pool_size = (3,1), strides = (3,1)))\n",
        "model.add(Dropout(0.5))\n",
        "\n",
        "model.add(Permute((1, 3, 2)))\n",
        "model.add(Reshape((23, 50)))\n",
        "\n",
        "# GRU layers\n",
        "model.add(GRU(16, return_sequences=True))\n",
        "model.add(GRU(16, return_sequences=True))\n",
        "# model.add(GRU(16, return_sequences=True))\n",
        "# model.add(GRU(16, return_sequences=True))\n",
        "model.add(Dropout(0.5))\n",
        "\n",
        "# Dense layers\n",
        "model.add(Flatten())\n",
        "model.add(Dense(units=4, activation='softmax'))\n",
        "\n",
        "model.compile(loss='categorical_crossentropy',\n",
        "              optimizer='adam',\n",
        "              metrics=['accuracy'])\n",
        "\n",
        "print(model.summary())\n"
      ],
      "metadata": {
        "colab": {
          "base_uri": "https://localhost:8080/"
        },
        "id": "BSm44W_mWdxt",
        "outputId": "cfe0f8de-5d5a-447d-9c45-a90ab2cf8f97"
      },
      "execution_count": 14,
      "outputs": [
        {
          "output_type": "stream",
          "name": "stdout",
          "text": [
            "Model: \"sequential\"\n",
            "_________________________________________________________________\n",
            " Layer (type)                Output Shape              Param #   \n",
            "=================================================================\n",
            " permute (Permute)           (None, 250, 22)           0         \n",
            "                                                                 \n",
            " reshape (Reshape)           (None, 250, 22, 1)        0         \n",
            "                                                                 \n",
            " conv2d (Conv2D)             (None, 241, 22, 25)       275       \n",
            "                                                                 \n",
            " conv2d_1 (Conv2D)           (None, 241, 1, 25)        13775     \n",
            "                                                                 \n",
            " batch_normalization (BatchN  (None, 241, 1, 25)       100       \n",
            " ormalization)                                                   \n",
            "                                                                 \n",
            " activation (Activation)     (None, 241, 1, 25)        0         \n",
            "                                                                 \n",
            " max_pooling2d (MaxPooling2D  (None, 80, 1, 25)        0         \n",
            " )                                                               \n",
            "                                                                 \n",
            " dropout (Dropout)           (None, 80, 1, 25)         0         \n",
            "                                                                 \n",
            " conv2d_2 (Conv2D)           (None, 71, 1, 50)         12550     \n",
            "                                                                 \n",
            " batch_normalization_1 (Batc  (None, 71, 1, 50)        200       \n",
            " hNormalization)                                                 \n",
            "                                                                 \n",
            " activation_1 (Activation)   (None, 71, 1, 50)         0         \n",
            "                                                                 \n",
            " max_pooling2d_1 (MaxPooling  (None, 23, 1, 50)        0         \n",
            " 2D)                                                             \n",
            "                                                                 \n",
            " dropout_1 (Dropout)         (None, 23, 1, 50)         0         \n",
            "                                                                 \n",
            " permute_1 (Permute)         (None, 23, 50, 1)         0         \n",
            "                                                                 \n",
            " reshape_1 (Reshape)         (None, 23, 50)            0         \n",
            "                                                                 \n",
            " gru (GRU)                   (None, 23, 16)            3264      \n",
            "                                                                 \n",
            " gru_1 (GRU)                 (None, 23, 16)            1632      \n",
            "                                                                 \n",
            " dropout_2 (Dropout)         (None, 23, 16)            0         \n",
            "                                                                 \n",
            " flatten (Flatten)           (None, 368)               0         \n",
            "                                                                 \n",
            " dense (Dense)               (None, 4)                 1476      \n",
            "                                                                 \n",
            "=================================================================\n",
            "Total params: 33,272\n",
            "Trainable params: 33,122\n",
            "Non-trainable params: 150\n",
            "_________________________________________________________________\n",
            "None\n"
          ]
        }
      ]
    },
    {
      "cell_type": "code",
      "source": [
        "model.compile(loss='categorical_crossentropy', optimizer='adam', metrics=['acc'])\n",
        "history = model.fit(X_train_prep, y_train_prep, batch_size=64, epochs=200,\n",
        "                    validation_data=(X_valid_prep, y_valid_prep))"
      ],
      "metadata": {
        "colab": {
          "base_uri": "https://localhost:8080/"
        },
        "id": "vQNJ4-8OXRB0",
        "outputId": "f8251a25-c556-4ce5-ee1a-96ff3eb28d3e"
      },
      "execution_count": 32,
      "outputs": [
        {
          "output_type": "stream",
          "name": "stdout",
          "text": [
            "Epoch 1/200\n",
            "106/106 [==============================] - 8s 37ms/step - loss: 1.4323 - acc: 0.2835 - val_loss: 1.3405 - val_acc: 0.3475\n",
            "Epoch 2/200\n",
            "106/106 [==============================] - 3s 27ms/step - loss: 1.3134 - acc: 0.3679 - val_loss: 1.2542 - val_acc: 0.4255\n",
            "Epoch 3/200\n",
            "106/106 [==============================] - 3s 27ms/step - loss: 1.2488 - acc: 0.4208 - val_loss: 1.2172 - val_acc: 0.4184\n",
            "Epoch 4/200\n",
            "106/106 [==============================] - 3s 27ms/step - loss: 1.1949 - acc: 0.4648 - val_loss: 1.1629 - val_acc: 0.4917\n",
            "Epoch 5/200\n",
            "106/106 [==============================] - 3s 28ms/step - loss: 1.1446 - acc: 0.5006 - val_loss: 1.1476 - val_acc: 0.4894\n",
            "Epoch 6/200\n",
            "106/106 [==============================] - 3s 27ms/step - loss: 1.1034 - acc: 0.5254 - val_loss: 1.1104 - val_acc: 0.5106\n",
            "Epoch 7/200\n",
            "106/106 [==============================] - 3s 27ms/step - loss: 1.0600 - acc: 0.5523 - val_loss: 1.0807 - val_acc: 0.5296\n",
            "Epoch 8/200\n",
            "106/106 [==============================] - 3s 27ms/step - loss: 1.0282 - acc: 0.5733 - val_loss: 1.0813 - val_acc: 0.5414\n",
            "Epoch 9/200\n",
            "106/106 [==============================] - 3s 27ms/step - loss: 1.0088 - acc: 0.5884 - val_loss: 1.0520 - val_acc: 0.5414\n",
            "Epoch 10/200\n",
            "106/106 [==============================] - 3s 27ms/step - loss: 0.9768 - acc: 0.5918 - val_loss: 1.0400 - val_acc: 0.5650\n",
            "Epoch 11/200\n",
            "106/106 [==============================] - 3s 27ms/step - loss: 0.9539 - acc: 0.6089 - val_loss: 1.0377 - val_acc: 0.5674\n",
            "Epoch 12/200\n",
            "106/106 [==============================] - 3s 28ms/step - loss: 0.9226 - acc: 0.6268 - val_loss: 0.9906 - val_acc: 0.5839\n",
            "Epoch 13/200\n",
            "106/106 [==============================] - 3s 27ms/step - loss: 0.8962 - acc: 0.6392 - val_loss: 0.9895 - val_acc: 0.5910\n",
            "Epoch 14/200\n",
            "106/106 [==============================] - 3s 27ms/step - loss: 0.8677 - acc: 0.6503 - val_loss: 0.9897 - val_acc: 0.6028\n",
            "Epoch 15/200\n",
            "106/106 [==============================] - 3s 27ms/step - loss: 0.8582 - acc: 0.6591 - val_loss: 0.9115 - val_acc: 0.6383\n",
            "Epoch 16/200\n",
            "106/106 [==============================] - 3s 27ms/step - loss: 0.8324 - acc: 0.6735 - val_loss: 0.9112 - val_acc: 0.6170\n",
            "Epoch 17/200\n",
            "106/106 [==============================] - 3s 27ms/step - loss: 0.8031 - acc: 0.6828 - val_loss: 0.9942 - val_acc: 0.6123\n",
            "Epoch 18/200\n",
            "106/106 [==============================] - 3s 28ms/step - loss: 0.7907 - acc: 0.6882 - val_loss: 0.8715 - val_acc: 0.6501\n",
            "Epoch 19/200\n",
            "106/106 [==============================] - 3s 27ms/step - loss: 0.7742 - acc: 0.6933 - val_loss: 0.9232 - val_acc: 0.6359\n",
            "Epoch 20/200\n",
            "106/106 [==============================] - 3s 28ms/step - loss: 0.7299 - acc: 0.7142 - val_loss: 0.8971 - val_acc: 0.6454\n",
            "Epoch 21/200\n",
            "106/106 [==============================] - 3s 27ms/step - loss: 0.7346 - acc: 0.7089 - val_loss: 0.8788 - val_acc: 0.6714\n",
            "Epoch 22/200\n",
            "106/106 [==============================] - 3s 27ms/step - loss: 0.7207 - acc: 0.7202 - val_loss: 0.8771 - val_acc: 0.6690\n",
            "Epoch 23/200\n",
            "106/106 [==============================] - 3s 27ms/step - loss: 0.7122 - acc: 0.7219 - val_loss: 0.9042 - val_acc: 0.6407\n",
            "Epoch 24/200\n",
            "106/106 [==============================] - 3s 27ms/step - loss: 0.6958 - acc: 0.7333 - val_loss: 0.8425 - val_acc: 0.6596\n",
            "Epoch 25/200\n",
            "106/106 [==============================] - 3s 27ms/step - loss: 0.6880 - acc: 0.7357 - val_loss: 0.8504 - val_acc: 0.6690\n",
            "Epoch 26/200\n",
            "106/106 [==============================] - 3s 27ms/step - loss: 0.6482 - acc: 0.7509 - val_loss: 0.8371 - val_acc: 0.6998\n",
            "Epoch 27/200\n",
            "106/106 [==============================] - 3s 27ms/step - loss: 0.6442 - acc: 0.7550 - val_loss: 0.8565 - val_acc: 0.7045\n",
            "Epoch 28/200\n",
            "106/106 [==============================] - 3s 27ms/step - loss: 0.6494 - acc: 0.7510 - val_loss: 0.8573 - val_acc: 0.6761\n",
            "Epoch 29/200\n",
            "106/106 [==============================] - 3s 27ms/step - loss: 0.6447 - acc: 0.7592 - val_loss: 0.9521 - val_acc: 0.6525\n",
            "Epoch 30/200\n",
            "106/106 [==============================] - 3s 27ms/step - loss: 0.6171 - acc: 0.7603 - val_loss: 0.8194 - val_acc: 0.6832\n",
            "Epoch 31/200\n",
            "106/106 [==============================] - 3s 27ms/step - loss: 0.6280 - acc: 0.7537 - val_loss: 0.8587 - val_acc: 0.6643\n",
            "Epoch 32/200\n",
            "106/106 [==============================] - 3s 27ms/step - loss: 0.6108 - acc: 0.7599 - val_loss: 0.9192 - val_acc: 0.6501\n",
            "Epoch 33/200\n",
            "106/106 [==============================] - 3s 27ms/step - loss: 0.5904 - acc: 0.7745 - val_loss: 0.8200 - val_acc: 0.6950\n",
            "Epoch 34/200\n",
            "106/106 [==============================] - 3s 27ms/step - loss: 0.5882 - acc: 0.7747 - val_loss: 0.8095 - val_acc: 0.6903\n",
            "Epoch 35/200\n",
            "106/106 [==============================] - 3s 27ms/step - loss: 0.5909 - acc: 0.7708 - val_loss: 0.8786 - val_acc: 0.6761\n",
            "Epoch 36/200\n",
            "106/106 [==============================] - 3s 27ms/step - loss: 0.5789 - acc: 0.7759 - val_loss: 0.7962 - val_acc: 0.6950\n",
            "Epoch 37/200\n",
            "106/106 [==============================] - 3s 27ms/step - loss: 0.5701 - acc: 0.7829 - val_loss: 0.8366 - val_acc: 0.7045\n",
            "Epoch 38/200\n",
            "106/106 [==============================] - 3s 27ms/step - loss: 0.5572 - acc: 0.7872 - val_loss: 0.8944 - val_acc: 0.6879\n",
            "Epoch 39/200\n",
            "106/106 [==============================] - 3s 27ms/step - loss: 0.5609 - acc: 0.7793 - val_loss: 0.8271 - val_acc: 0.6927\n",
            "Epoch 40/200\n",
            "106/106 [==============================] - 3s 28ms/step - loss: 0.5505 - acc: 0.7930 - val_loss: 0.8034 - val_acc: 0.6974\n",
            "Epoch 41/200\n",
            "106/106 [==============================] - 3s 28ms/step - loss: 0.5437 - acc: 0.7866 - val_loss: 0.8490 - val_acc: 0.6903\n",
            "Epoch 42/200\n",
            "106/106 [==============================] - 3s 28ms/step - loss: 0.5269 - acc: 0.8001 - val_loss: 0.8215 - val_acc: 0.6785\n",
            "Epoch 43/200\n",
            "106/106 [==============================] - 3s 28ms/step - loss: 0.5386 - acc: 0.7942 - val_loss: 0.8760 - val_acc: 0.6667\n",
            "Epoch 44/200\n",
            "106/106 [==============================] - 3s 28ms/step - loss: 0.5263 - acc: 0.7952 - val_loss: 0.9210 - val_acc: 0.6667\n",
            "Epoch 45/200\n",
            "106/106 [==============================] - 3s 28ms/step - loss: 0.5226 - acc: 0.7993 - val_loss: 0.8449 - val_acc: 0.6950\n",
            "Epoch 46/200\n",
            "106/106 [==============================] - 3s 29ms/step - loss: 0.5104 - acc: 0.7996 - val_loss: 0.8884 - val_acc: 0.6785\n",
            "Epoch 47/200\n",
            "106/106 [==============================] - 3s 28ms/step - loss: 0.5094 - acc: 0.8016 - val_loss: 0.8711 - val_acc: 0.6809\n",
            "Epoch 48/200\n",
            "106/106 [==============================] - 3s 28ms/step - loss: 0.4985 - acc: 0.8116 - val_loss: 0.8899 - val_acc: 0.6643\n",
            "Epoch 49/200\n",
            "106/106 [==============================] - 3s 27ms/step - loss: 0.4791 - acc: 0.8184 - val_loss: 0.8446 - val_acc: 0.6927\n",
            "Epoch 50/200\n",
            "106/106 [==============================] - 3s 27ms/step - loss: 0.4801 - acc: 0.8144 - val_loss: 0.9180 - val_acc: 0.6690\n",
            "Epoch 51/200\n",
            "106/106 [==============================] - 3s 27ms/step - loss: 0.4913 - acc: 0.8095 - val_loss: 0.9705 - val_acc: 0.6525\n",
            "Epoch 52/200\n",
            "106/106 [==============================] - 3s 28ms/step - loss: 0.4890 - acc: 0.8128 - val_loss: 0.8695 - val_acc: 0.6714\n",
            "Epoch 53/200\n",
            "106/106 [==============================] - 3s 28ms/step - loss: 0.4774 - acc: 0.8180 - val_loss: 0.9124 - val_acc: 0.6619\n",
            "Epoch 54/200\n",
            "106/106 [==============================] - 3s 28ms/step - loss: 0.4691 - acc: 0.8233 - val_loss: 0.8029 - val_acc: 0.6927\n",
            "Epoch 55/200\n",
            "106/106 [==============================] - 3s 28ms/step - loss: 0.4664 - acc: 0.8223 - val_loss: 0.9033 - val_acc: 0.6714\n",
            "Epoch 56/200\n",
            "106/106 [==============================] - 3s 28ms/step - loss: 0.4405 - acc: 0.8347 - val_loss: 0.9149 - val_acc: 0.6714\n",
            "Epoch 57/200\n",
            "106/106 [==============================] - 3s 28ms/step - loss: 0.4489 - acc: 0.8271 - val_loss: 0.8367 - val_acc: 0.6856\n",
            "Epoch 58/200\n",
            "106/106 [==============================] - 3s 28ms/step - loss: 0.4430 - acc: 0.8305 - val_loss: 0.8489 - val_acc: 0.6950\n",
            "Epoch 59/200\n",
            "106/106 [==============================] - 3s 28ms/step - loss: 0.4528 - acc: 0.8273 - val_loss: 0.8327 - val_acc: 0.7116\n",
            "Epoch 60/200\n",
            "106/106 [==============================] - 3s 28ms/step - loss: 0.4354 - acc: 0.8398 - val_loss: 0.9115 - val_acc: 0.6809\n",
            "Epoch 61/200\n",
            "106/106 [==============================] - 3s 28ms/step - loss: 0.4449 - acc: 0.8338 - val_loss: 0.8809 - val_acc: 0.6856\n",
            "Epoch 62/200\n",
            "106/106 [==============================] - 3s 27ms/step - loss: 0.4288 - acc: 0.8378 - val_loss: 0.8640 - val_acc: 0.6998\n",
            "Epoch 63/200\n",
            "106/106 [==============================] - 3s 28ms/step - loss: 0.4254 - acc: 0.8327 - val_loss: 0.8895 - val_acc: 0.7069\n",
            "Epoch 64/200\n",
            "106/106 [==============================] - 3s 28ms/step - loss: 0.4234 - acc: 0.8432 - val_loss: 0.9331 - val_acc: 0.6856\n",
            "Epoch 65/200\n",
            "106/106 [==============================] - 3s 28ms/step - loss: 0.4331 - acc: 0.8381 - val_loss: 0.9262 - val_acc: 0.6690\n",
            "Epoch 66/200\n",
            "106/106 [==============================] - 3s 28ms/step - loss: 0.4208 - acc: 0.8416 - val_loss: 0.8257 - val_acc: 0.7021\n",
            "Epoch 67/200\n",
            "106/106 [==============================] - 3s 28ms/step - loss: 0.4163 - acc: 0.8354 - val_loss: 0.9284 - val_acc: 0.6738\n",
            "Epoch 68/200\n",
            "106/106 [==============================] - 3s 28ms/step - loss: 0.4244 - acc: 0.8400 - val_loss: 0.8105 - val_acc: 0.7069\n",
            "Epoch 69/200\n",
            "106/106 [==============================] - 3s 29ms/step - loss: 0.3977 - acc: 0.8469 - val_loss: 0.9002 - val_acc: 0.6903\n",
            "Epoch 70/200\n",
            "106/106 [==============================] - 3s 27ms/step - loss: 0.4148 - acc: 0.8453 - val_loss: 0.8287 - val_acc: 0.6856\n",
            "Epoch 71/200\n",
            "106/106 [==============================] - 3s 28ms/step - loss: 0.4021 - acc: 0.8447 - val_loss: 0.8880 - val_acc: 0.6879\n",
            "Epoch 72/200\n",
            "106/106 [==============================] - 3s 29ms/step - loss: 0.3946 - acc: 0.8515 - val_loss: 0.8896 - val_acc: 0.6879\n",
            "Epoch 73/200\n",
            "106/106 [==============================] - 3s 28ms/step - loss: 0.3874 - acc: 0.8540 - val_loss: 0.8724 - val_acc: 0.7021\n",
            "Epoch 74/200\n",
            "106/106 [==============================] - 3s 29ms/step - loss: 0.4031 - acc: 0.8509 - val_loss: 0.8610 - val_acc: 0.6950\n",
            "Epoch 75/200\n",
            "106/106 [==============================] - 3s 28ms/step - loss: 0.4016 - acc: 0.8475 - val_loss: 0.8679 - val_acc: 0.6974\n",
            "Epoch 76/200\n",
            "106/106 [==============================] - 3s 28ms/step - loss: 0.3963 - acc: 0.8493 - val_loss: 0.8544 - val_acc: 0.6903\n",
            "Epoch 77/200\n",
            "106/106 [==============================] - 3s 28ms/step - loss: 0.3891 - acc: 0.8509 - val_loss: 0.8468 - val_acc: 0.7021\n",
            "Epoch 78/200\n",
            "106/106 [==============================] - 3s 29ms/step - loss: 0.3886 - acc: 0.8527 - val_loss: 0.8305 - val_acc: 0.6998\n",
            "Epoch 79/200\n",
            "106/106 [==============================] - 3s 29ms/step - loss: 0.3832 - acc: 0.8555 - val_loss: 0.9145 - val_acc: 0.6832\n",
            "Epoch 80/200\n",
            "106/106 [==============================] - 3s 29ms/step - loss: 0.3789 - acc: 0.8571 - val_loss: 0.8464 - val_acc: 0.6927\n",
            "Epoch 81/200\n",
            "106/106 [==============================] - 3s 28ms/step - loss: 0.3802 - acc: 0.8585 - val_loss: 0.9125 - val_acc: 0.6785\n",
            "Epoch 82/200\n",
            "106/106 [==============================] - 3s 29ms/step - loss: 0.3871 - acc: 0.8493 - val_loss: 0.8485 - val_acc: 0.6809\n",
            "Epoch 83/200\n",
            "106/106 [==============================] - 3s 28ms/step - loss: 0.3733 - acc: 0.8605 - val_loss: 0.8911 - val_acc: 0.6809\n",
            "Epoch 84/200\n",
            "106/106 [==============================] - 3s 28ms/step - loss: 0.3721 - acc: 0.8601 - val_loss: 0.9407 - val_acc: 0.6690\n",
            "Epoch 85/200\n",
            "106/106 [==============================] - 3s 28ms/step - loss: 0.3674 - acc: 0.8651 - val_loss: 0.8920 - val_acc: 0.6879\n",
            "Epoch 86/200\n",
            "106/106 [==============================] - 3s 28ms/step - loss: 0.3752 - acc: 0.8574 - val_loss: 0.9477 - val_acc: 0.6950\n",
            "Epoch 87/200\n",
            "106/106 [==============================] - 3s 28ms/step - loss: 0.3708 - acc: 0.8610 - val_loss: 0.9105 - val_acc: 0.6785\n",
            "Epoch 88/200\n",
            "106/106 [==============================] - 3s 28ms/step - loss: 0.3599 - acc: 0.8642 - val_loss: 0.9400 - val_acc: 0.6879\n",
            "Epoch 89/200\n",
            "106/106 [==============================] - 3s 28ms/step - loss: 0.3534 - acc: 0.8684 - val_loss: 0.8736 - val_acc: 0.6950\n",
            "Epoch 90/200\n",
            "106/106 [==============================] - 3s 29ms/step - loss: 0.3503 - acc: 0.8679 - val_loss: 0.8887 - val_acc: 0.6832\n",
            "Epoch 91/200\n",
            "106/106 [==============================] - 3s 28ms/step - loss: 0.3709 - acc: 0.8626 - val_loss: 0.8517 - val_acc: 0.6974\n",
            "Epoch 92/200\n",
            "106/106 [==============================] - 3s 28ms/step - loss: 0.3583 - acc: 0.8654 - val_loss: 0.9081 - val_acc: 0.6998\n",
            "Epoch 93/200\n",
            "106/106 [==============================] - 3s 28ms/step - loss: 0.3586 - acc: 0.8633 - val_loss: 0.8698 - val_acc: 0.6974\n",
            "Epoch 94/200\n",
            "106/106 [==============================] - 3s 28ms/step - loss: 0.3467 - acc: 0.8672 - val_loss: 0.9249 - val_acc: 0.6903\n",
            "Epoch 95/200\n",
            "106/106 [==============================] - 3s 28ms/step - loss: 0.3658 - acc: 0.8604 - val_loss: 0.9002 - val_acc: 0.6832\n",
            "Epoch 96/200\n",
            "106/106 [==============================] - 3s 28ms/step - loss: 0.3561 - acc: 0.8657 - val_loss: 0.8886 - val_acc: 0.6903\n",
            "Epoch 97/200\n",
            "106/106 [==============================] - 3s 28ms/step - loss: 0.3378 - acc: 0.8719 - val_loss: 0.8981 - val_acc: 0.6950\n",
            "Epoch 98/200\n",
            "106/106 [==============================] - 3s 28ms/step - loss: 0.3430 - acc: 0.8698 - val_loss: 0.8932 - val_acc: 0.7116\n",
            "Epoch 99/200\n",
            "106/106 [==============================] - 3s 28ms/step - loss: 0.3501 - acc: 0.8670 - val_loss: 0.8976 - val_acc: 0.7021\n",
            "Epoch 100/200\n",
            "106/106 [==============================] - 3s 28ms/step - loss: 0.3398 - acc: 0.8740 - val_loss: 1.0159 - val_acc: 0.7092\n",
            "Epoch 101/200\n",
            "106/106 [==============================] - 3s 28ms/step - loss: 0.3484 - acc: 0.8682 - val_loss: 0.9592 - val_acc: 0.6927\n",
            "Epoch 102/200\n",
            "106/106 [==============================] - 3s 29ms/step - loss: 0.3270 - acc: 0.8754 - val_loss: 0.9004 - val_acc: 0.6903\n",
            "Epoch 103/200\n",
            "106/106 [==============================] - 3s 28ms/step - loss: 0.3353 - acc: 0.8750 - val_loss: 0.9133 - val_acc: 0.7069\n",
            "Epoch 104/200\n",
            "106/106 [==============================] - 3s 28ms/step - loss: 0.3475 - acc: 0.8691 - val_loss: 0.8583 - val_acc: 0.7116\n",
            "Epoch 105/200\n",
            "106/106 [==============================] - 3s 29ms/step - loss: 0.3322 - acc: 0.8757 - val_loss: 0.8848 - val_acc: 0.7021\n",
            "Epoch 106/200\n",
            "106/106 [==============================] - 3s 29ms/step - loss: 0.3377 - acc: 0.8709 - val_loss: 0.9154 - val_acc: 0.6903\n",
            "Epoch 107/200\n",
            "106/106 [==============================] - 3s 29ms/step - loss: 0.3397 - acc: 0.8728 - val_loss: 0.9418 - val_acc: 0.6927\n",
            "Epoch 108/200\n",
            "106/106 [==============================] - 3s 28ms/step - loss: 0.3423 - acc: 0.8728 - val_loss: 0.8860 - val_acc: 0.7069\n",
            "Epoch 109/200\n",
            "106/106 [==============================] - 3s 28ms/step - loss: 0.3184 - acc: 0.8777 - val_loss: 0.9334 - val_acc: 0.6927\n",
            "Epoch 110/200\n",
            "106/106 [==============================] - 3s 28ms/step - loss: 0.3179 - acc: 0.8805 - val_loss: 0.9002 - val_acc: 0.6809\n",
            "Epoch 111/200\n",
            "106/106 [==============================] - 3s 28ms/step - loss: 0.3245 - acc: 0.8783 - val_loss: 0.8807 - val_acc: 0.7116\n",
            "Epoch 112/200\n",
            "106/106 [==============================] - 3s 29ms/step - loss: 0.3126 - acc: 0.8805 - val_loss: 0.9007 - val_acc: 0.6856\n",
            "Epoch 113/200\n",
            "106/106 [==============================] - 3s 29ms/step - loss: 0.3127 - acc: 0.8842 - val_loss: 0.9005 - val_acc: 0.6974\n",
            "Epoch 114/200\n",
            "106/106 [==============================] - 3s 28ms/step - loss: 0.3226 - acc: 0.8805 - val_loss: 0.9933 - val_acc: 0.6998\n",
            "Epoch 115/200\n",
            "106/106 [==============================] - 3s 29ms/step - loss: 0.3330 - acc: 0.8754 - val_loss: 0.8872 - val_acc: 0.7092\n",
            "Epoch 116/200\n",
            "106/106 [==============================] - 3s 28ms/step - loss: 0.3238 - acc: 0.8853 - val_loss: 0.8807 - val_acc: 0.7045\n",
            "Epoch 117/200\n",
            "106/106 [==============================] - 3s 29ms/step - loss: 0.3185 - acc: 0.8774 - val_loss: 0.8798 - val_acc: 0.6903\n",
            "Epoch 118/200\n",
            "106/106 [==============================] - 3s 29ms/step - loss: 0.3250 - acc: 0.8787 - val_loss: 0.9396 - val_acc: 0.7092\n",
            "Epoch 119/200\n",
            "106/106 [==============================] - 3s 29ms/step - loss: 0.3190 - acc: 0.8787 - val_loss: 0.8920 - val_acc: 0.7092\n",
            "Epoch 120/200\n",
            "106/106 [==============================] - 3s 28ms/step - loss: 0.3225 - acc: 0.8766 - val_loss: 0.9239 - val_acc: 0.6927\n",
            "Epoch 121/200\n",
            "106/106 [==============================] - 3s 28ms/step - loss: 0.3156 - acc: 0.8797 - val_loss: 0.9273 - val_acc: 0.7045\n",
            "Epoch 122/200\n",
            "106/106 [==============================] - 3s 28ms/step - loss: 0.3139 - acc: 0.8837 - val_loss: 0.8860 - val_acc: 0.7092\n",
            "Epoch 123/200\n",
            "106/106 [==============================] - 3s 29ms/step - loss: 0.3098 - acc: 0.8843 - val_loss: 1.0226 - val_acc: 0.6738\n",
            "Epoch 124/200\n",
            "106/106 [==============================] - 3s 29ms/step - loss: 0.3125 - acc: 0.8859 - val_loss: 0.9732 - val_acc: 0.6974\n",
            "Epoch 125/200\n",
            "106/106 [==============================] - 3s 28ms/step - loss: 0.3081 - acc: 0.8843 - val_loss: 0.9429 - val_acc: 0.7116\n",
            "Epoch 126/200\n",
            "106/106 [==============================] - 3s 29ms/step - loss: 0.3063 - acc: 0.8862 - val_loss: 0.9481 - val_acc: 0.7069\n",
            "Epoch 127/200\n",
            "106/106 [==============================] - 3s 29ms/step - loss: 0.3055 - acc: 0.8864 - val_loss: 0.9802 - val_acc: 0.6879\n",
            "Epoch 128/200\n",
            "106/106 [==============================] - 3s 28ms/step - loss: 0.3106 - acc: 0.8842 - val_loss: 0.9651 - val_acc: 0.7116\n",
            "Epoch 129/200\n",
            "106/106 [==============================] - 3s 29ms/step - loss: 0.3065 - acc: 0.8867 - val_loss: 0.8964 - val_acc: 0.7092\n",
            "Epoch 130/200\n",
            "106/106 [==============================] - 3s 28ms/step - loss: 0.2902 - acc: 0.8927 - val_loss: 0.9454 - val_acc: 0.6998\n",
            "Epoch 131/200\n",
            "106/106 [==============================] - 3s 29ms/step - loss: 0.3023 - acc: 0.8898 - val_loss: 0.8475 - val_acc: 0.7305\n",
            "Epoch 132/200\n",
            "106/106 [==============================] - 3s 29ms/step - loss: 0.2952 - acc: 0.8932 - val_loss: 0.9306 - val_acc: 0.7116\n",
            "Epoch 133/200\n",
            "106/106 [==============================] - 3s 29ms/step - loss: 0.3025 - acc: 0.8883 - val_loss: 0.9063 - val_acc: 0.7139\n",
            "Epoch 134/200\n",
            "106/106 [==============================] - 3s 29ms/step - loss: 0.2987 - acc: 0.8904 - val_loss: 0.8988 - val_acc: 0.7092\n",
            "Epoch 135/200\n",
            "106/106 [==============================] - 3s 28ms/step - loss: 0.3020 - acc: 0.8871 - val_loss: 0.9133 - val_acc: 0.7116\n",
            "Epoch 136/200\n",
            "106/106 [==============================] - 3s 28ms/step - loss: 0.2990 - acc: 0.8895 - val_loss: 0.9891 - val_acc: 0.6950\n",
            "Epoch 137/200\n",
            "106/106 [==============================] - 3s 29ms/step - loss: 0.2938 - acc: 0.8898 - val_loss: 0.9432 - val_acc: 0.6998\n",
            "Epoch 138/200\n",
            "106/106 [==============================] - 3s 29ms/step - loss: 0.2954 - acc: 0.8944 - val_loss: 0.9784 - val_acc: 0.7021\n",
            "Epoch 139/200\n",
            "106/106 [==============================] - 3s 29ms/step - loss: 0.2982 - acc: 0.8874 - val_loss: 0.9042 - val_acc: 0.7092\n",
            "Epoch 140/200\n",
            "106/106 [==============================] - 3s 29ms/step - loss: 0.2926 - acc: 0.8901 - val_loss: 0.9787 - val_acc: 0.6927\n",
            "Epoch 141/200\n",
            "106/106 [==============================] - 3s 29ms/step - loss: 0.3020 - acc: 0.8864 - val_loss: 0.9368 - val_acc: 0.7092\n",
            "Epoch 142/200\n",
            "106/106 [==============================] - 3s 29ms/step - loss: 0.2950 - acc: 0.8883 - val_loss: 0.9571 - val_acc: 0.6950\n",
            "Epoch 143/200\n",
            "106/106 [==============================] - 3s 29ms/step - loss: 0.2927 - acc: 0.8933 - val_loss: 0.9411 - val_acc: 0.6974\n",
            "Epoch 144/200\n",
            "106/106 [==============================] - 3s 29ms/step - loss: 0.2895 - acc: 0.8923 - val_loss: 0.9576 - val_acc: 0.7116\n",
            "Epoch 145/200\n",
            "106/106 [==============================] - 3s 29ms/step - loss: 0.2810 - acc: 0.8936 - val_loss: 0.9069 - val_acc: 0.6879\n",
            "Epoch 146/200\n",
            "106/106 [==============================] - 3s 29ms/step - loss: 0.2834 - acc: 0.8935 - val_loss: 0.9776 - val_acc: 0.6856\n",
            "Epoch 147/200\n",
            "106/106 [==============================] - 3s 29ms/step - loss: 0.2860 - acc: 0.8942 - val_loss: 0.9906 - val_acc: 0.6856\n",
            "Epoch 148/200\n",
            "106/106 [==============================] - 3s 29ms/step - loss: 0.2867 - acc: 0.8927 - val_loss: 1.0166 - val_acc: 0.6927\n",
            "Epoch 149/200\n",
            "106/106 [==============================] - 3s 29ms/step - loss: 0.2817 - acc: 0.8969 - val_loss: 0.9454 - val_acc: 0.7187\n",
            "Epoch 150/200\n",
            "106/106 [==============================] - 3s 29ms/step - loss: 0.2869 - acc: 0.8957 - val_loss: 0.9799 - val_acc: 0.6974\n",
            "Epoch 151/200\n",
            "106/106 [==============================] - 3s 28ms/step - loss: 0.2827 - acc: 0.8964 - val_loss: 0.9582 - val_acc: 0.7069\n",
            "Epoch 152/200\n",
            "106/106 [==============================] - 3s 28ms/step - loss: 0.2770 - acc: 0.8969 - val_loss: 0.9489 - val_acc: 0.6974\n",
            "Epoch 153/200\n",
            "106/106 [==============================] - 3s 29ms/step - loss: 0.2817 - acc: 0.8951 - val_loss: 1.0017 - val_acc: 0.7021\n",
            "Epoch 154/200\n",
            "106/106 [==============================] - 3s 29ms/step - loss: 0.2903 - acc: 0.8930 - val_loss: 0.9071 - val_acc: 0.7045\n",
            "Epoch 155/200\n",
            "106/106 [==============================] - 3s 29ms/step - loss: 0.2840 - acc: 0.8949 - val_loss: 0.9936 - val_acc: 0.7069\n",
            "Epoch 156/200\n",
            "106/106 [==============================] - 3s 29ms/step - loss: 0.2745 - acc: 0.8992 - val_loss: 0.9605 - val_acc: 0.6998\n",
            "Epoch 157/200\n",
            "106/106 [==============================] - 3s 29ms/step - loss: 0.2874 - acc: 0.8930 - val_loss: 0.9268 - val_acc: 0.7092\n",
            "Epoch 158/200\n",
            "106/106 [==============================] - 3s 29ms/step - loss: 0.2739 - acc: 0.9007 - val_loss: 1.0304 - val_acc: 0.6903\n",
            "Epoch 159/200\n",
            "106/106 [==============================] - 3s 29ms/step - loss: 0.2745 - acc: 0.8915 - val_loss: 0.9674 - val_acc: 0.7045\n",
            "Epoch 160/200\n",
            "106/106 [==============================] - 3s 29ms/step - loss: 0.2686 - acc: 0.8985 - val_loss: 0.9649 - val_acc: 0.7069\n",
            "Epoch 161/200\n",
            "106/106 [==============================] - 3s 29ms/step - loss: 0.2780 - acc: 0.8979 - val_loss: 0.9681 - val_acc: 0.7092\n",
            "Epoch 162/200\n",
            "106/106 [==============================] - 3s 28ms/step - loss: 0.2593 - acc: 0.9017 - val_loss: 0.8900 - val_acc: 0.7187\n",
            "Epoch 163/200\n",
            "106/106 [==============================] - 3s 28ms/step - loss: 0.2653 - acc: 0.9017 - val_loss: 0.9185 - val_acc: 0.7069\n",
            "Epoch 164/200\n",
            "106/106 [==============================] - 3s 28ms/step - loss: 0.2716 - acc: 0.8957 - val_loss: 0.9306 - val_acc: 0.7045\n",
            "Epoch 165/200\n",
            "106/106 [==============================] - 3s 28ms/step - loss: 0.2698 - acc: 0.8966 - val_loss: 0.9503 - val_acc: 0.7116\n",
            "Epoch 166/200\n",
            "106/106 [==============================] - 3s 29ms/step - loss: 0.2673 - acc: 0.9053 - val_loss: 0.9648 - val_acc: 0.7045\n",
            "Epoch 167/200\n",
            "106/106 [==============================] - 3s 28ms/step - loss: 0.2674 - acc: 0.9013 - val_loss: 0.9979 - val_acc: 0.6927\n",
            "Epoch 168/200\n",
            "106/106 [==============================] - 3s 29ms/step - loss: 0.2737 - acc: 0.8964 - val_loss: 0.9238 - val_acc: 0.7376\n",
            "Epoch 169/200\n",
            "106/106 [==============================] - 3s 29ms/step - loss: 0.2710 - acc: 0.8975 - val_loss: 0.9498 - val_acc: 0.7281\n",
            "Epoch 170/200\n",
            "106/106 [==============================] - 3s 29ms/step - loss: 0.2603 - acc: 0.8994 - val_loss: 0.9444 - val_acc: 0.7258\n",
            "Epoch 171/200\n",
            "106/106 [==============================] - 3s 29ms/step - loss: 0.2659 - acc: 0.8969 - val_loss: 0.9407 - val_acc: 0.7069\n",
            "Epoch 172/200\n",
            "106/106 [==============================] - 3s 28ms/step - loss: 0.2629 - acc: 0.9078 - val_loss: 0.9435 - val_acc: 0.7045\n",
            "Epoch 173/200\n",
            "106/106 [==============================] - 3s 29ms/step - loss: 0.2735 - acc: 0.8969 - val_loss: 1.0042 - val_acc: 0.7021\n",
            "Epoch 174/200\n",
            "106/106 [==============================] - 3s 29ms/step - loss: 0.2662 - acc: 0.9003 - val_loss: 0.9200 - val_acc: 0.7210\n",
            "Epoch 175/200\n",
            "106/106 [==============================] - 3s 29ms/step - loss: 0.2724 - acc: 0.9014 - val_loss: 0.9568 - val_acc: 0.7116\n",
            "Epoch 176/200\n",
            "106/106 [==============================] - 3s 29ms/step - loss: 0.2724 - acc: 0.8979 - val_loss: 0.9756 - val_acc: 0.7021\n",
            "Epoch 177/200\n",
            "106/106 [==============================] - 3s 29ms/step - loss: 0.2624 - acc: 0.8991 - val_loss: 0.9499 - val_acc: 0.7139\n",
            "Epoch 178/200\n",
            "106/106 [==============================] - 3s 29ms/step - loss: 0.2581 - acc: 0.9035 - val_loss: 0.9757 - val_acc: 0.7187\n",
            "Epoch 179/200\n",
            "106/106 [==============================] - 3s 29ms/step - loss: 0.2715 - acc: 0.8942 - val_loss: 0.9622 - val_acc: 0.7116\n",
            "Epoch 180/200\n",
            "106/106 [==============================] - 3s 29ms/step - loss: 0.2680 - acc: 0.8994 - val_loss: 0.9246 - val_acc: 0.7092\n",
            "Epoch 181/200\n",
            "106/106 [==============================] - 3s 29ms/step - loss: 0.2676 - acc: 0.9037 - val_loss: 1.0508 - val_acc: 0.6903\n",
            "Epoch 182/200\n",
            "106/106 [==============================] - 3s 28ms/step - loss: 0.2538 - acc: 0.9006 - val_loss: 0.9585 - val_acc: 0.7069\n",
            "Epoch 183/200\n",
            "106/106 [==============================] - 3s 29ms/step - loss: 0.2503 - acc: 0.9082 - val_loss: 1.0749 - val_acc: 0.6927\n",
            "Epoch 184/200\n",
            "106/106 [==============================] - 3s 29ms/step - loss: 0.2442 - acc: 0.9084 - val_loss: 1.0100 - val_acc: 0.7092\n",
            "Epoch 185/200\n",
            "106/106 [==============================] - 3s 29ms/step - loss: 0.2586 - acc: 0.9066 - val_loss: 1.0089 - val_acc: 0.6927\n",
            "Epoch 186/200\n",
            "106/106 [==============================] - 3s 29ms/step - loss: 0.2573 - acc: 0.9025 - val_loss: 0.9851 - val_acc: 0.6998\n",
            "Epoch 187/200\n",
            "106/106 [==============================] - 3s 29ms/step - loss: 0.2662 - acc: 0.8970 - val_loss: 1.0043 - val_acc: 0.7163\n",
            "Epoch 188/200\n",
            "106/106 [==============================] - 3s 29ms/step - loss: 0.2615 - acc: 0.9025 - val_loss: 0.9936 - val_acc: 0.7092\n",
            "Epoch 189/200\n",
            "106/106 [==============================] - 3s 29ms/step - loss: 0.2745 - acc: 0.8975 - val_loss: 0.9627 - val_acc: 0.7139\n",
            "Epoch 190/200\n",
            "106/106 [==============================] - 3s 29ms/step - loss: 0.2639 - acc: 0.9001 - val_loss: 0.9595 - val_acc: 0.7281\n",
            "Epoch 191/200\n",
            "106/106 [==============================] - 3s 28ms/step - loss: 0.2769 - acc: 0.8951 - val_loss: 1.0052 - val_acc: 0.6998\n",
            "Epoch 192/200\n",
            "106/106 [==============================] - 3s 30ms/step - loss: 0.2483 - acc: 0.9040 - val_loss: 1.0872 - val_acc: 0.6998\n",
            "Epoch 193/200\n",
            "106/106 [==============================] - 3s 29ms/step - loss: 0.2490 - acc: 0.9062 - val_loss: 0.9777 - val_acc: 0.7163\n",
            "Epoch 194/200\n",
            "106/106 [==============================] - 3s 29ms/step - loss: 0.2597 - acc: 0.9019 - val_loss: 0.9431 - val_acc: 0.7163\n",
            "Epoch 195/200\n",
            "106/106 [==============================] - 3s 29ms/step - loss: 0.2375 - acc: 0.9152 - val_loss: 0.9661 - val_acc: 0.7092\n",
            "Epoch 196/200\n",
            "106/106 [==============================] - 3s 29ms/step - loss: 0.2388 - acc: 0.9119 - val_loss: 1.0342 - val_acc: 0.7139\n",
            "Epoch 197/200\n",
            "106/106 [==============================] - 3s 29ms/step - loss: 0.2425 - acc: 0.9059 - val_loss: 1.0351 - val_acc: 0.6950\n",
            "Epoch 198/200\n",
            "106/106 [==============================] - 3s 29ms/step - loss: 0.2625 - acc: 0.9032 - val_loss: 1.0394 - val_acc: 0.6879\n",
            "Epoch 199/200\n",
            "106/106 [==============================] - 3s 29ms/step - loss: 0.2533 - acc: 0.9081 - val_loss: 0.9904 - val_acc: 0.7045\n",
            "Epoch 200/200\n",
            "106/106 [==============================] - 3s 29ms/step - loss: 0.2551 - acc: 0.9051 - val_loss: 1.1041 - val_acc: 0.6738\n"
          ]
        }
      ]
    },
    {
      "cell_type": "code",
      "source": [
        "#model = keras.models.load_model(\"best_model.h5\")\n",
        "\n",
        "test_loss, test_acc = model.evaluate(X_test, y_test)\n",
        "\n",
        "print(\"Test accuracy\", test_acc)\n",
        "print(\"Test loss\", test_loss)\n"
      ],
      "metadata": {
        "colab": {
          "base_uri": "https://localhost:8080/"
        },
        "id": "E5W7-Qi6vG_9",
        "outputId": "0aa57c5e-4756-4190-8416-0c29836050f0"
      },
      "execution_count": 33,
      "outputs": [
        {
          "output_type": "stream",
          "name": "stdout",
          "text": [
            "14/14 [==============================] - 0s 11ms/step - loss: 1.0711 - acc: 0.6975\n",
            "Test accuracy 0.697516918182373\n",
            "Test loss 1.0711007118225098\n"
          ]
        }
      ]
    },
    {
      "cell_type": "code",
      "source": [
        "plt.plot(history.history['acc'], label='train')\n",
        "plt.plot(history.history['val_acc'], label='test')\n",
        "plt.legend();"
      ],
      "metadata": {
        "colab": {
          "base_uri": "https://localhost:8080/",
          "height": 265
        },
        "id": "qS3hSLpYWYAa",
        "outputId": "f09baf9e-df2f-4028-ef82-034e0226d39a"
      },
      "execution_count": 34,
      "outputs": [
        {
          "output_type": "display_data",
          "data": {
            "text/plain": [
              "<Figure size 432x288 with 1 Axes>"
            ],
            "image/png": "[encoded data removed]"
          },
          "metadata": {
            "needs_background": "light"
          }
        }
      ]
    },
    {
      "cell_type": "markdown",
      "source": [
        "## Training the model on entire data"
      ],
      "metadata": {
        "id": "quT1aOWLWaS0"
      }
    },
    {
      "cell_type": "code",
      "source": [
        "X_train_all,y_train_all= data_prep(X_train_valid,y_train_valid,2,2,True)"
      ],
      "metadata": {
        "id": "CymOAvmyeko3",
        "outputId": "66324a79-5bc7-4d61-d9a4-05ae3dd24b6f",
        "colab": {
          "base_uri": "https://localhost:8080/"
        }
      },
      "execution_count": 15,
      "outputs": [
        {
          "output_type": "stream",
          "name": "stdout",
          "text": [
            "Shape of X after trimming: (2115, 22, 500)\n",
            "Shape of X after maxpooling: (2115, 22, 250)\n",
            "Shape of X after averaging+noise and concatenating: (4230, 22, 250)\n",
            "Shape of X after subsampling and concatenating: (8460, 22, 250)\n"
          ]
        }
      ]
    },
    {
      "cell_type": "code",
      "source": [
        "y_train_all = keras.utils.to_categorical(y_train_all, num_classes)"
      ],
      "metadata": {
        "id": "d-xe5hCKexlM"
      },
      "execution_count": 16,
      "outputs": []
    },
    {
      "cell_type": "code",
      "source": [
        "opt = keras.optimizers.Adam(learning_rate=0.00005)"
      ],
      "metadata": {
        "id": "fbNufw_96wwT"
      },
      "execution_count": 35,
      "outputs": []
    },
    {
      "cell_type": "code",
      "source": [
        "model.compile(loss='categorical_crossentropy', optimizer=opt, metrics=['acc'])\n",
        "history = model.fit(X_train_all, y_train_all, batch_size=64, epochs=100)"
      ],
      "metadata": {
        "id": "B6E65haLe7VH",
        "outputId": "6179d685-0ed7-4d1c-8427-af56cf2f359d",
        "colab": {
          "base_uri": "https://localhost:8080/"
        }
      },
      "execution_count": 36,
      "outputs": [
        {
          "output_type": "stream",
          "name": "stdout",
          "text": [
            "Epoch 1/100\n",
            "133/133 [==============================] - 7s 26ms/step - loss: 0.1677 - acc: 0.9404\n",
            "Epoch 2/100\n",
            "133/133 [==============================] - 4s 26ms/step - loss: 0.1496 - acc: 0.9437\n",
            "Epoch 3/100\n",
            "133/133 [==============================] - 4s 26ms/step - loss: 0.1545 - acc: 0.9436\n",
            "Epoch 4/100\n",
            "133/133 [==============================] - 4s 26ms/step - loss: 0.1553 - acc: 0.9427\n",
            "Epoch 5/100\n",
            "133/133 [==============================] - 4s 26ms/step - loss: 0.1561 - acc: 0.9423\n",
            "Epoch 6/100\n",
            "133/133 [==============================] - 4s 26ms/step - loss: 0.1597 - acc: 0.9410\n",
            "Epoch 7/100\n",
            "133/133 [==============================] - 4s 27ms/step - loss: 0.1606 - acc: 0.9382\n",
            "Epoch 8/100\n",
            "133/133 [==============================] - 4s 27ms/step - loss: 0.1530 - acc: 0.9452\n",
            "Epoch 9/100\n",
            "133/133 [==============================] - 4s 26ms/step - loss: 0.1554 - acc: 0.9420\n",
            "Epoch 10/100\n",
            "133/133 [==============================] - 4s 27ms/step - loss: 0.1582 - acc: 0.9410\n",
            "Epoch 11/100\n",
            "133/133 [==============================] - 4s 26ms/step - loss: 0.1673 - acc: 0.9421\n",
            "Epoch 12/100\n",
            "133/133 [==============================] - 4s 27ms/step - loss: 0.1520 - acc: 0.9449\n",
            "Epoch 13/100\n",
            "133/133 [==============================] - 4s 26ms/step - loss: 0.1505 - acc: 0.9427\n",
            "Epoch 14/100\n",
            "133/133 [==============================] - 4s 26ms/step - loss: 0.1456 - acc: 0.9468\n",
            "Epoch 15/100\n",
            "133/133 [==============================] - 4s 27ms/step - loss: 0.1547 - acc: 0.9436\n",
            "Epoch 16/100\n",
            "133/133 [==============================] - 4s 27ms/step - loss: 0.1607 - acc: 0.9416\n",
            "Epoch 17/100\n",
            "133/133 [==============================] - 3s 26ms/step - loss: 0.1518 - acc: 0.9460\n",
            "Epoch 18/100\n",
            "133/133 [==============================] - 4s 26ms/step - loss: 0.1522 - acc: 0.9453\n",
            "Epoch 19/100\n",
            "133/133 [==============================] - 4s 26ms/step - loss: 0.1489 - acc: 0.9440\n",
            "Epoch 20/100\n",
            "133/133 [==============================] - 4s 26ms/step - loss: 0.1534 - acc: 0.9467\n",
            "Epoch 21/100\n",
            "133/133 [==============================] - 4s 27ms/step - loss: 0.1613 - acc: 0.9392\n",
            "Epoch 22/100\n",
            "133/133 [==============================] - 4s 27ms/step - loss: 0.1575 - acc: 0.9431\n",
            "Epoch 23/100\n",
            "133/133 [==============================] - 4s 26ms/step - loss: 0.1558 - acc: 0.9441\n",
            "Epoch 24/100\n",
            "133/133 [==============================] - 3s 26ms/step - loss: 0.1504 - acc: 0.9469\n",
            "Epoch 25/100\n",
            "133/133 [==============================] - 4s 26ms/step - loss: 0.1606 - acc: 0.9410\n",
            "Epoch 26/100\n",
            "133/133 [==============================] - 4s 26ms/step - loss: 0.1537 - acc: 0.9440\n",
            "Epoch 27/100\n",
            "133/133 [==============================] - 4s 26ms/step - loss: 0.1583 - acc: 0.9417\n",
            "Epoch 28/100\n",
            "133/133 [==============================] - 4s 26ms/step - loss: 0.1502 - acc: 0.9436\n",
            "Epoch 29/100\n",
            "133/133 [==============================] - 4s 27ms/step - loss: 0.1606 - acc: 0.9429\n",
            "Epoch 30/100\n",
            "133/133 [==============================] - 4s 27ms/step - loss: 0.1435 - acc: 0.9461\n",
            "Epoch 31/100\n",
            "133/133 [==============================] - 4s 27ms/step - loss: 0.1634 - acc: 0.9407\n",
            "Epoch 32/100\n",
            "133/133 [==============================] - 4s 26ms/step - loss: 0.1404 - acc: 0.9498\n",
            "Epoch 33/100\n",
            "133/133 [==============================] - 4s 26ms/step - loss: 0.1465 - acc: 0.9487\n",
            "Epoch 34/100\n",
            "133/133 [==============================] - 4s 26ms/step - loss: 0.1475 - acc: 0.9465\n",
            "Epoch 35/100\n",
            "133/133 [==============================] - 3s 26ms/step - loss: 0.1499 - acc: 0.9462\n",
            "Epoch 36/100\n",
            "133/133 [==============================] - 4s 26ms/step - loss: 0.1523 - acc: 0.9455\n",
            "Epoch 37/100\n",
            "133/133 [==============================] - 4s 27ms/step - loss: 0.1532 - acc: 0.9453\n",
            "Epoch 38/100\n",
            "133/133 [==============================] - 3s 26ms/step - loss: 0.1588 - acc: 0.9435\n",
            "Epoch 39/100\n",
            "133/133 [==============================] - 3s 26ms/step - loss: 0.1475 - acc: 0.9487\n",
            "Epoch 40/100\n",
            "133/133 [==============================] - 3s 26ms/step - loss: 0.1548 - acc: 0.9422\n",
            "Epoch 41/100\n",
            "133/133 [==============================] - 4s 27ms/step - loss: 0.1527 - acc: 0.9469\n",
            "Epoch 42/100\n",
            "133/133 [==============================] - 4s 27ms/step - loss: 0.1479 - acc: 0.9439\n",
            "Epoch 43/100\n",
            "133/133 [==============================] - 4s 26ms/step - loss: 0.1542 - acc: 0.9422\n",
            "Epoch 44/100\n",
            "133/133 [==============================] - 4s 27ms/step - loss: 0.1548 - acc: 0.9414\n",
            "Epoch 45/100\n",
            "133/133 [==============================] - 4s 27ms/step - loss: 0.1453 - acc: 0.9468\n",
            "Epoch 46/100\n",
            "133/133 [==============================] - 4s 27ms/step - loss: 0.1655 - acc: 0.9395\n",
            "Epoch 47/100\n",
            "133/133 [==============================] - 4s 27ms/step - loss: 0.1507 - acc: 0.9466\n",
            "Epoch 48/100\n",
            "133/133 [==============================] - 4s 26ms/step - loss: 0.1540 - acc: 0.9444\n",
            "Epoch 49/100\n",
            "133/133 [==============================] - 4s 26ms/step - loss: 0.1587 - acc: 0.9418\n",
            "Epoch 50/100\n",
            "133/133 [==============================] - 3s 26ms/step - loss: 0.1565 - acc: 0.9434\n",
            "Epoch 51/100\n",
            "133/133 [==============================] - 3s 26ms/step - loss: 0.1521 - acc: 0.9463\n",
            "Epoch 52/100\n",
            "133/133 [==============================] - 3s 26ms/step - loss: 0.1488 - acc: 0.9465\n",
            "Epoch 53/100\n",
            "133/133 [==============================] - 3s 26ms/step - loss: 0.1560 - acc: 0.9428\n",
            "Epoch 54/100\n",
            "133/133 [==============================] - 3s 26ms/step - loss: 0.1553 - acc: 0.9433\n",
            "Epoch 55/100\n",
            "133/133 [==============================] - 3s 26ms/step - loss: 0.1576 - acc: 0.9426\n",
            "Epoch 56/100\n",
            "133/133 [==============================] - 4s 27ms/step - loss: 0.1569 - acc: 0.9431\n",
            "Epoch 57/100\n",
            "133/133 [==============================] - 4s 26ms/step - loss: 0.1572 - acc: 0.9420\n",
            "Epoch 58/100\n",
            "133/133 [==============================] - 4s 27ms/step - loss: 0.1568 - acc: 0.9418\n",
            "Epoch 59/100\n",
            "133/133 [==============================] - 4s 26ms/step - loss: 0.1573 - acc: 0.9423\n",
            "Epoch 60/100\n",
            "133/133 [==============================] - 3s 26ms/step - loss: 0.1717 - acc: 0.9396\n",
            "Epoch 61/100\n",
            "133/133 [==============================] - 4s 27ms/step - loss: 0.1559 - acc: 0.9423\n",
            "Epoch 62/100\n",
            "133/133 [==============================] - 3s 26ms/step - loss: 0.1517 - acc: 0.9452\n",
            "Epoch 63/100\n",
            "133/133 [==============================] - 3s 26ms/step - loss: 0.1468 - acc: 0.9435\n",
            "Epoch 64/100\n",
            "133/133 [==============================] - 4s 26ms/step - loss: 0.1517 - acc: 0.9455\n",
            "Epoch 65/100\n",
            "133/133 [==============================] - 3s 26ms/step - loss: 0.1478 - acc: 0.9465\n",
            "Epoch 66/100\n",
            "133/133 [==============================] - 4s 27ms/step - loss: 0.1512 - acc: 0.9476\n",
            "Epoch 67/100\n",
            "133/133 [==============================] - 4s 27ms/step - loss: 0.1619 - acc: 0.9428\n",
            "Epoch 68/100\n",
            "133/133 [==============================] - 4s 26ms/step - loss: 0.1495 - acc: 0.9447\n",
            "Epoch 69/100\n",
            "133/133 [==============================] - 4s 27ms/step - loss: 0.1501 - acc: 0.9456\n",
            "Epoch 70/100\n",
            "133/133 [==============================] - 4s 26ms/step - loss: 0.1530 - acc: 0.9429\n",
            "Epoch 71/100\n",
            "133/133 [==============================] - 3s 26ms/step - loss: 0.1641 - acc: 0.9403\n",
            "Epoch 72/100\n",
            "133/133 [==============================] - 4s 27ms/step - loss: 0.1442 - acc: 0.9453\n",
            "Epoch 73/100\n",
            "133/133 [==============================] - 4s 27ms/step - loss: 0.1549 - acc: 0.9442\n",
            "Epoch 74/100\n",
            "133/133 [==============================] - 4s 26ms/step - loss: 0.1571 - acc: 0.9402\n",
            "Epoch 75/100\n",
            "133/133 [==============================] - 4s 26ms/step - loss: 0.1591 - acc: 0.9440\n",
            "Epoch 76/100\n",
            "133/133 [==============================] - 4s 26ms/step - loss: 0.1464 - acc: 0.9474\n",
            "Epoch 77/100\n",
            "133/133 [==============================] - 3s 26ms/step - loss: 0.1524 - acc: 0.9468\n",
            "Epoch 78/100\n",
            "133/133 [==============================] - 3s 26ms/step - loss: 0.1522 - acc: 0.9443\n",
            "Epoch 79/100\n",
            "133/133 [==============================] - 4s 27ms/step - loss: 0.1521 - acc: 0.9444\n",
            "Epoch 80/100\n",
            "133/133 [==============================] - 4s 27ms/step - loss: 0.1594 - acc: 0.9437\n",
            "Epoch 81/100\n",
            "133/133 [==============================] - 4s 27ms/step - loss: 0.1614 - acc: 0.9424\n",
            "Epoch 82/100\n",
            "133/133 [==============================] - 4s 26ms/step - loss: 0.1573 - acc: 0.9430\n",
            "Epoch 83/100\n",
            "133/133 [==============================] - 4s 27ms/step - loss: 0.1526 - acc: 0.9408\n",
            "Epoch 84/100\n",
            "133/133 [==============================] - 4s 26ms/step - loss: 0.1534 - acc: 0.9443\n",
            "Epoch 85/100\n",
            "133/133 [==============================] - 4s 26ms/step - loss: 0.1509 - acc: 0.9469\n",
            "Epoch 86/100\n",
            "133/133 [==============================] - 3s 26ms/step - loss: 0.1534 - acc: 0.9427\n",
            "Epoch 87/100\n",
            "133/133 [==============================] - 3s 26ms/step - loss: 0.1444 - acc: 0.9468\n",
            "Epoch 88/100\n",
            "133/133 [==============================] - 3s 26ms/step - loss: 0.1538 - acc: 0.9442\n",
            "Epoch 89/100\n",
            "133/133 [==============================] - 3s 26ms/step - loss: 0.1587 - acc: 0.9424\n",
            "Epoch 90/100\n",
            "133/133 [==============================] - 4s 27ms/step - loss: 0.1498 - acc: 0.9475\n",
            "Epoch 91/100\n",
            "133/133 [==============================] - 3s 26ms/step - loss: 0.1600 - acc: 0.9408\n",
            "Epoch 92/100\n",
            "133/133 [==============================] - 3s 26ms/step - loss: 0.1493 - acc: 0.9441\n",
            "Epoch 93/100\n",
            "133/133 [==============================] - 4s 26ms/step - loss: 0.1508 - acc: 0.9433\n",
            "Epoch 94/100\n",
            "133/133 [==============================] - 3s 26ms/step - loss: 0.1490 - acc: 0.9447\n",
            "Epoch 95/100\n",
            "133/133 [==============================] - 3s 26ms/step - loss: 0.1516 - acc: 0.9459\n",
            "Epoch 96/100\n",
            "133/133 [==============================] - 3s 26ms/step - loss: 0.1590 - acc: 0.9442\n",
            "Epoch 97/100\n",
            "133/133 [==============================] - 4s 26ms/step - loss: 0.1552 - acc: 0.9428\n",
            "Epoch 98/100\n",
            "133/133 [==============================] - 3s 26ms/step - loss: 0.1478 - acc: 0.9469\n",
            "Epoch 99/100\n",
            "133/133 [==============================] - 3s 26ms/step - loss: 0.1557 - acc: 0.9440\n",
            "Epoch 100/100\n",
            "133/133 [==============================] - 3s 26ms/step - loss: 0.1523 - acc: 0.9427\n"
          ]
        }
      ]
    },
    {
      "cell_type": "code",
      "source": [
        "y_test = keras.utils.to_categorical(y_test, num_classes)"
      ],
      "metadata": {
        "id": "SXr2-Xr1zDMU"
      },
      "execution_count": 25,
      "outputs": []
    },
    {
      "cell_type": "code",
      "source": [
        "test_loss, test_acc = model.evaluate(X_test, y_test)\n",
        "\n",
        "print(\"Test accuracy\", test_acc)\n",
        "print(\"Test loss\", test_loss)\n"
      ],
      "metadata": {
        "id": "O2GM7stifF3f",
        "outputId": "3e824985-39ff-4d9b-80f7-252f8ad427e7",
        "colab": {
          "base_uri": "https://localhost:8080/"
        }
      },
      "execution_count": 37,
      "outputs": [
        {
          "output_type": "stream",
          "name": "stdout",
          "text": [
            "14/14 [==============================] - 1s 10ms/step - loss: 1.0725 - acc: 0.7427\n",
            "Test accuracy 0.7426636815071106\n",
            "Test loss 1.072490930557251\n"
          ]
        }
      ]
    },
    {
      "cell_type": "code",
      "source": [
        ""
      ],
      "metadata": {
        "id": "APhnh7owuZGx"
      },
      "execution_count": null,
      "outputs": []
    }
  ]
}