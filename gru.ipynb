{
  "nbformat": 4,
  "nbformat_minor": 0,
  "metadata": {
    "colab": {
      "name": "gru.ipynb",
      "provenance": [],
      "include_colab_link": true
    },
    "kernelspec": {
      "name": "python3",
      "display_name": "Python 3"
    },
    "language_info": {
      "name": "python"
    },
    "accelerator": "GPU"
  },
  "cells": [
    {
      "cell_type": "markdown",
      "metadata": {
        "id": "view-in-github",
        "colab_type": "text"
      },
      "source": [
        "<a href=\"https://colab.research.google.com/github/shreyasrajesh0308/NNDL-proj/blob/main/gru.ipynb\" target=\"_parent\"><img src=\"https://colab.research.google.com/assets/colab-badge.svg\" alt=\"Open In Colab\"/></a>"
      ]
    },
    {
      "cell_type": "markdown",
      "source": [
        "### LSTM experiments \n",
        "\n",
        "# Running experiments on the BCI data with baseline LSTMs."
      ],
      "metadata": {
        "id": "ciVXLkUjAR4X"
      }
    },
    {
      "cell_type": "markdown",
      "source": [
        "Model Paper: "
      ],
      "metadata": {
        "id": "Wy-ORg0nyKtV"
      }
    },
    {
      "cell_type": "markdown",
      "source": [
        "### Load Data \n",
        "\n",
        "Load preprocessed data"
      ],
      "metadata": {
        "id": "5Fl4uJtrAqU0"
      }
    },
    {
      "cell_type": "code",
      "source": [
        "from google.colab import drive\n",
        "drive.mount('/content/drive')"
      ],
      "metadata": {
        "colab": {
          "base_uri": "https://localhost:8080/"
        },
        "id": "Scu17GL9A7i5",
        "outputId": "029cca7f-ea3c-499d-ccd6-40c1e14461c6"
      },
      "execution_count": null,
      "outputs": [
        {
          "output_type": "stream",
          "name": "stdout",
          "text": [
            "Drive already mounted at /content/drive; to attempt to forcibly remount, call drive.mount(\"/content/drive\", force_remount=True).\n"
          ]
        }
      ]
    },
    {
      "cell_type": "code",
      "source": [
        "import numpy as np\n",
        "from tensorflow import keras\n",
        "from tensorflow.keras import layers\n",
        "from matplotlib import pyplot as plt"
      ],
      "metadata": {
        "id": "2gXQ7pXTIqqT"
      },
      "execution_count": null,
      "outputs": []
    },
    {
      "cell_type": "code",
      "source": [
        "\n",
        "X_test = np.load(\"/content/drive/MyDrive/eeg_project/X_test.npy\")\n",
        "y_test = np.load(\"/content/drive/MyDrive/eeg_project/y_test.npy\")\n",
        "person_train_valid = np.load(\"/content/drive/MyDrive/eeg_project/person_train_valid.npy\")\n",
        "X_train_valid = np.load(\"/content/drive/MyDrive/eeg_project/X_train_valid.npy\")\n",
        "y_train_valid = np.load(\"/content/drive/MyDrive/eeg_project/y_train_valid.npy\")\n",
        "person_test = np.load(\"/content/drive/MyDrive/eeg_project/person_test.npy\")\n"
      ],
      "metadata": {
        "id": "foTd2q3JIreb"
      },
      "execution_count": null,
      "outputs": []
    },
    {
      "cell_type": "code",
      "source": [
        "print ('Training/Valid data shape: {}'.format(X_train_valid.shape))\n",
        "print ('Test data shape: {}'.format(X_test.shape))\n",
        "print ('Training/Valid target shape: {}'.format(y_train_valid.shape))\n",
        "print ('Test target shape: {}'.format(y_test.shape))\n",
        "print ('Person train/valid shape: {}'.format(person_train_valid.shape))\n",
        "print ('Person test shape: {}'.format(person_test.shape))\n"
      ],
      "metadata": {
        "id": "g6VAQSVEUtIW",
        "colab": {
          "base_uri": "https://localhost:8080/"
        },
        "outputId": "d373f1b0-bb0b-4484-cac0-30ce400be3de"
      },
      "execution_count": null,
      "outputs": [
        {
          "output_type": "stream",
          "name": "stdout",
          "text": [
            "Training/Valid data shape: (2115, 22, 1000)\n",
            "Test data shape: (443, 22, 1000)\n",
            "Training/Valid target shape: (2115,)\n",
            "Test target shape: (443,)\n",
            "Person train/valid shape: (2115, 1)\n",
            "Person test shape: (443, 1)\n"
          ]
        }
      ]
    },
    {
      "cell_type": "code",
      "source": [
        "print(np.unique(y_train_valid))\n",
        "print(np.unique(y_test))"
      ],
      "metadata": {
        "colab": {
          "base_uri": "https://localhost:8080/"
        },
        "id": "bhxR60r5IzuR",
        "outputId": "5856aa53-b448-4d2a-b845-57d9cdb916dd"
      },
      "execution_count": null,
      "outputs": [
        {
          "output_type": "stream",
          "name": "stdout",
          "text": [
            "[769 770 771 772]\n",
            "[769 770 771 772]\n"
          ]
        }
      ]
    },
    {
      "cell_type": "code",
      "source": [
        "num_classes = 4\n",
        "y_train_valid = y_train_valid-769\n",
        "y_test = y_test-769\n",
        "y_train_valid = keras.utils.to_categorical(y_train_valid, num_classes)\n",
        "y_test = keras.utils.to_categorical(y_test, num_classes)"
      ],
      "metadata": {
        "id": "U4K1wzmfI4Rb"
      },
      "execution_count": null,
      "outputs": []
    },
    {
      "cell_type": "markdown",
      "source": [
        "### Indices for subject one training "
      ],
      "metadata": {
        "id": "rB0uGJBGTiYq"
      }
    },
    {
      "cell_type": "code",
      "source": [
        "train_indeces = [ i for i in range(len(person_train_valid)) if person_train_valid[i]==0]\n",
        "X_train_subject_1 = X_train_valid[train_indeces]\n",
        "y_train_subject_1 = y_train_valid[train_indeces]"
      ],
      "metadata": {
        "id": "pDjVZpfUI7PF"
      },
      "execution_count": null,
      "outputs": []
    },
    {
      "cell_type": "markdown",
      "source": [
        "### Indices for subject one testing "
      ],
      "metadata": {
        "id": "koMcUkFOTesj"
      }
    },
    {
      "cell_type": "code",
      "source": [
        "test_indeces = [ i for i in range(len(person_test)) if person_test[i]==0]\n",
        "X_test_subject_1 = X_test[test_indeces]\n",
        "y_test_subject_1 = y_test[test_indeces]"
      ],
      "metadata": {
        "id": "P7CC1psJTrf5"
      },
      "execution_count": null,
      "outputs": []
    },
    {
      "cell_type": "code",
      "source": [
        "print(X_train_subject_1.shape)\n",
        "print(X_test_subject_1.shape)\n",
        "print(y_train_subject_1.shape)\n",
        "print(y_test_subject_1.shape)"
      ],
      "metadata": {
        "colab": {
          "base_uri": "https://localhost:8080/"
        },
        "id": "dIUjglhbKJBC",
        "outputId": "5f2d324a-1f15-4ca9-cefd-f2cd1d94ddcc"
      },
      "execution_count": null,
      "outputs": [
        {
          "output_type": "stream",
          "name": "stdout",
          "text": [
            "(237, 22, 1000)\n",
            "(50, 22, 1000)\n",
            "(237, 4)\n",
            "(50, 4)\n"
          ]
        }
      ]
    },
    {
      "cell_type": "code",
      "source": [
        "num_classes = len(np.unique(y_train_valid))"
      ],
      "metadata": {
        "id": "ZIY-P4plZt-C"
      },
      "execution_count": null,
      "outputs": []
    },
    {
      "cell_type": "code",
      "source": [
        "X_train_subject_1 = np.swapaxes(X_train_subject_1, 1, 2)\n",
        "X_test_subject_1 = np.swapaxes(X_test_subject_1, 1, 2)"
      ],
      "metadata": {
        "id": "BOTQGrhwb2jk"
      },
      "execution_count": null,
      "outputs": []
    },
    {
      "cell_type": "code",
      "source": [
        "X_train_subject_1.shape"
      ],
      "metadata": {
        "colab": {
          "base_uri": "https://localhost:8080/"
        },
        "id": "FvgAbYQZcVPS",
        "outputId": "1cb44953-1326-48a0-e85b-5cf07fc07a0a"
      },
      "execution_count": null,
      "outputs": [
        {
          "output_type": "execute_result",
          "data": {
            "text/plain": [
              "(237, 1000, 22)"
            ]
          },
          "metadata": {},
          "execution_count": 16
        }
      ]
    },
    {
      "cell_type": "code",
      "source": [
        "X_test_subject_1.shape"
      ],
      "metadata": {
        "colab": {
          "base_uri": "https://localhost:8080/"
        },
        "id": "haANS0J7ccg3",
        "outputId": "5c94533b-6034-49b4-fde9-0bc476a96d02"
      },
      "execution_count": null,
      "outputs": [
        {
          "output_type": "execute_result",
          "data": {
            "text/plain": [
              "(50, 1000, 22)"
            ]
          },
          "metadata": {},
          "execution_count": 17
        }
      ]
    },
    {
      "cell_type": "markdown",
      "source": [
        "## Building a baseline with an LSTM model, trained with one subject data"
      ],
      "metadata": {
        "id": "TIzySb9EHBgp"
      }
    },
    {
      "cell_type": "code",
      "source": [
        "print(X_train_subject_1.shape, y_train_subject_1.shape)"
      ],
      "metadata": {
        "colab": {
          "base_uri": "https://localhost:8080/"
        },
        "id": "OfQTGoX7y2yV",
        "outputId": "80d7c6ab-2f13-44f9-f32d-c7e4bde0abfb"
      },
      "execution_count": null,
      "outputs": [
        {
          "output_type": "stream",
          "name": "stdout",
          "text": [
            "(237, 1000, 22) (237, 4)\n"
          ]
        }
      ]
    },
    {
      "cell_type": "code",
      "source": [
        "model = keras.Sequential()\n",
        "model.add(\n",
        "    keras.layers.Bidirectional(\n",
        "      layers.GRU(512)\n",
        "    )\n",
        ")\n",
        "model.add(keras.layers.Dropout(rate=0.7))\n",
        "model.add(keras.layers.Dense(units=4096, activation='relu'))\n",
        "model.add(keras.layers.Dense(y_train_subject_1.shape[1], activation='softmax'))\n",
        "model.compile(loss='categorical_crossentropy', optimizer='adam', metrics=['acc'])"
      ],
      "metadata": {
        "id": "9Y0OONf_Dvr7"
      },
      "execution_count": null,
      "outputs": []
    },
    {
      "cell_type": "code",
      "source": [
        "model.summary()"
      ],
      "metadata": {
        "colab": {
          "base_uri": "https://localhost:8080/"
        },
        "id": "fS2-6AlwOMsq",
        "outputId": "1dbfa446-ac1d-4c3b-fc4f-1d97951a05dc"
      },
      "execution_count": null,
      "outputs": [
        {
          "output_type": "stream",
          "name": "stdout",
          "text": [
            "Model: \"sequential_15\"\n",
            "_________________________________________________________________\n",
            " Layer (type)                Output Shape              Param #   \n",
            "=================================================================\n",
            " bidirectional_15 (Bidirecti  (None, 1024)             1646592   \n",
            " onal)                                                           \n",
            "                                                                 \n",
            " dropout_15 (Dropout)        (None, 1024)              0         \n",
            "                                                                 \n",
            " dense_30 (Dense)            (None, 4096)              4198400   \n",
            "                                                                 \n",
            " dense_31 (Dense)            (None, 4)                 16388     \n",
            "                                                                 \n",
            "=================================================================\n",
            "Total params: 5,861,380\n",
            "Trainable params: 5,861,380\n",
            "Non-trainable params: 0\n",
            "_________________________________________________________________\n"
          ]
        }
      ]
    },
    {
      "cell_type": "code",
      "source": [
        "history = model.fit(\n",
        "    X_train_subject_1, y_train_subject_1,\n",
        "    epochs=20,\n",
        "    batch_size=64,\n",
        "    validation_split=0.1,\n",
        "    shuffle=True\n",
        ")"
      ],
      "metadata": {
        "colab": {
          "base_uri": "https://localhost:8080/"
        },
        "id": "BGijySQYzFff",
        "outputId": "b81ac38e-be4e-4ee7-b865-d0fd0800294a"
      },
      "execution_count": null,
      "outputs": [
        {
          "output_type": "stream",
          "name": "stdout",
          "text": [
            "Epoch 1/20\n",
            "4/4 [==============================] - 5s 465ms/step - loss: 2.8025 - acc: 0.2347 - val_loss: 3.1596 - val_acc: 0.2500\n",
            "Epoch 2/20\n",
            "4/4 [==============================] - 1s 273ms/step - loss: 2.3859 - acc: 0.3333 - val_loss: 2.7915 - val_acc: 0.2500\n",
            "Epoch 3/20\n",
            "4/4 [==============================] - 1s 270ms/step - loss: 1.9328 - acc: 0.4554 - val_loss: 2.7928 - val_acc: 0.2917\n",
            "Epoch 4/20\n",
            "4/4 [==============================] - 1s 270ms/step - loss: 1.9750 - acc: 0.4319 - val_loss: 2.3347 - val_acc: 0.2917\n",
            "Epoch 5/20\n",
            "4/4 [==============================] - 1s 272ms/step - loss: 1.8234 - acc: 0.4836 - val_loss: 2.7275 - val_acc: 0.2500\n",
            "Epoch 6/20\n",
            "4/4 [==============================] - 1s 268ms/step - loss: 1.4278 - acc: 0.5211 - val_loss: 2.7590 - val_acc: 0.1667\n",
            "Epoch 7/20\n",
            "4/4 [==============================] - 1s 271ms/step - loss: 1.3053 - acc: 0.5352 - val_loss: 2.7625 - val_acc: 0.2917\n",
            "Epoch 8/20\n",
            "4/4 [==============================] - 1s 272ms/step - loss: 1.1462 - acc: 0.6009 - val_loss: 2.9487 - val_acc: 0.2083\n",
            "Epoch 9/20\n",
            "4/4 [==============================] - 1s 273ms/step - loss: 1.2279 - acc: 0.5728 - val_loss: 3.2896 - val_acc: 0.2083\n",
            "Epoch 10/20\n",
            "4/4 [==============================] - 1s 272ms/step - loss: 0.9598 - acc: 0.6385 - val_loss: 3.5098 - val_acc: 0.1667\n",
            "Epoch 11/20\n",
            "4/4 [==============================] - 1s 275ms/step - loss: 0.7943 - acc: 0.7371 - val_loss: 2.8981 - val_acc: 0.2917\n",
            "Epoch 12/20\n",
            "4/4 [==============================] - 1s 273ms/step - loss: 0.8906 - acc: 0.6620 - val_loss: 2.9516 - val_acc: 0.2083\n",
            "Epoch 13/20\n",
            "4/4 [==============================] - 1s 275ms/step - loss: 0.5589 - acc: 0.7934 - val_loss: 3.1153 - val_acc: 0.1667\n",
            "Epoch 14/20\n",
            "4/4 [==============================] - 1s 274ms/step - loss: 0.8082 - acc: 0.7324 - val_loss: 2.4769 - val_acc: 0.2917\n",
            "Epoch 15/20\n",
            "4/4 [==============================] - 1s 276ms/step - loss: 0.6792 - acc: 0.7371 - val_loss: 2.4461 - val_acc: 0.2917\n",
            "Epoch 16/20\n",
            "4/4 [==============================] - 1s 274ms/step - loss: 0.6458 - acc: 0.7512 - val_loss: 2.9562 - val_acc: 0.1667\n",
            "Epoch 17/20\n",
            "4/4 [==============================] - 1s 275ms/step - loss: 0.6028 - acc: 0.8075 - val_loss: 3.1114 - val_acc: 0.2083\n",
            "Epoch 18/20\n",
            "4/4 [==============================] - 1s 273ms/step - loss: 0.4691 - acc: 0.8310 - val_loss: 3.3902 - val_acc: 0.2917\n",
            "Epoch 19/20\n",
            "4/4 [==============================] - 1s 278ms/step - loss: 0.4563 - acc: 0.8404 - val_loss: 3.3694 - val_acc: 0.2500\n",
            "Epoch 20/20\n",
            "4/4 [==============================] - 1s 273ms/step - loss: 0.4372 - acc: 0.8451 - val_loss: 3.3654 - val_acc: 0.1667\n"
          ]
        }
      ]
    },
    {
      "cell_type": "code",
      "source": [
        "plt.plot(history.history['loss'], label='train')\n",
        "plt.plot(history.history['val_loss'], label='test')\n",
        "plt.legend();"
      ],
      "metadata": {
        "colab": {
          "base_uri": "https://localhost:8080/",
          "height": 265
        },
        "id": "jcw-9GEqzKJO",
        "outputId": "490a0a0f-1994-4fe3-9d46-daad20b23011"
      },
      "execution_count": null,
      "outputs": [
        {
          "output_type": "display_data",
          "data": {
            "image/png": "[encoded data removed]",
            "text/plain": [
              "<Figure size 432x288 with 1 Axes>"
            ]
          },
          "metadata": {
            "needs_background": "light"
          }
        }
      ]
    },
    {
      "cell_type": "code",
      "source": [
        "model.evaluate(X_test_subject_1, y_test_subject_1)"
      ],
      "metadata": {
        "colab": {
          "base_uri": "https://localhost:8080/"
        },
        "id": "GQnqXXHjzXd1",
        "outputId": "b4a38bbd-8948-4def-8c0b-91f097f71b9a"
      },
      "execution_count": null,
      "outputs": [
        {
          "output_type": "stream",
          "name": "stdout",
          "text": [
            "2/2 [==============================] - 0s 133ms/step - loss: 2.3842 - acc: 0.3000\n"
          ]
        },
        {
          "output_type": "execute_result",
          "data": {
            "text/plain": [
              "[2.3841753005981445, 0.30000001192092896]"
            ]
          },
          "metadata": {},
          "execution_count": 72
        }
      ]
    },
    {
      "cell_type": "code",
      "source": [
        ""
      ],
      "metadata": {
        "id": "2llzSgdXzgUz"
      },
      "execution_count": null,
      "outputs": []
    }
  ]
}