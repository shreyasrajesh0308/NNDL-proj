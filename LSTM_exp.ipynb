{
  "nbformat": 4,
  "nbformat_minor": 0,
  "metadata": {
    "colab": {
      "name": "LSTM_exp.ipynb",
      "provenance": [],
      "authorship_tag": "ABX9TyOl0LwxlYPq4xQiIX9OW5DL",
      "include_colab_link": true
    },
    "kernelspec": {
      "name": "python3",
      "display_name": "Python 3"
    },
    "language_info": {
      "name": "python"
    },
    "accelerator": "GPU"
  },
  "cells": [
    {
      "cell_type": "markdown",
      "metadata": {
        "id": "view-in-github",
        "colab_type": "text"
      },
      "source": [
        "<a href=\"https://colab.research.google.com/github/shreyasrajesh0308/NNDL-proj/blob/main/LSTM_exp.ipynb\" target=\"_parent\"><img src=\"https://colab.research.google.com/assets/colab-badge.svg\" alt=\"Open In Colab\"/></a>"
      ]
    },
    {
      "cell_type": "markdown",
      "source": [
        "### LSTM experiments \n",
        "\n",
        "# Running experiments on the BCI data with baseline LSTMs."
      ],
      "metadata": {
        "id": "ciVXLkUjAR4X"
      }
    },
    {
      "cell_type": "markdown",
      "source": [
        "Model Paper: "
      ],
      "metadata": {
        "id": "Wy-ORg0nyKtV"
      }
    },
    {
      "cell_type": "markdown",
      "source": [
        "### Load Data \n",
        "\n",
        "Load preprocessed data"
      ],
      "metadata": {
        "id": "5Fl4uJtrAqU0"
      }
    },
    {
      "cell_type": "code",
      "source": [
        "from google.colab import drive\n",
        "drive.mount('/content/drive')"
      ],
      "metadata": {
        "colab": {
          "base_uri": "https://localhost:8080/"
        },
        "id": "Scu17GL9A7i5",
        "outputId": "68657b61-9bff-41ce-ba98-3025563f551f"
      },
      "execution_count": 1,
      "outputs": [
        {
          "output_type": "stream",
          "name": "stdout",
          "text": [
            "Mounted at /content/drive\n"
          ]
        }
      ]
    },
    {
      "cell_type": "code",
      "source": [
        "import numpy as np\n",
        "X_test = np.load(\"/content/drive/MyDrive/project_data/X_test.npy\")\n",
        "y_test = np.load(\"/content/drive/MyDrive/project_data/y_test.npy\")\n",
        "person_train_valid = np.load(\"/content/drive/MyDrive/project_data/person_train_valid.npy\")\n",
        "X_train_valid = np.load(\"/content/drive/MyDrive/project_data/X_train_valid.npy\")\n",
        "y_train_valid = np.load(\"/content/drive/MyDrive/project_data/y_train_valid.npy\")\n",
        "person_test = np.load(\"/content/drive/MyDrive/project_data/person_test.npy\")\n",
        "\n"
      ],
      "metadata": {
        "id": "t9eMyV5EDpad"
      },
      "execution_count": 2,
      "outputs": []
    },
    {
      "cell_type": "code",
      "source": [
        "def map_classes(y) :\n",
        "\n",
        "  for i in range(len(y)):\n",
        "\n",
        "    if y[i] == 769:\n",
        "      y[i] = 0\n",
        "    elif y[i] == 770:\n",
        "      y[i] = 1\n",
        "    elif y[i] == 771:\n",
        "      y[i] = 2\n",
        "    elif y[i] == 772:\n",
        "      y[i] = 3\n",
        "    else:\n",
        "      return None\n",
        "\n",
        "  return y"
      ],
      "metadata": {
        "id": "g6VAQSVEUtIW"
      },
      "execution_count": 3,
      "outputs": []
    },
    {
      "cell_type": "code",
      "source": [
        "y_train_valid = map_classes(y_train_valid)\n",
        "y_test = map_classes(y_test)"
      ],
      "metadata": {
        "id": "S_FYpw8MVhCX"
      },
      "execution_count": 4,
      "outputs": []
    },
    {
      "cell_type": "markdown",
      "source": [
        "### Indices for subject one training "
      ],
      "metadata": {
        "id": "rB0uGJBGTiYq"
      }
    },
    {
      "cell_type": "code",
      "source": [
        "train_indeces = [ i for i in range(len(person_train_valid)) if person_train_valid[i]==0]\n",
        "X_train_subject_1 = X_train_valid[train_indeces]\n",
        "y_train_subject_1 = y_train_valid[train_indeces]"
      ],
      "metadata": {
        "id": "pDjVZpfUI7PF"
      },
      "execution_count": 5,
      "outputs": []
    },
    {
      "cell_type": "markdown",
      "source": [
        "### Indices for subject one testing "
      ],
      "metadata": {
        "id": "koMcUkFOTesj"
      }
    },
    {
      "cell_type": "code",
      "source": [
        "test_indeces = [ i for i in range(len(person_test)) if person_test[i]==0]\n",
        "X_test_subject_1 = X_test[test_indeces]\n",
        "y_test_subject_1 = y_test[test_indeces]"
      ],
      "metadata": {
        "id": "P7CC1psJTrf5"
      },
      "execution_count": 6,
      "outputs": []
    },
    {
      "cell_type": "code",
      "source": [
        "num_classes = len(np.unique(y_train_valid))"
      ],
      "metadata": {
        "id": "ZIY-P4plZt-C"
      },
      "execution_count": 7,
      "outputs": []
    },
    {
      "cell_type": "code",
      "source": [
        "X_train_subject_1 = np.swapaxes(X_train_subject_1, 1, 2)\n",
        "X_test_subject_1 = np.swapaxes(X_test_subject_1, 1, 2)"
      ],
      "metadata": {
        "id": "BOTQGrhwb2jk"
      },
      "execution_count": 8,
      "outputs": []
    },
    {
      "cell_type": "code",
      "source": [
        "X_train_subject_1.shape"
      ],
      "metadata": {
        "colab": {
          "base_uri": "https://localhost:8080/"
        },
        "id": "FvgAbYQZcVPS",
        "outputId": "09f021ea-adab-40b8-cca4-d946f2a172ee"
      },
      "execution_count": 9,
      "outputs": [
        {
          "output_type": "execute_result",
          "data": {
            "text/plain": [
              "(237, 1000, 22)"
            ]
          },
          "metadata": {},
          "execution_count": 9
        }
      ]
    },
    {
      "cell_type": "code",
      "source": [
        "X_test_subject_1.shape"
      ],
      "metadata": {
        "colab": {
          "base_uri": "https://localhost:8080/"
        },
        "id": "haANS0J7ccg3",
        "outputId": "5a961d31-5920-4e7b-9b16-2d4c8604ffcf"
      },
      "execution_count": 10,
      "outputs": [
        {
          "output_type": "execute_result",
          "data": {
            "text/plain": [
              "(50, 1000, 22)"
            ]
          },
          "metadata": {},
          "execution_count": 10
        }
      ]
    },
    {
      "cell_type": "code",
      "source": [
        "y_train_subject_1 = y_train_subject_1.reshape(y_train_subject_1.shape[0], 1)"
      ],
      "metadata": {
        "id": "h3qM9GYmw2k8"
      },
      "execution_count": 11,
      "outputs": []
    },
    {
      "cell_type": "code",
      "source": [
        "y_test_subject_1 = y_test_subject_1.reshape(y_test_subject_1.shape[0], 1)"
      ],
      "metadata": {
        "id": "amv3JUQ6yf1N"
      },
      "execution_count": 12,
      "outputs": []
    },
    {
      "cell_type": "code",
      "source": [
        "y_train_subject_1.shape"
      ],
      "metadata": {
        "colab": {
          "base_uri": "https://localhost:8080/"
        },
        "id": "-jZCIcPzx5_R",
        "outputId": "9953ddb3-a67c-4b08-ff4d-0a6df3447d76"
      },
      "execution_count": 13,
      "outputs": [
        {
          "output_type": "execute_result",
          "data": {
            "text/plain": [
              "(237, 1)"
            ]
          },
          "metadata": {},
          "execution_count": 13
        }
      ]
    },
    {
      "cell_type": "markdown",
      "source": [
        "## Building a baseline with an LSTM model, trained with one subject data"
      ],
      "metadata": {
        "id": "TIzySb9EHBgp"
      }
    },
    {
      "cell_type": "code",
      "source": [
        "num_classes = len(np.unique(y_train_subject_1))"
      ],
      "metadata": {
        "id": "D_37-idXLNNy"
      },
      "execution_count": 24,
      "outputs": []
    },
    {
      "cell_type": "code",
      "source": [
        "from tensorflow import keras"
      ],
      "metadata": {
        "id": "XpI49OpRywZy"
      },
      "execution_count": 25,
      "outputs": []
    },
    {
      "cell_type": "code",
      "source": [
        "model = keras.Sequential()\n",
        "model.add(\n",
        "    keras.layers.Bidirectional(\n",
        "      keras.layers.LSTM(\n",
        "          units=128, \n",
        "          input_shape=[X_train_subject_1.shape[1], X_train_subject_1.shape[2]]\n",
        "      )\n",
        "    )\n",
        ")\n",
        "model.add(keras.layers.Dropout(rate=0.5))\n",
        "model.add(keras.layers.Dense(units=32, activation='relu'))\n",
        "model.add(keras.layers.Dense(num_classes, activation='softmax'))\n",
        "model.compile(\n",
        "    optimizer=\"adam\",\n",
        "    loss=\"sparse_categorical_crossentropy\",\n",
        "    metrics=[\"sparse_categorical_accuracy\"],\n",
        ")"
      ],
      "metadata": {
        "id": "9Y0OONf_Dvr7"
      },
      "execution_count": 26,
      "outputs": []
    },
    {
      "cell_type": "code",
      "source": [
        "callbacks = [\n",
        "    keras.callbacks.ModelCheckpoint(\n",
        "        \"best_model.h5\", save_best_only=True, monitor=\"val_loss\"\n",
        "    ),\n",
        "    keras.callbacks.ReduceLROnPlateau(\n",
        "        monitor=\"val_loss\", factor=0.5, patience=20, min_lr=0.0001\n",
        "    ),\n",
        "    keras.callbacks.EarlyStopping(monitor=\"val_loss\", patience=50, verbose=1),\n",
        "]\n"
      ],
      "metadata": {
        "id": "Oj-08OtD0ceN"
      },
      "execution_count": 27,
      "outputs": []
    },
    {
      "cell_type": "code",
      "source": [
        "history = model.fit(\n",
        "    X_train_subject_1,\n",
        "    y_train_subject_1,\n",
        "    batch_size=64,\n",
        "    epochs=150,\n",
        "    callbacks=callbacks,\n",
        "    validation_split=0.2,\n",
        "    verbose=1,\n",
        ")"
      ],
      "metadata": {
        "colab": {
          "base_uri": "https://localhost:8080/"
        },
        "id": "BGijySQYzFff",
        "outputId": "1ef50c2c-e03b-4bbf-bf2f-1ab295854e56"
      },
      "execution_count": null,
      "outputs": [
        {
          "output_type": "stream",
          "name": "stdout",
          "text": [
            "Epoch 1/150\n",
            "3/3 [==============================] - 5s 349ms/step - loss: 0.9855 - sparse_categorical_accuracy: 0.6243 - val_loss: 1.3905 - val_sparse_categorical_accuracy: 0.2500 - lr: 0.0010\n",
            "Epoch 2/150\n",
            "3/3 [==============================] - 1s 335ms/step - loss: 0.9388 - sparse_categorical_accuracy: 0.6825 - val_loss: 1.4007 - val_sparse_categorical_accuracy: 0.2500 - lr: 0.0010\n",
            "Epoch 3/150\n",
            "3/3 [==============================] - 1s 333ms/step - loss: 0.9731 - sparse_categorical_accuracy: 0.5926 - val_loss: 1.4035 - val_sparse_categorical_accuracy: 0.2500 - lr: 0.0010\n",
            "Epoch 4/150\n",
            "3/3 [==============================] - 1s 330ms/step - loss: 0.9481 - sparse_categorical_accuracy: 0.6614 - val_loss: 1.4105 - val_sparse_categorical_accuracy: 0.2292 - lr: 0.0010\n",
            "Epoch 5/150\n",
            "3/3 [==============================] - 1s 334ms/step - loss: 0.9481 - sparse_categorical_accuracy: 0.6508 - val_loss: 1.4168 - val_sparse_categorical_accuracy: 0.2500 - lr: 0.0010\n",
            "Epoch 6/150\n",
            "3/3 [==============================] - 1s 328ms/step - loss: 0.9338 - sparse_categorical_accuracy: 0.6349 - val_loss: 1.4192 - val_sparse_categorical_accuracy: 0.2292 - lr: 0.0010\n",
            "Epoch 7/150\n",
            "3/3 [==============================] - 1s 336ms/step - loss: 0.9343 - sparse_categorical_accuracy: 0.6349 - val_loss: 1.4200 - val_sparse_categorical_accuracy: 0.2292 - lr: 0.0010\n",
            "Epoch 8/150\n",
            "3/3 [==============================] - 1s 330ms/step - loss: 0.9083 - sparse_categorical_accuracy: 0.6667 - val_loss: 1.4258 - val_sparse_categorical_accuracy: 0.2292 - lr: 0.0010\n",
            "Epoch 9/150\n",
            "3/3 [==============================] - 1s 333ms/step - loss: 0.8537 - sparse_categorical_accuracy: 0.6931 - val_loss: 1.4254 - val_sparse_categorical_accuracy: 0.2500 - lr: 0.0010\n",
            "Epoch 10/150\n",
            "3/3 [==============================] - 1s 333ms/step - loss: 0.8540 - sparse_categorical_accuracy: 0.6772 - val_loss: 1.4247 - val_sparse_categorical_accuracy: 0.2500 - lr: 0.0010\n",
            "Epoch 11/150\n",
            "3/3 [==============================] - 1s 333ms/step - loss: 0.8224 - sparse_categorical_accuracy: 0.7090 - val_loss: 1.4248 - val_sparse_categorical_accuracy: 0.2500 - lr: 0.0010\n",
            "Epoch 12/150\n",
            "3/3 [==============================] - 1s 332ms/step - loss: 0.8773 - sparse_categorical_accuracy: 0.7037 - val_loss: 1.4280 - val_sparse_categorical_accuracy: 0.2500 - lr: 0.0010\n",
            "Epoch 13/150\n",
            "3/3 [==============================] - 1s 336ms/step - loss: 0.8738 - sparse_categorical_accuracy: 0.7037 - val_loss: 1.4387 - val_sparse_categorical_accuracy: 0.2500 - lr: 0.0010\n",
            "Epoch 14/150\n",
            "3/3 [==============================] - 1s 335ms/step - loss: 0.8844 - sparse_categorical_accuracy: 0.6508 - val_loss: 1.4365 - val_sparse_categorical_accuracy: 0.2500 - lr: 0.0010\n",
            "Epoch 15/150\n",
            "3/3 [==============================] - 1s 330ms/step - loss: 0.8324 - sparse_categorical_accuracy: 0.6825 - val_loss: 1.4303 - val_sparse_categorical_accuracy: 0.2292 - lr: 0.0010\n",
            "Epoch 16/150\n",
            "3/3 [==============================] - 1s 335ms/step - loss: 0.8058 - sparse_categorical_accuracy: 0.7249 - val_loss: 1.4173 - val_sparse_categorical_accuracy: 0.2292 - lr: 0.0010\n",
            "Epoch 17/150\n",
            "3/3 [==============================] - 1s 333ms/step - loss: 0.8661 - sparse_categorical_accuracy: 0.6931 - val_loss: 1.4135 - val_sparse_categorical_accuracy: 0.2292 - lr: 0.0010\n",
            "Epoch 18/150\n",
            "3/3 [==============================] - 1s 324ms/step - loss: 0.7529 - sparse_categorical_accuracy: 0.7354 - val_loss: 1.4143 - val_sparse_categorical_accuracy: 0.2708 - lr: 0.0010\n",
            "Epoch 19/150\n",
            "3/3 [==============================] - 1s 326ms/step - loss: 0.7405 - sparse_categorical_accuracy: 0.7460 - val_loss: 1.4152 - val_sparse_categorical_accuracy: 0.2917 - lr: 0.0010\n",
            "Epoch 20/150\n",
            "3/3 [==============================] - 1s 324ms/step - loss: 0.7670 - sparse_categorical_accuracy: 0.7302 - val_loss: 1.4149 - val_sparse_categorical_accuracy: 0.3125 - lr: 0.0010\n",
            "Epoch 21/150\n",
            "3/3 [==============================] - 1s 325ms/step - loss: 0.7294 - sparse_categorical_accuracy: 0.7884 - val_loss: 1.4234 - val_sparse_categorical_accuracy: 0.3125 - lr: 0.0010\n",
            "Epoch 22/150\n",
            "3/3 [==============================] - 1s 330ms/step - loss: 0.7593 - sparse_categorical_accuracy: 0.7037 - val_loss: 1.4267 - val_sparse_categorical_accuracy: 0.2917 - lr: 5.0000e-04\n",
            "Epoch 23/150\n",
            "3/3 [==============================] - 1s 325ms/step - loss: 0.7557 - sparse_categorical_accuracy: 0.7407 - val_loss: 1.4289 - val_sparse_categorical_accuracy: 0.2917 - lr: 5.0000e-04\n",
            "Epoch 24/150\n",
            "3/3 [==============================] - 1s 330ms/step - loss: 0.7059 - sparse_categorical_accuracy: 0.7619 - val_loss: 1.4337 - val_sparse_categorical_accuracy: 0.3125 - lr: 5.0000e-04\n",
            "Epoch 25/150\n",
            "3/3 [==============================] - 1s 324ms/step - loss: 0.6948 - sparse_categorical_accuracy: 0.7831 - val_loss: 1.4329 - val_sparse_categorical_accuracy: 0.3125 - lr: 5.0000e-04\n",
            "Epoch 26/150\n",
            "3/3 [==============================] - 1s 326ms/step - loss: 0.6933 - sparse_categorical_accuracy: 0.7831 - val_loss: 1.4324 - val_sparse_categorical_accuracy: 0.2917 - lr: 5.0000e-04\n",
            "Epoch 27/150\n",
            "3/3 [==============================] - 1s 327ms/step - loss: 0.6808 - sparse_categorical_accuracy: 0.7619 - val_loss: 1.4282 - val_sparse_categorical_accuracy: 0.2917 - lr: 5.0000e-04\n",
            "Epoch 28/150\n",
            "3/3 [==============================] - 1s 327ms/step - loss: 0.7112 - sparse_categorical_accuracy: 0.7672 - val_loss: 1.4257 - val_sparse_categorical_accuracy: 0.2708 - lr: 5.0000e-04\n",
            "Epoch 29/150\n",
            "3/3 [==============================] - 1s 327ms/step - loss: 0.6803 - sparse_categorical_accuracy: 0.7619 - val_loss: 1.4237 - val_sparse_categorical_accuracy: 0.3125 - lr: 5.0000e-04\n",
            "Epoch 30/150\n",
            "3/3 [==============================] - 1s 324ms/step - loss: 0.6978 - sparse_categorical_accuracy: 0.7407 - val_loss: 1.4237 - val_sparse_categorical_accuracy: 0.2917 - lr: 5.0000e-04\n",
            "Epoch 31/150\n",
            "3/3 [==============================] - 1s 325ms/step - loss: 0.6978 - sparse_categorical_accuracy: 0.7302 - val_loss: 1.4227 - val_sparse_categorical_accuracy: 0.2917 - lr: 5.0000e-04\n",
            "Epoch 32/150\n",
            "3/3 [==============================] - 1s 335ms/step - loss: 0.6593 - sparse_categorical_accuracy: 0.7937 - val_loss: 1.4194 - val_sparse_categorical_accuracy: 0.2917 - lr: 5.0000e-04\n",
            "Epoch 33/150\n",
            "3/3 [==============================] - 1s 329ms/step - loss: 0.6977 - sparse_categorical_accuracy: 0.7672 - val_loss: 1.4169 - val_sparse_categorical_accuracy: 0.2917 - lr: 5.0000e-04\n",
            "Epoch 34/150\n",
            "3/3 [==============================] - 1s 329ms/step - loss: 0.7286 - sparse_categorical_accuracy: 0.7407 - val_loss: 1.4207 - val_sparse_categorical_accuracy: 0.2917 - lr: 5.0000e-04\n",
            "Epoch 35/150\n",
            "3/3 [==============================] - 1s 327ms/step - loss: 0.6539 - sparse_categorical_accuracy: 0.7619 - val_loss: 1.4203 - val_sparse_categorical_accuracy: 0.2917 - lr: 5.0000e-04\n",
            "Epoch 36/150\n",
            "3/3 [==============================] - 1s 327ms/step - loss: 0.6602 - sparse_categorical_accuracy: 0.8042 - val_loss: 1.4178 - val_sparse_categorical_accuracy: 0.2917 - lr: 5.0000e-04\n",
            "Epoch 37/150\n",
            "3/3 [==============================] - 1s 329ms/step - loss: 0.6671 - sparse_categorical_accuracy: 0.7354 - val_loss: 1.4142 - val_sparse_categorical_accuracy: 0.2917 - lr: 5.0000e-04\n",
            "Epoch 38/150\n",
            "3/3 [==============================] - 1s 326ms/step - loss: 0.6390 - sparse_categorical_accuracy: 0.7884 - val_loss: 1.4124 - val_sparse_categorical_accuracy: 0.2917 - lr: 5.0000e-04\n",
            "Epoch 39/150\n",
            "3/3 [==============================] - 1s 330ms/step - loss: 0.6300 - sparse_categorical_accuracy: 0.7989 - val_loss: 1.4128 - val_sparse_categorical_accuracy: 0.2917 - lr: 5.0000e-04\n",
            "Epoch 40/150\n",
            "3/3 [==============================] - 1s 330ms/step - loss: 0.6407 - sparse_categorical_accuracy: 0.7989 - val_loss: 1.4155 - val_sparse_categorical_accuracy: 0.2917 - lr: 5.0000e-04\n",
            "Epoch 41/150\n",
            "3/3 [==============================] - 1s 328ms/step - loss: 0.6148 - sparse_categorical_accuracy: 0.8148 - val_loss: 1.4211 - val_sparse_categorical_accuracy: 0.2917 - lr: 5.0000e-04\n",
            "Epoch 42/150\n",
            "3/3 [==============================] - 1s 332ms/step - loss: 0.6317 - sparse_categorical_accuracy: 0.7937 - val_loss: 1.4253 - val_sparse_categorical_accuracy: 0.2917 - lr: 2.5000e-04\n",
            "Epoch 43/150\n",
            "3/3 [==============================] - 1s 324ms/step - loss: 0.6200 - sparse_categorical_accuracy: 0.8254 - val_loss: 1.4297 - val_sparse_categorical_accuracy: 0.2917 - lr: 2.5000e-04\n",
            "Epoch 44/150\n",
            "3/3 [==============================] - 1s 326ms/step - loss: 0.6372 - sparse_categorical_accuracy: 0.8042 - val_loss: 1.4333 - val_sparse_categorical_accuracy: 0.3333 - lr: 2.5000e-04\n",
            "Epoch 45/150\n",
            "3/3 [==============================] - 1s 329ms/step - loss: 0.6042 - sparse_categorical_accuracy: 0.8042 - val_loss: 1.4353 - val_sparse_categorical_accuracy: 0.3125 - lr: 2.5000e-04\n",
            "Epoch 46/150\n",
            "3/3 [==============================] - 1s 327ms/step - loss: 0.6342 - sparse_categorical_accuracy: 0.7937 - val_loss: 1.4369 - val_sparse_categorical_accuracy: 0.3542 - lr: 2.5000e-04\n",
            "Epoch 47/150\n",
            "3/3 [==============================] - 1s 326ms/step - loss: 0.6520 - sparse_categorical_accuracy: 0.7831 - val_loss: 1.4392 - val_sparse_categorical_accuracy: 0.3333 - lr: 2.5000e-04\n",
            "Epoch 48/150\n",
            "3/3 [==============================] - 1s 325ms/step - loss: 0.6115 - sparse_categorical_accuracy: 0.8042 - val_loss: 1.4400 - val_sparse_categorical_accuracy: 0.3333 - lr: 2.5000e-04\n",
            "Epoch 49/150\n",
            "3/3 [==============================] - 1s 324ms/step - loss: 0.6347 - sparse_categorical_accuracy: 0.7725 - val_loss: 1.4409 - val_sparse_categorical_accuracy: 0.3333 - lr: 2.5000e-04\n",
            "Epoch 50/150\n",
            "3/3 [==============================] - 1s 328ms/step - loss: 0.5970 - sparse_categorical_accuracy: 0.8042 - val_loss: 1.4434 - val_sparse_categorical_accuracy: 0.3542 - lr: 2.5000e-04\n",
            "Epoch 51/150\n",
            "3/3 [==============================] - 1s 331ms/step - loss: 0.6525 - sparse_categorical_accuracy: 0.7619 - val_loss: 1.4450 - val_sparse_categorical_accuracy: 0.3333 - lr: 2.5000e-04\n",
            "Epoch 51: early stopping\n"
          ]
        }
      ]
    },
    {
      "cell_type": "code",
      "source": [
        "model = keras.models.load_model(\"best_model.h5\")\n",
        "\n",
        "test_loss, test_acc = model.evaluate(X_test_subject_1, y_test_subject_1)\n",
        "\n",
        "print(\"Test accuracy\", test_acc)\n",
        "print(\"Test loss\", test_loss)"
      ],
      "metadata": {
        "colab": {
          "base_uri": "https://localhost:8080/"
        },
        "id": "IPlM3T4G1M6O",
        "outputId": "46830a9f-f6db-415b-f54a-edbf71abc637"
      },
      "execution_count": null,
      "outputs": [
        {
          "output_type": "stream",
          "name": "stdout",
          "text": [
            "2/2 [==============================] - 1s 110ms/step - loss: 1.5403 - sparse_categorical_accuracy: 0.2800\n",
            "Test accuracy 0.2800000011920929\n",
            "Test loss 1.5403295755386353\n"
          ]
        }
      ]
    },
    {
      "cell_type": "code",
      "source": [
        "metric = \"sparse_categorical_accuracy\"\n",
        "plt.figure()\n",
        "plt.plot(history.history[metric])\n",
        "plt.plot(history.history[\"val_\" + metric])\n",
        "plt.title(\"model \" + metric)\n",
        "plt.ylabel(metric, fontsize=\"large\")\n",
        "plt.xlabel(\"epoch\", fontsize=\"large\")\n",
        "plt.legend([\"train\", \"val\"], loc=\"best\")\n",
        "plt.show()\n",
        "plt.close()"
      ],
      "metadata": {
        "id": "eH-H1Vcg1fHe"
      },
      "execution_count": null,
      "outputs": []
    },
    {
      "cell_type": "code",
      "source": [
        "import matplotlib.pyplot as plt"
      ],
      "metadata": {
        "id": "dh4RL-6KzYn6"
      },
      "execution_count": null,
      "outputs": []
    },
    {
      "cell_type": "code",
      "source": [
        "plt.plot(history.history['loss'], label='train')\n",
        "plt.plot(history.history['val_loss'], label='test')\n",
        "plt.legend();"
      ],
      "metadata": {
        "colab": {
          "base_uri": "https://localhost:8080/",
          "height": 265
        },
        "id": "jcw-9GEqzKJO",
        "outputId": "590c1cfb-9c3d-409d-89f1-a8e71e6d57cf"
      },
      "execution_count": null,
      "outputs": [
        {
          "output_type": "display_data",
          "data": {
            "image/png": "[encoded data removed]",
            "text/plain": [
              "<Figure size 432x288 with 1 Axes>"
            ]
          },
          "metadata": {
            "needs_background": "light"
          }
        }
      ]
    },
    {
      "cell_type": "code",
      "source": [
        "model.evaluate(X_test_subject_1, y_test_one_hot)"
      ],
      "metadata": {
        "colab": {
          "base_uri": "https://localhost:8080/"
        },
        "id": "GQnqXXHjzXd1",
        "outputId": "fdba5d03-52a9-4a4a-c701-22e527c002f0"
      },
      "execution_count": null,
      "outputs": [
        {
          "output_type": "stream",
          "name": "stdout",
          "text": [
            "2/2 [==============================] - 0s 142ms/step - loss: 1.6927 - acc: 0.2200\n"
          ]
        },
        {
          "output_type": "execute_result",
          "data": {
            "text/plain": [
              "[1.6926912069320679, 0.2199999988079071]"
            ]
          },
          "metadata": {},
          "execution_count": 32
        }
      ]
    },
    {
      "cell_type": "markdown",
      "source": [
        "## Train model on entire data and test on single and entire dataset"
      ],
      "metadata": {
        "id": "AwLTN5Sy6itx"
      }
    },
    {
      "cell_type": "code",
      "source": [
        "X_train = np.swapaxes(X_train_valid, 1, 2)\n",
        "X_test = np.swapaxes(X_test, 1, 2)"
      ],
      "metadata": {
        "id": "tKAm3McM6nFA"
      },
      "execution_count": 18,
      "outputs": []
    },
    {
      "cell_type": "code",
      "source": [
        "X_train.shape"
      ],
      "metadata": {
        "colab": {
          "base_uri": "https://localhost:8080/"
        },
        "id": "19YhmBpQH4mI",
        "outputId": "c3deb6af-a309-4973-f645-ad35ef018616"
      },
      "execution_count": 28,
      "outputs": [
        {
          "output_type": "execute_result",
          "data": {
            "text/plain": [
              "(2115, 1000, 22)"
            ]
          },
          "metadata": {},
          "execution_count": 28
        }
      ]
    },
    {
      "cell_type": "code",
      "source": [
        "y_train = y_train_valid.reshape(y_train_valid.shape[0], 1)\n",
        "y_test = y_test.reshape(y_test.shape[0], 1)"
      ],
      "metadata": {
        "id": "QD6CJVdP6880"
      },
      "execution_count": 19,
      "outputs": []
    },
    {
      "cell_type": "code",
      "source": [
        "history = model.fit(\n",
        "    X_train,\n",
        "    y_train_valid,\n",
        "    batch_size=64,\n",
        "    epochs=150,\n",
        "    callbacks=callbacks,\n",
        "    validation_split=0.2,\n",
        "    verbose=1,\n",
        ")"
      ],
      "metadata": {
        "colab": {
          "base_uri": "https://localhost:8080/"
        },
        "id": "uDIUCx0V62tr",
        "outputId": "aa8b930d-c25f-4178-daef-1dd8b483bcd0"
      },
      "execution_count": 29,
      "outputs": [
        {
          "output_type": "stream",
          "name": "stdout",
          "text": [
            "Epoch 1/150\n",
            "27/27 [==============================] - 21s 510ms/step - loss: 1.4497 - sparse_categorical_accuracy: 0.2494 - val_loss: 1.3878 - val_sparse_categorical_accuracy: 0.2577 - lr: 0.0010\n",
            "Epoch 2/150\n",
            "27/27 [==============================] - 13s 474ms/step - loss: 1.3932 - sparse_categorical_accuracy: 0.2772 - val_loss: 1.3892 - val_sparse_categorical_accuracy: 0.2459 - lr: 0.0010\n",
            "Epoch 3/150\n",
            "27/27 [==============================] - 13s 473ms/step - loss: 1.3584 - sparse_categorical_accuracy: 0.3286 - val_loss: 1.3883 - val_sparse_categorical_accuracy: 0.2671 - lr: 0.0010\n",
            "Epoch 4/150\n",
            "27/27 [==============================] - 13s 478ms/step - loss: 1.3497 - sparse_categorical_accuracy: 0.3304 - val_loss: 1.3893 - val_sparse_categorical_accuracy: 0.2600 - lr: 0.0010\n",
            "Epoch 5/150\n",
            "27/27 [==============================] - 13s 474ms/step - loss: 1.3294 - sparse_categorical_accuracy: 0.3670 - val_loss: 1.3937 - val_sparse_categorical_accuracy: 0.2813 - lr: 0.0010\n",
            "Epoch 6/150\n",
            "27/27 [==============================] - 13s 475ms/step - loss: 1.3093 - sparse_categorical_accuracy: 0.3723 - val_loss: 1.4040 - val_sparse_categorical_accuracy: 0.2506 - lr: 0.0010\n",
            "Epoch 7/150\n",
            "27/27 [==============================] - 13s 474ms/step - loss: 1.2884 - sparse_categorical_accuracy: 0.3930 - val_loss: 1.4164 - val_sparse_categorical_accuracy: 0.2317 - lr: 0.0010\n",
            "Epoch 8/150\n",
            "27/27 [==============================] - 13s 477ms/step - loss: 1.2904 - sparse_categorical_accuracy: 0.3948 - val_loss: 1.4134 - val_sparse_categorical_accuracy: 0.2364 - lr: 0.0010\n",
            "Epoch 9/150\n",
            "27/27 [==============================] - 13s 474ms/step - loss: 1.2572 - sparse_categorical_accuracy: 0.4043 - val_loss: 1.4370 - val_sparse_categorical_accuracy: 0.2459 - lr: 0.0010\n",
            "Epoch 10/150\n",
            "27/27 [==============================] - 13s 474ms/step - loss: 1.2412 - sparse_categorical_accuracy: 0.4385 - val_loss: 1.4336 - val_sparse_categorical_accuracy: 0.2388 - lr: 0.0010\n",
            "Epoch 11/150\n",
            "27/27 [==============================] - 13s 476ms/step - loss: 1.2168 - sparse_categorical_accuracy: 0.4622 - val_loss: 1.4385 - val_sparse_categorical_accuracy: 0.2411 - lr: 0.0010\n",
            "Epoch 12/150\n",
            "27/27 [==============================] - 13s 474ms/step - loss: 1.1872 - sparse_categorical_accuracy: 0.4799 - val_loss: 1.4630 - val_sparse_categorical_accuracy: 0.2340 - lr: 0.0010\n",
            "Epoch 13/150\n",
            "27/27 [==============================] - 13s 475ms/step - loss: 1.1462 - sparse_categorical_accuracy: 0.4941 - val_loss: 1.4726 - val_sparse_categorical_accuracy: 0.2577 - lr: 0.0010\n",
            "Epoch 14/150\n",
            "27/27 [==============================] - 13s 475ms/step - loss: 1.1304 - sparse_categorical_accuracy: 0.5071 - val_loss: 1.4848 - val_sparse_categorical_accuracy: 0.2553 - lr: 0.0010\n",
            "Epoch 15/150\n",
            "27/27 [==============================] - 13s 476ms/step - loss: 1.1028 - sparse_categorical_accuracy: 0.5136 - val_loss: 1.4889 - val_sparse_categorical_accuracy: 0.2411 - lr: 0.0010\n",
            "Epoch 16/150\n",
            "27/27 [==============================] - 13s 474ms/step - loss: 1.0832 - sparse_categorical_accuracy: 0.5290 - val_loss: 1.4983 - val_sparse_categorical_accuracy: 0.2459 - lr: 0.0010\n",
            "Epoch 17/150\n",
            "27/27 [==============================] - 13s 476ms/step - loss: 1.0315 - sparse_categorical_accuracy: 0.5768 - val_loss: 1.5331 - val_sparse_categorical_accuracy: 0.2577 - lr: 0.0010\n",
            "Epoch 18/150\n",
            "27/27 [==============================] - 13s 474ms/step - loss: 1.0057 - sparse_categorical_accuracy: 0.5768 - val_loss: 1.5556 - val_sparse_categorical_accuracy: 0.2624 - lr: 0.0010\n",
            "Epoch 19/150\n",
            "27/27 [==============================] - 13s 473ms/step - loss: 0.9852 - sparse_categorical_accuracy: 0.5904 - val_loss: 1.5768 - val_sparse_categorical_accuracy: 0.2364 - lr: 0.0010\n",
            "Epoch 20/150\n",
            "27/27 [==============================] - 13s 477ms/step - loss: 0.9415 - sparse_categorical_accuracy: 0.6082 - val_loss: 1.5731 - val_sparse_categorical_accuracy: 0.2553 - lr: 0.0010\n",
            "Epoch 21/150\n",
            "27/27 [==============================] - 13s 477ms/step - loss: 0.8907 - sparse_categorical_accuracy: 0.6448 - val_loss: 1.6321 - val_sparse_categorical_accuracy: 0.2624 - lr: 0.0010\n",
            "Epoch 22/150\n",
            "27/27 [==============================] - 13s 472ms/step - loss: 0.8226 - sparse_categorical_accuracy: 0.6921 - val_loss: 1.6425 - val_sparse_categorical_accuracy: 0.2813 - lr: 5.0000e-04\n",
            "Epoch 23/150\n",
            "27/27 [==============================] - 13s 474ms/step - loss: 0.7886 - sparse_categorical_accuracy: 0.6874 - val_loss: 1.6801 - val_sparse_categorical_accuracy: 0.2766 - lr: 5.0000e-04\n",
            "Epoch 24/150\n",
            "27/27 [==============================] - 13s 475ms/step - loss: 0.7546 - sparse_categorical_accuracy: 0.7004 - val_loss: 1.6873 - val_sparse_categorical_accuracy: 0.2813 - lr: 5.0000e-04\n",
            "Epoch 25/150\n",
            "27/27 [==============================] - 13s 473ms/step - loss: 0.7082 - sparse_categorical_accuracy: 0.7317 - val_loss: 1.7087 - val_sparse_categorical_accuracy: 0.2766 - lr: 5.0000e-04\n",
            "Epoch 26/150\n",
            "27/27 [==============================] - 13s 477ms/step - loss: 0.6855 - sparse_categorical_accuracy: 0.7465 - val_loss: 1.7391 - val_sparse_categorical_accuracy: 0.2813 - lr: 5.0000e-04\n",
            "Epoch 27/150\n",
            "27/27 [==============================] - 13s 477ms/step - loss: 0.6576 - sparse_categorical_accuracy: 0.7559 - val_loss: 1.7633 - val_sparse_categorical_accuracy: 0.2600 - lr: 5.0000e-04\n",
            "Epoch 28/150\n",
            "27/27 [==============================] - 13s 476ms/step - loss: 0.6483 - sparse_categorical_accuracy: 0.7488 - val_loss: 1.8039 - val_sparse_categorical_accuracy: 0.2790 - lr: 5.0000e-04\n",
            "Epoch 29/150\n",
            "27/27 [==============================] - 13s 479ms/step - loss: 0.5855 - sparse_categorical_accuracy: 0.7943 - val_loss: 1.8560 - val_sparse_categorical_accuracy: 0.2671 - lr: 5.0000e-04\n",
            "Epoch 30/150\n",
            "27/27 [==============================] - 13s 474ms/step - loss: 0.5862 - sparse_categorical_accuracy: 0.7825 - val_loss: 1.8895 - val_sparse_categorical_accuracy: 0.2766 - lr: 5.0000e-04\n",
            "Epoch 31/150\n",
            "27/27 [==============================] - 13s 473ms/step - loss: 0.5596 - sparse_categorical_accuracy: 0.7961 - val_loss: 1.9198 - val_sparse_categorical_accuracy: 0.2719 - lr: 5.0000e-04\n",
            "Epoch 32/150\n",
            "27/27 [==============================] - 13s 471ms/step - loss: 0.5651 - sparse_categorical_accuracy: 0.7884 - val_loss: 1.9525 - val_sparse_categorical_accuracy: 0.2482 - lr: 5.0000e-04\n",
            "Epoch 33/150\n",
            "27/27 [==============================] - 13s 469ms/step - loss: 0.5051 - sparse_categorical_accuracy: 0.8115 - val_loss: 1.9536 - val_sparse_categorical_accuracy: 0.2553 - lr: 5.0000e-04\n",
            "Epoch 34/150\n",
            "27/27 [==============================] - 13s 472ms/step - loss: 0.4899 - sparse_categorical_accuracy: 0.8268 - val_loss: 2.0103 - val_sparse_categorical_accuracy: 0.2695 - lr: 5.0000e-04\n",
            "Epoch 35/150\n",
            "27/27 [==============================] - 13s 475ms/step - loss: 0.4746 - sparse_categorical_accuracy: 0.8280 - val_loss: 2.0486 - val_sparse_categorical_accuracy: 0.2671 - lr: 5.0000e-04\n",
            "Epoch 36/150\n",
            "27/27 [==============================] - 13s 475ms/step - loss: 0.4533 - sparse_categorical_accuracy: 0.8327 - val_loss: 2.0782 - val_sparse_categorical_accuracy: 0.2742 - lr: 5.0000e-04\n",
            "Epoch 37/150\n",
            "27/27 [==============================] - 13s 472ms/step - loss: 0.4301 - sparse_categorical_accuracy: 0.8481 - val_loss: 2.1104 - val_sparse_categorical_accuracy: 0.2813 - lr: 5.0000e-04\n",
            "Epoch 38/150\n",
            "27/27 [==============================] - 13s 475ms/step - loss: 0.3923 - sparse_categorical_accuracy: 0.8593 - val_loss: 2.1579 - val_sparse_categorical_accuracy: 0.2861 - lr: 5.0000e-04\n",
            "Epoch 39/150\n",
            "27/27 [==============================] - 13s 472ms/step - loss: 0.3799 - sparse_categorical_accuracy: 0.8682 - val_loss: 2.2062 - val_sparse_categorical_accuracy: 0.2766 - lr: 5.0000e-04\n",
            "Epoch 40/150\n",
            "27/27 [==============================] - 13s 474ms/step - loss: 0.3839 - sparse_categorical_accuracy: 0.8517 - val_loss: 2.2455 - val_sparse_categorical_accuracy: 0.2648 - lr: 5.0000e-04\n",
            "Epoch 41/150\n",
            "27/27 [==============================] - 13s 473ms/step - loss: 0.3623 - sparse_categorical_accuracy: 0.8623 - val_loss: 2.2997 - val_sparse_categorical_accuracy: 0.2719 - lr: 5.0000e-04\n",
            "Epoch 42/150\n",
            "27/27 [==============================] - 13s 475ms/step - loss: 0.3382 - sparse_categorical_accuracy: 0.8824 - val_loss: 2.3232 - val_sparse_categorical_accuracy: 0.2861 - lr: 2.5000e-04\n",
            "Epoch 43/150\n",
            "27/27 [==============================] - 13s 475ms/step - loss: 0.3216 - sparse_categorical_accuracy: 0.8836 - val_loss: 2.3207 - val_sparse_categorical_accuracy: 0.2766 - lr: 2.5000e-04\n",
            "Epoch 44/150\n",
            "27/27 [==============================] - 13s 475ms/step - loss: 0.2900 - sparse_categorical_accuracy: 0.8983 - val_loss: 2.3640 - val_sparse_categorical_accuracy: 0.2671 - lr: 2.5000e-04\n",
            "Epoch 45/150\n",
            "27/27 [==============================] - 13s 474ms/step - loss: 0.2725 - sparse_categorical_accuracy: 0.9149 - val_loss: 2.3905 - val_sparse_categorical_accuracy: 0.2790 - lr: 2.5000e-04\n",
            "Epoch 46/150\n",
            "27/27 [==============================] - 13s 474ms/step - loss: 0.2626 - sparse_categorical_accuracy: 0.9137 - val_loss: 2.4011 - val_sparse_categorical_accuracy: 0.2861 - lr: 2.5000e-04\n",
            "Epoch 47/150\n",
            "27/27 [==============================] - 13s 476ms/step - loss: 0.2630 - sparse_categorical_accuracy: 0.9178 - val_loss: 2.4246 - val_sparse_categorical_accuracy: 0.2979 - lr: 2.5000e-04\n",
            "Epoch 48/150\n",
            "27/27 [==============================] - 13s 478ms/step - loss: 0.2682 - sparse_categorical_accuracy: 0.9060 - val_loss: 2.4398 - val_sparse_categorical_accuracy: 0.3002 - lr: 2.5000e-04\n",
            "Epoch 49/150\n",
            "27/27 [==============================] - 13s 477ms/step - loss: 0.2459 - sparse_categorical_accuracy: 0.9184 - val_loss: 2.4959 - val_sparse_categorical_accuracy: 0.2719 - lr: 2.5000e-04\n",
            "Epoch 50/150\n",
            "27/27 [==============================] - 13s 478ms/step - loss: 0.2556 - sparse_categorical_accuracy: 0.9155 - val_loss: 2.4937 - val_sparse_categorical_accuracy: 0.2837 - lr: 2.5000e-04\n",
            "Epoch 51/150\n",
            "27/27 [==============================] - 13s 479ms/step - loss: 0.2379 - sparse_categorical_accuracy: 0.9220 - val_loss: 2.5582 - val_sparse_categorical_accuracy: 0.2908 - lr: 2.5000e-04\n",
            "Epoch 51: early stopping\n"
          ]
        }
      ]
    },
    {
      "cell_type": "code",
      "source": [
        "model = keras.models.load_model(\"best_model.h5\")\n",
        "\n",
        "test_loss, test_acc = model.evaluate(X_test_subject_1, y_test_subject_1)\n",
        "\n",
        "print(\"Test accuracy\", test_acc)\n",
        "print(\"Test loss\", test_loss)"
      ],
      "metadata": {
        "colab": {
          "base_uri": "https://localhost:8080/"
        },
        "id": "_u2C0q2P7KbI",
        "outputId": "205b7570-dd10-46f5-9590-5dfa8e6fa171"
      },
      "execution_count": 30,
      "outputs": [
        {
          "output_type": "stream",
          "name": "stdout",
          "text": [
            "2/2 [==============================] - 1s 138ms/step - loss: 1.3855 - sparse_categorical_accuracy: 0.2400\n",
            "Test accuracy 0.23999999463558197\n",
            "Test loss 1.3855136632919312\n"
          ]
        }
      ]
    },
    {
      "cell_type": "code",
      "source": [
        "model = keras.models.load_model(\"best_model.h5\")\n",
        "\n",
        "test_loss, test_acc = model.evaluate(X_test, y_test)\n",
        "\n",
        "print(\"Test accuracy\", test_acc)\n",
        "print(\"Test loss\", test_loss)"
      ],
      "metadata": {
        "colab": {
          "base_uri": "https://localhost:8080/"
        },
        "id": "_cKkWmFG7X2I",
        "outputId": "985d4bf7-b1d4-4419-a604-4984d386f9e3"
      },
      "execution_count": 31,
      "outputs": [
        {
          "output_type": "stream",
          "name": "stdout",
          "text": [
            "14/14 [==============================] - 4s 138ms/step - loss: 1.3989 - sparse_categorical_accuracy: 0.2415\n",
            "Test accuracy 0.2415349930524826\n",
            "Test loss 1.3989284038543701\n"
          ]
        }
      ]
    },
    {
      "cell_type": "markdown",
      "source": [
        "## Model change experiments"
      ],
      "metadata": {
        "id": "2llzSgdXzgUz"
      }
    },
    {
      "cell_type": "code",
      "source": [
        "model = keras.Sequential()\n",
        "model.add(\n",
        "    keras.layers.Bidirectional(\n",
        "      keras.layers.LSTM(\n",
        "          units=16, \n",
        "          input_shape=[X_train_subject_1.shape[1], X_train_subject_1.shape[2]]\n",
        "      ), \n",
        "    keras.layers.LSTM(\n",
        "          units=16, \n",
        "          input_shape=[X_train_subject_1.shape[1], X_train_subject_1.shape[2]]\n",
        "      )\n",
        "    )\n",
        ")\n",
        "model.add(keras.layers.Dropout(rate=0.5))\n",
        "model.add(keras.layers.Dense(units=16, activation='relu'))\n",
        "model.add(keras.layers.Dense(num_classes, activation='softmax'))\n",
        "model.compile(\n",
        "    optimizer=\"adam\",\n",
        "    loss=\"sparse_categorical_crossentropy\",\n",
        "    metrics=[\"sparse_categorical_accuracy\"],\n",
        ")"
      ],
      "metadata": {
        "id": "4RN-7BjmSUnN"
      },
      "execution_count": null,
      "outputs": []
    },
    {
      "cell_type": "code",
      "source": [
        "callbacks = [\n",
        "    keras.callbacks.ModelCheckpoint(\n",
        "        \"best_model.h5\", save_best_only=True, monitor=\"val_loss\"\n",
        "    ),\n",
        "    keras.callbacks.ReduceLROnPlateau(\n",
        "        monitor=\"val_loss\", factor=0.5, patience=20, min_lr=0.0001\n",
        "    ),\n",
        "    keras.callbacks.EarlyStopping(monitor=\"val_loss\", patience=50, verbose=1),\n",
        "]\n"
      ],
      "metadata": {
        "id": "74-PQB9DSUnN"
      },
      "execution_count": null,
      "outputs": []
    },
    {
      "cell_type": "code",
      "source": [
        "history = model.fit(\n",
        "    X_train_subject_1,\n",
        "    y_train_subject_1,\n",
        "    batch_size=64,\n",
        "    epochs=150,\n",
        "    callbacks=callbacks,\n",
        "    validation_split=0.2,\n",
        "    verbose=1,\n",
        ")"
      ],
      "metadata": {
        "colab": {
          "base_uri": "https://localhost:8080/"
        },
        "outputId": "464d4b49-2dde-4e82-e20b-34c6e7e5dd5b",
        "id": "KJU6Oji1SUnN"
      },
      "execution_count": null,
      "outputs": [
        {
          "output_type": "stream",
          "name": "stdout",
          "text": [
            "Epoch 1/150\n",
            "3/3 [==============================] - 6s 794ms/step - loss: 1.5174 - sparse_categorical_accuracy: 0.2487 - val_loss: 1.4634 - val_sparse_categorical_accuracy: 0.1667 - lr: 0.0010\n",
            "Epoch 2/150\n",
            "3/3 [==============================] - 1s 328ms/step - loss: 1.5097 - sparse_categorical_accuracy: 0.2698 - val_loss: 1.4520 - val_sparse_categorical_accuracy: 0.1667 - lr: 0.0010\n",
            "Epoch 3/150\n",
            "3/3 [==============================] - 1s 330ms/step - loss: 1.4159 - sparse_categorical_accuracy: 0.2910 - val_loss: 1.4431 - val_sparse_categorical_accuracy: 0.1875 - lr: 0.0010\n",
            "Epoch 4/150\n",
            "3/3 [==============================] - 1s 333ms/step - loss: 1.3892 - sparse_categorical_accuracy: 0.3175 - val_loss: 1.4385 - val_sparse_categorical_accuracy: 0.2083 - lr: 0.0010\n",
            "Epoch 5/150\n",
            "3/3 [==============================] - 1s 332ms/step - loss: 1.3986 - sparse_categorical_accuracy: 0.3228 - val_loss: 1.4361 - val_sparse_categorical_accuracy: 0.2292 - lr: 0.0010\n",
            "Epoch 6/150\n",
            "3/3 [==============================] - 1s 463ms/step - loss: 1.4248 - sparse_categorical_accuracy: 0.2963 - val_loss: 1.4344 - val_sparse_categorical_accuracy: 0.2083 - lr: 0.0010\n",
            "Epoch 7/150\n",
            "3/3 [==============================] - 1s 328ms/step - loss: 1.3726 - sparse_categorical_accuracy: 0.3333 - val_loss: 1.4330 - val_sparse_categorical_accuracy: 0.1875 - lr: 0.0010\n",
            "Epoch 8/150\n",
            "3/3 [==============================] - 1s 327ms/step - loss: 1.3521 - sparse_categorical_accuracy: 0.3757 - val_loss: 1.4323 - val_sparse_categorical_accuracy: 0.1875 - lr: 0.0010\n",
            "Epoch 9/150\n",
            "3/3 [==============================] - 1s 334ms/step - loss: 1.4001 - sparse_categorical_accuracy: 0.3280 - val_loss: 1.4318 - val_sparse_categorical_accuracy: 0.1667 - lr: 0.0010\n",
            "Epoch 10/150\n",
            "3/3 [==============================] - 1s 338ms/step - loss: 1.3682 - sparse_categorical_accuracy: 0.3545 - val_loss: 1.4305 - val_sparse_categorical_accuracy: 0.1875 - lr: 0.0010\n",
            "Epoch 11/150\n",
            "3/3 [==============================] - 1s 335ms/step - loss: 1.3663 - sparse_categorical_accuracy: 0.3386 - val_loss: 1.4296 - val_sparse_categorical_accuracy: 0.1875 - lr: 0.0010\n",
            "Epoch 12/150\n",
            "3/3 [==============================] - 1s 330ms/step - loss: 1.3578 - sparse_categorical_accuracy: 0.3228 - val_loss: 1.4286 - val_sparse_categorical_accuracy: 0.1667 - lr: 0.0010\n",
            "Epoch 13/150\n",
            "3/3 [==============================] - 1s 329ms/step - loss: 1.3188 - sparse_categorical_accuracy: 0.3968 - val_loss: 1.4268 - val_sparse_categorical_accuracy: 0.1667 - lr: 0.0010\n",
            "Epoch 14/150\n",
            "3/3 [==============================] - 1s 316ms/step - loss: 1.3181 - sparse_categorical_accuracy: 0.3651 - val_loss: 1.4270 - val_sparse_categorical_accuracy: 0.1875 - lr: 0.0010\n",
            "Epoch 15/150\n",
            "3/3 [==============================] - 1s 331ms/step - loss: 1.3660 - sparse_categorical_accuracy: 0.2804 - val_loss: 1.4259 - val_sparse_categorical_accuracy: 0.2083 - lr: 0.0010\n",
            "Epoch 16/150\n",
            "3/3 [==============================] - 1s 331ms/step - loss: 1.3071 - sparse_categorical_accuracy: 0.3492 - val_loss: 1.4251 - val_sparse_categorical_accuracy: 0.2083 - lr: 0.0010\n",
            "Epoch 17/150\n",
            "3/3 [==============================] - 1s 333ms/step - loss: 1.3536 - sparse_categorical_accuracy: 0.3333 - val_loss: 1.4251 - val_sparse_categorical_accuracy: 0.2292 - lr: 0.0010\n",
            "Epoch 18/150\n",
            "3/3 [==============================] - 1s 335ms/step - loss: 1.3208 - sparse_categorical_accuracy: 0.4074 - val_loss: 1.4243 - val_sparse_categorical_accuracy: 0.2500 - lr: 0.0010\n",
            "Epoch 19/150\n",
            "3/3 [==============================] - 1s 331ms/step - loss: 1.2795 - sparse_categorical_accuracy: 0.3862 - val_loss: 1.4231 - val_sparse_categorical_accuracy: 0.2500 - lr: 0.0010\n",
            "Epoch 20/150\n",
            "3/3 [==============================] - 1s 331ms/step - loss: 1.3396 - sparse_categorical_accuracy: 0.3228 - val_loss: 1.4222 - val_sparse_categorical_accuracy: 0.2500 - lr: 0.0010\n",
            "Epoch 21/150\n",
            "3/3 [==============================] - 1s 339ms/step - loss: 1.3163 - sparse_categorical_accuracy: 0.3810 - val_loss: 1.4214 - val_sparse_categorical_accuracy: 0.2500 - lr: 0.0010\n",
            "Epoch 22/150\n",
            "3/3 [==============================] - 1s 313ms/step - loss: 1.2786 - sparse_categorical_accuracy: 0.3915 - val_loss: 1.4220 - val_sparse_categorical_accuracy: 0.2500 - lr: 0.0010\n",
            "Epoch 23/150\n",
            "3/3 [==============================] - 1s 316ms/step - loss: 1.3068 - sparse_categorical_accuracy: 0.3915 - val_loss: 1.4219 - val_sparse_categorical_accuracy: 0.2500 - lr: 0.0010\n",
            "Epoch 24/150\n",
            "3/3 [==============================] - 1s 315ms/step - loss: 1.3064 - sparse_categorical_accuracy: 0.3651 - val_loss: 1.4231 - val_sparse_categorical_accuracy: 0.2292 - lr: 0.0010\n",
            "Epoch 25/150\n",
            "3/3 [==============================] - 1s 314ms/step - loss: 1.2986 - sparse_categorical_accuracy: 0.3968 - val_loss: 1.4250 - val_sparse_categorical_accuracy: 0.2292 - lr: 0.0010\n",
            "Epoch 26/150\n",
            "3/3 [==============================] - 1s 317ms/step - loss: 1.3285 - sparse_categorical_accuracy: 0.3704 - val_loss: 1.4257 - val_sparse_categorical_accuracy: 0.2083 - lr: 0.0010\n",
            "Epoch 27/150\n",
            "3/3 [==============================] - 1s 311ms/step - loss: 1.2892 - sparse_categorical_accuracy: 0.4074 - val_loss: 1.4247 - val_sparse_categorical_accuracy: 0.2083 - lr: 0.0010\n",
            "Epoch 28/150\n",
            "3/3 [==============================] - 1s 315ms/step - loss: 1.2785 - sparse_categorical_accuracy: 0.4180 - val_loss: 1.4240 - val_sparse_categorical_accuracy: 0.1875 - lr: 0.0010\n",
            "Epoch 29/150\n",
            "3/3 [==============================] - 1s 317ms/step - loss: 1.2773 - sparse_categorical_accuracy: 0.4127 - val_loss: 1.4228 - val_sparse_categorical_accuracy: 0.1875 - lr: 0.0010\n",
            "Epoch 30/150\n",
            "3/3 [==============================] - 1s 315ms/step - loss: 1.2645 - sparse_categorical_accuracy: 0.4392 - val_loss: 1.4215 - val_sparse_categorical_accuracy: 0.2292 - lr: 0.0010\n",
            "Epoch 31/150\n",
            "3/3 [==============================] - 1s 336ms/step - loss: 1.3074 - sparse_categorical_accuracy: 0.4127 - val_loss: 1.4192 - val_sparse_categorical_accuracy: 0.2292 - lr: 0.0010\n",
            "Epoch 32/150\n",
            "3/3 [==============================] - 1s 333ms/step - loss: 1.2384 - sparse_categorical_accuracy: 0.4233 - val_loss: 1.4182 - val_sparse_categorical_accuracy: 0.2292 - lr: 0.0010\n",
            "Epoch 33/150\n",
            "3/3 [==============================] - 1s 325ms/step - loss: 1.2717 - sparse_categorical_accuracy: 0.4021 - val_loss: 1.4156 - val_sparse_categorical_accuracy: 0.2292 - lr: 0.0010\n",
            "Epoch 34/150\n",
            "3/3 [==============================] - 1s 312ms/step - loss: 1.2857 - sparse_categorical_accuracy: 0.3968 - val_loss: 1.4165 - val_sparse_categorical_accuracy: 0.2292 - lr: 0.0010\n",
            "Epoch 35/150\n",
            "3/3 [==============================] - 1s 316ms/step - loss: 1.2358 - sparse_categorical_accuracy: 0.4392 - val_loss: 1.4187 - val_sparse_categorical_accuracy: 0.2500 - lr: 0.0010\n",
            "Epoch 36/150\n",
            "3/3 [==============================] - 1s 316ms/step - loss: 1.2523 - sparse_categorical_accuracy: 0.4339 - val_loss: 1.4211 - val_sparse_categorical_accuracy: 0.2500 - lr: 0.0010\n",
            "Epoch 37/150\n",
            "3/3 [==============================] - 1s 314ms/step - loss: 1.2580 - sparse_categorical_accuracy: 0.3915 - val_loss: 1.4236 - val_sparse_categorical_accuracy: 0.2292 - lr: 0.0010\n",
            "Epoch 38/150\n",
            "3/3 [==============================] - 1s 312ms/step - loss: 1.2200 - sparse_categorical_accuracy: 0.4815 - val_loss: 1.4260 - val_sparse_categorical_accuracy: 0.2292 - lr: 0.0010\n",
            "Epoch 39/150\n",
            "3/3 [==============================] - 1s 316ms/step - loss: 1.1841 - sparse_categorical_accuracy: 0.4497 - val_loss: 1.4288 - val_sparse_categorical_accuracy: 0.2083 - lr: 0.0010\n",
            "Epoch 40/150\n",
            "3/3 [==============================] - 1s 313ms/step - loss: 1.2336 - sparse_categorical_accuracy: 0.4074 - val_loss: 1.4266 - val_sparse_categorical_accuracy: 0.2083 - lr: 0.0010\n",
            "Epoch 41/150\n",
            "3/3 [==============================] - 1s 311ms/step - loss: 1.2396 - sparse_categorical_accuracy: 0.4497 - val_loss: 1.4247 - val_sparse_categorical_accuracy: 0.2292 - lr: 0.0010\n",
            "Epoch 42/150\n",
            "3/3 [==============================] - 1s 314ms/step - loss: 1.2094 - sparse_categorical_accuracy: 0.4603 - val_loss: 1.4253 - val_sparse_categorical_accuracy: 0.2292 - lr: 0.0010\n",
            "Epoch 43/150\n",
            "3/3 [==============================] - 1s 311ms/step - loss: 1.2391 - sparse_categorical_accuracy: 0.4392 - val_loss: 1.4297 - val_sparse_categorical_accuracy: 0.2292 - lr: 0.0010\n",
            "Epoch 44/150\n",
            "3/3 [==============================] - 1s 311ms/step - loss: 1.2305 - sparse_categorical_accuracy: 0.3915 - val_loss: 1.4372 - val_sparse_categorical_accuracy: 0.2292 - lr: 0.0010\n",
            "Epoch 45/150\n",
            "3/3 [==============================] - 1s 310ms/step - loss: 1.2227 - sparse_categorical_accuracy: 0.4762 - val_loss: 1.4414 - val_sparse_categorical_accuracy: 0.2292 - lr: 0.0010\n",
            "Epoch 46/150\n",
            "3/3 [==============================] - 1s 316ms/step - loss: 1.1839 - sparse_categorical_accuracy: 0.4762 - val_loss: 1.4459 - val_sparse_categorical_accuracy: 0.2292 - lr: 0.0010\n",
            "Epoch 47/150\n",
            "3/3 [==============================] - 1s 315ms/step - loss: 1.1731 - sparse_categorical_accuracy: 0.4815 - val_loss: 1.4495 - val_sparse_categorical_accuracy: 0.2292 - lr: 0.0010\n",
            "Epoch 48/150\n",
            "3/3 [==============================] - 1s 314ms/step - loss: 1.1912 - sparse_categorical_accuracy: 0.4868 - val_loss: 1.4498 - val_sparse_categorical_accuracy: 0.2292 - lr: 0.0010\n",
            "Epoch 49/150\n",
            "3/3 [==============================] - 1s 311ms/step - loss: 1.2207 - sparse_categorical_accuracy: 0.4180 - val_loss: 1.4496 - val_sparse_categorical_accuracy: 0.2083 - lr: 0.0010\n",
            "Epoch 50/150\n",
            "3/3 [==============================] - 1s 315ms/step - loss: 1.2070 - sparse_categorical_accuracy: 0.4444 - val_loss: 1.4541 - val_sparse_categorical_accuracy: 0.2083 - lr: 0.0010\n",
            "Epoch 51/150\n",
            "3/3 [==============================] - 1s 318ms/step - loss: 1.1337 - sparse_categorical_accuracy: 0.5503 - val_loss: 1.4574 - val_sparse_categorical_accuracy: 0.2083 - lr: 0.0010\n",
            "Epoch 52/150\n",
            "3/3 [==============================] - 1s 312ms/step - loss: 1.1288 - sparse_categorical_accuracy: 0.5397 - val_loss: 1.4626 - val_sparse_categorical_accuracy: 0.2083 - lr: 0.0010\n",
            "Epoch 53/150\n",
            "3/3 [==============================] - 1s 310ms/step - loss: 1.1389 - sparse_categorical_accuracy: 0.5026 - val_loss: 1.4651 - val_sparse_categorical_accuracy: 0.2083 - lr: 0.0010\n",
            "Epoch 54/150\n",
            "3/3 [==============================] - 1s 315ms/step - loss: 1.1320 - sparse_categorical_accuracy: 0.5291 - val_loss: 1.4661 - val_sparse_categorical_accuracy: 0.2292 - lr: 5.0000e-04\n",
            "Epoch 55/150\n",
            "3/3 [==============================] - 1s 311ms/step - loss: 1.1332 - sparse_categorical_accuracy: 0.5291 - val_loss: 1.4677 - val_sparse_categorical_accuracy: 0.2292 - lr: 5.0000e-04\n",
            "Epoch 56/150\n",
            "3/3 [==============================] - 1s 310ms/step - loss: 1.1380 - sparse_categorical_accuracy: 0.5344 - val_loss: 1.4691 - val_sparse_categorical_accuracy: 0.2292 - lr: 5.0000e-04\n",
            "Epoch 57/150\n",
            "3/3 [==============================] - 1s 313ms/step - loss: 1.1346 - sparse_categorical_accuracy: 0.5503 - val_loss: 1.4697 - val_sparse_categorical_accuracy: 0.2292 - lr: 5.0000e-04\n",
            "Epoch 58/150\n",
            "3/3 [==============================] - 1s 315ms/step - loss: 1.1171 - sparse_categorical_accuracy: 0.5185 - val_loss: 1.4711 - val_sparse_categorical_accuracy: 0.2083 - lr: 5.0000e-04\n",
            "Epoch 59/150\n",
            "3/3 [==============================] - 1s 317ms/step - loss: 1.1408 - sparse_categorical_accuracy: 0.4974 - val_loss: 1.4734 - val_sparse_categorical_accuracy: 0.2083 - lr: 5.0000e-04\n",
            "Epoch 60/150\n",
            "3/3 [==============================] - 1s 317ms/step - loss: 1.1263 - sparse_categorical_accuracy: 0.5026 - val_loss: 1.4735 - val_sparse_categorical_accuracy: 0.2292 - lr: 5.0000e-04\n",
            "Epoch 61/150\n",
            "3/3 [==============================] - 1s 314ms/step - loss: 1.1552 - sparse_categorical_accuracy: 0.5291 - val_loss: 1.4729 - val_sparse_categorical_accuracy: 0.2292 - lr: 5.0000e-04\n",
            "Epoch 62/150\n",
            "3/3 [==============================] - 1s 311ms/step - loss: 1.1159 - sparse_categorical_accuracy: 0.5450 - val_loss: 1.4785 - val_sparse_categorical_accuracy: 0.2292 - lr: 5.0000e-04\n",
            "Epoch 63/150\n",
            "3/3 [==============================] - 1s 314ms/step - loss: 1.0971 - sparse_categorical_accuracy: 0.5238 - val_loss: 1.4782 - val_sparse_categorical_accuracy: 0.2292 - lr: 5.0000e-04\n",
            "Epoch 64/150\n",
            "3/3 [==============================] - 1s 316ms/step - loss: 1.1438 - sparse_categorical_accuracy: 0.5026 - val_loss: 1.4784 - val_sparse_categorical_accuracy: 0.2292 - lr: 5.0000e-04\n",
            "Epoch 65/150\n",
            "3/3 [==============================] - 1s 315ms/step - loss: 1.1144 - sparse_categorical_accuracy: 0.5661 - val_loss: 1.4798 - val_sparse_categorical_accuracy: 0.2292 - lr: 5.0000e-04\n",
            "Epoch 66/150\n",
            "3/3 [==============================] - 1s 312ms/step - loss: 1.1226 - sparse_categorical_accuracy: 0.4974 - val_loss: 1.4788 - val_sparse_categorical_accuracy: 0.2500 - lr: 5.0000e-04\n",
            "Epoch 67/150\n",
            "3/3 [==============================] - 1s 312ms/step - loss: 1.0800 - sparse_categorical_accuracy: 0.5820 - val_loss: 1.4771 - val_sparse_categorical_accuracy: 0.2500 - lr: 5.0000e-04\n",
            "Epoch 68/150\n",
            "3/3 [==============================] - 1s 317ms/step - loss: 1.1238 - sparse_categorical_accuracy: 0.5238 - val_loss: 1.4750 - val_sparse_categorical_accuracy: 0.2500 - lr: 5.0000e-04\n",
            "Epoch 69/150\n",
            "3/3 [==============================] - 1s 312ms/step - loss: 1.1073 - sparse_categorical_accuracy: 0.5026 - val_loss: 1.4753 - val_sparse_categorical_accuracy: 0.2500 - lr: 5.0000e-04\n",
            "Epoch 70/150\n",
            "3/3 [==============================] - 1s 314ms/step - loss: 1.1313 - sparse_categorical_accuracy: 0.5397 - val_loss: 1.4758 - val_sparse_categorical_accuracy: 0.2500 - lr: 5.0000e-04\n",
            "Epoch 71/150\n",
            "3/3 [==============================] - 1s 311ms/step - loss: 1.1155 - sparse_categorical_accuracy: 0.5344 - val_loss: 1.4762 - val_sparse_categorical_accuracy: 0.2500 - lr: 5.0000e-04\n",
            "Epoch 72/150\n",
            "3/3 [==============================] - 1s 315ms/step - loss: 1.1044 - sparse_categorical_accuracy: 0.5450 - val_loss: 1.4766 - val_sparse_categorical_accuracy: 0.2500 - lr: 5.0000e-04\n",
            "Epoch 73/150\n",
            "3/3 [==============================] - 1s 314ms/step - loss: 1.0935 - sparse_categorical_accuracy: 0.5556 - val_loss: 1.4777 - val_sparse_categorical_accuracy: 0.2500 - lr: 5.0000e-04\n",
            "Epoch 74/150\n",
            "3/3 [==============================] - 1s 312ms/step - loss: 1.0460 - sparse_categorical_accuracy: 0.6138 - val_loss: 1.4783 - val_sparse_categorical_accuracy: 0.2292 - lr: 2.5000e-04\n",
            "Epoch 75/150\n",
            "3/3 [==============================] - 1s 321ms/step - loss: 1.0689 - sparse_categorical_accuracy: 0.5450 - val_loss: 1.4788 - val_sparse_categorical_accuracy: 0.2292 - lr: 2.5000e-04\n",
            "Epoch 76/150\n",
            "3/3 [==============================] - 1s 317ms/step - loss: 1.1085 - sparse_categorical_accuracy: 0.5450 - val_loss: 1.4794 - val_sparse_categorical_accuracy: 0.2292 - lr: 2.5000e-04\n",
            "Epoch 77/150\n",
            "3/3 [==============================] - 1s 314ms/step - loss: 1.1033 - sparse_categorical_accuracy: 0.5608 - val_loss: 1.4798 - val_sparse_categorical_accuracy: 0.2292 - lr: 2.5000e-04\n",
            "Epoch 78/150\n",
            "3/3 [==============================] - 1s 316ms/step - loss: 1.0344 - sparse_categorical_accuracy: 0.6138 - val_loss: 1.4798 - val_sparse_categorical_accuracy: 0.2292 - lr: 2.5000e-04\n",
            "Epoch 79/150\n",
            "3/3 [==============================] - 1s 316ms/step - loss: 1.0872 - sparse_categorical_accuracy: 0.5238 - val_loss: 1.4795 - val_sparse_categorical_accuracy: 0.2292 - lr: 2.5000e-04\n",
            "Epoch 80/150\n",
            "3/3 [==============================] - 1s 314ms/step - loss: 1.1034 - sparse_categorical_accuracy: 0.5026 - val_loss: 1.4799 - val_sparse_categorical_accuracy: 0.2292 - lr: 2.5000e-04\n",
            "Epoch 81/150\n",
            "3/3 [==============================] - 1s 317ms/step - loss: 1.1571 - sparse_categorical_accuracy: 0.5079 - val_loss: 1.4798 - val_sparse_categorical_accuracy: 0.2292 - lr: 2.5000e-04\n",
            "Epoch 82/150\n",
            "3/3 [==============================] - 1s 314ms/step - loss: 1.1047 - sparse_categorical_accuracy: 0.5238 - val_loss: 1.4792 - val_sparse_categorical_accuracy: 0.2500 - lr: 2.5000e-04\n",
            "Epoch 83/150\n",
            "3/3 [==============================] - 1s 317ms/step - loss: 1.1148 - sparse_categorical_accuracy: 0.5450 - val_loss: 1.4796 - val_sparse_categorical_accuracy: 0.2292 - lr: 2.5000e-04\n",
            "Epoch 83: early stopping\n"
          ]
        }
      ]
    },
    {
      "cell_type": "code",
      "source": [
        "model = keras.models.load_model(\"best_model.h5\")\n",
        "\n",
        "test_loss, test_acc = model.evaluate(X_test_subject_1, y_test_subject_1)\n",
        "\n",
        "print(\"Test accuracy\", test_acc)\n",
        "print(\"Test loss\", test_loss)"
      ],
      "metadata": {
        "colab": {
          "base_uri": "https://localhost:8080/"
        },
        "outputId": "4e46a6f3-28cf-4776-e1de-2be13afe5807",
        "id": "dCGc4Ru7SUnO"
      },
      "execution_count": null,
      "outputs": [
        {
          "output_type": "stream",
          "name": "stdout",
          "text": [
            "2/2 [==============================] - 1s 107ms/step - loss: 1.4304 - sparse_categorical_accuracy: 0.2200\n",
            "Test accuracy 0.2199999988079071\n",
            "Test loss 1.4303545951843262\n"
          ]
        }
      ]
    },
    {
      "cell_type": "code",
      "source": [
        ""
      ],
      "metadata": {
        "id": "rDP80XK8UpDd"
      },
      "execution_count": null,
      "outputs": []
    }
  ]
}