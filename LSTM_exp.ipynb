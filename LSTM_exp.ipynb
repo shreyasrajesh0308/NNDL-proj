{
  "nbformat": 4,
  "nbformat_minor": 0,
  "metadata": {
    "colab": {
      "name": "LSTM_exp.ipynb",
      "provenance": [],
      "authorship_tag": "ABX9TyOGrzcjoQlkYnNu4hJih9hJ",
      "include_colab_link": true
    },
    "kernelspec": {
      "name": "python3",
      "display_name": "Python 3"
    },
    "language_info": {
      "name": "python"
    },
    "accelerator": "GPU"
  },
  "cells": [
    {
      "cell_type": "markdown",
      "metadata": {
        "id": "view-in-github",
        "colab_type": "text"
      },
      "source": [
        "<a href=\"https://colab.research.google.com/github/shreyasrajesh0308/NNDL-proj/blob/main/LSTM_exp.ipynb\" target=\"_parent\"><img src=\"https://colab.research.google.com/assets/colab-badge.svg\" alt=\"Open In Colab\"/></a>"
      ]
    },
    {
      "cell_type": "markdown",
      "source": [
        "### LSTM experiments \n",
        "\n",
        "# Running experiments on the BCI data with baseline LSTMs."
      ],
      "metadata": {
        "id": "ciVXLkUjAR4X"
      }
    },
    {
      "cell_type": "markdown",
      "source": [
        "Model Paper: "
      ],
      "metadata": {
        "id": "Wy-ORg0nyKtV"
      }
    },
    {
      "cell_type": "markdown",
      "source": [
        "### Load Data \n",
        "\n",
        "Load preprocessed data"
      ],
      "metadata": {
        "id": "5Fl4uJtrAqU0"
      }
    },
    {
      "cell_type": "code",
      "source": [
        "from google.colab import drive\n",
        "drive.mount('/content/drive')"
      ],
      "metadata": {
        "colab": {
          "base_uri": "https://localhost:8080/"
        },
        "id": "Scu17GL9A7i5",
        "outputId": "75e23672-ccd7-4142-b545-9d177e616b5e"
      },
      "execution_count": 4,
      "outputs": [
        {
          "output_type": "stream",
          "name": "stdout",
          "text": [
            "Drive already mounted at /content/drive; to attempt to forcibly remount, call drive.mount(\"/content/drive\", force_remount=True).\n"
          ]
        }
      ]
    },
    {
      "cell_type": "code",
      "source": [
        "import numpy as np\n",
        "X_test = np.load(\"/content/drive/MyDrive/project_data/X_test.npy\")\n",
        "y_test = np.load(\"/content/drive/MyDrive/project_data/y_test.npy\")\n",
        "person_train_valid = np.load(\"/content/drive/MyDrive/project_data/person_train_valid.npy\")\n",
        "X_train_valid = np.load(\"/content/drive/MyDrive/project_data/X_train_valid.npy\")\n",
        "y_train_valid = np.load(\"/content/drive/MyDrive/project_data/y_train_valid.npy\")\n",
        "person_test = np.load(\"/content/drive/MyDrive/project_data/person_test.npy\")\n",
        "\n"
      ],
      "metadata": {
        "id": "t9eMyV5EDpad"
      },
      "execution_count": 5,
      "outputs": []
    },
    {
      "cell_type": "code",
      "source": [
        "def map_classes(y) :\n",
        "\n",
        "  for i in range(len(y)):\n",
        "\n",
        "    if y[i] == 769:\n",
        "      y[i] = 0\n",
        "    elif y[i] == 770:\n",
        "      y[i] = 1\n",
        "    elif y[i] == 771:\n",
        "      y[i] = 2\n",
        "    elif y[i] == 772:\n",
        "      y[i] = 3\n",
        "    else:\n",
        "      return None\n",
        "\n",
        "  return y"
      ],
      "metadata": {
        "id": "g6VAQSVEUtIW"
      },
      "execution_count": 6,
      "outputs": []
    },
    {
      "cell_type": "code",
      "source": [
        "y_train_valid = map_classes(y_train_valid)\n",
        "y_test = map_classes(y_test)"
      ],
      "metadata": {
        "id": "S_FYpw8MVhCX"
      },
      "execution_count": 7,
      "outputs": []
    },
    {
      "cell_type": "markdown",
      "source": [
        "### Indices for subject one training "
      ],
      "metadata": {
        "id": "rB0uGJBGTiYq"
      }
    },
    {
      "cell_type": "code",
      "source": [
        "train_indeces = [ i for i in range(len(person_train_valid)) if person_train_valid[i]==0]\n",
        "X_train_subject_1 = X_train_valid[train_indeces]\n",
        "y_train_subject_1 = y_train_valid[train_indeces]"
      ],
      "metadata": {
        "id": "pDjVZpfUI7PF"
      },
      "execution_count": 8,
      "outputs": []
    },
    {
      "cell_type": "markdown",
      "source": [
        "### Indices for subject one testing "
      ],
      "metadata": {
        "id": "koMcUkFOTesj"
      }
    },
    {
      "cell_type": "code",
      "source": [
        "test_indeces = [ i for i in range(len(person_test)) if person_test[i]==0]\n",
        "X_test_subject_1 = X_test[test_indeces]\n",
        "y_test_subject_1 = y_test[test_indeces]"
      ],
      "metadata": {
        "id": "P7CC1psJTrf5"
      },
      "execution_count": 9,
      "outputs": []
    },
    {
      "cell_type": "code",
      "source": [
        "num_classes = len(np.unique(y_train_valid))"
      ],
      "metadata": {
        "id": "ZIY-P4plZt-C"
      },
      "execution_count": 10,
      "outputs": []
    },
    {
      "cell_type": "code",
      "source": [
        "X_train_subject_1 = np.swapaxes(X_train_subject_1, 1, 2)\n",
        "X_test_subject_1 = np.swapaxes(X_test_subject_1, 1, 2)"
      ],
      "metadata": {
        "id": "BOTQGrhwb2jk"
      },
      "execution_count": 11,
      "outputs": []
    },
    {
      "cell_type": "code",
      "source": [
        "X_train_subject_1.shape"
      ],
      "metadata": {
        "colab": {
          "base_uri": "https://localhost:8080/"
        },
        "id": "FvgAbYQZcVPS",
        "outputId": "6b4e4555-503d-4de8-a693-59db98156706"
      },
      "execution_count": 12,
      "outputs": [
        {
          "output_type": "execute_result",
          "data": {
            "text/plain": [
              "(237, 1000, 22)"
            ]
          },
          "metadata": {},
          "execution_count": 12
        }
      ]
    },
    {
      "cell_type": "code",
      "source": [
        "X_test_subject_1.shape"
      ],
      "metadata": {
        "colab": {
          "base_uri": "https://localhost:8080/"
        },
        "id": "haANS0J7ccg3",
        "outputId": "9286605a-6555-4140-fc76-7d1d85cd4193"
      },
      "execution_count": 13,
      "outputs": [
        {
          "output_type": "execute_result",
          "data": {
            "text/plain": [
              "(50, 1000, 22)"
            ]
          },
          "metadata": {},
          "execution_count": 13
        }
      ]
    },
    {
      "cell_type": "code",
      "source": [
        "y_train_subject_1 = y_train_subject_1.reshape(y_train_subject_1.shape[0], 1)"
      ],
      "metadata": {
        "id": "h3qM9GYmw2k8"
      },
      "execution_count": 16,
      "outputs": []
    },
    {
      "cell_type": "code",
      "source": [
        "y_test_subject_1 = y_test_subject_1.reshape(y_test_subject_1.shape[0], 1)"
      ],
      "metadata": {
        "id": "amv3JUQ6yf1N"
      },
      "execution_count": 20,
      "outputs": []
    },
    {
      "cell_type": "code",
      "source": [
        "y_train_subject_1.shape"
      ],
      "metadata": {
        "colab": {
          "base_uri": "https://localhost:8080/"
        },
        "id": "-jZCIcPzx5_R",
        "outputId": "399e9572-bf28-4344-f181-ff74ed86aa60"
      },
      "execution_count": 17,
      "outputs": [
        {
          "output_type": "execute_result",
          "data": {
            "text/plain": [
              "(237, 1)"
            ]
          },
          "metadata": {},
          "execution_count": 17
        }
      ]
    },
    {
      "cell_type": "markdown",
      "source": [
        "## Building a baseline with an LSTM model, trained with one subject data"
      ],
      "metadata": {
        "id": "TIzySb9EHBgp"
      }
    },
    {
      "cell_type": "code",
      "source": [
        "from sklearn.preprocessing import OneHotEncoder\n",
        "\n",
        "enc = OneHotEncoder(handle_unknown='ignore', sparse=False)\n",
        "\n",
        "enc = enc.fit(y_train_subject_1)\n",
        "\n",
        "y_train_one_hot = enc.transform(y_train_subject_1)\n",
        "y_test_one_hot = enc.transform(y_test_subject_1)"
      ],
      "metadata": {
        "id": "L9n4j8k_yHS7"
      },
      "execution_count": 21,
      "outputs": []
    },
    {
      "cell_type": "code",
      "source": [
        "print(X_train_subject_1.shape, y_train_one_hot.shape)"
      ],
      "metadata": {
        "colab": {
          "base_uri": "https://localhost:8080/"
        },
        "id": "OfQTGoX7y2yV",
        "outputId": "fd68d3a0-4287-4cee-d868-a6c06b948d8a"
      },
      "execution_count": 26,
      "outputs": [
        {
          "output_type": "stream",
          "name": "stdout",
          "text": [
            "(237, 1000, 22) (237, 4)\n"
          ]
        }
      ]
    },
    {
      "cell_type": "code",
      "source": [
        "from tensorflow import keras"
      ],
      "metadata": {
        "id": "XpI49OpRywZy"
      },
      "execution_count": 25,
      "outputs": []
    },
    {
      "cell_type": "code",
      "source": [
        "model = keras.Sequential()\n",
        "model.add(\n",
        "    keras.layers.Bidirectional(\n",
        "      keras.layers.LSTM(\n",
        "          units=128, \n",
        "          input_shape=[X_train_subject_1.shape[1], X_train_subject_1.shape[2]]\n",
        "      )\n",
        "    )\n",
        ")\n",
        "model.add(keras.layers.Dropout(rate=0.5))\n",
        "model.add(keras.layers.Dense(units=128, activation='relu'))\n",
        "model.add(keras.layers.Dense(y_train_one_hot.shape[1], activation='softmax'))\n",
        "model.compile(loss='categorical_crossentropy', optimizer='adam', metrics=['acc'])\n"
      ],
      "metadata": {
        "id": "9Y0OONf_Dvr7"
      },
      "execution_count": 27,
      "outputs": []
    },
    {
      "cell_type": "code",
      "source": [
        "history = model.fit(\n",
        "    X_train_subject_1, y_train_one_hot,\n",
        "    epochs=20,\n",
        "    batch_size=64,\n",
        "    validation_split=0.1,\n",
        "    shuffle=True\n",
        ")"
      ],
      "metadata": {
        "colab": {
          "base_uri": "https://localhost:8080/"
        },
        "id": "BGijySQYzFff",
        "outputId": "ac4634b6-e23e-4f71-9aeb-08dd21c303b1"
      },
      "execution_count": 28,
      "outputs": [
        {
          "output_type": "stream",
          "name": "stdout",
          "text": [
            "Epoch 1/20\n",
            "4/4 [==============================] - 11s 668ms/step - loss: 1.5422 - acc: 0.2160 - val_loss: 1.4850 - val_acc: 0.1667\n",
            "Epoch 2/20\n",
            "4/4 [==============================] - 1s 337ms/step - loss: 1.2699 - acc: 0.4178 - val_loss: 1.4821 - val_acc: 0.2083\n",
            "Epoch 3/20\n",
            "4/4 [==============================] - 1s 335ms/step - loss: 1.2686 - acc: 0.4131 - val_loss: 1.4803 - val_acc: 0.1667\n",
            "Epoch 4/20\n",
            "4/4 [==============================] - 1s 337ms/step - loss: 1.1368 - acc: 0.5634 - val_loss: 1.4858 - val_acc: 0.2500\n",
            "Epoch 5/20\n",
            "4/4 [==============================] - 1s 338ms/step - loss: 1.0994 - acc: 0.5446 - val_loss: 1.5143 - val_acc: 0.2500\n",
            "Epoch 6/20\n",
            "4/4 [==============================] - 1s 335ms/step - loss: 1.1253 - acc: 0.5493 - val_loss: 1.5057 - val_acc: 0.3750\n",
            "Epoch 7/20\n",
            "4/4 [==============================] - 1s 338ms/step - loss: 1.0662 - acc: 0.6009 - val_loss: 1.5036 - val_acc: 0.3333\n",
            "Epoch 8/20\n",
            "4/4 [==============================] - 1s 337ms/step - loss: 1.0200 - acc: 0.6291 - val_loss: 1.5057 - val_acc: 0.2500\n",
            "Epoch 9/20\n",
            "4/4 [==============================] - 1s 337ms/step - loss: 0.9759 - acc: 0.6432 - val_loss: 1.5268 - val_acc: 0.2083\n",
            "Epoch 10/20\n",
            "4/4 [==============================] - 1s 335ms/step - loss: 0.8786 - acc: 0.7042 - val_loss: 1.5172 - val_acc: 0.2500\n",
            "Epoch 11/20\n",
            "4/4 [==============================] - 1s 336ms/step - loss: 0.8870 - acc: 0.7042 - val_loss: 1.5153 - val_acc: 0.2917\n",
            "Epoch 12/20\n",
            "4/4 [==============================] - 1s 336ms/step - loss: 0.8272 - acc: 0.7512 - val_loss: 1.5152 - val_acc: 0.2917\n",
            "Epoch 13/20\n",
            "4/4 [==============================] - 1s 338ms/step - loss: 0.7442 - acc: 0.7840 - val_loss: 1.5177 - val_acc: 0.3333\n",
            "Epoch 14/20\n",
            "4/4 [==============================] - 1s 337ms/step - loss: 0.7494 - acc: 0.7277 - val_loss: 1.5449 - val_acc: 0.3333\n",
            "Epoch 15/20\n",
            "4/4 [==============================] - 1s 338ms/step - loss: 0.6987 - acc: 0.7840 - val_loss: 1.5341 - val_acc: 0.3750\n",
            "Epoch 16/20\n",
            "4/4 [==============================] - 1s 334ms/step - loss: 0.6873 - acc: 0.7653 - val_loss: 1.5570 - val_acc: 0.3750\n",
            "Epoch 17/20\n",
            "4/4 [==============================] - 1s 334ms/step - loss: 0.6247 - acc: 0.8310 - val_loss: 1.6307 - val_acc: 0.3750\n",
            "Epoch 18/20\n",
            "4/4 [==============================] - 1s 334ms/step - loss: 0.5908 - acc: 0.8451 - val_loss: 1.6555 - val_acc: 0.3750\n",
            "Epoch 19/20\n",
            "4/4 [==============================] - 1s 339ms/step - loss: 0.5712 - acc: 0.8638 - val_loss: 1.6453 - val_acc: 0.3750\n",
            "Epoch 20/20\n",
            "4/4 [==============================] - 1s 343ms/step - loss: 0.5497 - acc: 0.8357 - val_loss: 1.6735 - val_acc: 0.2917\n"
          ]
        }
      ]
    },
    {
      "cell_type": "code",
      "source": [
        "import matplotlib.pyplot as plt"
      ],
      "metadata": {
        "id": "dh4RL-6KzYn6"
      },
      "execution_count": 30,
      "outputs": []
    },
    {
      "cell_type": "code",
      "source": [
        "plt.plot(history.history['loss'], label='train')\n",
        "plt.plot(history.history['val_loss'], label='test')\n",
        "plt.legend();"
      ],
      "metadata": {
        "colab": {
          "base_uri": "https://localhost:8080/",
          "height": 265
        },
        "id": "jcw-9GEqzKJO",
        "outputId": "590c1cfb-9c3d-409d-89f1-a8e71e6d57cf"
      },
      "execution_count": 31,
      "outputs": [
        {
          "output_type": "display_data",
          "data": {
            "image/png": "[encoded data removed]",
            "text/plain": [
              "<Figure size 432x288 with 1 Axes>"
            ]
          },
          "metadata": {
            "needs_background": "light"
          }
        }
      ]
    },
    {
      "cell_type": "code",
      "source": [
        "model.evaluate(X_test_subject_1, y_test_one_hot)"
      ],
      "metadata": {
        "colab": {
          "base_uri": "https://localhost:8080/"
        },
        "id": "GQnqXXHjzXd1",
        "outputId": "fdba5d03-52a9-4a4a-c701-22e527c002f0"
      },
      "execution_count": 32,
      "outputs": [
        {
          "output_type": "stream",
          "name": "stdout",
          "text": [
            "2/2 [==============================] - 0s 142ms/step - loss: 1.6927 - acc: 0.2200\n"
          ]
        },
        {
          "output_type": "execute_result",
          "data": {
            "text/plain": [
              "[1.6926912069320679, 0.2199999988079071]"
            ]
          },
          "metadata": {},
          "execution_count": 32
        }
      ]
    },
    {
      "cell_type": "code",
      "source": [
        ""
      ],
      "metadata": {
        "id": "2llzSgdXzgUz"
      },
      "execution_count": null,
      "outputs": []
    }
  ]
}